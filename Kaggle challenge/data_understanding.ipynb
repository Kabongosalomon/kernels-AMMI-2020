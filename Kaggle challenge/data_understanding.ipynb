{
 "cells": [
  {
   "cell_type": "markdown",
   "metadata": {},
   "source": [
    "## Analysing and features extraction using bioSequence"
   ]
  },
  {
   "cell_type": "code",
   "execution_count": 1,
   "metadata": {},
   "outputs": [],
   "source": [
    "from Bio.SeqUtils.ProtParam import ProteinAnalysis"
   ]
  },
  {
   "cell_type": "code",
   "execution_count": 3,
   "metadata": {},
   "outputs": [],
   "source": [
    "my_seq = \"MAEGEITTFTALTEKFNLPPGNYKKPKLLYCSNGGHFLRILPDGTVDGTRDRSDQHIQLQLSAESVGEVYIKSTETGQYLAMDTSGLLYGSQTPSEECLFLERLEENHYNTYTSKKHAEKNWFVGLKKNGSCKRGPRTHYGQKAILFLPLPV\""
   ]
  },
  {
   "cell_type": "code",
   "execution_count": 4,
   "metadata": {},
   "outputs": [
    {
     "data": {
      "text/plain": [
       "17103.1617"
      ]
     },
     "execution_count": 4,
     "metadata": {},
     "output_type": "execute_result"
    }
   ],
   "source": [
    "analysed_seq = ProteinAnalysis(my_seq) # make sure that the data is really protain sequence\n",
    "analysed_seq.molecular_weight() #get molecular weight"
   ]
  },
  {
   "cell_type": "code",
   "execution_count": 82,
   "metadata": {},
   "outputs": [],
   "source": [
    "#analysed_seq.gravy()# get gravity"
   ]
  },
  {
   "cell_type": "code",
   "execution_count": 81,
   "metadata": {},
   "outputs": [],
   "source": [
    "#analysed_seq.count_amino_acids() # count the number of amino acids"
   ]
  },
  {
   "cell_type": "code",
   "execution_count": 86,
   "metadata": {},
   "outputs": [
    {
     "data": {
      "text/plain": [
       "(17420, 17545)"
      ]
     },
     "execution_count": 86,
     "metadata": {},
     "output_type": "execute_result"
    }
   ],
   "source": [
    "analysed_seq.molar_extinction_coefficient()"
   ]
  },
  {
   "cell_type": "code",
   "execution_count": 3,
   "metadata": {},
   "outputs": [],
   "source": [
    "\n",
    "seq1 = 'GAGGGGCTGGGGAGGGGGCTGGCCCAGAGGCACCAGACTCTGCAGAACCACCCAGGCATTGTGGGGCTGCCCTGCCACCTGCTGGCCGCTCCTGGTGGCAG'\n",
    "seq2 = 'GCACTACTACACCCATTGCTGTAATAGTAAGTGCCGGTGCCTTCACGCCCTCTAGTGGTCAGTCCTGGGAAATACACACTCACACTTGTGTACTGTTACCC'\n",
    "anl1 = ProteinAnalysis(seq1)\n",
    "anl2 = ProteinAnalysis(seq2)"
   ]
  },
  {
   "cell_type": "code",
   "execution_count": 4,
   "metadata": {},
   "outputs": [
    {
     "data": {
      "text/plain": [
       "0.8039603960396032"
      ]
     },
     "execution_count": 4,
     "metadata": {},
     "output_type": "execute_result"
    }
   ],
   "source": [
    "anl1"
   ]
  },
  {
   "cell_type": "code",
   "execution_count": 134,
   "metadata": {},
   "outputs": [],
   "source": [
    "#anl2.amino_acids_content"
   ]
  },
  {
   "cell_type": "markdown",
   "metadata": {},
   "source": [
    "# The given data"
   ]
  },
  {
   "cell_type": "code",
   "execution_count": 136,
   "metadata": {},
   "outputs": [],
   "source": [
    "import pandas as pd\n",
    "import numpy as np"
   ]
  },
  {
   "cell_type": "code",
   "execution_count": 137,
   "metadata": {},
   "outputs": [],
   "source": [
    "train_features = pd.read_csv('./data/Xtr.csv')\n",
    "train_labels = pd.read_csv('./data/Ytr.csv')"
   ]
  },
  {
   "cell_type": "code",
   "execution_count": 138,
   "metadata": {},
   "outputs": [],
   "source": [
    "modified_train_features = train_features\n",
    "cols = ['molecular_weight','gravity','iso_electric_point',\n",
    "        'instability_index','molar_extinction_coefficient',\n",
    "       'secondary_structure_fraction']\n",
    "for name in cols:\n",
    "    modified_train_features[name] = None"
   ]
  },
  {
   "cell_type": "code",
   "execution_count": 139,
   "metadata": {},
   "outputs": [
    {
     "name": "stderr",
     "output_type": "stream",
     "text": [
      "/usr/lib/python3/dist-packages/ipykernel_launcher.py:9: SettingWithCopyWarning: \n",
      "A value is trying to be set on a copy of a slice from a DataFrame\n",
      "\n",
      "See the caveats in the documentation: http://pandas.pydata.org/pandas-docs/stable/indexing.html#indexing-view-versus-copy\n",
      "  if __name__ == '__main__':\n",
      "/usr/lib/python3/dist-packages/ipykernel_launcher.py:10: SettingWithCopyWarning: \n",
      "A value is trying to be set on a copy of a slice from a DataFrame\n",
      "\n",
      "See the caveats in the documentation: http://pandas.pydata.org/pandas-docs/stable/indexing.html#indexing-view-versus-copy\n",
      "  # Remove the CWD from sys.path while we load stuff.\n",
      "/usr/lib/python3/dist-packages/ipykernel_launcher.py:11: SettingWithCopyWarning: \n",
      "A value is trying to be set on a copy of a slice from a DataFrame\n",
      "\n",
      "See the caveats in the documentation: http://pandas.pydata.org/pandas-docs/stable/indexing.html#indexing-view-versus-copy\n",
      "  # This is added back by InteractiveShellApp.init_path()\n",
      "/usr/lib/python3/dist-packages/ipykernel_launcher.py:12: SettingWithCopyWarning: \n",
      "A value is trying to be set on a copy of a slice from a DataFrame\n",
      "\n",
      "See the caveats in the documentation: http://pandas.pydata.org/pandas-docs/stable/indexing.html#indexing-view-versus-copy\n",
      "  if sys.path[0] == '':\n",
      "/usr/lib/python3/dist-packages/ipykernel_launcher.py:13: SettingWithCopyWarning: \n",
      "A value is trying to be set on a copy of a slice from a DataFrame\n",
      "\n",
      "See the caveats in the documentation: http://pandas.pydata.org/pandas-docs/stable/indexing.html#indexing-view-versus-copy\n",
      "  del sys.path[0]\n",
      "/usr/lib/python3/dist-packages/ipykernel_launcher.py:14: SettingWithCopyWarning: \n",
      "A value is trying to be set on a copy of a slice from a DataFrame\n",
      "\n",
      "See the caveats in the documentation: http://pandas.pydata.org/pandas-docs/stable/indexing.html#indexing-view-versus-copy\n",
      "  \n"
     ]
    }
   ],
   "source": [
    "for ind in range(len(modified_train_features)):\n",
    "    seq = train_features.iloc[ind]['seq']\n",
    "    seq = ProteinAnalysis(seq)\n",
    "    modified_train_features[cols[0]][ind] = seq.molecular_weight()\n",
    "    modified_train_features[cols[1]][ind] = seq.gravy()\n",
    "    modified_train_features[cols[2]][ind] = seq.isoelectric_point()\n",
    "    modified_train_features[cols[3]][ind] = seq.instability_index()\n",
    "    modified_train_features[cols[4]][ind] = np.mean(seq.molar_extinction_coefficient())\n",
    "    modified_train_features[cols[5]][ind] = np.mean(seq.secondary_structure_fraction())"
   ]
  },
  {
   "cell_type": "code",
   "execution_count": 142,
   "metadata": {},
   "outputs": [],
   "source": [
    "X = modified_train_features.drop(['seq'], axis = 1) "
   ]
  },
  {
   "cell_type": "code",
   "execution_count": 149,
   "metadata": {},
   "outputs": [],
   "source": [
    "X = X.drop(['Id'],axis = 1)"
   ]
  },
  {
   "cell_type": "code",
   "execution_count": 153,
   "metadata": {},
   "outputs": [],
   "source": [
    "y = train_labels.drop(['Id'],axis = 1)"
   ]
  },
  {
   "cell_type": "code",
   "execution_count": null,
   "metadata": {},
   "outputs": [],
   "source": []
  },
  {
   "cell_type": "markdown",
   "metadata": {},
   "source": [
    "## Visualization"
   ]
  },
  {
   "cell_type": "code",
   "execution_count": 189,
   "metadata": {},
   "outputs": [],
   "source": [
    "import seaborn as sns\n",
    "from matplotlib import pyplot as plt\n",
    "import pylab as pl\n"
   ]
  },
  {
   "cell_type": "code",
   "execution_count": 190,
   "metadata": {},
   "outputs": [
    {
     "data": {
      "image/png": "[encoded data removed]",
      "text/plain": [
       "<Figure size 432x288 with 1 Axes>"
      ]
     },
     "metadata": {
      "needs_background": "light"
     },
     "output_type": "display_data"
    }
   ],
   "source": [
    "sns.countplot(y['Bound'],label=\"Lebels Count\")\n",
    "plt.show()"
   ]
  },
  {
   "cell_type": "code",
   "execution_count": 187,
   "metadata": {},
   "outputs": [
    {
     "data": {
      "image/png": "[encoded data removed]",
      "text/plain": [
       "<Figure size 648x648 with 6 Axes>"
      ]
     },
     "metadata": {
      "needs_background": "light"
     },
     "output_type": "display_data"
    }
   ],
   "source": [
    "X.plot(kind='box', subplots=True, sharex=False, sharey=False, figsize=(9,9), \n",
    "                                        title='Box Plot for each input variable')\n",
    "#plt.savefig('protein_features')\n",
    "plt.show()"
   ]
  },
  {
   "cell_type": "code",
   "execution_count": 201,
   "metadata": {},
   "outputs": [
    {
     "data": {
      "image/png": "[encoded data removed]",
      "text/plain": [
       "<Figure size 432x288 with 1 Axes>"
      ]
     },
     "metadata": {
      "needs_background": "light"
     },
     "output_type": "display_data"
    },
    {
     "data": {
      "image/png": "[encoded data removed]",
      "text/plain": [
       "<Figure size 432x288 with 1 Axes>"
      ]
     },
     "metadata": {
      "needs_background": "light"
     },
     "output_type": "display_data"
    },
    {
     "data": {
      "image/png": "[encoded data removed]",
      "text/plain": [
       "<Figure size 432x288 with 1 Axes>"
      ]
     },
     "metadata": {
      "needs_background": "light"
     },
     "output_type": "display_data"
    },
    {
     "data": {
      "image/png": "[encoded data removed]",
      "text/plain": [
       "<Figure size 432x288 with 1 Axes>"
      ]
     },
     "metadata": {
      "needs_background": "light"
     },
     "output_type": "display_data"
    },
    {
     "data": {
      "image/png": "[encoded data removed]",
      "text/plain": [
       "<Figure size 432x288 with 1 Axes>"
      ]
     },
     "metadata": {
      "needs_background": "light"
     },
     "output_type": "display_data"
    },
    {
     "data": {
      "image/png": "[encoded data removed]",
      "text/plain": [
       "<Figure size 432x288 with 1 Axes>"
      ]
     },
     "metadata": {
      "needs_background": "light"
     },
     "output_type": "display_data"
    }
   ],
   "source": [
    "for n in cols:\n",
    "    X[n].plot()\n",
    "    #X.hist(bins=30, figsize=(9,9))\n",
    "    pl.suptitle(\"Histogram for \"+n)\n",
    "    #plt.savefig('protain_feature_hist')\n",
    "    plt.show()"
   ]
  },
  {
   "cell_type": "code",
   "execution_count": null,
   "metadata": {},
   "outputs": [],
   "source": []
  },
  {
   "cell_type": "code",
   "execution_count": 159,
   "metadata": {},
   "outputs": [],
   "source": [
    "import sklearn\n",
    "from sklearn import linear_model as lm\n",
    "from sklearn.model_selection import train_test_split\n",
    "\n",
    "X_train, X_test, y_train, y_test = train_test_split(\n",
    "    X, y, test_size=0.3, random_state=42,shuffle = True)"
   ]
  },
  {
   "cell_type": "code",
   "execution_count": 163,
   "metadata": {},
   "outputs": [
    {
     "name": "stdout",
     "output_type": "stream",
     "text": [
      "[[-5.74320555e-06  2.50773948e-03 -3.55649334e-03 -6.88497952e-03\n",
      "   4.51786344e-04 -1.52997940e-03]]\n"
     ]
    },
    {
     "name": "stderr",
     "output_type": "stream",
     "text": [
      "/usr/lib/python3/dist-packages/sklearn/linear_model/logistic.py:433: FutureWarning: Default solver will be changed to 'lbfgs' in 0.22. Specify a solver to silence this warning.\n",
      "  FutureWarning)\n",
      "/usr/lib/python3/dist-packages/sklearn/utils/validation.py:761: DataConversionWarning: A column-vector y was passed when a 1d array was expected. Please change the shape of y to (n_samples, ), for example using ravel().\n",
      "  y = column_or_1d(y, warn=True)\n"
     ]
    }
   ],
   "source": [
    "lam = 0.1\n",
    "\n",
    "\n",
    "# Python solver\n",
    "alpha = 2 * lam * X.shape[0]\n",
    "model = lm.LogisticRegression(C=1/alpha, fit_intercept=True)\n",
    "beta2 = model.fit(X_train, y_train).coef_\n",
    "\n",
    "# Check\n",
    "print( beta2)"
   ]
  },
  {
   "cell_type": "code",
   "execution_count": 164,
   "metadata": {},
   "outputs": [
    {
     "name": "stderr",
     "output_type": "stream",
     "text": [
      "/usr/lib/python3/dist-packages/sklearn/linear_model/logistic.py:433: FutureWarning: Default solver will be changed to 'lbfgs' in 0.22. Specify a solver to silence this warning.\n",
      "  FutureWarning)\n",
      "/usr/lib/python3/dist-packages/sklearn/utils/validation.py:761: DataConversionWarning: A column-vector y was passed when a 1d array was expected. Please change the shape of y to (n_samples, ), for example using ravel().\n",
      "  y = column_or_1d(y, warn=True)\n"
     ]
    }
   ],
   "source": [
    "from sklearn.linear_model import LogisticRegression\n",
    "clf = LogisticRegression(random_state=0).fit(X_train, y_train)"
   ]
  },
  {
   "cell_type": "code",
   "execution_count": 167,
   "metadata": {},
   "outputs": [
    {
     "data": {
      "text/plain": [
       "0.5221428571428571"
      ]
     },
     "execution_count": 167,
     "metadata": {},
     "output_type": "execute_result"
    }
   ],
   "source": [
    "clf.score(X_train, y_train)"
   ]
  },
  {
   "cell_type": "code",
   "execution_count": 168,
   "metadata": {},
   "outputs": [],
   "source": [
    "pred = clf.predict(X_test)"
   ]
  },
  {
   "cell_type": "code",
   "execution_count": 171,
   "metadata": {},
   "outputs": [
    {
     "name": "stdout",
     "output_type": "stream",
     "text": [
      "Accuracy: 47.33%\n"
     ]
    }
   ],
   "source": [
    "from sklearn.metrics import accuracy_score, roc_auc_score\n",
    "\n",
    "print('Accuracy: {:.2%}'.format(accuracy_score(y_test, pred)))"
   ]
  },
  {
   "cell_type": "code",
   "execution_count": 170,
   "metadata": {},
   "outputs": [],
   "source": [
    "pred2 = clf.predict(X_train)"
   ]
  },
  {
   "cell_type": "code",
   "execution_count": 172,
   "metadata": {},
   "outputs": [
    {
     "name": "stdout",
     "output_type": "stream",
     "text": [
      "Accuracy: 52.21%\n"
     ]
    }
   ],
   "source": [
    "print('Accuracy: {:.2%}'.format(accuracy_score(y_train, pred2)))"
   ]
  },
  {
   "cell_type": "code",
   "execution_count": 180,
   "metadata": {},
   "outputs": [
    {
     "data": {
      "text/html": [
       "<div>\n",
       "<style scoped>\n",
       "    .dataframe tbody tr th:only-of-type {\n",
       "        vertical-align: middle;\n",
       "    }\n",
       "\n",
       "    .dataframe tbody tr th {\n",
       "        vertical-align: top;\n",
       "    }\n",
       "\n",
       "    .dataframe thead th {\n",
       "        text-align: right;\n",
       "    }\n",
       "</style>\n",
       "<table border=\"1\" class=\"dataframe\">\n",
       "  <thead>\n",
       "    <tr style=\"text-align: right;\">\n",
       "      <th></th>\n",
       "      <th>molecular_weight</th>\n",
       "      <th>gravity</th>\n",
       "      <th>iso_electric_point</th>\n",
       "      <th>instability_index</th>\n",
       "      <th>molar_extinction_coefficient</th>\n",
       "      <th>secondary_structure_fraction</th>\n",
       "    </tr>\n",
       "  </thead>\n",
       "  <tbody>\n",
       "    <tr>\n",
       "      <th>0</th>\n",
       "      <td>8082.26</td>\n",
       "      <td>0.80396</td>\n",
       "      <td>5.37079</td>\n",
       "      <td>72.0139</td>\n",
       "      <td>1000</td>\n",
       "      <td>0.181518</td>\n",
       "    </tr>\n",
       "    <tr>\n",
       "      <th>1</th>\n",
       "      <td>7733.43</td>\n",
       "      <td>0.491089</td>\n",
       "      <td>5.41681</td>\n",
       "      <td>52.6327</td>\n",
       "      <td>625</td>\n",
       "      <td>0.207921</td>\n",
       "    </tr>\n",
       "    <tr>\n",
       "      <th>2</th>\n",
       "      <td>8547.01</td>\n",
       "      <td>0.954455</td>\n",
       "      <td>5.35406</td>\n",
       "      <td>59.2376</td>\n",
       "      <td>1125</td>\n",
       "      <td>0.148515</td>\n",
       "    </tr>\n",
       "    <tr>\n",
       "      <th>3</th>\n",
       "      <td>7903.83</td>\n",
       "      <td>0.684158</td>\n",
       "      <td>5.39642</td>\n",
       "      <td>56.8149</td>\n",
       "      <td>750</td>\n",
       "      <td>0.19802</td>\n",
       "    </tr>\n",
       "    <tr>\n",
       "      <th>4</th>\n",
       "      <td>8721.07</td>\n",
       "      <td>0.910891</td>\n",
       "      <td>5.37421</td>\n",
       "      <td>82.4594</td>\n",
       "      <td>937.5</td>\n",
       "      <td>0.141914</td>\n",
       "    </tr>\n",
       "    <tr>\n",
       "      <th>5</th>\n",
       "      <td>8601.26</td>\n",
       "      <td>1.1099</td>\n",
       "      <td>5.33868</td>\n",
       "      <td>65.9059</td>\n",
       "      <td>1312.5</td>\n",
       "      <td>0.145215</td>\n",
       "    </tr>\n",
       "    <tr>\n",
       "      <th>6</th>\n",
       "      <td>8218.01</td>\n",
       "      <td>0.458416</td>\n",
       "      <td>5.15692</td>\n",
       "      <td>43.1693</td>\n",
       "      <td>625</td>\n",
       "      <td>0.171617</td>\n",
       "    </tr>\n",
       "    <tr>\n",
       "      <th>7</th>\n",
       "      <td>8456.82</td>\n",
       "      <td>1.02871</td>\n",
       "      <td>5.37079</td>\n",
       "      <td>54.3584</td>\n",
       "      <td>1000</td>\n",
       "      <td>0.165017</td>\n",
       "    </tr>\n",
       "    <tr>\n",
       "      <th>8</th>\n",
       "      <td>8216.71</td>\n",
       "      <td>1.02673</td>\n",
       "      <td>5.34467</td>\n",
       "      <td>19.8782</td>\n",
       "      <td>1250</td>\n",
       "      <td>0.171617</td>\n",
       "    </tr>\n",
       "    <tr>\n",
       "      <th>9</th>\n",
       "      <td>8368.58</td>\n",
       "      <td>0.834653</td>\n",
       "      <td>5.39972</td>\n",
       "      <td>37.8158</td>\n",
       "      <td>937.5</td>\n",
       "      <td>0.165017</td>\n",
       "    </tr>\n",
       "    <tr>\n",
       "      <th>10</th>\n",
       "      <td>8104.28</td>\n",
       "      <td>1.05248</td>\n",
       "      <td>5.4118</td>\n",
       "      <td>42.2317</td>\n",
       "      <td>812.5</td>\n",
       "      <td>0.19802</td>\n",
       "    </tr>\n",
       "    <tr>\n",
       "      <th>11</th>\n",
       "      <td>8745.16</td>\n",
       "      <td>0.891089</td>\n",
       "      <td>5.1391</td>\n",
       "      <td>72.7287</td>\n",
       "      <td>1062.5</td>\n",
       "      <td>0.135314</td>\n",
       "    </tr>\n",
       "    <tr>\n",
       "      <th>12</th>\n",
       "      <td>8119.97</td>\n",
       "      <td>0.705941</td>\n",
       "      <td>5.42108</td>\n",
       "      <td>47.8168</td>\n",
       "      <td>562.5</td>\n",
       "      <td>0.191419</td>\n",
       "    </tr>\n",
       "    <tr>\n",
       "      <th>13</th>\n",
       "      <td>8288.52</td>\n",
       "      <td>0.967327</td>\n",
       "      <td>5.40363</td>\n",
       "      <td>51.3208</td>\n",
       "      <td>875</td>\n",
       "      <td>0.178218</td>\n",
       "    </tr>\n",
       "    <tr>\n",
       "      <th>14</th>\n",
       "      <td>8206.19</td>\n",
       "      <td>1.06832</td>\n",
       "      <td>5.42999</td>\n",
       "      <td>61.6752</td>\n",
       "      <td>500</td>\n",
       "      <td>0.20462</td>\n",
       "    </tr>\n",
       "    <tr>\n",
       "      <th>15</th>\n",
       "      <td>7789.6</td>\n",
       "      <td>0.678218</td>\n",
       "      <td>5.41254</td>\n",
       "      <td>45.7614</td>\n",
       "      <td>625</td>\n",
       "      <td>0.211221</td>\n",
       "    </tr>\n",
       "    <tr>\n",
       "      <th>16</th>\n",
       "      <td>8138.32</td>\n",
       "      <td>0.991089</td>\n",
       "      <td>5.38507</td>\n",
       "      <td>46.7861</td>\n",
       "      <td>875</td>\n",
       "      <td>0.191419</td>\n",
       "    </tr>\n",
       "    <tr>\n",
       "      <th>17</th>\n",
       "      <td>8388.41</td>\n",
       "      <td>0.651485</td>\n",
       "      <td>5.39642</td>\n",
       "      <td>42.5416</td>\n",
       "      <td>750</td>\n",
       "      <td>0.161716</td>\n",
       "    </tr>\n",
       "    <tr>\n",
       "      <th>18</th>\n",
       "      <td>8689.12</td>\n",
       "      <td>0.90396</td>\n",
       "      <td>5.36066</td>\n",
       "      <td>52.903</td>\n",
       "      <td>1062.5</td>\n",
       "      <td>0.138614</td>\n",
       "    </tr>\n",
       "    <tr>\n",
       "      <th>19</th>\n",
       "      <td>8494.75</td>\n",
       "      <td>0.930693</td>\n",
       "      <td>5.14532</td>\n",
       "      <td>59.7752</td>\n",
       "      <td>875</td>\n",
       "      <td>0.161716</td>\n",
       "    </tr>\n",
       "    <tr>\n",
       "      <th>20</th>\n",
       "      <td>8524.73</td>\n",
       "      <td>1.00594</td>\n",
       "      <td>5.42035</td>\n",
       "      <td>73.1792</td>\n",
       "      <td>750</td>\n",
       "      <td>0.168317</td>\n",
       "    </tr>\n",
       "    <tr>\n",
       "      <th>21</th>\n",
       "      <td>8338.42</td>\n",
       "      <td>0.659406</td>\n",
       "      <td>5.38507</td>\n",
       "      <td>50.8396</td>\n",
       "      <td>875</td>\n",
       "      <td>0.161716</td>\n",
       "    </tr>\n",
       "    <tr>\n",
       "      <th>22</th>\n",
       "      <td>7964.02</td>\n",
       "      <td>0.834653</td>\n",
       "      <td>5.4118</td>\n",
       "      <td>63.0099</td>\n",
       "      <td>812.5</td>\n",
       "      <td>0.19802</td>\n",
       "    </tr>\n",
       "    <tr>\n",
       "      <th>23</th>\n",
       "      <td>8468.85</td>\n",
       "      <td>0.918812</td>\n",
       "      <td>5.36066</td>\n",
       "      <td>74.9663</td>\n",
       "      <td>1062.5</td>\n",
       "      <td>0.155116</td>\n",
       "    </tr>\n",
       "    <tr>\n",
       "      <th>24</th>\n",
       "      <td>8951.46</td>\n",
       "      <td>0.954455</td>\n",
       "      <td>5.36066</td>\n",
       "      <td>63.6881</td>\n",
       "      <td>1062.5</td>\n",
       "      <td>0.122112</td>\n",
       "    </tr>\n",
       "    <tr>\n",
       "      <th>25</th>\n",
       "      <td>7829.64</td>\n",
       "      <td>0.711881</td>\n",
       "      <td>5.41681</td>\n",
       "      <td>50.8327</td>\n",
       "      <td>625</td>\n",
       "      <td>0.211221</td>\n",
       "    </tr>\n",
       "    <tr>\n",
       "      <th>26</th>\n",
       "      <td>8190.33</td>\n",
       "      <td>0.814851</td>\n",
       "      <td>5.38141</td>\n",
       "      <td>41.1564</td>\n",
       "      <td>875</td>\n",
       "      <td>0.178218</td>\n",
       "    </tr>\n",
       "    <tr>\n",
       "      <th>27</th>\n",
       "      <td>8666.64</td>\n",
       "      <td>0.655446</td>\n",
       "      <td>5.44318</td>\n",
       "      <td>41.7079</td>\n",
       "      <td>625</td>\n",
       "      <td>0.148515</td>\n",
       "    </tr>\n",
       "    <tr>\n",
       "      <th>28</th>\n",
       "      <td>8054.21</td>\n",
       "      <td>0.760396</td>\n",
       "      <td>5.37079</td>\n",
       "      <td>59.2238</td>\n",
       "      <td>1000</td>\n",
       "      <td>0.181518</td>\n",
       "    </tr>\n",
       "    <tr>\n",
       "      <th>29</th>\n",
       "      <td>8685.04</td>\n",
       "      <td>0.840594</td>\n",
       "      <td>5.14032</td>\n",
       "      <td>55.2901</td>\n",
       "      <td>1000</td>\n",
       "      <td>0.138614</td>\n",
       "    </tr>\n",
       "    <tr>\n",
       "      <th>...</th>\n",
       "      <td>...</td>\n",
       "      <td>...</td>\n",
       "      <td>...</td>\n",
       "      <td>...</td>\n",
       "      <td>...</td>\n",
       "      <td>...</td>\n",
       "    </tr>\n",
       "    <tr>\n",
       "      <th>1970</th>\n",
       "      <td>8078.2</td>\n",
       "      <td>0.940594</td>\n",
       "      <td>5.38873</td>\n",
       "      <td>42.7812</td>\n",
       "      <td>812.5</td>\n",
       "      <td>0.194719</td>\n",
       "    </tr>\n",
       "    <tr>\n",
       "      <th>1971</th>\n",
       "      <td>7691.23</td>\n",
       "      <td>0.425743</td>\n",
       "      <td>5.43915</td>\n",
       "      <td>49.0743</td>\n",
       "      <td>437.5</td>\n",
       "      <td>0.214521</td>\n",
       "    </tr>\n",
       "    <tr>\n",
       "      <th>1972</th>\n",
       "      <td>8654.7</td>\n",
       "      <td>0.565347</td>\n",
       "      <td>5.42035</td>\n",
       "      <td>53.4822</td>\n",
       "      <td>750</td>\n",
       "      <td>0.138614</td>\n",
       "    </tr>\n",
       "    <tr>\n",
       "      <th>1973</th>\n",
       "      <td>8324.55</td>\n",
       "      <td>1.03762</td>\n",
       "      <td>5.38873</td>\n",
       "      <td>43.4109</td>\n",
       "      <td>812.5</td>\n",
       "      <td>0.181518</td>\n",
       "    </tr>\n",
       "    <tr>\n",
       "      <th>1974</th>\n",
       "      <td>8268.33</td>\n",
       "      <td>0.950495</td>\n",
       "      <td>5.43378</td>\n",
       "      <td>40.6772</td>\n",
       "      <td>687.5</td>\n",
       "      <td>0.188119</td>\n",
       "    </tr>\n",
       "    <tr>\n",
       "      <th>1975</th>\n",
       "      <td>8961.95</td>\n",
       "      <td>1.21287</td>\n",
       "      <td>5.31329</td>\n",
       "      <td>46.7109</td>\n",
       "      <td>1562.5</td>\n",
       "      <td>0.112211</td>\n",
       "    </tr>\n",
       "    <tr>\n",
       "      <th>1976</th>\n",
       "      <td>8248.18</td>\n",
       "      <td>0.833663</td>\n",
       "      <td>5.44806</td>\n",
       "      <td>51.3059</td>\n",
       "      <td>562.5</td>\n",
       "      <td>0.188119</td>\n",
       "    </tr>\n",
       "    <tr>\n",
       "      <th>1977</th>\n",
       "      <td>8833.38</td>\n",
       "      <td>0.885149</td>\n",
       "      <td>5.34784</td>\n",
       "      <td>40.0772</td>\n",
       "      <td>1187.5</td>\n",
       "      <td>0.122112</td>\n",
       "    </tr>\n",
       "    <tr>\n",
       "      <th>1978</th>\n",
       "      <td>7899.89</td>\n",
       "      <td>0.820792</td>\n",
       "      <td>5.39642</td>\n",
       "      <td>52.4782</td>\n",
       "      <td>750</td>\n",
       "      <td>0.20462</td>\n",
       "    </tr>\n",
       "    <tr>\n",
       "      <th>1979</th>\n",
       "      <td>8398.49</td>\n",
       "      <td>0.809901</td>\n",
       "      <td>5.42035</td>\n",
       "      <td>50.1554</td>\n",
       "      <td>750</td>\n",
       "      <td>0.168317</td>\n",
       "    </tr>\n",
       "    <tr>\n",
       "      <th>1980</th>\n",
       "      <td>8398.79</td>\n",
       "      <td>0.909901</td>\n",
       "      <td>5.35736</td>\n",
       "      <td>69.3584</td>\n",
       "      <td>1125</td>\n",
       "      <td>0.158416</td>\n",
       "    </tr>\n",
       "    <tr>\n",
       "      <th>1981</th>\n",
       "      <td>8339.99</td>\n",
       "      <td>0.491089</td>\n",
       "      <td>5.45392</td>\n",
       "      <td>23.8604</td>\n",
       "      <td>375</td>\n",
       "      <td>0.174917</td>\n",
       "    </tr>\n",
       "    <tr>\n",
       "      <th>1982</th>\n",
       "      <td>8783.34</td>\n",
       "      <td>0.993069</td>\n",
       "      <td>5.35089</td>\n",
       "      <td>60.1861</td>\n",
       "      <td>1187.5</td>\n",
       "      <td>0.132013</td>\n",
       "    </tr>\n",
       "    <tr>\n",
       "      <th>1983</th>\n",
       "      <td>8426.61</td>\n",
       "      <td>0.953465</td>\n",
       "      <td>5.39252</td>\n",
       "      <td>67.297</td>\n",
       "      <td>812.5</td>\n",
       "      <td>0.171617</td>\n",
       "    </tr>\n",
       "    <tr>\n",
       "      <th>1984</th>\n",
       "      <td>8258.13</td>\n",
       "      <td>0.792079</td>\n",
       "      <td>5.42999</td>\n",
       "      <td>30.896</td>\n",
       "      <td>500</td>\n",
       "      <td>0.188119</td>\n",
       "    </tr>\n",
       "    <tr>\n",
       "      <th>1985</th>\n",
       "      <td>8260.46</td>\n",
       "      <td>0.923762</td>\n",
       "      <td>5.14532</td>\n",
       "      <td>51.504</td>\n",
       "      <td>875</td>\n",
       "      <td>0.178218</td>\n",
       "    </tr>\n",
       "    <tr>\n",
       "      <th>1986</th>\n",
       "      <td>8396.39</td>\n",
       "      <td>0.678218</td>\n",
       "      <td>5.40436</td>\n",
       "      <td>67.296</td>\n",
       "      <td>687.5</td>\n",
       "      <td>0.165017</td>\n",
       "    </tr>\n",
       "    <tr>\n",
       "      <th>1987</th>\n",
       "      <td>8176.24</td>\n",
       "      <td>0.693069</td>\n",
       "      <td>5.14655</td>\n",
       "      <td>38.0416</td>\n",
       "      <td>875</td>\n",
       "      <td>0.174917</td>\n",
       "    </tr>\n",
       "    <tr>\n",
       "      <th>1988</th>\n",
       "      <td>8454.71</td>\n",
       "      <td>0.89703</td>\n",
       "      <td>5.39972</td>\n",
       "      <td>64.9792</td>\n",
       "      <td>937.5</td>\n",
       "      <td>0.161716</td>\n",
       "    </tr>\n",
       "    <tr>\n",
       "      <th>1989</th>\n",
       "      <td>8830.73</td>\n",
       "      <td>0.453465</td>\n",
       "      <td>5.15814</td>\n",
       "      <td>30.295</td>\n",
       "      <td>562.5</td>\n",
       "      <td>0.128713</td>\n",
       "    </tr>\n",
       "    <tr>\n",
       "      <th>1990</th>\n",
       "      <td>7705.73</td>\n",
       "      <td>0.647525</td>\n",
       "      <td>5.39191</td>\n",
       "      <td>51.0812</td>\n",
       "      <td>1000</td>\n",
       "      <td>0.20132</td>\n",
       "    </tr>\n",
       "    <tr>\n",
       "      <th>1991</th>\n",
       "      <td>8426.43</td>\n",
       "      <td>0.853465</td>\n",
       "      <td>5.15692</td>\n",
       "      <td>69.3089</td>\n",
       "      <td>625</td>\n",
       "      <td>0.174917</td>\n",
       "    </tr>\n",
       "    <tr>\n",
       "      <th>1992</th>\n",
       "      <td>8412.86</td>\n",
       "      <td>0.831683</td>\n",
       "      <td>5.34467</td>\n",
       "      <td>44.5693</td>\n",
       "      <td>1250</td>\n",
       "      <td>0.148515</td>\n",
       "    </tr>\n",
       "    <tr>\n",
       "      <th>1993</th>\n",
       "      <td>8018.02</td>\n",
       "      <td>0.790099</td>\n",
       "      <td>5.39642</td>\n",
       "      <td>42.6683</td>\n",
       "      <td>750</td>\n",
       "      <td>0.194719</td>\n",
       "    </tr>\n",
       "    <tr>\n",
       "      <th>1994</th>\n",
       "      <td>8640.87</td>\n",
       "      <td>0.843564</td>\n",
       "      <td>5.40765</td>\n",
       "      <td>38.0287</td>\n",
       "      <td>875</td>\n",
       "      <td>0.148515</td>\n",
       "    </tr>\n",
       "    <tr>\n",
       "      <th>1995</th>\n",
       "      <td>8366.25</td>\n",
       "      <td>0.70297</td>\n",
       "      <td>5.15948</td>\n",
       "      <td>59.9287</td>\n",
       "      <td>562.5</td>\n",
       "      <td>0.174917</td>\n",
       "    </tr>\n",
       "    <tr>\n",
       "      <th>1996</th>\n",
       "      <td>8831.78</td>\n",
       "      <td>1.35347</td>\n",
       "      <td>5.3382</td>\n",
       "      <td>47.5792</td>\n",
       "      <td>1500</td>\n",
       "      <td>0.132013</td>\n",
       "    </tr>\n",
       "    <tr>\n",
       "      <th>1997</th>\n",
       "      <td>8430.49</td>\n",
       "      <td>0.716832</td>\n",
       "      <td>5.15033</td>\n",
       "      <td>72.4733</td>\n",
       "      <td>750</td>\n",
       "      <td>0.161716</td>\n",
       "    </tr>\n",
       "    <tr>\n",
       "      <th>1998</th>\n",
       "      <td>8705.32</td>\n",
       "      <td>1.15743</td>\n",
       "      <td>5.35089</td>\n",
       "      <td>47.9248</td>\n",
       "      <td>1187.5</td>\n",
       "      <td>0.145215</td>\n",
       "    </tr>\n",
       "    <tr>\n",
       "      <th>1999</th>\n",
       "      <td>8394.3</td>\n",
       "      <td>0.746535</td>\n",
       "      <td>5.15948</td>\n",
       "      <td>39.7446</td>\n",
       "      <td>562.5</td>\n",
       "      <td>0.174917</td>\n",
       "    </tr>\n",
       "  </tbody>\n",
       "</table>\n",
       "<p>2000 rows × 6 columns</p>\n",
       "</div>"
      ],
      "text/plain": [
       "     molecular_weight   gravity iso_electric_point instability_index  \\\n",
       "0             8082.26   0.80396            5.37079           72.0139   \n",
       "1             7733.43  0.491089            5.41681           52.6327   \n",
       "2             8547.01  0.954455            5.35406           59.2376   \n",
       "3             7903.83  0.684158            5.39642           56.8149   \n",
       "4             8721.07  0.910891            5.37421           82.4594   \n",
       "5             8601.26    1.1099            5.33868           65.9059   \n",
       "6             8218.01  0.458416            5.15692           43.1693   \n",
       "7             8456.82   1.02871            5.37079           54.3584   \n",
       "8             8216.71   1.02673            5.34467           19.8782   \n",
       "9             8368.58  0.834653            5.39972           37.8158   \n",
       "10            8104.28   1.05248             5.4118           42.2317   \n",
       "11            8745.16  0.891089             5.1391           72.7287   \n",
       "12            8119.97  0.705941            5.42108           47.8168   \n",
       "13            8288.52  0.967327            5.40363           51.3208   \n",
       "14            8206.19   1.06832            5.42999           61.6752   \n",
       "15             7789.6  0.678218            5.41254           45.7614   \n",
       "16            8138.32  0.991089            5.38507           46.7861   \n",
       "17            8388.41  0.651485            5.39642           42.5416   \n",
       "18            8689.12   0.90396            5.36066            52.903   \n",
       "19            8494.75  0.930693            5.14532           59.7752   \n",
       "20            8524.73   1.00594            5.42035           73.1792   \n",
       "21            8338.42  0.659406            5.38507           50.8396   \n",
       "22            7964.02  0.834653             5.4118           63.0099   \n",
       "23            8468.85  0.918812            5.36066           74.9663   \n",
       "24            8951.46  0.954455            5.36066           63.6881   \n",
       "25            7829.64  0.711881            5.41681           50.8327   \n",
       "26            8190.33  0.814851            5.38141           41.1564   \n",
       "27            8666.64  0.655446            5.44318           41.7079   \n",
       "28            8054.21  0.760396            5.37079           59.2238   \n",
       "29            8685.04  0.840594            5.14032           55.2901   \n",
       "...               ...       ...                ...               ...   \n",
       "1970           8078.2  0.940594            5.38873           42.7812   \n",
       "1971          7691.23  0.425743            5.43915           49.0743   \n",
       "1972           8654.7  0.565347            5.42035           53.4822   \n",
       "1973          8324.55   1.03762            5.38873           43.4109   \n",
       "1974          8268.33  0.950495            5.43378           40.6772   \n",
       "1975          8961.95   1.21287            5.31329           46.7109   \n",
       "1976          8248.18  0.833663            5.44806           51.3059   \n",
       "1977          8833.38  0.885149            5.34784           40.0772   \n",
       "1978          7899.89  0.820792            5.39642           52.4782   \n",
       "1979          8398.49  0.809901            5.42035           50.1554   \n",
       "1980          8398.79  0.909901            5.35736           69.3584   \n",
       "1981          8339.99  0.491089            5.45392           23.8604   \n",
       "1982          8783.34  0.993069            5.35089           60.1861   \n",
       "1983          8426.61  0.953465            5.39252            67.297   \n",
       "1984          8258.13  0.792079            5.42999            30.896   \n",
       "1985          8260.46  0.923762            5.14532            51.504   \n",
       "1986          8396.39  0.678218            5.40436            67.296   \n",
       "1987          8176.24  0.693069            5.14655           38.0416   \n",
       "1988          8454.71   0.89703            5.39972           64.9792   \n",
       "1989          8830.73  0.453465            5.15814            30.295   \n",
       "1990          7705.73  0.647525            5.39191           51.0812   \n",
       "1991          8426.43  0.853465            5.15692           69.3089   \n",
       "1992          8412.86  0.831683            5.34467           44.5693   \n",
       "1993          8018.02  0.790099            5.39642           42.6683   \n",
       "1994          8640.87  0.843564            5.40765           38.0287   \n",
       "1995          8366.25   0.70297            5.15948           59.9287   \n",
       "1996          8831.78   1.35347             5.3382           47.5792   \n",
       "1997          8430.49  0.716832            5.15033           72.4733   \n",
       "1998          8705.32   1.15743            5.35089           47.9248   \n",
       "1999           8394.3  0.746535            5.15948           39.7446   \n",
       "\n",
       "     molar_extinction_coefficient secondary_structure_fraction  \n",
       "0                            1000                     0.181518  \n",
       "1                             625                     0.207921  \n",
       "2                            1125                     0.148515  \n",
       "3                             750                      0.19802  \n",
       "4                           937.5                     0.141914  \n",
       "5                          1312.5                     0.145215  \n",
       "6                             625                     0.171617  \n",
       "7                            1000                     0.165017  \n",
       "8                            1250                     0.171617  \n",
       "9                           937.5                     0.165017  \n",
       "10                          812.5                      0.19802  \n",
       "11                         1062.5                     0.135314  \n",
       "12                          562.5                     0.191419  \n",
       "13                            875                     0.178218  \n",
       "14                            500                      0.20462  \n",
       "15                            625                     0.211221  \n",
       "16                            875                     0.191419  \n",
       "17                            750                     0.161716  \n",
       "18                         1062.5                     0.138614  \n",
       "19                            875                     0.161716  \n",
       "20                            750                     0.168317  \n",
       "21                            875                     0.161716  \n",
       "22                          812.5                      0.19802  \n",
       "23                         1062.5                     0.155116  \n",
       "24                         1062.5                     0.122112  \n",
       "25                            625                     0.211221  \n",
       "26                            875                     0.178218  \n",
       "27                            625                     0.148515  \n",
       "28                           1000                     0.181518  \n",
       "29                           1000                     0.138614  \n",
       "...                           ...                          ...  \n",
       "1970                        812.5                     0.194719  \n",
       "1971                        437.5                     0.214521  \n",
       "1972                          750                     0.138614  \n",
       "1973                        812.5                     0.181518  \n",
       "1974                        687.5                     0.188119  \n",
       "1975                       1562.5                     0.112211  \n",
       "1976                        562.5                     0.188119  \n",
       "1977                       1187.5                     0.122112  \n",
       "1978                          750                      0.20462  \n",
       "1979                          750                     0.168317  \n",
       "1980                         1125                     0.158416  \n",
       "1981                          375                     0.174917  \n",
       "1982                       1187.5                     0.132013  \n",
       "1983                        812.5                     0.171617  \n",
       "1984                          500                     0.188119  \n",
       "1985                          875                     0.178218  \n",
       "1986                        687.5                     0.165017  \n",
       "1987                          875                     0.174917  \n",
       "1988                        937.5                     0.161716  \n",
       "1989                        562.5                     0.128713  \n",
       "1990                         1000                      0.20132  \n",
       "1991                          625                     0.174917  \n",
       "1992                         1250                     0.148515  \n",
       "1993                          750                     0.194719  \n",
       "1994                          875                     0.148515  \n",
       "1995                        562.5                     0.174917  \n",
       "1996                         1500                     0.132013  \n",
       "1997                          750                     0.161716  \n",
       "1998                       1187.5                     0.145215  \n",
       "1999                        562.5                     0.174917  \n",
       "\n",
       "[2000 rows x 6 columns]"
      ]
     },
     "execution_count": 180,
     "metadata": {},
     "output_type": "execute_result"
    }
   ],
   "source": [
    "X.plot()"
   ]
  },
  {
   "cell_type": "code",
   "execution_count": null,
   "metadata": {},
   "outputs": [],
   "source": []
  }
 ],
 "metadata": {
  "kernelspec": {
   "display_name": "Python 3",
   "language": "python",
   "name": "python3"
  },
  "language_info": {
   "codemirror_mode": {
    "name": "ipython",
    "version": 3
   },
   "file_extension": ".py",
   "mimetype": "text/x-python",
   "name": "python",
   "nbconvert_exporter": "python",
   "pygments_lexer": "ipython3",
   "version": "3.7.4"
  }
 },
 "nbformat": 4,
 "nbformat_minor": 4
}
