{
 "cells": [
  {
   "cell_type": "code",
   "execution_count": 1,
   "metadata": {
    "_cell_guid": "79c7e3d0-c299-4dcb-8224-4455121ee9b0",
    "_uuid": "d629ff2d2480ee46fbb7e2d37f6b5fab8052498a"
   },
   "outputs": [
    {
     "name": "stderr",
     "output_type": "stream",
     "text": [
      "/usr/local/lib/python3.6/dist-packages/statsmodels/tools/_testing.py:19: FutureWarning: pandas.util.testing is deprecated. Use the functions in the public API at pandas.testing instead.\n",
      "  import pandas.util.testing as tm\n"
     ]
    }
   ],
   "source": [
    "# @title Imports\n",
    "\n",
    "import pandas as pd\n",
    "import seaborn as sns\n",
    "import numpy as np\n",
    "import matplotlib.pyplot as plt\n",
    "import cvxopt\n",
    "np.random.seed(54321)\n",
    "\n",
    "import ipdb\n",
    "\n",
    "import optuna\n",
    "\n",
    "from sklearn.preprocessing import MinMaxScaler, StandardScaler\n",
    "\n",
    "from sklearn.preprocessing import OneHotEncoder\n",
    "\n",
    "%load_ext autotime"
   ]
  },
  {
   "cell_type": "code",
   "execution_count": 2,
   "metadata": {},
   "outputs": [
    {
     "name": "stdout",
     "output_type": "stream",
     "text": [
      "time: 165 ms\n"
     ]
    }
   ],
   "source": [
    "seq = ['seq_'+str(i) for i in range(100)]\n",
    "X_train=pd.read_csv('./data/Xtr_mat100.csv', sep=' ', names = seq) #we use this dataset to train our model\n",
    "X_test=pd.read_csv('./data/Xte_mat100.csv', sep=' ', names = seq) #we will use this data set later to validate our model\n",
    "\n",
    "Y_train=pd.read_csv('./data/Ytr.csv', sep=',') #we use this dataset to train our model"
   ]
  },
  {
   "cell_type": "code",
   "execution_count": 3,
   "metadata": {},
   "outputs": [
    {
     "name": "stdout",
     "output_type": "stream",
     "text": [
      "time: 880 µs\n"
     ]
    }
   ],
   "source": [
    "# X_train=pd.read_csv('./data/train_data_preprocessing1.csv', sep=',') #we use this dataset to train our model\n",
    "# Y_train=pd.read_csv('./data/Ytr.csv', sep=',') #we use this dataset to train our model\n",
    "# X_test=pd.read_csv('./data/test_data_preprocessing1.csv', sep=',')"
   ]
  },
  {
   "cell_type": "code",
   "execution_count": 4,
   "metadata": {},
   "outputs": [
    {
     "name": "stdout",
     "output_type": "stream",
     "text": [
      "time: 640 µs\n"
     ]
    }
   ],
   "source": [
    "# X_test.head()"
   ]
  },
  {
   "cell_type": "code",
   "execution_count": 5,
   "metadata": {},
   "outputs": [
    {
     "data": {
      "text/html": [
       "<div>\n",
       "<style scoped>\n",
       "    .dataframe tbody tr th:only-of-type {\n",
       "        vertical-align: middle;\n",
       "    }\n",
       "\n",
       "    .dataframe tbody tr th {\n",
       "        vertical-align: top;\n",
       "    }\n",
       "\n",
       "    .dataframe thead th {\n",
       "        text-align: right;\n",
       "    }\n",
       "</style>\n",
       "<table border=\"1\" class=\"dataframe\">\n",
       "  <thead>\n",
       "    <tr style=\"text-align: right;\">\n",
       "      <th></th>\n",
       "      <th>seq_0</th>\n",
       "      <th>seq_1</th>\n",
       "      <th>seq_2</th>\n",
       "      <th>seq_3</th>\n",
       "      <th>seq_4</th>\n",
       "      <th>seq_5</th>\n",
       "      <th>seq_6</th>\n",
       "      <th>seq_7</th>\n",
       "      <th>seq_8</th>\n",
       "      <th>seq_9</th>\n",
       "      <th>seq_10</th>\n",
       "      <th>seq_11</th>\n",
       "      <th>seq_12</th>\n",
       "      <th>seq_13</th>\n",
       "      <th>seq_14</th>\n",
       "      <th>seq_15</th>\n",
       "      <th>seq_16</th>\n",
       "      <th>seq_17</th>\n",
       "      <th>seq_18</th>\n",
       "      <th>seq_19</th>\n",
       "      <th>seq_20</th>\n",
       "      <th>seq_21</th>\n",
       "      <th>seq_22</th>\n",
       "      <th>seq_23</th>\n",
       "      <th>seq_24</th>\n",
       "      <th>seq_25</th>\n",
       "      <th>seq_26</th>\n",
       "      <th>seq_27</th>\n",
       "      <th>seq_28</th>\n",
       "      <th>seq_29</th>\n",
       "      <th>seq_30</th>\n",
       "      <th>seq_31</th>\n",
       "      <th>seq_32</th>\n",
       "      <th>seq_33</th>\n",
       "      <th>seq_34</th>\n",
       "      <th>seq_35</th>\n",
       "      <th>seq_36</th>\n",
       "      <th>seq_37</th>\n",
       "      <th>seq_38</th>\n",
       "      <th>seq_39</th>\n",
       "      <th>...</th>\n",
       "      <th>seq_60</th>\n",
       "      <th>seq_61</th>\n",
       "      <th>seq_62</th>\n",
       "      <th>seq_63</th>\n",
       "      <th>seq_64</th>\n",
       "      <th>seq_65</th>\n",
       "      <th>seq_66</th>\n",
       "      <th>seq_67</th>\n",
       "      <th>seq_68</th>\n",
       "      <th>seq_69</th>\n",
       "      <th>seq_70</th>\n",
       "      <th>seq_71</th>\n",
       "      <th>seq_72</th>\n",
       "      <th>seq_73</th>\n",
       "      <th>seq_74</th>\n",
       "      <th>seq_75</th>\n",
       "      <th>seq_76</th>\n",
       "      <th>seq_77</th>\n",
       "      <th>seq_78</th>\n",
       "      <th>seq_79</th>\n",
       "      <th>seq_80</th>\n",
       "      <th>seq_81</th>\n",
       "      <th>seq_82</th>\n",
       "      <th>seq_83</th>\n",
       "      <th>seq_84</th>\n",
       "      <th>seq_85</th>\n",
       "      <th>seq_86</th>\n",
       "      <th>seq_87</th>\n",
       "      <th>seq_88</th>\n",
       "      <th>seq_89</th>\n",
       "      <th>seq_90</th>\n",
       "      <th>seq_91</th>\n",
       "      <th>seq_92</th>\n",
       "      <th>seq_93</th>\n",
       "      <th>seq_94</th>\n",
       "      <th>seq_95</th>\n",
       "      <th>seq_96</th>\n",
       "      <th>seq_97</th>\n",
       "      <th>seq_98</th>\n",
       "      <th>seq_99</th>\n",
       "    </tr>\n",
       "  </thead>\n",
       "  <tbody>\n",
       "    <tr>\n",
       "      <th>1995</th>\n",
       "      <td>0.000000</td>\n",
       "      <td>0.021739</td>\n",
       "      <td>0.01087</td>\n",
       "      <td>0.01087</td>\n",
       "      <td>0.01087</td>\n",
       "      <td>0.000000</td>\n",
       "      <td>0.01087</td>\n",
       "      <td>0.01087</td>\n",
       "      <td>0.021739</td>\n",
       "      <td>0.000000</td>\n",
       "      <td>0.000000</td>\n",
       "      <td>0.043478</td>\n",
       "      <td>0.000000</td>\n",
       "      <td>0.000000</td>\n",
       "      <td>0.00000</td>\n",
       "      <td>0.032609</td>\n",
       "      <td>0.000000</td>\n",
       "      <td>0.01087</td>\n",
       "      <td>0.010870</td>\n",
       "      <td>0.010870</td>\n",
       "      <td>0.000000</td>\n",
       "      <td>0.010870</td>\n",
       "      <td>0.000000</td>\n",
       "      <td>0.00000</td>\n",
       "      <td>0.021739</td>\n",
       "      <td>0.032609</td>\n",
       "      <td>0.010870</td>\n",
       "      <td>0.010870</td>\n",
       "      <td>0.021739</td>\n",
       "      <td>0.00000</td>\n",
       "      <td>0.000000</td>\n",
       "      <td>0.021739</td>\n",
       "      <td>0.010870</td>\n",
       "      <td>0.00000</td>\n",
       "      <td>0.000000</td>\n",
       "      <td>0.00000</td>\n",
       "      <td>0.021739</td>\n",
       "      <td>0.010870</td>\n",
       "      <td>0.010870</td>\n",
       "      <td>0.00000</td>\n",
       "      <td>...</td>\n",
       "      <td>0.021739</td>\n",
       "      <td>0.00000</td>\n",
       "      <td>0.000000</td>\n",
       "      <td>0.000000</td>\n",
       "      <td>0.000000</td>\n",
       "      <td>0.000000</td>\n",
       "      <td>0.000000</td>\n",
       "      <td>0.00000</td>\n",
       "      <td>0.021739</td>\n",
       "      <td>0.00000</td>\n",
       "      <td>0.010870</td>\n",
       "      <td>0.010870</td>\n",
       "      <td>0.021739</td>\n",
       "      <td>0.021739</td>\n",
       "      <td>0.000000</td>\n",
       "      <td>0.01087</td>\n",
       "      <td>0.010870</td>\n",
       "      <td>0.01087</td>\n",
       "      <td>0.01087</td>\n",
       "      <td>0.010870</td>\n",
       "      <td>0.010870</td>\n",
       "      <td>0.043478</td>\n",
       "      <td>0.000000</td>\n",
       "      <td>0.021739</td>\n",
       "      <td>0.00000</td>\n",
       "      <td>0.00000</td>\n",
       "      <td>0.000000</td>\n",
       "      <td>0.000000</td>\n",
       "      <td>0.000000</td>\n",
       "      <td>0.032609</td>\n",
       "      <td>0.010870</td>\n",
       "      <td>0.021739</td>\n",
       "      <td>0.01087</td>\n",
       "      <td>0.021739</td>\n",
       "      <td>0.021739</td>\n",
       "      <td>0.010870</td>\n",
       "      <td>0.000000</td>\n",
       "      <td>0.032609</td>\n",
       "      <td>0.01087</td>\n",
       "      <td>0.010870</td>\n",
       "    </tr>\n",
       "    <tr>\n",
       "      <th>1996</th>\n",
       "      <td>0.010870</td>\n",
       "      <td>0.032609</td>\n",
       "      <td>0.00000</td>\n",
       "      <td>0.01087</td>\n",
       "      <td>0.00000</td>\n",
       "      <td>0.043478</td>\n",
       "      <td>0.00000</td>\n",
       "      <td>0.00000</td>\n",
       "      <td>0.010870</td>\n",
       "      <td>0.021739</td>\n",
       "      <td>0.032609</td>\n",
       "      <td>0.000000</td>\n",
       "      <td>0.043478</td>\n",
       "      <td>0.054348</td>\n",
       "      <td>0.00000</td>\n",
       "      <td>0.000000</td>\n",
       "      <td>0.021739</td>\n",
       "      <td>0.00000</td>\n",
       "      <td>0.010870</td>\n",
       "      <td>0.010870</td>\n",
       "      <td>0.010870</td>\n",
       "      <td>0.000000</td>\n",
       "      <td>0.010870</td>\n",
       "      <td>0.00000</td>\n",
       "      <td>0.010870</td>\n",
       "      <td>0.000000</td>\n",
       "      <td>0.000000</td>\n",
       "      <td>0.000000</td>\n",
       "      <td>0.000000</td>\n",
       "      <td>0.01087</td>\n",
       "      <td>0.043478</td>\n",
       "      <td>0.000000</td>\n",
       "      <td>0.000000</td>\n",
       "      <td>0.01087</td>\n",
       "      <td>0.000000</td>\n",
       "      <td>0.00000</td>\n",
       "      <td>0.000000</td>\n",
       "      <td>0.032609</td>\n",
       "      <td>0.010870</td>\n",
       "      <td>0.01087</td>\n",
       "      <td>...</td>\n",
       "      <td>0.000000</td>\n",
       "      <td>0.01087</td>\n",
       "      <td>0.000000</td>\n",
       "      <td>0.021739</td>\n",
       "      <td>0.000000</td>\n",
       "      <td>0.021739</td>\n",
       "      <td>0.000000</td>\n",
       "      <td>0.00000</td>\n",
       "      <td>0.000000</td>\n",
       "      <td>0.01087</td>\n",
       "      <td>0.010870</td>\n",
       "      <td>0.000000</td>\n",
       "      <td>0.000000</td>\n",
       "      <td>0.010870</td>\n",
       "      <td>0.032609</td>\n",
       "      <td>0.01087</td>\n",
       "      <td>0.000000</td>\n",
       "      <td>0.00000</td>\n",
       "      <td>0.00000</td>\n",
       "      <td>0.000000</td>\n",
       "      <td>0.000000</td>\n",
       "      <td>0.000000</td>\n",
       "      <td>0.010870</td>\n",
       "      <td>0.000000</td>\n",
       "      <td>0.00000</td>\n",
       "      <td>0.01087</td>\n",
       "      <td>0.032609</td>\n",
       "      <td>0.021739</td>\n",
       "      <td>0.054348</td>\n",
       "      <td>0.000000</td>\n",
       "      <td>0.000000</td>\n",
       "      <td>0.032609</td>\n",
       "      <td>0.00000</td>\n",
       "      <td>0.021739</td>\n",
       "      <td>0.000000</td>\n",
       "      <td>0.010870</td>\n",
       "      <td>0.000000</td>\n",
       "      <td>0.000000</td>\n",
       "      <td>0.00000</td>\n",
       "      <td>0.010870</td>\n",
       "    </tr>\n",
       "    <tr>\n",
       "      <th>1997</th>\n",
       "      <td>0.000000</td>\n",
       "      <td>0.000000</td>\n",
       "      <td>0.00000</td>\n",
       "      <td>0.00000</td>\n",
       "      <td>0.01087</td>\n",
       "      <td>0.000000</td>\n",
       "      <td>0.01087</td>\n",
       "      <td>0.00000</td>\n",
       "      <td>0.000000</td>\n",
       "      <td>0.000000</td>\n",
       "      <td>0.021739</td>\n",
       "      <td>0.010870</td>\n",
       "      <td>0.032609</td>\n",
       "      <td>0.000000</td>\n",
       "      <td>0.00000</td>\n",
       "      <td>0.010870</td>\n",
       "      <td>0.000000</td>\n",
       "      <td>0.00000</td>\n",
       "      <td>0.010870</td>\n",
       "      <td>0.000000</td>\n",
       "      <td>0.000000</td>\n",
       "      <td>0.000000</td>\n",
       "      <td>0.010870</td>\n",
       "      <td>0.01087</td>\n",
       "      <td>0.010870</td>\n",
       "      <td>0.000000</td>\n",
       "      <td>0.000000</td>\n",
       "      <td>0.021739</td>\n",
       "      <td>0.000000</td>\n",
       "      <td>0.00000</td>\n",
       "      <td>0.010870</td>\n",
       "      <td>0.010870</td>\n",
       "      <td>0.010870</td>\n",
       "      <td>0.01087</td>\n",
       "      <td>0.043478</td>\n",
       "      <td>0.01087</td>\n",
       "      <td>0.000000</td>\n",
       "      <td>0.010870</td>\n",
       "      <td>0.021739</td>\n",
       "      <td>0.00000</td>\n",
       "      <td>...</td>\n",
       "      <td>0.000000</td>\n",
       "      <td>0.00000</td>\n",
       "      <td>0.021739</td>\n",
       "      <td>0.000000</td>\n",
       "      <td>0.021739</td>\n",
       "      <td>0.010870</td>\n",
       "      <td>0.021739</td>\n",
       "      <td>0.01087</td>\n",
       "      <td>0.010870</td>\n",
       "      <td>0.00000</td>\n",
       "      <td>0.010870</td>\n",
       "      <td>0.010870</td>\n",
       "      <td>0.021739</td>\n",
       "      <td>0.010870</td>\n",
       "      <td>0.010870</td>\n",
       "      <td>0.01087</td>\n",
       "      <td>0.032609</td>\n",
       "      <td>0.01087</td>\n",
       "      <td>0.01087</td>\n",
       "      <td>0.010870</td>\n",
       "      <td>0.032609</td>\n",
       "      <td>0.000000</td>\n",
       "      <td>0.021739</td>\n",
       "      <td>0.010870</td>\n",
       "      <td>0.00000</td>\n",
       "      <td>0.01087</td>\n",
       "      <td>0.000000</td>\n",
       "      <td>0.010870</td>\n",
       "      <td>0.000000</td>\n",
       "      <td>0.054348</td>\n",
       "      <td>0.021739</td>\n",
       "      <td>0.021739</td>\n",
       "      <td>0.00000</td>\n",
       "      <td>0.010870</td>\n",
       "      <td>0.010870</td>\n",
       "      <td>0.010870</td>\n",
       "      <td>0.000000</td>\n",
       "      <td>0.010870</td>\n",
       "      <td>0.01087</td>\n",
       "      <td>0.032609</td>\n",
       "    </tr>\n",
       "    <tr>\n",
       "      <th>1998</th>\n",
       "      <td>0.021739</td>\n",
       "      <td>0.032609</td>\n",
       "      <td>0.00000</td>\n",
       "      <td>0.01087</td>\n",
       "      <td>0.00000</td>\n",
       "      <td>0.010870</td>\n",
       "      <td>0.00000</td>\n",
       "      <td>0.01087</td>\n",
       "      <td>0.021739</td>\n",
       "      <td>0.010870</td>\n",
       "      <td>0.010870</td>\n",
       "      <td>0.021739</td>\n",
       "      <td>0.010870</td>\n",
       "      <td>0.010870</td>\n",
       "      <td>0.01087</td>\n",
       "      <td>0.000000</td>\n",
       "      <td>0.000000</td>\n",
       "      <td>0.00000</td>\n",
       "      <td>0.021739</td>\n",
       "      <td>0.010870</td>\n",
       "      <td>0.021739</td>\n",
       "      <td>0.010870</td>\n",
       "      <td>0.021739</td>\n",
       "      <td>0.01087</td>\n",
       "      <td>0.000000</td>\n",
       "      <td>0.021739</td>\n",
       "      <td>0.000000</td>\n",
       "      <td>0.000000</td>\n",
       "      <td>0.000000</td>\n",
       "      <td>0.00000</td>\n",
       "      <td>0.021739</td>\n",
       "      <td>0.021739</td>\n",
       "      <td>0.021739</td>\n",
       "      <td>0.01087</td>\n",
       "      <td>0.010870</td>\n",
       "      <td>0.00000</td>\n",
       "      <td>0.000000</td>\n",
       "      <td>0.021739</td>\n",
       "      <td>0.010870</td>\n",
       "      <td>0.00000</td>\n",
       "      <td>...</td>\n",
       "      <td>0.000000</td>\n",
       "      <td>0.01087</td>\n",
       "      <td>0.000000</td>\n",
       "      <td>0.010870</td>\n",
       "      <td>0.000000</td>\n",
       "      <td>0.000000</td>\n",
       "      <td>0.010870</td>\n",
       "      <td>0.00000</td>\n",
       "      <td>0.000000</td>\n",
       "      <td>0.01087</td>\n",
       "      <td>0.000000</td>\n",
       "      <td>0.032609</td>\n",
       "      <td>0.000000</td>\n",
       "      <td>0.000000</td>\n",
       "      <td>0.010870</td>\n",
       "      <td>0.00000</td>\n",
       "      <td>0.010870</td>\n",
       "      <td>0.01087</td>\n",
       "      <td>0.00000</td>\n",
       "      <td>0.021739</td>\n",
       "      <td>0.010870</td>\n",
       "      <td>0.010870</td>\n",
       "      <td>0.021739</td>\n",
       "      <td>0.000000</td>\n",
       "      <td>0.01087</td>\n",
       "      <td>0.01087</td>\n",
       "      <td>0.010870</td>\n",
       "      <td>0.010870</td>\n",
       "      <td>0.021739</td>\n",
       "      <td>0.010870</td>\n",
       "      <td>0.000000</td>\n",
       "      <td>0.000000</td>\n",
       "      <td>0.00000</td>\n",
       "      <td>0.021739</td>\n",
       "      <td>0.021739</td>\n",
       "      <td>0.021739</td>\n",
       "      <td>0.021739</td>\n",
       "      <td>0.010870</td>\n",
       "      <td>0.00000</td>\n",
       "      <td>0.000000</td>\n",
       "    </tr>\n",
       "    <tr>\n",
       "      <th>1999</th>\n",
       "      <td>0.000000</td>\n",
       "      <td>0.010870</td>\n",
       "      <td>0.00000</td>\n",
       "      <td>0.01087</td>\n",
       "      <td>0.00000</td>\n",
       "      <td>0.000000</td>\n",
       "      <td>0.00000</td>\n",
       "      <td>0.00000</td>\n",
       "      <td>0.021739</td>\n",
       "      <td>0.010870</td>\n",
       "      <td>0.010870</td>\n",
       "      <td>0.043478</td>\n",
       "      <td>0.000000</td>\n",
       "      <td>0.000000</td>\n",
       "      <td>0.00000</td>\n",
       "      <td>0.010870</td>\n",
       "      <td>0.000000</td>\n",
       "      <td>0.00000</td>\n",
       "      <td>0.032609</td>\n",
       "      <td>0.021739</td>\n",
       "      <td>0.000000</td>\n",
       "      <td>0.021739</td>\n",
       "      <td>0.010870</td>\n",
       "      <td>0.01087</td>\n",
       "      <td>0.010870</td>\n",
       "      <td>0.010870</td>\n",
       "      <td>0.043478</td>\n",
       "      <td>0.000000</td>\n",
       "      <td>0.021739</td>\n",
       "      <td>0.00000</td>\n",
       "      <td>0.000000</td>\n",
       "      <td>0.021739</td>\n",
       "      <td>0.021739</td>\n",
       "      <td>0.01087</td>\n",
       "      <td>0.010870</td>\n",
       "      <td>0.01087</td>\n",
       "      <td>0.043478</td>\n",
       "      <td>0.010870</td>\n",
       "      <td>0.032609</td>\n",
       "      <td>0.01087</td>\n",
       "      <td>...</td>\n",
       "      <td>0.021739</td>\n",
       "      <td>0.01087</td>\n",
       "      <td>0.010870</td>\n",
       "      <td>0.000000</td>\n",
       "      <td>0.010870</td>\n",
       "      <td>0.021739</td>\n",
       "      <td>0.000000</td>\n",
       "      <td>0.00000</td>\n",
       "      <td>0.010870</td>\n",
       "      <td>0.01087</td>\n",
       "      <td>0.021739</td>\n",
       "      <td>0.000000</td>\n",
       "      <td>0.021739</td>\n",
       "      <td>0.000000</td>\n",
       "      <td>0.000000</td>\n",
       "      <td>0.01087</td>\n",
       "      <td>0.010870</td>\n",
       "      <td>0.01087</td>\n",
       "      <td>0.00000</td>\n",
       "      <td>0.010870</td>\n",
       "      <td>0.021739</td>\n",
       "      <td>0.000000</td>\n",
       "      <td>0.010870</td>\n",
       "      <td>0.010870</td>\n",
       "      <td>0.00000</td>\n",
       "      <td>0.00000</td>\n",
       "      <td>0.000000</td>\n",
       "      <td>0.000000</td>\n",
       "      <td>0.000000</td>\n",
       "      <td>0.000000</td>\n",
       "      <td>0.000000</td>\n",
       "      <td>0.000000</td>\n",
       "      <td>0.00000</td>\n",
       "      <td>0.065217</td>\n",
       "      <td>0.010870</td>\n",
       "      <td>0.000000</td>\n",
       "      <td>0.000000</td>\n",
       "      <td>0.021739</td>\n",
       "      <td>0.00000</td>\n",
       "      <td>0.010870</td>\n",
       "    </tr>\n",
       "  </tbody>\n",
       "</table>\n",
       "<p>5 rows × 100 columns</p>\n",
       "</div>"
      ],
      "text/plain": [
       "         seq_0     seq_1    seq_2  ...    seq_97   seq_98    seq_99\n",
       "1995  0.000000  0.021739  0.01087  ...  0.032609  0.01087  0.010870\n",
       "1996  0.010870  0.032609  0.00000  ...  0.000000  0.00000  0.010870\n",
       "1997  0.000000  0.000000  0.00000  ...  0.010870  0.01087  0.032609\n",
       "1998  0.021739  0.032609  0.00000  ...  0.010870  0.00000  0.000000\n",
       "1999  0.000000  0.010870  0.00000  ...  0.021739  0.00000  0.010870\n",
       "\n",
       "[5 rows x 100 columns]"
      ]
     },
     "execution_count": 5,
     "metadata": {},
     "output_type": "execute_result"
    },
    {
     "name": "stdout",
     "output_type": "stream",
     "text": [
      "time: 216 ms\n"
     ]
    }
   ],
   "source": [
    "X_train.tail()"
   ]
  },
  {
   "cell_type": "code",
   "execution_count": 6,
   "metadata": {},
   "outputs": [
    {
     "name": "stdout",
     "output_type": "stream",
     "text": [
      "The shape of the X_train dataset is: (2000, 100)\n",
      "The shape of the Y_train dataset is: (2000, 2)\n",
      "time: 1.64 ms\n"
     ]
    }
   ],
   "source": [
    "print('The shape of the X_train dataset is:',X_train.shape)\n",
    "print('The shape of the Y_train dataset is:',Y_train.shape)"
   ]
  },
  {
   "cell_type": "code",
   "execution_count": 7,
   "metadata": {},
   "outputs": [
    {
     "name": "stdout",
     "output_type": "stream",
     "text": [
      "time: 361 µs\n"
     ]
    }
   ],
   "source": [
    "# X_train['len'] = X_train.seq.apply(lambda x : len(x))"
   ]
  },
  {
   "cell_type": "code",
   "execution_count": 8,
   "metadata": {},
   "outputs": [
    {
     "data": {
      "text/html": [
       "<div>\n",
       "<style scoped>\n",
       "    .dataframe tbody tr th:only-of-type {\n",
       "        vertical-align: middle;\n",
       "    }\n",
       "\n",
       "    .dataframe tbody tr th {\n",
       "        vertical-align: top;\n",
       "    }\n",
       "\n",
       "    .dataframe thead th {\n",
       "        text-align: right;\n",
       "    }\n",
       "</style>\n",
       "<table border=\"1\" class=\"dataframe\">\n",
       "  <thead>\n",
       "    <tr style=\"text-align: right;\">\n",
       "      <th></th>\n",
       "      <th>Id</th>\n",
       "      <th>seq</th>\n",
       "    </tr>\n",
       "  </thead>\n",
       "  <tbody>\n",
       "    <tr>\n",
       "      <th>0</th>\n",
       "      <td>0</td>\n",
       "      <td>GAGGGGCTGGGGAGGGGGCTGGCCCAGAGGCACCAGACTCTGCAGA...</td>\n",
       "    </tr>\n",
       "    <tr>\n",
       "      <th>1</th>\n",
       "      <td>1</td>\n",
       "      <td>CGGCCTGGGGGCCACATGTGAGTGCTTACCTGTGTGGGGATGAGGG...</td>\n",
       "    </tr>\n",
       "    <tr>\n",
       "      <th>2</th>\n",
       "      <td>2</td>\n",
       "      <td>GACAACGCCGCTGTCAGCCGCCTTCGACTCACCTGGGAGGTGATGA...</td>\n",
       "    </tr>\n",
       "    <tr>\n",
       "      <th>3</th>\n",
       "      <td>3</td>\n",
       "      <td>GCCTCCCTTGGCACCACGGGAGACCAGTTTTGGAGGGGCGGGGCTG...</td>\n",
       "    </tr>\n",
       "    <tr>\n",
       "      <th>4</th>\n",
       "      <td>4</td>\n",
       "      <td>GCACTACTACACCCATTGCTGTAATAGTAAGTGCCGGTGCCTTCAC...</td>\n",
       "    </tr>\n",
       "  </tbody>\n",
       "</table>\n",
       "</div>"
      ],
      "text/plain": [
       "   Id                                                seq\n",
       "0   0  GAGGGGCTGGGGAGGGGGCTGGCCCAGAGGCACCAGACTCTGCAGA...\n",
       "1   1  CGGCCTGGGGGCCACATGTGAGTGCTTACCTGTGTGGGGATGAGGG...\n",
       "2   2  GACAACGCCGCTGTCAGCCGCCTTCGACTCACCTGGGAGGTGATGA...\n",
       "3   3  GCCTCCCTTGGCACCACGGGAGACCAGTTTTGGAGGGGCGGGGCTG...\n",
       "4   4  GCACTACTACACCCATTGCTGTAATAGTAAGTGCCGGTGCCTTCAC..."
      ]
     },
     "execution_count": 8,
     "metadata": {},
     "output_type": "execute_result"
    },
    {
     "name": "stdout",
     "output_type": "stream",
     "text": [
      "time: 9.17 ms\n"
     ]
    }
   ],
   "source": [
    "X_train.head()"
   ]
  },
  {
   "cell_type": "code",
   "execution_count": 9,
   "metadata": {},
   "outputs": [
    {
     "name": "stdout",
     "output_type": "stream",
     "text": [
      "time: 709 µs\n"
     ]
    }
   ],
   "source": [
    "import string\n",
    "Alphabet_dict = dict(zip(string.ascii_uppercase, range(1,27)))"
   ]
  },
  {
   "cell_type": "code",
   "execution_count": 10,
   "metadata": {},
   "outputs": [
    {
     "name": "stdout",
     "output_type": "stream",
     "text": [
      "time: 277 ms\n"
     ]
    }
   ],
   "source": [
    "#  X_train['seq_1'] = X_train.seq.apply(lambda x : (' '.join(map(str, list(x))))[0])\n",
    "for i in range(0, 101, 1):\n",
    "    X_train['seq_'+str(i)] = X_train.seq.apply(lambda x :Alphabet_dict[x[i]])\n",
    "    X_test['seq_'+str(i)] = X_test.seq.apply(lambda x :Alphabet_dict[x[i]])\n",
    "    \n",
    "#     X_train['seq_'+str(i)] = X_train.seq.apply(lambda x :Alphabet_dict[x[i]])\n",
    "#     X_test['seq_'+str(i)] = X_test.seq.apply(lambda x :Alphabet_dict[x[i]]\n",
    "\n",
    "#     X_train['seq_'+str(i)] = X_train.seq.apply(lambda x :x[i:i+3])\n",
    "#     X_test['seq_'+str(i)] = X_test.seq.apply(lambda x :x[i:i+3])\n",
    "\n"
   ]
  },
  {
   "cell_type": "code",
   "execution_count": 11,
   "metadata": {},
   "outputs": [
    {
     "data": {
      "text/html": [
       "<div>\n",
       "<style scoped>\n",
       "    .dataframe tbody tr th:only-of-type {\n",
       "        vertical-align: middle;\n",
       "    }\n",
       "\n",
       "    .dataframe tbody tr th {\n",
       "        vertical-align: top;\n",
       "    }\n",
       "\n",
       "    .dataframe thead th {\n",
       "        text-align: right;\n",
       "    }\n",
       "</style>\n",
       "<table border=\"1\" class=\"dataframe\">\n",
       "  <thead>\n",
       "    <tr style=\"text-align: right;\">\n",
       "      <th></th>\n",
       "      <th>Id</th>\n",
       "      <th>seq</th>\n",
       "      <th>seq_0</th>\n",
       "      <th>seq_1</th>\n",
       "      <th>seq_2</th>\n",
       "      <th>seq_3</th>\n",
       "      <th>seq_4</th>\n",
       "      <th>seq_5</th>\n",
       "      <th>seq_6</th>\n",
       "      <th>seq_7</th>\n",
       "      <th>seq_8</th>\n",
       "      <th>seq_9</th>\n",
       "      <th>seq_10</th>\n",
       "      <th>seq_11</th>\n",
       "      <th>seq_12</th>\n",
       "      <th>seq_13</th>\n",
       "      <th>seq_14</th>\n",
       "      <th>seq_15</th>\n",
       "      <th>seq_16</th>\n",
       "      <th>seq_17</th>\n",
       "      <th>seq_18</th>\n",
       "      <th>seq_19</th>\n",
       "      <th>seq_20</th>\n",
       "      <th>seq_21</th>\n",
       "      <th>seq_22</th>\n",
       "      <th>seq_23</th>\n",
       "      <th>seq_24</th>\n",
       "      <th>seq_25</th>\n",
       "      <th>seq_26</th>\n",
       "      <th>seq_27</th>\n",
       "      <th>seq_28</th>\n",
       "      <th>seq_29</th>\n",
       "      <th>seq_30</th>\n",
       "      <th>seq_31</th>\n",
       "      <th>seq_32</th>\n",
       "      <th>seq_33</th>\n",
       "      <th>seq_34</th>\n",
       "      <th>seq_35</th>\n",
       "      <th>seq_36</th>\n",
       "      <th>seq_37</th>\n",
       "      <th>...</th>\n",
       "      <th>seq_61</th>\n",
       "      <th>seq_62</th>\n",
       "      <th>seq_63</th>\n",
       "      <th>seq_64</th>\n",
       "      <th>seq_65</th>\n",
       "      <th>seq_66</th>\n",
       "      <th>seq_67</th>\n",
       "      <th>seq_68</th>\n",
       "      <th>seq_69</th>\n",
       "      <th>seq_70</th>\n",
       "      <th>seq_71</th>\n",
       "      <th>seq_72</th>\n",
       "      <th>seq_73</th>\n",
       "      <th>seq_74</th>\n",
       "      <th>seq_75</th>\n",
       "      <th>seq_76</th>\n",
       "      <th>seq_77</th>\n",
       "      <th>seq_78</th>\n",
       "      <th>seq_79</th>\n",
       "      <th>seq_80</th>\n",
       "      <th>seq_81</th>\n",
       "      <th>seq_82</th>\n",
       "      <th>seq_83</th>\n",
       "      <th>seq_84</th>\n",
       "      <th>seq_85</th>\n",
       "      <th>seq_86</th>\n",
       "      <th>seq_87</th>\n",
       "      <th>seq_88</th>\n",
       "      <th>seq_89</th>\n",
       "      <th>seq_90</th>\n",
       "      <th>seq_91</th>\n",
       "      <th>seq_92</th>\n",
       "      <th>seq_93</th>\n",
       "      <th>seq_94</th>\n",
       "      <th>seq_95</th>\n",
       "      <th>seq_96</th>\n",
       "      <th>seq_97</th>\n",
       "      <th>seq_98</th>\n",
       "      <th>seq_99</th>\n",
       "      <th>seq_100</th>\n",
       "    </tr>\n",
       "  </thead>\n",
       "  <tbody>\n",
       "    <tr>\n",
       "      <th>0</th>\n",
       "      <td>0</td>\n",
       "      <td>GAGGGGCTGGGGAGGGGGCTGGCCCAGAGGCACCAGACTCTGCAGA...</td>\n",
       "      <td>7</td>\n",
       "      <td>1</td>\n",
       "      <td>7</td>\n",
       "      <td>7</td>\n",
       "      <td>7</td>\n",
       "      <td>7</td>\n",
       "      <td>3</td>\n",
       "      <td>20</td>\n",
       "      <td>7</td>\n",
       "      <td>7</td>\n",
       "      <td>7</td>\n",
       "      <td>7</td>\n",
       "      <td>1</td>\n",
       "      <td>7</td>\n",
       "      <td>7</td>\n",
       "      <td>7</td>\n",
       "      <td>7</td>\n",
       "      <td>7</td>\n",
       "      <td>3</td>\n",
       "      <td>20</td>\n",
       "      <td>7</td>\n",
       "      <td>7</td>\n",
       "      <td>3</td>\n",
       "      <td>3</td>\n",
       "      <td>3</td>\n",
       "      <td>1</td>\n",
       "      <td>7</td>\n",
       "      <td>1</td>\n",
       "      <td>7</td>\n",
       "      <td>7</td>\n",
       "      <td>3</td>\n",
       "      <td>1</td>\n",
       "      <td>3</td>\n",
       "      <td>3</td>\n",
       "      <td>1</td>\n",
       "      <td>7</td>\n",
       "      <td>1</td>\n",
       "      <td>3</td>\n",
       "      <td>...</td>\n",
       "      <td>20</td>\n",
       "      <td>7</td>\n",
       "      <td>7</td>\n",
       "      <td>7</td>\n",
       "      <td>7</td>\n",
       "      <td>3</td>\n",
       "      <td>20</td>\n",
       "      <td>7</td>\n",
       "      <td>3</td>\n",
       "      <td>3</td>\n",
       "      <td>3</td>\n",
       "      <td>20</td>\n",
       "      <td>7</td>\n",
       "      <td>3</td>\n",
       "      <td>3</td>\n",
       "      <td>1</td>\n",
       "      <td>3</td>\n",
       "      <td>3</td>\n",
       "      <td>20</td>\n",
       "      <td>7</td>\n",
       "      <td>3</td>\n",
       "      <td>20</td>\n",
       "      <td>7</td>\n",
       "      <td>7</td>\n",
       "      <td>3</td>\n",
       "      <td>3</td>\n",
       "      <td>7</td>\n",
       "      <td>3</td>\n",
       "      <td>20</td>\n",
       "      <td>3</td>\n",
       "      <td>3</td>\n",
       "      <td>20</td>\n",
       "      <td>7</td>\n",
       "      <td>7</td>\n",
       "      <td>20</td>\n",
       "      <td>7</td>\n",
       "      <td>7</td>\n",
       "      <td>3</td>\n",
       "      <td>1</td>\n",
       "      <td>7</td>\n",
       "    </tr>\n",
       "    <tr>\n",
       "      <th>1</th>\n",
       "      <td>1</td>\n",
       "      <td>CGGCCTGGGGGCCACATGTGAGTGCTTACCTGTGTGGGGATGAGGG...</td>\n",
       "      <td>3</td>\n",
       "      <td>7</td>\n",
       "      <td>7</td>\n",
       "      <td>3</td>\n",
       "      <td>3</td>\n",
       "      <td>20</td>\n",
       "      <td>7</td>\n",
       "      <td>7</td>\n",
       "      <td>7</td>\n",
       "      <td>7</td>\n",
       "      <td>7</td>\n",
       "      <td>3</td>\n",
       "      <td>3</td>\n",
       "      <td>1</td>\n",
       "      <td>3</td>\n",
       "      <td>1</td>\n",
       "      <td>20</td>\n",
       "      <td>7</td>\n",
       "      <td>20</td>\n",
       "      <td>7</td>\n",
       "      <td>1</td>\n",
       "      <td>7</td>\n",
       "      <td>20</td>\n",
       "      <td>7</td>\n",
       "      <td>3</td>\n",
       "      <td>20</td>\n",
       "      <td>20</td>\n",
       "      <td>1</td>\n",
       "      <td>3</td>\n",
       "      <td>3</td>\n",
       "      <td>20</td>\n",
       "      <td>7</td>\n",
       "      <td>20</td>\n",
       "      <td>7</td>\n",
       "      <td>20</td>\n",
       "      <td>7</td>\n",
       "      <td>7</td>\n",
       "      <td>7</td>\n",
       "      <td>...</td>\n",
       "      <td>20</td>\n",
       "      <td>3</td>\n",
       "      <td>1</td>\n",
       "      <td>7</td>\n",
       "      <td>7</td>\n",
       "      <td>3</td>\n",
       "      <td>1</td>\n",
       "      <td>7</td>\n",
       "      <td>3</td>\n",
       "      <td>1</td>\n",
       "      <td>7</td>\n",
       "      <td>3</td>\n",
       "      <td>20</td>\n",
       "      <td>7</td>\n",
       "      <td>7</td>\n",
       "      <td>7</td>\n",
       "      <td>20</td>\n",
       "      <td>1</td>\n",
       "      <td>3</td>\n",
       "      <td>20</td>\n",
       "      <td>1</td>\n",
       "      <td>1</td>\n",
       "      <td>1</td>\n",
       "      <td>7</td>\n",
       "      <td>7</td>\n",
       "      <td>7</td>\n",
       "      <td>7</td>\n",
       "      <td>3</td>\n",
       "      <td>3</td>\n",
       "      <td>20</td>\n",
       "      <td>7</td>\n",
       "      <td>20</td>\n",
       "      <td>3</td>\n",
       "      <td>3</td>\n",
       "      <td>1</td>\n",
       "      <td>7</td>\n",
       "      <td>7</td>\n",
       "      <td>20</td>\n",
       "      <td>7</td>\n",
       "      <td>7</td>\n",
       "    </tr>\n",
       "    <tr>\n",
       "      <th>2</th>\n",
       "      <td>2</td>\n",
       "      <td>GACAACGCCGCTGTCAGCCGCCTTCGACTCACCTGGGAGGTGATGA...</td>\n",
       "      <td>7</td>\n",
       "      <td>1</td>\n",
       "      <td>3</td>\n",
       "      <td>1</td>\n",
       "      <td>1</td>\n",
       "      <td>3</td>\n",
       "      <td>7</td>\n",
       "      <td>3</td>\n",
       "      <td>3</td>\n",
       "      <td>7</td>\n",
       "      <td>3</td>\n",
       "      <td>20</td>\n",
       "      <td>7</td>\n",
       "      <td>20</td>\n",
       "      <td>3</td>\n",
       "      <td>1</td>\n",
       "      <td>7</td>\n",
       "      <td>3</td>\n",
       "      <td>3</td>\n",
       "      <td>7</td>\n",
       "      <td>3</td>\n",
       "      <td>3</td>\n",
       "      <td>20</td>\n",
       "      <td>20</td>\n",
       "      <td>3</td>\n",
       "      <td>7</td>\n",
       "      <td>1</td>\n",
       "      <td>3</td>\n",
       "      <td>20</td>\n",
       "      <td>3</td>\n",
       "      <td>1</td>\n",
       "      <td>3</td>\n",
       "      <td>3</td>\n",
       "      <td>20</td>\n",
       "      <td>7</td>\n",
       "      <td>7</td>\n",
       "      <td>7</td>\n",
       "      <td>1</td>\n",
       "      <td>...</td>\n",
       "      <td>20</td>\n",
       "      <td>1</td>\n",
       "      <td>3</td>\n",
       "      <td>3</td>\n",
       "      <td>20</td>\n",
       "      <td>7</td>\n",
       "      <td>7</td>\n",
       "      <td>7</td>\n",
       "      <td>1</td>\n",
       "      <td>1</td>\n",
       "      <td>20</td>\n",
       "      <td>3</td>\n",
       "      <td>20</td>\n",
       "      <td>7</td>\n",
       "      <td>7</td>\n",
       "      <td>7</td>\n",
       "      <td>3</td>\n",
       "      <td>1</td>\n",
       "      <td>20</td>\n",
       "      <td>3</td>\n",
       "      <td>3</td>\n",
       "      <td>3</td>\n",
       "      <td>7</td>\n",
       "      <td>7</td>\n",
       "      <td>7</td>\n",
       "      <td>3</td>\n",
       "      <td>20</td>\n",
       "      <td>3</td>\n",
       "      <td>3</td>\n",
       "      <td>3</td>\n",
       "      <td>3</td>\n",
       "      <td>7</td>\n",
       "      <td>1</td>\n",
       "      <td>1</td>\n",
       "      <td>7</td>\n",
       "      <td>20</td>\n",
       "      <td>7</td>\n",
       "      <td>3</td>\n",
       "      <td>7</td>\n",
       "      <td>20</td>\n",
       "    </tr>\n",
       "    <tr>\n",
       "      <th>3</th>\n",
       "      <td>3</td>\n",
       "      <td>GCCTCCCTTGGCACCACGGGAGACCAGTTTTGGAGGGGCGGGGCTG...</td>\n",
       "      <td>7</td>\n",
       "      <td>3</td>\n",
       "      <td>3</td>\n",
       "      <td>20</td>\n",
       "      <td>3</td>\n",
       "      <td>3</td>\n",
       "      <td>3</td>\n",
       "      <td>20</td>\n",
       "      <td>20</td>\n",
       "      <td>7</td>\n",
       "      <td>7</td>\n",
       "      <td>3</td>\n",
       "      <td>1</td>\n",
       "      <td>3</td>\n",
       "      <td>3</td>\n",
       "      <td>1</td>\n",
       "      <td>3</td>\n",
       "      <td>7</td>\n",
       "      <td>7</td>\n",
       "      <td>7</td>\n",
       "      <td>1</td>\n",
       "      <td>7</td>\n",
       "      <td>1</td>\n",
       "      <td>3</td>\n",
       "      <td>3</td>\n",
       "      <td>1</td>\n",
       "      <td>7</td>\n",
       "      <td>20</td>\n",
       "      <td>20</td>\n",
       "      <td>20</td>\n",
       "      <td>20</td>\n",
       "      <td>7</td>\n",
       "      <td>7</td>\n",
       "      <td>1</td>\n",
       "      <td>7</td>\n",
       "      <td>7</td>\n",
       "      <td>7</td>\n",
       "      <td>7</td>\n",
       "      <td>...</td>\n",
       "      <td>3</td>\n",
       "      <td>1</td>\n",
       "      <td>3</td>\n",
       "      <td>20</td>\n",
       "      <td>7</td>\n",
       "      <td>20</td>\n",
       "      <td>3</td>\n",
       "      <td>1</td>\n",
       "      <td>7</td>\n",
       "      <td>7</td>\n",
       "      <td>1</td>\n",
       "      <td>1</td>\n",
       "      <td>7</td>\n",
       "      <td>7</td>\n",
       "      <td>3</td>\n",
       "      <td>20</td>\n",
       "      <td>7</td>\n",
       "      <td>1</td>\n",
       "      <td>1</td>\n",
       "      <td>7</td>\n",
       "      <td>20</td>\n",
       "      <td>20</td>\n",
       "      <td>20</td>\n",
       "      <td>3</td>\n",
       "      <td>7</td>\n",
       "      <td>7</td>\n",
       "      <td>7</td>\n",
       "      <td>7</td>\n",
       "      <td>3</td>\n",
       "      <td>1</td>\n",
       "      <td>7</td>\n",
       "      <td>1</td>\n",
       "      <td>7</td>\n",
       "      <td>20</td>\n",
       "      <td>7</td>\n",
       "      <td>3</td>\n",
       "      <td>20</td>\n",
       "      <td>1</td>\n",
       "      <td>1</td>\n",
       "      <td>1</td>\n",
       "    </tr>\n",
       "    <tr>\n",
       "      <th>4</th>\n",
       "      <td>4</td>\n",
       "      <td>GCACTACTACACCCATTGCTGTAATAGTAAGTGCCGGTGCCTTCAC...</td>\n",
       "      <td>7</td>\n",
       "      <td>3</td>\n",
       "      <td>1</td>\n",
       "      <td>3</td>\n",
       "      <td>20</td>\n",
       "      <td>1</td>\n",
       "      <td>3</td>\n",
       "      <td>20</td>\n",
       "      <td>1</td>\n",
       "      <td>3</td>\n",
       "      <td>1</td>\n",
       "      <td>3</td>\n",
       "      <td>3</td>\n",
       "      <td>3</td>\n",
       "      <td>1</td>\n",
       "      <td>20</td>\n",
       "      <td>20</td>\n",
       "      <td>7</td>\n",
       "      <td>3</td>\n",
       "      <td>20</td>\n",
       "      <td>7</td>\n",
       "      <td>20</td>\n",
       "      <td>1</td>\n",
       "      <td>1</td>\n",
       "      <td>20</td>\n",
       "      <td>1</td>\n",
       "      <td>7</td>\n",
       "      <td>20</td>\n",
       "      <td>1</td>\n",
       "      <td>1</td>\n",
       "      <td>7</td>\n",
       "      <td>20</td>\n",
       "      <td>7</td>\n",
       "      <td>3</td>\n",
       "      <td>3</td>\n",
       "      <td>7</td>\n",
       "      <td>7</td>\n",
       "      <td>20</td>\n",
       "      <td>...</td>\n",
       "      <td>7</td>\n",
       "      <td>20</td>\n",
       "      <td>3</td>\n",
       "      <td>3</td>\n",
       "      <td>20</td>\n",
       "      <td>7</td>\n",
       "      <td>7</td>\n",
       "      <td>7</td>\n",
       "      <td>1</td>\n",
       "      <td>1</td>\n",
       "      <td>1</td>\n",
       "      <td>20</td>\n",
       "      <td>1</td>\n",
       "      <td>3</td>\n",
       "      <td>1</td>\n",
       "      <td>3</td>\n",
       "      <td>1</td>\n",
       "      <td>3</td>\n",
       "      <td>20</td>\n",
       "      <td>3</td>\n",
       "      <td>1</td>\n",
       "      <td>3</td>\n",
       "      <td>1</td>\n",
       "      <td>3</td>\n",
       "      <td>20</td>\n",
       "      <td>20</td>\n",
       "      <td>7</td>\n",
       "      <td>20</td>\n",
       "      <td>7</td>\n",
       "      <td>20</td>\n",
       "      <td>1</td>\n",
       "      <td>3</td>\n",
       "      <td>20</td>\n",
       "      <td>7</td>\n",
       "      <td>20</td>\n",
       "      <td>20</td>\n",
       "      <td>1</td>\n",
       "      <td>3</td>\n",
       "      <td>3</td>\n",
       "      <td>3</td>\n",
       "    </tr>\n",
       "  </tbody>\n",
       "</table>\n",
       "<p>5 rows × 103 columns</p>\n",
       "</div>"
      ],
      "text/plain": [
       "   Id                                                seq  ...  seq_99  seq_100\n",
       "0   0  GAGGGGCTGGGGAGGGGGCTGGCCCAGAGGCACCAGACTCTGCAGA...  ...       1        7\n",
       "1   1  CGGCCTGGGGGCCACATGTGAGTGCTTACCTGTGTGGGGATGAGGG...  ...       7        7\n",
       "2   2  GACAACGCCGCTGTCAGCCGCCTTCGACTCACCTGGGAGGTGATGA...  ...       7       20\n",
       "3   3  GCCTCCCTTGGCACCACGGGAGACCAGTTTTGGAGGGGCGGGGCTG...  ...       1        1\n",
       "4   4  GCACTACTACACCCATTGCTGTAATAGTAAGTGCCGGTGCCTTCAC...  ...       3        3\n",
       "\n",
       "[5 rows x 103 columns]"
      ]
     },
     "execution_count": 11,
     "metadata": {},
     "output_type": "execute_result"
    },
    {
     "name": "stdout",
     "output_type": "stream",
     "text": [
      "time: 110 ms\n"
     ]
    }
   ],
   "source": [
    "X_train.head()"
   ]
  },
  {
   "cell_type": "markdown",
   "metadata": {},
   "source": [
    "## What about counting number of different caracters "
   ]
  },
  {
   "cell_type": "code",
   "execution_count": 12,
   "metadata": {},
   "outputs": [
    {
     "name": "stdout",
     "output_type": "stream",
     "text": [
      "time: 520 µs\n"
     ]
    }
   ],
   "source": [
    "# A, C, G, T"
   ]
  },
  {
   "cell_type": "code",
   "execution_count": null,
   "metadata": {},
   "outputs": [],
   "source": []
  },
  {
   "cell_type": "code",
   "execution_count": null,
   "metadata": {},
   "outputs": [],
   "source": []
  },
  {
   "cell_type": "code",
   "execution_count": 12,
   "metadata": {},
   "outputs": [
    {
     "name": "stdout",
     "output_type": "stream",
     "text": [
      "time: 3.81 s\n"
     ]
    }
   ],
   "source": [
    "X_train=pd.read_csv('./data/Xtr.csv', sep=',') #we use this dataset to train our model\n",
    "Y_train=pd.read_csv('./data/Ytr.csv', sep=',') #we use this dataset to train our model\n",
    "X_test=pd.read_csv('./data/Xte.csv', sep=',')\n",
    "\n",
    "def spectrum_kernal(X_train, y, X_test, n=3, encoder=4, one_hot = True, normalise = False):\n",
    "    \n",
    "    d = {'A': 0.3, 'C':0.4, 'G':0.5, 'T':0.6}\n",
    "    \n",
    "    for i in range(0, 101-n+1, 1):\n",
    "        X_train['seq_'+str(i)] = X_train.seq.apply(lambda x :x[i:i+n])\n",
    "        X_test['seq_'+str(i)] = X_test.seq.apply(lambda x :x[i:i+n])\n",
    "        \n",
    "        X_train['seq_'+str(i)] = X_train['seq_'+str(i)].apply(lambda x : sum([d[x[ii]]*encoder**(ii+1) for ii in range(n)]))\n",
    "        X_test['seq_'+str(i)] = X_test['seq_'+str(i)].apply(lambda x : sum([d[x[ii]]*encoder**(ii+1) for ii in range(n)]))\n",
    "        \n",
    "        \n",
    "        \n",
    "    X = X_train.drop(['seq', 'Id'], axis=1)\n",
    "    X_t = X_test.drop(['seq', 'Id'], axis=1)\n",
    "    y = Y_train.Bound\n",
    "    \n",
    "#     print(f'Train: \\n{X.tail()}\\n -----------------------\\n')\n",
    "#     print(f'Test: \\n {X_t.tail()}')\n",
    "\n",
    "    if one_hot:\n",
    "        onehot_encoder = OneHotEncoder(sparse=False, categories='auto', handle_unknown='ignore')\n",
    "\n",
    "        X_cross = X.values\n",
    "        X_t = X_t.values\n",
    "        \n",
    "        enc = onehot_encoder.fit(X)\n",
    "        X_cross = enc.transform(X)\n",
    "        X_t_enc = enc.transform(X_t)\n",
    "        \n",
    "    elif normalise:\n",
    "        scaler = MinMaxScaler()#MinMaxScaler() # StandardScaler()\n",
    "        scaler.fit(X)\n",
    "        \n",
    "        X_cross = scaler.transform(X)\n",
    "        X_t_enc = scaler.transform(X_t)\n",
    "        \n",
    "    else :\n",
    "        \n",
    "        X_cross = X.values\n",
    "        X_t_enc = X_t.values\n",
    "    \n",
    "    y_cross = y.values\n",
    "    \n",
    "    return X_cross, y_cross, X_t_enc\n",
    "\n",
    "X_cross, y_cross, X_t_enc = spectrum_kernal(X_train, Y_train, X_test, n=5, encoder=3, one_hot = True, normalise = False)"
   ]
  },
  {
   "cell_type": "code",
   "execution_count": 13,
   "metadata": {},
   "outputs": [
    {
     "data": {
      "text/plain": [
       "(2000, 35014)"
      ]
     },
     "execution_count": 13,
     "metadata": {},
     "output_type": "execute_result"
    },
    {
     "name": "stdout",
     "output_type": "stream",
     "text": [
      "time: 2.85 ms\n"
     ]
    }
   ],
   "source": [
    "X_cross.shape"
   ]
  },
  {
   "cell_type": "code",
   "execution_count": 14,
   "metadata": {},
   "outputs": [
    {
     "data": {
      "text/plain": [
       "(1000, 35014)"
      ]
     },
     "execution_count": 14,
     "metadata": {},
     "output_type": "execute_result"
    },
    {
     "name": "stdout",
     "output_type": "stream",
     "text": [
      "time: 2.6 ms\n"
     ]
    }
   ],
   "source": [
    "X_t_enc.shape"
   ]
  },
  {
   "cell_type": "code",
   "execution_count": null,
   "metadata": {},
   "outputs": [],
   "source": []
  },
  {
   "cell_type": "code",
   "execution_count": 13,
   "metadata": {},
   "outputs": [
    {
     "name": "stdout",
     "output_type": "stream",
     "text": [
      "time: 426 µs\n"
     ]
    }
   ],
   "source": [
    "# X_train.seq.apply(lambda x : np.unique(x[:2]))\n"
   ]
  },
  {
   "cell_type": "code",
   "execution_count": 17,
   "metadata": {},
   "outputs": [
    {
     "name": "stdout",
     "output_type": "stream",
     "text": [
      "time: 1.88 ms\n"
     ]
    }
   ],
   "source": [
    "X = X_train\n",
    "X_t = X_test\n",
    "y = Y_train.Bound"
   ]
  },
  {
   "cell_type": "markdown",
   "metadata": {},
   "source": [
    "## Models"
   ]
  },
  {
   "cell_type": "code",
   "execution_count": 2,
   "metadata": {},
   "outputs": [
    {
     "name": "stdout",
     "output_type": "stream",
     "text": [
      "time: 16.9 ms\n"
     ]
    }
   ],
   "source": [
    "# class LogisticRegressionBinary():\n",
    "#     def __init__(self, lr=0.1, num_iter=100000, batch_size=1, verbose=False):\n",
    "#         self.lr = lr\n",
    "#         self.num_iter = num_iter\n",
    "#         self.batch_size = batch_size\n",
    "#         self.verbose = verbose\n",
    "    \n",
    "#     def __add_intercept(self, X):\n",
    "#         intercept = np.ones((X.shape[0], 1))\n",
    "#         return np.concatenate((intercept, X), axis=1)\n",
    "    \n",
    "#     def __sigmoid_func(self, z):\n",
    "#         return 1 / (1 + np.exp(-z))\n",
    "    \n",
    "#     def __loss(self, h, y):\n",
    "#         return (-y * np.log(h) - (1 - y) * np.log(1 - h)).mean()\n",
    "    \n",
    "#     def fit(self, X, y):\n",
    "#         y = self.trans_y(y)\n",
    "#         X = self.__add_intercept(X)\n",
    "#         self.theta = np.zeros(X.shape[1])\n",
    "        \n",
    "#         for i in range(self.num_iter):\n",
    "#             z = np.dot(X, self.theta)\n",
    "#             h = self.__sigmoid_func(z)\n",
    "                        \n",
    "#             rand = np.random.choice(y.size, self.batch_size).squeeze()\n",
    "#             gradient = np.dot(X[rand].T, (h[rand] - y[rand]))/y.size   \n",
    "        \n",
    "#             self.theta -= self.lr * gradient\n",
    "#             #print('theta and grad',self.theta.shape ,  gradient.shape )\n",
    "#             if(self.verbose == True and i % 100 == 0):\n",
    "#                 z = np.dot(X, self.theta)\n",
    "#                 h = self.__sigmoid(z)\n",
    "#                 print(f'loss: {self.__loss(h, y)} \\t')\n",
    "    \n",
    "#     def predict_probability(self, X):\n",
    "#         X = self.__add_intercept(X)\n",
    "    \n",
    "#         return self.__sigmoid_func(np.dot(X, self.theta))\n",
    "    \n",
    "#     def predict(self, X, threshold=.5):\n",
    "#           return np.where(self.predict_probability(X) >= 0.5, 1, 0)\n",
    "        \n",
    "          \n",
    "#     def Accuracy_check(self,X,y):\n",
    "#         return np.mean(self.predict(X)==y)\n",
    "    \n",
    "#     def trans_y(self, y):\n",
    "#         if isinstance(y, pd.Series):\n",
    "#             y = y.values\n",
    "#         if isinstance(y, list):\n",
    "#             y = np.array(y)\n",
    "#         return y"
   ]
  },
  {
   "cell_type": "code",
   "execution_count": 3,
   "metadata": {},
   "outputs": [
    {
     "name": "stdout",
     "output_type": "stream",
     "text": [
      "time: 453 ms\n"
     ]
    }
   ],
   "source": [
    "# Ridge Regression (RR)\n",
    "\n",
    "class solveRR():\n",
    "    def __init__(self, X, y, lam=0.1):\n",
    "        self.beta = None\n",
    "        self.X = X\n",
    "        self.y = y\n",
    "        self.lam = lam\n",
    "            \n",
    "    def fit(self):\n",
    "        \n",
    "        X = self.X\n",
    "        y = self.y\n",
    "        lam = self.lam \n",
    "        \n",
    "        n, p = X.shape\n",
    "        assert (len(y) == n)\n",
    "\n",
    "        A = (X.T.dot(X)) + np.eye(p)*lam*n\n",
    "        b = X.T.dot(y)\n",
    "        \n",
    "        self.beta = np.linalg.solve(A, b)\n",
    "        \n",
    "        return self.beta\n",
    "    \n",
    "        \n",
    "    def predict(self, X, threshold=.5):\n",
    "        return np.where(X.dot(self.beta) >= threshold, 1, 0)\n",
    "        \n",
    "          \n",
    "    def Accuracy_check(self,X, y, threshold=.5):\n",
    "        return np.mean(self.predict(X, threshold)==y)\n",
    "    \n",
    "\n",
    "# Weighted Ridge Regression (WRR)\n",
    "class solveWRR():\n",
    "    def __init__(self, X, y, w, lam=0.1):\n",
    "        self.beta = None\n",
    "        self.X = X\n",
    "        self.y = y\n",
    "        self.lam = lam\n",
    "        self.w = w\n",
    "    \n",
    "    def fit(self):\n",
    "        \n",
    "        X = self.X\n",
    "        y = self.y\n",
    "        lam = self.lam \n",
    "        w = self.w\n",
    "        \n",
    "        n, p = X.shape\n",
    "        assert (len(y) == len(w) == n)\n",
    "\n",
    "        y1 = np.sqrt(w) * y\n",
    "        X1 = (np.sqrt(w) * X.T).T\n",
    "        \n",
    "        # Hint:\n",
    "        # Find y1 and X1 such that:\n",
    "        \n",
    "        self.beta = solveRR(X1, y1, lam).fit()\n",
    "                \n",
    "        return self.beta\n",
    "    \n",
    "        \n",
    "    def predict(self, X, threshold):\n",
    "        return np.where(X.dot(self.beta) >= threshold, 1, 0)\n",
    "        \n",
    "          \n",
    "    def Accuracy_check(self,X, y, threshold=.5):\n",
    "        return np.mean(self.predict(X, threshold)==y)\n",
    "    \n",
    "\n",
    "# Logistic Ridge Regression (LRR)\n",
    "class solveLRR():\n",
    "    def __init__(self, X, y, lam=0.1):\n",
    "        self.beta = None\n",
    "        self.X = X\n",
    "        self.y = y\n",
    "        self.lam = lam\n",
    "    \n",
    "    def fit(self):\n",
    "        \n",
    "        X = self.X\n",
    "        y = self.y\n",
    "        \n",
    "        n, p = X.shape\n",
    "        assert (len(y) == n)\n",
    "    \n",
    "        lam = self.lam \n",
    "        max_iter = 50\n",
    "        eps = 1e-3\n",
    "        sigmoid = lambda a: 1/(1 + np.exp(-a))\n",
    "        \n",
    "        \n",
    "        \n",
    "        # Initialize\n",
    "        self.beta = np.zeros(p)\n",
    "\n",
    "        # Hint: Use IRLS\n",
    "        for i in range(max_iter):\n",
    "            beta_old = self.beta\n",
    "            f = X.dot(beta_old)\n",
    "            w = sigmoid(f) * sigmoid(-f)\n",
    "            z = f + y / sigmoid(y*f)\n",
    "            self.beta = solveWRR(X, z, w, 2*lam).fit()\n",
    "            # Break condition (achieved convergence)\n",
    "            #if np.sum((beta-beta_old)**2) < eps:\n",
    "            #    break                \n",
    "        return self.beta\n",
    "    \n",
    "        \n",
    "    def predict(self, X, threshold):\n",
    "        return np.where(X.dot(self.beta) >= threshold, 1, 0)\n",
    "        \n",
    "          \n",
    "    def Accuracy_check(self,X, y, threshold=.5):\n",
    "        return np.mean(self.predict(X, threshold)==y)"
   ]
  },
  {
   "cell_type": "markdown",
   "metadata": {},
   "source": [
    "# Kernel"
   ]
  },
  {
   "cell_type": "code",
   "execution_count": 17,
   "metadata": {},
   "outputs": [
    {
     "name": "stdout",
     "output_type": "stream",
     "text": [
      "time: 163 ms\n"
     ]
    }
   ],
   "source": [
    "import numpy as np\n",
    "\n",
    "### Functions for you to fill in ###\n",
    "\n",
    "def polynomial_kernel(X, Y, c, p):\n",
    "    \"\"\"\n",
    "        Compute the polynomial kernel between two matrices X and Y::\n",
    "            K(x, y) = (<x, y> + c)^p\n",
    "        for each pair of rows x in X and y in Y.\n",
    "\n",
    "        Args:\n",
    "            X - (n, d) NumPy array (n datapoints each with d features)\n",
    "            Y - (m, d) NumPy array (m datapoints each with d features)\n",
    "            c - a coefficient to trade off high-order and low-order terms (scalar)\n",
    "            p - the degree of the polynomial kernel\n",
    "\n",
    "        Returns:\n",
    "            kernel_matrix - (n, m) Numpy array containing the kernel matrix\n",
    "    \"\"\"\n",
    "    # YOUR CODE HERE\n",
    "    # raise NotImplementedError\n",
    "    kernel_matrix = (X.dot(Y.T) + c)**p\n",
    "    \n",
    "    return kernel_matrix\n",
    "\n",
    "\n",
    "def rbf_kernel_2(X, Y, gamma):\n",
    "    \"\"\"\n",
    "        Compute the Gaussian RBF kernel between two matrices X and Y::\n",
    "            K(x, y) = exp(-gamma ||x-y||^2)\n",
    "        for each pair of rows x in X and y in Y.\n",
    "\n",
    "        Args:\n",
    "            X - (n, d) NumPy array (n datapoints each with d features)\n",
    "            Y - (m, d) NumPy array (m datapoints each with d features)\n",
    "            gamma - the gamma parameter of gaussian function (scalar)\n",
    "\n",
    "        Returns:\n",
    "            kernel_matrix - (n, m) Numpy array containing the kernel matrix\n",
    "    \"\"\"\n",
    "    # YOUR CODE HERE\n",
    "    # raise NotImplementedError\n",
    "    n, d = X.shape\n",
    "    m = Y.shape[0]\n",
    "    \n",
    "    kernel_matrix = X**2 @ np.ones((d,m)) + np.ones((n,d)) @ Y.T**2 - 2*(X @ Y.T)\n",
    "    kernel_matrix = np.exp(-gamma*kernel_matrix)\n",
    "    \n",
    "    return kernel_matrix\n",
    "\n",
    "\n",
    "def rbf_kernel_element_wise(x, y, sigma=1):\n",
    "    '''\n",
    "    returns the RBF (Gaussian) kernel k(x, y)\n",
    "    \n",
    "    Input:\n",
    "    ------\n",
    "    x and y are p-dimensional vectors \n",
    "    '''\n",
    "    K = np.exp(- np.sum((x - y)**2) / (2 * sigma ** 2))\n",
    "    return K\n",
    "\n",
    "def rbf_kernel(X1, X2, sigma=10):\n",
    "    '''\n",
    "    Returns the kernel matrix K(X1_i, X2_j): size (n1, n2)\n",
    "    \n",
    "    Input:\n",
    "    ------\n",
    "    X1: an (n1, p) matrix\n",
    "    X2: an (n2, p) matrix\n",
    "    '''\n",
    "    # For loop with rbf_kernel_element works but is slow in python\n",
    "    # Use matrix operations!\n",
    "    X2_norm = np.sum(X2 ** 2, axis=-1)\n",
    "    X1_norm = np.sum(X1 ** 2, axis=-1)\n",
    "    gamma = 1 / (2 * sigma ** 2)\n",
    "    K = np.exp(- gamma * (X1_norm[:, None] + X2_norm[None, :] - 2 * np.dot(X1, X2.T)))\n",
    "    return K\n",
    "\n",
    "def sigma_from_median(X):\n",
    "    '''\n",
    "    Returns the median of ||Xi-Xj||\n",
    "    \n",
    "    Input\n",
    "    -----\n",
    "    X: (n, p) matrix\n",
    "    '''\n",
    "    pairwise_diff = X[:, :, None] - X[:, :, None].T\n",
    "    pairwise_diff *= pairwise_diff\n",
    "    euclidean_dist = np.sqrt(pairwise_diff.sum(axis=1))\n",
    "    return np.median(euclidean_dist)\n",
    "\n",
    "def laplace(X1, X2, alpha=10):\n",
    "    return np.exp(-alpha*np.abs(X1-X2))\n",
    "\n",
    "# def polynomial(X1, X2, d=2):\n",
    "#     return (X1.dot(X2.T) +1)**d\n",
    "\n",
    "def linear_kernel(X1, X2):\n",
    "    '''\n",
    "    Returns the kernel matrix K(X1_i, X2_j): size (n1, n2)\n",
    "    where K is the linear kernel\n",
    "    \n",
    "    Input:\n",
    "    ------\n",
    "    X1: an (n1, p) matrix\n",
    "    X2: an (n2, p) matrix\n",
    "    '''\n",
    "    return X1.dot(X2.T)\n",
    "\n",
    "def quadratic_kernel(X1, X2, power=2):\n",
    "    '''\n",
    "    Returns the kernel matrix K(X1_i, X2_j): size (n1, n2)\n",
    "    where K is the quadratic kernel\n",
    "    \n",
    "    Input:\n",
    "    ------\n",
    "    X1: an (n1, p) matrix\n",
    "    X2: an (n2, p) matrix\n",
    "    '''\n",
    "    return (1 + linear_kernel(X1, X2))**power\n",
    "\n",
    "def rbf_poly_kernel(X1, X2, sigma=10, d=20):\n",
    "    '''\n",
    "    Returns the kernel matrix K(X1_i, X2_j): size (n1, n2)\n",
    "    \n",
    "    Input:\n",
    "    ------\n",
    "    X1: an (n1, p) matrix\n",
    "    X2: an (n2, p) matrix\n",
    "    '''\n",
    "    # For loop with rbf_kernel_element works but is slow in python\n",
    "    # Use matrix operations!\n",
    "    X2_norm = np.sum(X2 ** 2, axis=-1)\n",
    "    X1_norm = np.sum(X1 ** 2, axis=-1)\n",
    "    gamma = 1 / (2 * sigma ** 2)\n",
    "    K = np.exp(- gamma * (X1_norm[:, None] + X2_norm[None, :] - 2 * np.dot(X1, X2.T)))\n",
    "    \n",
    "    return K+(X1.dot(X2.T) +1)**d"
   ]
  },
  {
   "cell_type": "code",
   "execution_count": 5,
   "metadata": {},
   "outputs": [
    {
     "name": "stdout",
     "output_type": "stream",
     "text": [
      "time: 69.3 ms\n"
     ]
    }
   ],
   "source": [
    "class ksolveRR_2():\n",
    "    def __init__(self, X, y, lam= 0.0001, sigma=0.5, sample_weights = None, kernel = rbf_kernel):\n",
    "        self.alpha = None\n",
    "        self.X = X\n",
    "        self.y = y\n",
    "        self.lam = lam\n",
    "        self.sigma = sigma\n",
    "        self.kernel = kernel\n",
    "        self.sample_weights = sample_weights\n",
    "            \n",
    "    \n",
    "    def fit(self):\n",
    "        if self.sample_weights is not None:\n",
    "            self.X *= self.sample_weights[:, None]\n",
    "        \n",
    "        X = self.X\n",
    "        y = self.y\n",
    "        lam = self.lam\n",
    "        \n",
    "        n, p = X.shape\n",
    "        assert (len(y) == n)\n",
    "        \n",
    "        A = self.kernel(X, X, self.sigma)+n*self.lam*np.eye(n)\n",
    "        self.alpha = np.linalg.solve(A, y)\n",
    "        \n",
    "        return self\n",
    "    \n",
    "        \n",
    "    def predict(self, X, threshold=.5):\n",
    "        K_x = self.kernel(X, self.X, self.sigma)\n",
    "        return np.where(K_x.dot(self.alpha) >= threshold, 1, 0)\n",
    "        \n",
    "          \n",
    "    def Accuracy_check(self,X, y, threshold=.5):\n",
    "        return np.mean(self.predict(X, threshold)==y)"
   ]
  },
  {
   "cell_type": "code",
   "execution_count": 6,
   "metadata": {},
   "outputs": [
    {
     "name": "stdout",
     "output_type": "stream",
     "text": [
      "time: 57.9 ms\n"
     ]
    }
   ],
   "source": [
    "class ksolveRR():\n",
    "    def __init__(self, X, y, lam= 0.0001, sigma=0.5, kernel=rbf_kernel):\n",
    "        self.beta = None\n",
    "        self.X = X\n",
    "        self.y = y\n",
    "        self.lam = lam\n",
    "        self.sigma = sigma\n",
    "        self.kernel = kernel\n",
    "            \n",
    "    \n",
    "    def fit(self):\n",
    "        X = self.X\n",
    "        y = self.y\n",
    "        lam = self.lam \n",
    "        \n",
    "        n, p = X.shape\n",
    "        assert (len(y) == n)\n",
    "        \n",
    "        if self.sigma is None:\n",
    "            self.sigma = sigma_from_median(X)\n",
    "            \n",
    "        A = self.kernel(X, X, self.sigma)+n*self.lam*np.eye(n)\n",
    "        self.alpha = np.linalg.solve(A, y)\n",
    "        \n",
    "        return self.beta\n",
    "    \n",
    "        \n",
    "    def predict(self, X, threshold=.5):\n",
    "        K_x = self.kernel(X, self.X, self.sigma)\n",
    "        return np.where(K_x.dot(self.alpha) >= threshold, 1, 0)\n",
    "        \n",
    "          \n",
    "    def Accuracy_check(self,X, y, threshold=.5):\n",
    "        return np.mean(self.predict(X, threshold)==y)"
   ]
  },
  {
   "cell_type": "code",
   "execution_count": 7,
   "metadata": {},
   "outputs": [
    {
     "name": "stdout",
     "output_type": "stream",
     "text": [
      "time: 108 ms\n"
     ]
    }
   ],
   "source": [
    "import ipdb\n",
    "# Logistic Ridge Regression (LRR)\n",
    "class ksolveLRR():\n",
    "    def __init__(self, X, y, lam = 0.1, sigma = 4, max_iter=100, tol=1e-5, kernel=rbf_kernel):\n",
    "        self.alpha = None\n",
    "        self.X = X\n",
    "        self.y = y\n",
    "        self.lam = lam\n",
    "        \n",
    "        self.kernel = kernel\n",
    "        \n",
    "        self.sigma = sigma\n",
    "        self.max_iter = max_iter\n",
    "        self.tol = tol\n",
    "        \n",
    "    \n",
    "    def fit(self):\n",
    "        \n",
    "        X = self.X\n",
    "        y = self.y\n",
    "        \n",
    "        n, p = X.shape\n",
    "        assert (len(y) == n)\n",
    "\n",
    "        sigmoid = lambda a: 1/(1 + np.exp(-a))\n",
    "        \n",
    "        K = self.kernel(X, X, self.sigma)\n",
    "\n",
    "        # Initialize\n",
    "        alpha = np.zeros(n)\n",
    "        \n",
    "        # Hint: Use IRLS\n",
    "        for n_iter in range(self.max_iter):\n",
    "            alpha_old = alpha\n",
    "            f = K.dot(alpha_old)\n",
    "            w = sigmoid(f) * sigmoid(-f)\n",
    "            z = f + y / sigmoid(y*(f))\n",
    "            \n",
    "            alpha = ksolveRR_2(X, y, lam = 2*self.lam, \\\n",
    "                               sigma=self.sigma, sample_weights = w).fit().alpha\n",
    "            \n",
    "            # Break condition (achieved convergence)\n",
    "            if np.sum((alpha-alpha_old)**2) < self.tol:\n",
    "                break  \n",
    "                \n",
    "                \n",
    "        self.n_iter = n_iter\n",
    "        self.alpha = alpha\n",
    "        \n",
    "        return self\n",
    "    \n",
    "        \n",
    "    def predict(self, X, threshold):\n",
    "        K_x = self.kernel(X, self.X, self.sigma)\n",
    "        return np.where(K_x.dot(self.alpha) >= threshold, 1, 0)\n",
    "        \n",
    "          \n",
    "    def Accuracy_check(self,X, y, threshold=.5):\n",
    "        return np.mean(self.predict(X, threshold)==y)"
   ]
  },
  {
   "cell_type": "code",
   "execution_count": 8,
   "metadata": {},
   "outputs": [
    {
     "name": "stdout",
     "output_type": "stream",
     "text": [
      "time: 370 ms\n"
     ]
    }
   ],
   "source": [
    "# You don't need to look at this, this is just to adapt our matrices\n",
    "# to the solver being used\n",
    "solver='cvxopt'\n",
    "\n",
    "import cvxopt\n",
    "\n",
    "def cvxopt_qp(P, q, G, h, A, b):\n",
    "    P = .5 * (P + P.T)\n",
    "    cvx_matrices = [\n",
    "        cvxopt.matrix(M) if M is not None else None for M in [P, q, G, h, A, b] \n",
    "    ]\n",
    "    #cvxopt.solvers.options['show_progress'] = False\n",
    "    solution = cvxopt.solvers.qp(*cvx_matrices, options={'show_progress': False})\n",
    "    return np.array(solution['x']).flatten()\n",
    "\n",
    "solve_qp = cvxopt_qp\n",
    "\n",
    "def quadprog_solve_qp(P, q, G=None, h=None, A=None, b=None):\n",
    "    qp_G = .5 * (P + P.T)   # make sure P is symmetric\n",
    "    qp_a = -q\n",
    "    if A is not None:\n",
    "        qp_C = -np.vstack([A, G]).T\n",
    "        qp_b = -np.hstack([b, h])\n",
    "        meq = A.shape[0]\n",
    "    else:  # no equality constraint\n",
    "        qp_C = - G.T\n",
    "        qp_b = - h\n",
    "        meq = 0\n",
    "    return quadprog.solve_qp(qp_G, qp_a, qp_C, qp_b, meq)[0]\n",
    "\n",
    "def cvxopt_qp(P, q, G, h, A, b):\n",
    "    P = .5 * (P + P.T)\n",
    "    cvx_matrices = [\n",
    "        cvxopt.matrix(M) if M is not None else None for M in [P, q, G, h, A, b] \n",
    "    ]\n",
    "    solution = cvxopt.solvers.qp(*cvx_matrices)\n",
    "    return np.array(solution['x']).flatten()\n",
    "\n",
    "solve_qp = {'quadprog': quadprog_solve_qp, 'cvxopt': cvxopt_qp}[solver]\n",
    "\n",
    "def svm_dual_soft_to_qp_kernel(K, y, C=1):\n",
    "    n = K.shape[0]\n",
    "    assert (len(y) == n)\n",
    "        \n",
    "    # Dual formulation, soft margin\n",
    "    P = np.diag(y).dot(K).dot(np.diag(y))\n",
    "    # As a regularization, we add epsilon * identity to P\n",
    "    eps = 1e-12\n",
    "    P += eps * np.eye(n)\n",
    "    q = - np.ones(n)\n",
    "    G = np.vstack([-np.eye(n), np.eye(n)])\n",
    "    h = np.hstack([np.zeros(n), C * np.ones(n)])\n",
    "    A = y[np.newaxis, :]\n",
    "    A = A.astype('float')\n",
    "    b = np.array([0.])\n",
    "    return P, q, G, h, A, b\n",
    "\n",
    "# SVM primal soft\n",
    "class KernelSVM():\n",
    "    def __init__(self, X, y, C=0.1, lam = 0.1, sigma = 4, tol = 1e-1, kernel=rbf_kernel):\n",
    "        self.alpha = None\n",
    "        self.X = X\n",
    "        self.y = y\n",
    "        self.w = None\n",
    "        self.b = None\n",
    "        self.C = C\n",
    "        self.kernel = kernel\n",
    "        self.lam = lam        \n",
    "        self.sigma = sigma\n",
    "        self.tol = tol\n",
    "    \n",
    "    def fit(self):\n",
    "        \n",
    "        X = self.X\n",
    "        y = self.y\n",
    "        C = self.C\n",
    "        \n",
    "        n, p = X.shape\n",
    "        assert (len(y) == n)\n",
    "        K = self.kernel(X, X, self.sigma)\n",
    "        \n",
    "        # Solve dual problem\n",
    "        self.alpha = solve_qp(*svm_dual_soft_to_qp_kernel(K, y, C=self.C))\n",
    "        \n",
    "        \n",
    "       # Compute support vectors and bias b\n",
    "        sv = np.logical_and((self.alpha>self.tol), (self.C - self.alpha > self.tol))\n",
    "        self.bias = y[sv] - K[sv].dot(self.alpha*y)\n",
    "        self.bias =  self.bias.mean()\n",
    "\n",
    "        self.support_vector_indices = np.nonzero(sv)[0]\n",
    "        \n",
    "        return self\n",
    "        \n",
    "        \n",
    "        \n",
    "    def predict(self, X, threshold):\n",
    "#         y_pred = self.kernel(X, self.X_).dot(self.alphas* seld.y_)\n",
    "        K_x = self.kernel(X, self.X, self.sigma)\n",
    "        return np.where((K_x.dot(self.alpha * self.y) +  self.bias) >= threshold, 1, 0)\n",
    "        \n",
    "          \n",
    "    def Accuracy_check(self,X, y, threshold=.5):\n",
    "        return np.mean(self.predict(X, threshold)==y)"
   ]
  },
  {
   "cell_type": "code",
   "execution_count": null,
   "metadata": {},
   "outputs": [],
   "source": []
  },
  {
   "cell_type": "code",
   "execution_count": 9,
   "metadata": {},
   "outputs": [
    {
     "name": "stdout",
     "output_type": "stream",
     "text": [
      "time: 5.34 ms\n"
     ]
    }
   ],
   "source": [
    "# # Logistic Ridge Regression (LRR)\n",
    "# class perceptron():\n",
    "#     def __init__(self, X, y, iteration=100):\n",
    "#         self.theta = np.zeros(len(X))\n",
    "#         self.X = X\n",
    "#         self.y = y\n",
    "#         self.iteration = iteration\n",
    "#         self.theta_0 = 0\n",
    "    \n",
    "#     def fit(self):\n",
    "        \n",
    "#         X = self.X\n",
    "#         y = self.y\n",
    "        \n",
    "#         n, p = X.shape\n",
    "#         assert (len(y) == n)\n",
    "        \n",
    "#         for it in range(self.iteration):\n",
    "#             for i in range(len(y)):\n",
    "#                 if y[i]*(np.dot(self.theta, X[i]) + self.theta_0)<= 0 :\n",
    "#                     self.theta = self.theta + (np.dot(y[i], X[i]))\n",
    "#                     self.theta_0 += y[i]\n",
    "    \n",
    "        \n",
    "#     def predict(self, X, threshold):\n",
    "#         return np.where(X.dot(self.self.theta)+self.theta_0 >= threshold, 1, 0)\n",
    "        \n",
    "          \n",
    "#     def Accuracy_check(self,X, y, threshold=.5):\n",
    "#         return np.mean(self.predict(X, threshold)==y)"
   ]
  },
  {
   "cell_type": "markdown",
   "metadata": {},
   "source": [
    "# Cross Validation"
   ]
  },
  {
   "cell_type": "code",
   "execution_count": 10,
   "metadata": {},
   "outputs": [
    {
     "name": "stdout",
     "output_type": "stream",
     "text": [
      "time: 47.3 ms\n"
     ]
    }
   ],
   "source": [
    "from sklearn.model_selection import KFold \n",
    "from sklearn.preprocessing import MinMaxScaler, StandardScaler\n",
    "\n",
    "from sklearn.preprocessing import OneHotEncoder\n",
    "from sklearn.feature_extraction.text import TfidfVectorizer\n",
    "# from sklearn.feature_extraction.text import TransformerM\n",
    "# from sklearn.feature_extraction.text import TfidfTransformer"
   ]
  },
  {
   "cell_type": "code",
   "execution_count": 11,
   "metadata": {},
   "outputs": [
    {
     "name": "stdout",
     "output_type": "stream",
     "text": [
      "time: 2.02 ms\n"
     ]
    }
   ],
   "source": [
    "# vectorizer = CountVectorizer(max_features=2000)\n",
    "# vectorizer.fit_transform(X[:10])\n",
    "# # vectorizer.get_feature_names()\n",
    "\n",
    "from sklearn.feature_extraction.text import TfidfTransformer\n",
    "transformer = TfidfTransformer(smooth_idf=False)"
   ]
  },
  {
   "cell_type": "code",
   "execution_count": 12,
   "metadata": {},
   "outputs": [
    {
     "name": "stdout",
     "output_type": "stream",
     "text": [
      "time: 24.3 ms\n"
     ]
    }
   ],
   "source": [
    "kfold=KFold(n_splits=5)\n",
    "# onehot_encoder = OneHotEncoder(sparse=False, categories='auto')\n",
    "\n",
    "# # X_cross = X.values\n",
    "# # X_t = X_t.values\n",
    "\n",
    "# y_cross = y.values\n",
    "\n",
    "# # vectorizer = TfidfVectorizer()\n",
    "# # X_cross = vectorizer.fit_transform(X)\n",
    "\n",
    "# # X_cross = onehot_encoder.fit_transform(X.values[:, :101])\n",
    "# # X_t_enc = onehot_encoder.fit_transform(X_t.values[:, :101])\n",
    "\n",
    "# # X_cross = onehot_encoder.fit_transform(X)\n",
    "# # X_t_enc = onehot_encoder.fit_transform(X_t)\n",
    "\n",
    "\n",
    "# X_cross = X.values\n",
    "# X_t_enc = X_t.values\n",
    "\n",
    "\n",
    "# # scaler = MinMaxScaler()#MinMaxScaler() # StandardScaler()\n",
    "# # scaler.fit(X_cross)\n",
    "\n",
    "# # X_cross = scaler.transform(X_cross)"
   ]
  },
  {
   "cell_type": "code",
   "execution_count": 13,
   "metadata": {},
   "outputs": [
    {
     "name": "stdout",
     "output_type": "stream",
     "text": [
      "time: 1.13 ms\n"
     ]
    }
   ],
   "source": [
    "# from sklearn.feature_selection import VarianceThreshold\n",
    "# from sklearn.feature_selection import SelectKBest, chi2"
   ]
  },
  {
   "cell_type": "code",
   "execution_count": 14,
   "metadata": {},
   "outputs": [
    {
     "name": "stdout",
     "output_type": "stream",
     "text": [
      "time: 1.91 ms\n"
     ]
    }
   ],
   "source": [
    "# def feature_selector(X):\n",
    "#     #sel = VarianceThreshold()\n",
    "#     sel = VarianceThreshold(threshold=(.8 * (1 - .8)))\n",
    "#     sel.fit_transform(X)\n",
    "#     return X\n",
    "# def best_feature_selector(X,y,num_features=50):\n",
    "#     #print(X.shape)\n",
    "#     features = SelectKBest(chi2, k=num_features).fit(X, y)\n",
    "#     #print(X_new.shape)\n",
    "#     return features"
   ]
  },
  {
   "cell_type": "code",
   "execution_count": 15,
   "metadata": {},
   "outputs": [
    {
     "name": "stdout",
     "output_type": "stream",
     "text": [
      "time: 215 ms\n"
     ]
    }
   ],
   "source": [
    "X_train=pd.read_csv('./data/Xtr.csv', sep=',') #we use this dataset to train our model\n",
    "Y_train=pd.read_csv('./data/Ytr.csv', sep=',') #we use this dataset to train our model\n",
    "X_test=pd.read_csv('./data/Xte.csv', sep=',')\n",
    "\n",
    "def spectrum_kernal(X_train, y, X_test, n=3, encoder=4, one_hot = True, normalise = False):\n",
    "    \n",
    "    d = {'A': 0.3, 'C':0.4, 'G':0.5, 'T':0.6}\n",
    "    \n",
    "    for i in range(0, 101-n+1, 1):\n",
    "        X_train['seq_'+str(i)] = X_train.seq.apply(lambda x :x[i:i+n])\n",
    "        X_test['seq_'+str(i)] = X_test.seq.apply(lambda x :x[i:i+n])\n",
    "        \n",
    "        X_train['seq_'+str(i)] = X_train['seq_'+str(i)].apply(lambda x : sum([d[x[ii]]*encoder**(ii+1) for ii in range(n)]))\n",
    "        X_test['seq_'+str(i)] = X_test['seq_'+str(i)].apply(lambda x : sum([d[x[ii]]*encoder**(ii+1) for ii in range(n)]))\n",
    "        \n",
    "        \n",
    "        \n",
    "    X = X_train.drop(['seq', 'Id'], axis=1)\n",
    "    X_t = X_test.drop(['seq', 'Id'], axis=1)\n",
    "    y = Y_train.Bound\n",
    "    \n",
    "#     print(f'Train: \\n{X.tail()}\\n -----------------------\\n')\n",
    "#     print(f'Test: \\n {X_t.tail()}')\n",
    "\n",
    "    if one_hot:\n",
    "        onehot_encoder = OneHotEncoder(sparse=False, categories='auto', handle_unknown='ignore')\n",
    "\n",
    "        X_cross = X.values\n",
    "        X_t = X_t.values\n",
    "        \n",
    "        enc = onehot_encoder.fit(X)\n",
    "        X_cross = enc.transform(X)\n",
    "        X_t_enc = enc.transform(X_t)\n",
    "        \n",
    "    elif normalise:\n",
    "        scaler = MinMaxScaler()#MinMaxScaler() # StandardScaler()\n",
    "        scaler.fit(X)\n",
    "        \n",
    "        X_cross = scaler.transform(X)\n",
    "        X_t_enc = scaler.transform(X_t)\n",
    "        \n",
    "    else :\n",
    "        \n",
    "        X_cross = X.values\n",
    "        X_t_enc = X_t.values\n",
    "    \n",
    "    y_cross = y.values\n",
    "    \n",
    "    return X_cross, y_cross, X_t_enc\n",
    "\n",
    "# X_cross, y_cross, X_t_enc = spectrum_kernal(X_train, Y_train, X_test, n=5, encoder=3, one_hot = True, normalise = False)"
   ]
  },
  {
   "cell_type": "code",
   "execution_count": 33,
   "metadata": {},
   "outputs": [
    {
     "data": {
      "text/plain": [
       "6.0"
      ]
     },
     "execution_count": 33,
     "metadata": {},
     "output_type": "execute_result"
    },
    {
     "name": "stdout",
     "output_type": "stream",
     "text": [
      "time: 3.25 ms\n"
     ]
    }
   ],
   "source": [
    "6e+0"
   ]
  },
  {
   "cell_type": "code",
   "execution_count": 20,
   "metadata": {
    "collapsed": true,
    "jupyter": {
     "outputs_hidden": true
    }
   },
   "outputs": [
    {
     "name": "stderr",
     "output_type": "stream",
     "text": [
      "/usr/local/lib/python3.6/dist-packages/optuna/_experimental.py:90: ExperimentalWarning:\n",
      "\n",
      "Progress bar is experimental (supported from v1.2.0). The interface can change in the future.\n",
      "\n"
     ]
    },
    {
     "data": {
      "application/vnd.jupyter.widget-view+json": {
       "model_id": "2429c7be0e584e498974cbb190849e1c",
       "version_major": 2,
       "version_minor": 0
      },
      "text/plain": [
       "HBox(children=(FloatProgress(value=0.0, max=300.0), HTML(value='')))"
      ]
     },
     "metadata": {},
     "output_type": "display_data"
    },
    {
     "name": "stderr",
     "output_type": "stream",
     "text": [
      "/usr/local/lib/python3.6/dist-packages/ipykernel_launcher.py:25: RuntimeWarning:\n",
      "\n",
      "overflow encountered in exp\n",
      "\n",
      "/usr/local/lib/python3.6/dist-packages/ipykernel_launcher.py:37: RuntimeWarning:\n",
      "\n",
      "divide by zero encountered in true_divide\n",
      "\n"
     ]
    },
    {
     "name": "stdout",
     "output_type": "stream",
     "text": [
      "\u001b[32m[I 2020-05-29 19:05:16,042]\u001b[0m Finished trial#0 with value: 0.501 with parameters: {'sigma': 1.6282182386299346, 'lam': 1.213724180016989e-15, 'n': 2}. Best is trial#0 with value: 0.501.\u001b[0m\n"
     ]
    },
    {
     "name": "stderr",
     "output_type": "stream",
     "text": [
      "/usr/local/lib/python3.6/dist-packages/ipykernel_launcher.py:25: RuntimeWarning:\n",
      "\n",
      "overflow encountered in exp\n",
      "\n",
      "/usr/local/lib/python3.6/dist-packages/ipykernel_launcher.py:37: RuntimeWarning:\n",
      "\n",
      "divide by zero encountered in true_divide\n",
      "\n"
     ]
    },
    {
     "name": "stdout",
     "output_type": "stream",
     "text": [
      "\u001b[32m[I 2020-05-29 19:05:22,601]\u001b[0m Finished trial#1 with value: 0.501 with parameters: {'sigma': 1.818510702977888, 'lam': 1.756258983651971e-13, 'n': 1}. Best is trial#0 with value: 0.501.\u001b[0m\n"
     ]
    },
    {
     "name": "stderr",
     "output_type": "stream",
     "text": [
      "/usr/local/lib/python3.6/dist-packages/ipykernel_launcher.py:25: RuntimeWarning:\n",
      "\n",
      "overflow encountered in exp\n",
      "\n",
      "/usr/local/lib/python3.6/dist-packages/ipykernel_launcher.py:37: RuntimeWarning:\n",
      "\n",
      "divide by zero encountered in true_divide\n",
      "\n"
     ]
    },
    {
     "name": "stdout",
     "output_type": "stream",
     "text": [
      "\u001b[32m[I 2020-05-29 19:05:37,792]\u001b[0m Finished trial#2 with value: 0.483 with parameters: {'sigma': 8.37049726431002, 'lam': 3.0783393498045988e-18, 'n': 3}. Best is trial#0 with value: 0.501.\u001b[0m\n"
     ]
    },
    {
     "name": "stderr",
     "output_type": "stream",
     "text": [
      "/usr/local/lib/python3.6/dist-packages/ipykernel_launcher.py:25: RuntimeWarning:\n",
      "\n",
      "overflow encountered in exp\n",
      "\n"
     ]
    },
    {
     "name": "stdout",
     "output_type": "stream",
     "text": [
      "\u001b[32m[I 2020-05-29 19:05:58,258]\u001b[0m Finished trial#3 with value: 0.501 with parameters: {'sigma': 1.9495491032058436, 'lam': 4.850786494916101e-08, 'n': 3}. Best is trial#0 with value: 0.501.\u001b[0m\n"
     ]
    },
    {
     "name": "stderr",
     "output_type": "stream",
     "text": [
      "/usr/local/lib/python3.6/dist-packages/ipykernel_launcher.py:25: RuntimeWarning:\n",
      "\n",
      "overflow encountered in exp\n",
      "\n",
      "/usr/local/lib/python3.6/dist-packages/ipykernel_launcher.py:37: RuntimeWarning:\n",
      "\n",
      "divide by zero encountered in true_divide\n",
      "\n"
     ]
    },
    {
     "name": "stdout",
     "output_type": "stream",
     "text": [
      "\u001b[32m[I 2020-05-29 19:06:06,737]\u001b[0m Finished trial#4 with value: 0.501 with parameters: {'sigma': 2.7633509209905833, 'lam': 1.8861619523180304e-09, 'n': 2}. Best is trial#0 with value: 0.501.\u001b[0m\n"
     ]
    },
    {
     "name": "stderr",
     "output_type": "stream",
     "text": [
      "/usr/local/lib/python3.6/dist-packages/ipykernel_launcher.py:25: RuntimeWarning:\n",
      "\n",
      "overflow encountered in exp\n",
      "\n",
      "/usr/local/lib/python3.6/dist-packages/ipykernel_launcher.py:37: RuntimeWarning:\n",
      "\n",
      "divide by zero encountered in true_divide\n",
      "\n"
     ]
    },
    {
     "name": "stdout",
     "output_type": "stream",
     "text": [
      "\u001b[32m[I 2020-05-29 19:06:15,316]\u001b[0m Finished trial#5 with value: 0.501 with parameters: {'sigma': 2.3904708665072816, 'lam': 1.3487928361283696e-08, 'n': 2}. Best is trial#0 with value: 0.501.\u001b[0m\n"
     ]
    },
    {
     "name": "stderr",
     "output_type": "stream",
     "text": [
      "/usr/local/lib/python3.6/dist-packages/ipykernel_launcher.py:25: RuntimeWarning:\n",
      "\n",
      "overflow encountered in exp\n",
      "\n",
      "/usr/local/lib/python3.6/dist-packages/ipykernel_launcher.py:37: RuntimeWarning:\n",
      "\n",
      "divide by zero encountered in true_divide\n",
      "\n"
     ]
    },
    {
     "name": "stdout",
     "output_type": "stream",
     "text": [
      "\u001b[32m[I 2020-05-29 19:06:22,692]\u001b[0m Finished trial#6 with value: 0.501 with parameters: {'sigma': 8.169866140955609, 'lam': 4.3374351010298953e-11, 'n': 2}. Best is trial#0 with value: 0.501.\u001b[0m\n",
      "\u001b[32m[I 2020-05-29 19:06:29,107]\u001b[0m Finished trial#7 with value: 0.501 with parameters: {'sigma': 4.29481324974258, 'lam': 0.5419723914800996, 'n': 2}. Best is trial#0 with value: 0.501.\u001b[0m\n"
     ]
    },
    {
     "name": "stderr",
     "output_type": "stream",
     "text": [
      "/usr/local/lib/python3.6/dist-packages/ipykernel_launcher.py:25: RuntimeWarning:\n",
      "\n",
      "overflow encountered in exp\n",
      "\n",
      "/usr/local/lib/python3.6/dist-packages/ipykernel_launcher.py:37: RuntimeWarning:\n",
      "\n",
      "divide by zero encountered in true_divide\n",
      "\n"
     ]
    },
    {
     "name": "stdout",
     "output_type": "stream",
     "text": [
      "\u001b[32m[I 2020-05-29 19:06:34,527]\u001b[0m Finished trial#8 with value: 0.501 with parameters: {'sigma': 6.183196614011612, 'lam': 1.1445561735995916e-12, 'n': 1}. Best is trial#0 with value: 0.501.\u001b[0m\n"
     ]
    },
    {
     "name": "stderr",
     "output_type": "stream",
     "text": [
      "/usr/local/lib/python3.6/dist-packages/ipykernel_launcher.py:25: RuntimeWarning:\n",
      "\n",
      "overflow encountered in exp\n",
      "\n",
      "/usr/local/lib/python3.6/dist-packages/ipykernel_launcher.py:37: RuntimeWarning:\n",
      "\n",
      "divide by zero encountered in true_divide\n",
      "\n"
     ]
    },
    {
     "name": "stdout",
     "output_type": "stream",
     "text": [
      "\u001b[32m[I 2020-05-29 19:06:40,060]\u001b[0m Finished trial#9 with value: 0.501 with parameters: {'sigma': 2.688431631969615, 'lam': 1.7866436007768782e-16, 'n': 1}. Best is trial#0 with value: 0.501.\u001b[0m\n",
      "\u001b[32m[I 2020-05-29 19:06:58,365]\u001b[0m Finished trial#10 with value: 0.501 with parameters: {'sigma': 1.0282210672644798, 'lam': 0.0055597368696732275, 'n': 3}. Best is trial#0 with value: 0.501.\u001b[0m\n"
     ]
    },
    {
     "name": "stderr",
     "output_type": "stream",
     "text": [
      "/usr/local/lib/python3.6/dist-packages/ipykernel_launcher.py:25: RuntimeWarning:\n",
      "\n",
      "overflow encountered in exp\n",
      "\n",
      "/usr/local/lib/python3.6/dist-packages/ipykernel_launcher.py:37: RuntimeWarning:\n",
      "\n",
      "divide by zero encountered in true_divide\n",
      "\n"
     ]
    },
    {
     "name": "stdout",
     "output_type": "stream",
     "text": [
      "\u001b[32m[I 2020-05-29 19:07:04,860]\u001b[0m Finished trial#11 with value: 0.501 with parameters: {'sigma': 1.335808540377371, 'lam': 8.764553261723676e-15, 'n': 1}. Best is trial#0 with value: 0.501.\u001b[0m\n"
     ]
    },
    {
     "name": "stderr",
     "output_type": "stream",
     "text": [
      "/usr/local/lib/python3.6/dist-packages/ipykernel_launcher.py:25: RuntimeWarning:\n",
      "\n",
      "overflow encountered in exp\n",
      "\n",
      "/usr/local/lib/python3.6/dist-packages/ipykernel_launcher.py:37: RuntimeWarning:\n",
      "\n",
      "divide by zero encountered in true_divide\n",
      "\n"
     ]
    },
    {
     "name": "stdout",
     "output_type": "stream",
     "text": [
      "\u001b[32m[I 2020-05-29 19:07:11,356]\u001b[0m Finished trial#12 with value: 0.501 with parameters: {'sigma': 1.5580279951698972, 'lam': 1.3620984414830144e-14, 'n': 1}. Best is trial#0 with value: 0.501.\u001b[0m\n"
     ]
    },
    {
     "name": "stderr",
     "output_type": "stream",
     "text": [
      "/usr/local/lib/python3.6/dist-packages/ipykernel_launcher.py:25: RuntimeWarning:\n",
      "\n",
      "overflow encountered in exp\n",
      "\n",
      "/usr/local/lib/python3.6/dist-packages/ipykernel_launcher.py:37: RuntimeWarning:\n",
      "\n",
      "divide by zero encountered in true_divide\n",
      "\n"
     ]
    },
    {
     "name": "stdout",
     "output_type": "stream",
     "text": [
      "\u001b[32m[I 2020-05-29 19:07:20,074]\u001b[0m Finished trial#13 with value: 0.501 with parameters: {'sigma': 1.0327513443664698, 'lam': 7.152723306668076e-18, 'n': 2}. Best is trial#0 with value: 0.501.\u001b[0m\n"
     ]
    },
    {
     "name": "stderr",
     "output_type": "stream",
     "text": [
      "/usr/local/lib/python3.6/dist-packages/ipykernel_launcher.py:25: RuntimeWarning:\n",
      "\n",
      "overflow encountered in exp\n",
      "\n",
      "/usr/local/lib/python3.6/dist-packages/ipykernel_launcher.py:37: RuntimeWarning:\n",
      "\n",
      "divide by zero encountered in true_divide\n",
      "\n"
     ]
    },
    {
     "name": "stdout",
     "output_type": "stream",
     "text": [
      "\u001b[32m[I 2020-05-29 19:07:26,619]\u001b[0m Finished trial#14 with value: 0.501 with parameters: {'sigma': 1.705986924202734, 'lam': 2.8479387646369126e-12, 'n': 1}. Best is trial#0 with value: 0.501.\u001b[0m\n",
      "\u001b[32m[I 2020-05-29 19:07:35,383]\u001b[0m Finished trial#15 with value: 0.501 with parameters: {'sigma': 4.228468809756555, 'lam': 1.1881278919761733e-05, 'n': 2}. Best is trial#0 with value: 0.501.\u001b[0m\n"
     ]
    },
    {
     "name": "stderr",
     "output_type": "stream",
     "text": [
      "/usr/local/lib/python3.6/dist-packages/ipykernel_launcher.py:25: RuntimeWarning:\n",
      "\n",
      "overflow encountered in exp\n",
      "\n",
      "/usr/local/lib/python3.6/dist-packages/ipykernel_launcher.py:37: RuntimeWarning:\n",
      "\n",
      "divide by zero encountered in true_divide\n",
      "\n"
     ]
    },
    {
     "name": "stdout",
     "output_type": "stream",
     "text": [
      "\u001b[32m[I 2020-05-29 19:07:41,874]\u001b[0m Finished trial#16 with value: 0.501 with parameters: {'sigma': 1.2857766400210013, 'lam': 4.961286387718431e-15, 'n': 1}. Best is trial#0 with value: 0.501.\u001b[0m\n"
     ]
    },
    {
     "name": "stderr",
     "output_type": "stream",
     "text": [
      "/usr/local/lib/python3.6/dist-packages/ipykernel_launcher.py:25: RuntimeWarning:\n",
      "\n",
      "overflow encountered in exp\n",
      "\n",
      "/usr/local/lib/python3.6/dist-packages/ipykernel_launcher.py:37: RuntimeWarning:\n",
      "\n",
      "divide by zero encountered in true_divide\n",
      "\n"
     ]
    },
    {
     "name": "stdout",
     "output_type": "stream",
     "text": [
      "\u001b[32m[I 2020-05-29 19:07:59,851]\u001b[0m Finished trial#17 with value: 0.501 with parameters: {'sigma': 2.040463301329907, 'lam': 5.865155933691436e-12, 'n': 3}. Best is trial#0 with value: 0.501.\u001b[0m\n",
      "\u001b[32m[I 2020-05-29 19:08:10,693]\u001b[0m Finished trial#18 with value: 0.501 with parameters: {'sigma': 4.141374807165796, 'lam': 0.00019560881135896214, 'n': 2}. Best is trial#0 with value: 0.501.\u001b[0m\n"
     ]
    },
    {
     "name": "stderr",
     "output_type": "stream",
     "text": [
      "/usr/local/lib/python3.6/dist-packages/ipykernel_launcher.py:25: RuntimeWarning:\n",
      "\n",
      "overflow encountered in exp\n",
      "\n",
      "/usr/local/lib/python3.6/dist-packages/ipykernel_launcher.py:37: RuntimeWarning:\n",
      "\n",
      "divide by zero encountered in true_divide\n",
      "\n"
     ]
    },
    {
     "name": "stdout",
     "output_type": "stream",
     "text": [
      "\u001b[32m[I 2020-05-29 19:08:17,151]\u001b[0m Finished trial#19 with value: 0.501 with parameters: {'sigma': 1.2826510569157081, 'lam': 3.2123360903537708e-16, 'n': 1}. Best is trial#0 with value: 0.501.\u001b[0m\n"
     ]
    },
    {
     "name": "stderr",
     "output_type": "stream",
     "text": [
      "/usr/local/lib/python3.6/dist-packages/ipykernel_launcher.py:25: RuntimeWarning:\n",
      "\n",
      "overflow encountered in exp\n",
      "\n",
      "/usr/local/lib/python3.6/dist-packages/ipykernel_launcher.py:37: RuntimeWarning:\n",
      "\n",
      "divide by zero encountered in true_divide\n",
      "\n"
     ]
    },
    {
     "name": "stdout",
     "output_type": "stream",
     "text": [
      "\u001b[32m[I 2020-05-29 19:08:36,269]\u001b[0m Finished trial#20 with value: 0.501 with parameters: {'sigma': 2.168900503256211, 'lam': 1.4012355567191354e-11, 'n': 3}. Best is trial#0 with value: 0.501.\u001b[0m\n",
      "\u001b[32m[I 2020-05-29 19:09:10,340]\u001b[0m Finished trial#21 with value: 0.501 with parameters: {'sigma': 3.6151231934764163, 'lam': 2.285977658880763e-06, 'n': 3}. Best is trial#0 with value: 0.501.\u001b[0m\n",
      "\u001b[32m[I 2020-05-29 19:09:33,663]\u001b[0m Finished trial#22 with value: 0.501 with parameters: {'sigma': 5.4213202182245075, 'lam': 0.0017377948237316681, 'n': 2}. Best is trial#0 with value: 0.501.\u001b[0m\n"
     ]
    },
    {
     "name": "stderr",
     "output_type": "stream",
     "text": [
      "/usr/local/lib/python3.6/dist-packages/ipykernel_launcher.py:25: RuntimeWarning:\n",
      "\n",
      "overflow encountered in exp\n",
      "\n",
      "/usr/local/lib/python3.6/dist-packages/ipykernel_launcher.py:37: RuntimeWarning:\n",
      "\n",
      "divide by zero encountered in true_divide\n",
      "\n"
     ]
    },
    {
     "name": "stdout",
     "output_type": "stream",
     "text": [
      "\u001b[32m[I 2020-05-29 19:10:12,955]\u001b[0m Finished trial#23 with value: 0.501 with parameters: {'sigma': 1.3140271280574065, 'lam': 4.661365896447128e-16, 'n': 3}. Best is trial#0 with value: 0.501.\u001b[0m\n",
      "\u001b[32m[I 2020-05-29 19:10:53,480]\u001b[0m Finished trial#24 with value: 0.501 with parameters: {'sigma': 3.5328948300675167, 'lam': 1.0090519971818197e-06, 'n': 3}. Best is trial#0 with value: 0.501.\u001b[0m\n",
      "\u001b[32m[I 2020-05-29 19:11:09,653]\u001b[0m Finished trial#25 with value: 0.501 with parameters: {'sigma': 5.663276948197426, 'lam': 0.28607487030729467, 'n': 2}. Best is trial#0 with value: 0.501.\u001b[0m\n"
     ]
    },
    {
     "name": "stderr",
     "output_type": "stream",
     "text": [
      "/usr/local/lib/python3.6/dist-packages/ipykernel_launcher.py:25: RuntimeWarning:\n",
      "\n",
      "overflow encountered in exp\n",
      "\n",
      "/usr/local/lib/python3.6/dist-packages/ipykernel_launcher.py:37: RuntimeWarning:\n",
      "\n",
      "divide by zero encountered in true_divide\n",
      "\n"
     ]
    },
    {
     "name": "stdout",
     "output_type": "stream",
     "text": [
      "\u001b[32m[I 2020-05-29 19:11:28,514]\u001b[0m Finished trial#26 with value: 0.513 with parameters: {'sigma': 9.831693807726612, 'lam': 1.9712148783018527e-17, 'n': 2}. Best is trial#26 with value: 0.513.\u001b[0m\n"
     ]
    },
    {
     "name": "stderr",
     "output_type": "stream",
     "text": [
      "/usr/local/lib/python3.6/dist-packages/ipykernel_launcher.py:25: RuntimeWarning:\n",
      "\n",
      "overflow encountered in exp\n",
      "\n",
      "/usr/local/lib/python3.6/dist-packages/ipykernel_launcher.py:37: RuntimeWarning:\n",
      "\n",
      "divide by zero encountered in true_divide\n",
      "\n"
     ]
    },
    {
     "name": "stdout",
     "output_type": "stream",
     "text": [
      "\u001b[32m[I 2020-05-29 19:12:08,171]\u001b[0m Finished trial#27 with value: 0.501 with parameters: {'sigma': 9.477369675737089, 'lam': 6.119410814706552e-07, 'n': 3}. Best is trial#26 with value: 0.513.\u001b[0m\n"
     ]
    },
    {
     "name": "stderr",
     "output_type": "stream",
     "text": [
      "/usr/local/lib/python3.6/dist-packages/ipykernel_launcher.py:25: RuntimeWarning:\n",
      "\n",
      "overflow encountered in exp\n",
      "\n",
      "/usr/local/lib/python3.6/dist-packages/ipykernel_launcher.py:37: RuntimeWarning:\n",
      "\n",
      "divide by zero encountered in true_divide\n",
      "\n"
     ]
    },
    {
     "name": "stdout",
     "output_type": "stream",
     "text": [
      "\u001b[32m[I 2020-05-29 19:12:26,097]\u001b[0m Finished trial#28 with value: 0.488 with parameters: {'sigma': 6.042722146072243, 'lam': 1.920457252403128e-18, 'n': 2}. Best is trial#26 with value: 0.513.\u001b[0m\n",
      "\u001b[32m[I 2020-05-29 19:12:41,131]\u001b[0m Finished trial#29 with value: 0.501 with parameters: {'sigma': 7.719639957913304, 'lam': 0.29540163308157524, 'n': 2}. Best is trial#26 with value: 0.513.\u001b[0m\n"
     ]
    },
    {
     "name": "stderr",
     "output_type": "stream",
     "text": [
      "/usr/local/lib/python3.6/dist-packages/ipykernel_launcher.py:25: RuntimeWarning:\n",
      "\n",
      "overflow encountered in exp\n",
      "\n",
      "/usr/local/lib/python3.6/dist-packages/ipykernel_launcher.py:37: RuntimeWarning:\n",
      "\n",
      "divide by zero encountered in true_divide\n",
      "\n"
     ]
    },
    {
     "name": "stdout",
     "output_type": "stream",
     "text": [
      "\u001b[32m[I 2020-05-29 19:13:00,093]\u001b[0m Finished trial#30 with value: 0.501 with parameters: {'sigma': 7.373357751292709, 'lam': 1.5757251466237847e-10, 'n': 2}. Best is trial#26 with value: 0.513.\u001b[0m\n"
     ]
    },
    {
     "name": "stderr",
     "output_type": "stream",
     "text": [
      "/usr/local/lib/python3.6/dist-packages/ipykernel_launcher.py:25: RuntimeWarning:\n",
      "\n",
      "overflow encountered in exp\n",
      "\n",
      "/usr/local/lib/python3.6/dist-packages/ipykernel_launcher.py:37: RuntimeWarning:\n",
      "\n",
      "divide by zero encountered in true_divide\n",
      "\n"
     ]
    },
    {
     "name": "stdout",
     "output_type": "stream",
     "text": [
      "\u001b[32m[I 2020-05-29 19:13:17,109]\u001b[0m Finished trial#31 with value: 0.513 with parameters: {'sigma': 9.82834846820578, 'lam': 2.338301184511653e-17, 'n': 2}. Best is trial#26 with value: 0.513.\u001b[0m\n"
     ]
    },
    {
     "name": "stderr",
     "output_type": "stream",
     "text": [
      "/usr/local/lib/python3.6/dist-packages/ipykernel_launcher.py:25: RuntimeWarning:\n",
      "\n",
      "overflow encountered in exp\n",
      "\n",
      "/usr/local/lib/python3.6/dist-packages/ipykernel_launcher.py:37: RuntimeWarning:\n",
      "\n",
      "divide by zero encountered in true_divide\n",
      "\n"
     ]
    },
    {
     "name": "stdout",
     "output_type": "stream",
     "text": [
      "\u001b[32m[I 2020-05-29 19:13:36,175]\u001b[0m Finished trial#32 with value: 0.5029999999999999 with parameters: {'sigma': 9.18714686461496, 'lam': 3.157771735928503e-17, 'n': 2}. Best is trial#26 with value: 0.513.\u001b[0m\n"
     ]
    },
    {
     "name": "stderr",
     "output_type": "stream",
     "text": [
      "/usr/local/lib/python3.6/dist-packages/ipykernel_launcher.py:25: RuntimeWarning:\n",
      "\n",
      "overflow encountered in exp\n",
      "\n",
      "/usr/local/lib/python3.6/dist-packages/ipykernel_launcher.py:37: RuntimeWarning:\n",
      "\n",
      "divide by zero encountered in true_divide\n",
      "\n"
     ]
    },
    {
     "name": "stdout",
     "output_type": "stream",
     "text": [
      "\u001b[32m[I 2020-05-29 19:13:53,780]\u001b[0m Finished trial#33 with value: 0.5 with parameters: {'sigma': 9.69491198775498, 'lam': 2.5235220521411312e-17, 'n': 2}. Best is trial#26 with value: 0.513.\u001b[0m\n"
     ]
    },
    {
     "name": "stderr",
     "output_type": "stream",
     "text": [
      "/usr/local/lib/python3.6/dist-packages/ipykernel_launcher.py:25: RuntimeWarning:\n",
      "\n",
      "overflow encountered in exp\n",
      "\n",
      "/usr/local/lib/python3.6/dist-packages/ipykernel_launcher.py:37: RuntimeWarning:\n",
      "\n",
      "divide by zero encountered in true_divide\n",
      "\n"
     ]
    },
    {
     "name": "stdout",
     "output_type": "stream",
     "text": [
      "\u001b[32m[I 2020-05-29 19:14:10,222]\u001b[0m Finished trial#34 with value: 0.501 with parameters: {'sigma': 9.82878515608501, 'lam': 1.2519843668815479e-13, 'n': 2}. Best is trial#26 with value: 0.513.\u001b[0m\n"
     ]
    },
    {
     "name": "stderr",
     "output_type": "stream",
     "text": [
      "/usr/local/lib/python3.6/dist-packages/ipykernel_launcher.py:25: RuntimeWarning:\n",
      "\n",
      "overflow encountered in exp\n",
      "\n",
      "/usr/local/lib/python3.6/dist-packages/ipykernel_launcher.py:37: RuntimeWarning:\n",
      "\n",
      "divide by zero encountered in true_divide\n",
      "\n"
     ]
    },
    {
     "name": "stdout",
     "output_type": "stream",
     "text": [
      "\u001b[32m[I 2020-05-29 19:14:28,679]\u001b[0m Finished trial#35 with value: 0.501 with parameters: {'sigma': 7.144157599300104, 'lam': 5.623155836765157e-17, 'n': 2}. Best is trial#26 with value: 0.513.\u001b[0m\n"
     ]
    },
    {
     "name": "stderr",
     "output_type": "stream",
     "text": [
      "/usr/local/lib/python3.6/dist-packages/ipykernel_launcher.py:25: RuntimeWarning:\n",
      "\n",
      "overflow encountered in exp\n",
      "\n",
      "/usr/local/lib/python3.6/dist-packages/ipykernel_launcher.py:37: RuntimeWarning:\n",
      "\n",
      "divide by zero encountered in true_divide\n",
      "\n"
     ]
    },
    {
     "name": "stdout",
     "output_type": "stream",
     "text": [
      "\u001b[32m[I 2020-05-29 19:14:46,241]\u001b[0m Finished trial#36 with value: 0.516 with parameters: {'sigma': 9.059297876228783, 'lam': 1.3791341444526485e-18, 'n': 2}. Best is trial#36 with value: 0.516.\u001b[0m\n"
     ]
    },
    {
     "name": "stderr",
     "output_type": "stream",
     "text": [
      "/usr/local/lib/python3.6/dist-packages/ipykernel_launcher.py:25: RuntimeWarning:\n",
      "\n",
      "overflow encountered in exp\n",
      "\n",
      "/usr/local/lib/python3.6/dist-packages/ipykernel_launcher.py:37: RuntimeWarning:\n",
      "\n",
      "divide by zero encountered in true_divide\n",
      "\n"
     ]
    },
    {
     "name": "stdout",
     "output_type": "stream",
     "text": [
      "\u001b[32m[I 2020-05-29 19:15:03,071]\u001b[0m Finished trial#37 with value: 0.484 with parameters: {'sigma': 9.510127082034314, 'lam': 1.3943904123730896e-18, 'n': 2}. Best is trial#36 with value: 0.516.\u001b[0m\n"
     ]
    },
    {
     "name": "stderr",
     "output_type": "stream",
     "text": [
      "/usr/local/lib/python3.6/dist-packages/ipykernel_launcher.py:25: RuntimeWarning:\n",
      "\n",
      "overflow encountered in exp\n",
      "\n",
      "/usr/local/lib/python3.6/dist-packages/ipykernel_launcher.py:37: RuntimeWarning:\n",
      "\n",
      "divide by zero encountered in true_divide\n",
      "\n"
     ]
    },
    {
     "name": "stdout",
     "output_type": "stream",
     "text": [
      "\u001b[32m[I 2020-05-29 19:15:20,916]\u001b[0m Finished trial#38 with value: 0.501 with parameters: {'sigma': 8.57762495361143, 'lam': 1.0621085983043699e-13, 'n': 2}. Best is trial#36 with value: 0.516.\u001b[0m\n"
     ]
    },
    {
     "name": "stderr",
     "output_type": "stream",
     "text": [
      "/usr/local/lib/python3.6/dist-packages/ipykernel_launcher.py:25: RuntimeWarning:\n",
      "\n",
      "overflow encountered in exp\n",
      "\n",
      "/usr/local/lib/python3.6/dist-packages/ipykernel_launcher.py:37: RuntimeWarning:\n",
      "\n",
      "divide by zero encountered in true_divide\n",
      "\n"
     ]
    },
    {
     "name": "stdout",
     "output_type": "stream",
     "text": [
      "\u001b[32m[I 2020-05-29 19:15:39,123]\u001b[0m Finished trial#39 with value: 0.48200000000000004 with parameters: {'sigma': 6.568465258371536, 'lam': 2.7326008289095656e-17, 'n': 2}. Best is trial#36 with value: 0.516.\u001b[0m\n"
     ]
    },
    {
     "name": "stderr",
     "output_type": "stream",
     "text": [
      "/usr/local/lib/python3.6/dist-packages/ipykernel_launcher.py:25: RuntimeWarning:\n",
      "\n",
      "overflow encountered in exp\n",
      "\n",
      "/usr/local/lib/python3.6/dist-packages/ipykernel_launcher.py:37: RuntimeWarning:\n",
      "\n",
      "divide by zero encountered in true_divide\n",
      "\n"
     ]
    },
    {
     "name": "stdout",
     "output_type": "stream",
     "text": [
      "\u001b[32m[I 2020-05-29 19:15:57,000]\u001b[0m Finished trial#40 with value: 0.511 with parameters: {'sigma': 4.996838916937567, 'lam': 1.077036917116406e-18, 'n': 2}. Best is trial#36 with value: 0.516.\u001b[0m\n"
     ]
    },
    {
     "name": "stderr",
     "output_type": "stream",
     "text": [
      "/usr/local/lib/python3.6/dist-packages/ipykernel_launcher.py:25: RuntimeWarning:\n",
      "\n",
      "overflow encountered in exp\n",
      "\n",
      "/usr/local/lib/python3.6/dist-packages/ipykernel_launcher.py:37: RuntimeWarning:\n",
      "\n",
      "divide by zero encountered in true_divide\n",
      "\n"
     ]
    },
    {
     "name": "stdout",
     "output_type": "stream",
     "text": [
      "\u001b[32m[I 2020-05-29 19:16:15,591]\u001b[0m Finished trial#41 with value: 0.513 with parameters: {'sigma': 5.016381753718887, 'lam': 1.2536257244107683e-18, 'n': 2}. Best is trial#36 with value: 0.516.\u001b[0m\n"
     ]
    },
    {
     "name": "stderr",
     "output_type": "stream",
     "text": [
      "/usr/local/lib/python3.6/dist-packages/ipykernel_launcher.py:25: RuntimeWarning:\n",
      "\n",
      "overflow encountered in exp\n",
      "\n",
      "/usr/local/lib/python3.6/dist-packages/ipykernel_launcher.py:37: RuntimeWarning:\n",
      "\n",
      "divide by zero encountered in true_divide\n",
      "\n"
     ]
    },
    {
     "name": "stdout",
     "output_type": "stream",
     "text": [
      "\u001b[32m[I 2020-05-29 19:16:33,805]\u001b[0m Finished trial#42 with value: 0.501 with parameters: {'sigma': 4.989588159257455, 'lam': 1.56127351768933e-18, 'n': 2}. Best is trial#36 with value: 0.516.\u001b[0m\n"
     ]
    },
    {
     "name": "stderr",
     "output_type": "stream",
     "text": [
      "/usr/local/lib/python3.6/dist-packages/ipykernel_launcher.py:25: RuntimeWarning:\n",
      "\n",
      "overflow encountered in exp\n",
      "\n",
      "/usr/local/lib/python3.6/dist-packages/ipykernel_launcher.py:37: RuntimeWarning:\n",
      "\n",
      "divide by zero encountered in true_divide\n",
      "\n"
     ]
    },
    {
     "name": "stdout",
     "output_type": "stream",
     "text": [
      "\u001b[32m[I 2020-05-29 19:16:53,050]\u001b[0m Finished trial#43 with value: 0.502 with parameters: {'sigma': 4.769829986916451, 'lam': 1.1455187230422568e-18, 'n': 2}. Best is trial#36 with value: 0.516.\u001b[0m\n"
     ]
    },
    {
     "name": "stderr",
     "output_type": "stream",
     "text": [
      "/usr/local/lib/python3.6/dist-packages/ipykernel_launcher.py:25: RuntimeWarning:\n",
      "\n",
      "overflow encountered in exp\n",
      "\n",
      "/usr/local/lib/python3.6/dist-packages/ipykernel_launcher.py:37: RuntimeWarning:\n",
      "\n",
      "divide by zero encountered in true_divide\n",
      "\n"
     ]
    },
    {
     "name": "stdout",
     "output_type": "stream",
     "text": [
      "\u001b[32m[I 2020-05-29 19:17:11,106]\u001b[0m Finished trial#44 with value: 0.501 with parameters: {'sigma': 6.848611218180396, 'lam': 2.5476078805518725e-15, 'n': 2}. Best is trial#36 with value: 0.516.\u001b[0m\n"
     ]
    },
    {
     "name": "stderr",
     "output_type": "stream",
     "text": [
      "/usr/local/lib/python3.6/dist-packages/ipykernel_launcher.py:25: RuntimeWarning:\n",
      "\n",
      "overflow encountered in exp\n",
      "\n",
      "/usr/local/lib/python3.6/dist-packages/ipykernel_launcher.py:37: RuntimeWarning:\n",
      "\n",
      "divide by zero encountered in true_divide\n",
      "\n"
     ]
    },
    {
     "name": "stdout",
     "output_type": "stream",
     "text": [
      "\u001b[32m[I 2020-05-29 19:17:29,090]\u001b[0m Finished trial#45 with value: 0.502 with parameters: {'sigma': 8.321462588835237, 'lam': 5.517865434682823e-18, 'n': 2}. Best is trial#36 with value: 0.516.\u001b[0m\n"
     ]
    },
    {
     "name": "stderr",
     "output_type": "stream",
     "text": [
      "/usr/local/lib/python3.6/dist-packages/ipykernel_launcher.py:25: RuntimeWarning:\n",
      "\n",
      "overflow encountered in exp\n",
      "\n",
      "/usr/local/lib/python3.6/dist-packages/ipykernel_launcher.py:37: RuntimeWarning:\n",
      "\n",
      "divide by zero encountered in true_divide\n",
      "\n"
     ]
    },
    {
     "name": "stdout",
     "output_type": "stream",
     "text": [
      "\u001b[32m[I 2020-05-29 19:17:49,837]\u001b[0m Finished trial#46 with value: 0.501 with parameters: {'sigma': 2.593484277576121, 'lam': 1.8125007522802258e-16, 'n': 2}. Best is trial#36 with value: 0.516.\u001b[0m\n"
     ]
    },
    {
     "name": "stderr",
     "output_type": "stream",
     "text": [
      "/usr/local/lib/python3.6/dist-packages/ipykernel_launcher.py:25: RuntimeWarning:\n",
      "\n",
      "overflow encountered in exp\n",
      "\n",
      "/usr/local/lib/python3.6/dist-packages/ipykernel_launcher.py:37: RuntimeWarning:\n",
      "\n",
      "divide by zero encountered in true_divide\n",
      "\n"
     ]
    },
    {
     "name": "stdout",
     "output_type": "stream",
     "text": [
      "\u001b[32m[I 2020-05-29 19:18:08,189]\u001b[0m Finished trial#47 with value: 0.501 with parameters: {'sigma': 3.709304552071826, 'lam': 9.051249101755003e-18, 'n': 2}. Best is trial#36 with value: 0.516.\u001b[0m\n"
     ]
    },
    {
     "name": "stderr",
     "output_type": "stream",
     "text": [
      "/usr/local/lib/python3.6/dist-packages/ipykernel_launcher.py:25: RuntimeWarning:\n",
      "\n",
      "overflow encountered in exp\n",
      "\n",
      "/usr/local/lib/python3.6/dist-packages/ipykernel_launcher.py:37: RuntimeWarning:\n",
      "\n",
      "divide by zero encountered in true_divide\n",
      "\n"
     ]
    },
    {
     "name": "stdout",
     "output_type": "stream",
     "text": [
      "\u001b[32m[I 2020-05-29 19:18:26,013]\u001b[0m Finished trial#48 with value: 0.501 with parameters: {'sigma': 3.193732982761272, 'lam': 3.7206890779499333e-14, 'n': 2}. Best is trial#36 with value: 0.516.\u001b[0m\n"
     ]
    },
    {
     "name": "stderr",
     "output_type": "stream",
     "text": [
      "/usr/local/lib/python3.6/dist-packages/ipykernel_launcher.py:25: RuntimeWarning:\n",
      "\n",
      "overflow encountered in exp\n",
      "\n",
      "/usr/local/lib/python3.6/dist-packages/ipykernel_launcher.py:37: RuntimeWarning:\n",
      "\n",
      "divide by zero encountered in true_divide\n",
      "\n"
     ]
    },
    {
     "name": "stdout",
     "output_type": "stream",
     "text": [
      "\u001b[32m[I 2020-05-29 19:18:44,973]\u001b[0m Finished trial#49 with value: 0.501 with parameters: {'sigma': 4.83494048479296, 'lam': 1.0851353254232124e-15, 'n': 2}. Best is trial#36 with value: 0.516.\u001b[0m\n"
     ]
    },
    {
     "name": "stderr",
     "output_type": "stream",
     "text": [
      "/usr/local/lib/python3.6/dist-packages/ipykernel_launcher.py:25: RuntimeWarning:\n",
      "\n",
      "overflow encountered in exp\n",
      "\n",
      "/usr/local/lib/python3.6/dist-packages/ipykernel_launcher.py:37: RuntimeWarning:\n",
      "\n",
      "divide by zero encountered in true_divide\n",
      "\n"
     ]
    },
    {
     "name": "stdout",
     "output_type": "stream",
     "text": [
      "\u001b[32m[I 2020-05-29 19:19:03,297]\u001b[0m Finished trial#50 with value: 0.501 with parameters: {'sigma': 7.977328655078618, 'lam': 1.1617371901815726e-16, 'n': 2}. Best is trial#36 with value: 0.516.\u001b[0m\n"
     ]
    },
    {
     "name": "stderr",
     "output_type": "stream",
     "text": [
      "/usr/local/lib/python3.6/dist-packages/ipykernel_launcher.py:25: RuntimeWarning:\n",
      "\n",
      "overflow encountered in exp\n",
      "\n",
      "/usr/local/lib/python3.6/dist-packages/ipykernel_launcher.py:37: RuntimeWarning:\n",
      "\n",
      "divide by zero encountered in true_divide\n",
      "\n"
     ]
    },
    {
     "name": "stdout",
     "output_type": "stream",
     "text": [
      "\u001b[32m[I 2020-05-29 19:19:21,242]\u001b[0m Finished trial#51 with value: 0.502 with parameters: {'sigma': 8.553764980306159, 'lam': 1.00398398107369e-18, 'n': 2}. Best is trial#36 with value: 0.516.\u001b[0m\n"
     ]
    },
    {
     "name": "stderr",
     "output_type": "stream",
     "text": [
      "/usr/local/lib/python3.6/dist-packages/ipykernel_launcher.py:25: RuntimeWarning:\n",
      "\n",
      "overflow encountered in exp\n",
      "\n",
      "/usr/local/lib/python3.6/dist-packages/ipykernel_launcher.py:37: RuntimeWarning:\n",
      "\n",
      "divide by zero encountered in true_divide\n",
      "\n"
     ]
    },
    {
     "name": "stdout",
     "output_type": "stream",
     "text": [
      "\u001b[32m[I 2020-05-29 19:19:39,017]\u001b[0m Finished trial#52 with value: 0.5029999999999999 with parameters: {'sigma': 8.869019582731001, 'lam': 2.3478997059432102e-17, 'n': 2}. Best is trial#36 with value: 0.516.\u001b[0m\n"
     ]
    },
    {
     "name": "stderr",
     "output_type": "stream",
     "text": [
      "/usr/local/lib/python3.6/dist-packages/ipykernel_launcher.py:25: RuntimeWarning:\n",
      "\n",
      "overflow encountered in exp\n",
      "\n",
      "/usr/local/lib/python3.6/dist-packages/ipykernel_launcher.py:37: RuntimeWarning:\n",
      "\n",
      "divide by zero encountered in true_divide\n",
      "\n"
     ]
    },
    {
     "name": "stdout",
     "output_type": "stream",
     "text": [
      "\u001b[32m[I 2020-05-29 19:19:56,661]\u001b[0m Finished trial#53 with value: 0.5029999999999999 with parameters: {'sigma': 6.546478141543466, 'lam': 6.7079383248611e-18, 'n': 2}. Best is trial#36 with value: 0.516.\u001b[0m\n"
     ]
    },
    {
     "name": "stderr",
     "output_type": "stream",
     "text": [
      "/usr/local/lib/python3.6/dist-packages/ipykernel_launcher.py:25: RuntimeWarning:\n",
      "\n",
      "overflow encountered in exp\n",
      "\n",
      "/usr/local/lib/python3.6/dist-packages/ipykernel_launcher.py:37: RuntimeWarning:\n",
      "\n",
      "divide by zero encountered in true_divide\n",
      "\n"
     ]
    },
    {
     "name": "stdout",
     "output_type": "stream",
     "text": [
      "\u001b[32m[I 2020-05-29 19:20:13,922]\u001b[0m Finished trial#54 with value: 0.501 with parameters: {'sigma': 9.083430175243418, 'lam': 6.776492880290507e-17, 'n': 2}. Best is trial#36 with value: 0.516.\u001b[0m\n"
     ]
    },
    {
     "name": "stderr",
     "output_type": "stream",
     "text": [
      "/usr/local/lib/python3.6/dist-packages/ipykernel_launcher.py:25: RuntimeWarning:\n",
      "\n",
      "overflow encountered in exp\n",
      "\n",
      "/usr/local/lib/python3.6/dist-packages/ipykernel_launcher.py:37: RuntimeWarning:\n",
      "\n",
      "divide by zero encountered in true_divide\n",
      "\n"
     ]
    },
    {
     "name": "stdout",
     "output_type": "stream",
     "text": [
      "\u001b[32m[I 2020-05-29 19:20:32,688]\u001b[0m Finished trial#55 with value: 0.501 with parameters: {'sigma': 7.499561948663614, 'lam': 9.597978707592245e-16, 'n': 2}. Best is trial#36 with value: 0.516.\u001b[0m\n"
     ]
    },
    {
     "name": "stderr",
     "output_type": "stream",
     "text": [
      "/usr/local/lib/python3.6/dist-packages/ipykernel_launcher.py:25: RuntimeWarning:\n",
      "\n",
      "overflow encountered in exp\n",
      "\n",
      "/usr/local/lib/python3.6/dist-packages/ipykernel_launcher.py:37: RuntimeWarning:\n",
      "\n",
      "divide by zero encountered in true_divide\n",
      "\n"
     ]
    },
    {
     "name": "stdout",
     "output_type": "stream",
     "text": [
      "\u001b[32m[I 2020-05-29 19:20:51,049]\u001b[0m Finished trial#56 with value: 0.501 with parameters: {'sigma': 6.191842253201304, 'lam': 8.383415782372819e-18, 'n': 2}. Best is trial#36 with value: 0.516.\u001b[0m\n"
     ]
    },
    {
     "name": "stderr",
     "output_type": "stream",
     "text": [
      "/usr/local/lib/python3.6/dist-packages/ipykernel_launcher.py:25: RuntimeWarning:\n",
      "\n",
      "overflow encountered in exp\n",
      "\n",
      "/usr/local/lib/python3.6/dist-packages/ipykernel_launcher.py:37: RuntimeWarning:\n",
      "\n",
      "divide by zero encountered in true_divide\n",
      "\n"
     ]
    },
    {
     "name": "stdout",
     "output_type": "stream",
     "text": [
      "\u001b[32m[I 2020-05-29 19:21:03,938]\u001b[0m Finished trial#57 with value: 0.484 with parameters: {'sigma': 5.481293592208268, 'lam': 5.167001073289078e-18, 'n': 1}. Best is trial#36 with value: 0.516.\u001b[0m\n"
     ]
    },
    {
     "name": "stderr",
     "output_type": "stream",
     "text": [
      "/usr/local/lib/python3.6/dist-packages/ipykernel_launcher.py:25: RuntimeWarning:\n",
      "\n",
      "overflow encountered in exp\n",
      "\n",
      "/usr/local/lib/python3.6/dist-packages/ipykernel_launcher.py:37: RuntimeWarning:\n",
      "\n",
      "divide by zero encountered in true_divide\n",
      "\n"
     ]
    },
    {
     "name": "stdout",
     "output_type": "stream",
     "text": [
      "\u001b[32m[I 2020-05-29 19:21:22,814]\u001b[0m Finished trial#58 with value: 0.501 with parameters: {'sigma': 4.420895514123094, 'lam': 7.694656873525314e-13, 'n': 2}. Best is trial#36 with value: 0.516.\u001b[0m\n"
     ]
    },
    {
     "name": "stderr",
     "output_type": "stream",
     "text": [
      "/usr/local/lib/python3.6/dist-packages/ipykernel_launcher.py:25: RuntimeWarning:\n",
      "\n",
      "overflow encountered in exp\n",
      "\n",
      "/usr/local/lib/python3.6/dist-packages/ipykernel_launcher.py:37: RuntimeWarning:\n",
      "\n",
      "divide by zero encountered in true_divide\n",
      "\n"
     ]
    },
    {
     "name": "stdout",
     "output_type": "stream",
     "text": [
      "\u001b[32m[I 2020-05-29 19:21:40,569]\u001b[0m Finished trial#59 with value: 0.501 with parameters: {'sigma': 3.92754148620486, 'lam': 3.669616925912093e-15, 'n': 2}. Best is trial#36 with value: 0.516.\u001b[0m\n"
     ]
    },
    {
     "name": "stderr",
     "output_type": "stream",
     "text": [
      "/usr/local/lib/python3.6/dist-packages/ipykernel_launcher.py:25: RuntimeWarning:\n",
      "\n",
      "overflow encountered in exp\n",
      "\n",
      "/usr/local/lib/python3.6/dist-packages/ipykernel_launcher.py:37: RuntimeWarning:\n",
      "\n",
      "divide by zero encountered in true_divide\n",
      "\n"
     ]
    },
    {
     "name": "stdout",
     "output_type": "stream",
     "text": [
      "\u001b[32m[I 2020-05-29 19:21:58,768]\u001b[0m Finished trial#60 with value: 0.501 with parameters: {'sigma': 9.964773622031707, 'lam': 3.3385038443204117e-16, 'n': 2}. Best is trial#36 with value: 0.516.\u001b[0m\n"
     ]
    },
    {
     "name": "stderr",
     "output_type": "stream",
     "text": [
      "/usr/local/lib/python3.6/dist-packages/ipykernel_launcher.py:25: RuntimeWarning:\n",
      "\n",
      "overflow encountered in exp\n",
      "\n",
      "/usr/local/lib/python3.6/dist-packages/ipykernel_launcher.py:37: RuntimeWarning:\n",
      "\n",
      "divide by zero encountered in true_divide\n",
      "\n"
     ]
    },
    {
     "name": "stdout",
     "output_type": "stream",
     "text": [
      "\u001b[32m[I 2020-05-29 19:22:16,883]\u001b[0m Finished trial#61 with value: 0.487 with parameters: {'sigma': 6.1988124750576485, 'lam': 1.1332321933270207e-18, 'n': 2}. Best is trial#36 with value: 0.516.\u001b[0m\n"
     ]
    },
    {
     "name": "stderr",
     "output_type": "stream",
     "text": [
      "/usr/local/lib/python3.6/dist-packages/ipykernel_launcher.py:25: RuntimeWarning:\n",
      "\n",
      "overflow encountered in exp\n",
      "\n",
      "/usr/local/lib/python3.6/dist-packages/ipykernel_launcher.py:37: RuntimeWarning:\n",
      "\n",
      "divide by zero encountered in true_divide\n",
      "\n"
     ]
    },
    {
     "name": "stdout",
     "output_type": "stream",
     "text": [
      "\u001b[32m[I 2020-05-29 19:22:35,672]\u001b[0m Finished trial#62 with value: 0.501 with parameters: {'sigma': 5.151704871992532, 'lam': 1.5347620618619406e-17, 'n': 2}. Best is trial#36 with value: 0.516.\u001b[0m\n"
     ]
    },
    {
     "name": "stderr",
     "output_type": "stream",
     "text": [
      "/usr/local/lib/python3.6/dist-packages/ipykernel_launcher.py:25: RuntimeWarning:\n",
      "\n",
      "overflow encountered in exp\n",
      "\n",
      "/usr/local/lib/python3.6/dist-packages/ipykernel_launcher.py:37: RuntimeWarning:\n",
      "\n",
      "divide by zero encountered in true_divide\n",
      "\n"
     ]
    },
    {
     "name": "stdout",
     "output_type": "stream",
     "text": [
      "\u001b[32m[I 2020-05-29 19:22:52,022]\u001b[0m Finished trial#63 with value: 0.501 with parameters: {'sigma': 6.531865138698713, 'lam': 9.996226857873715e-17, 'n': 2}. Best is trial#36 with value: 0.516.\u001b[0m\n"
     ]
    },
    {
     "name": "stderr",
     "output_type": "stream",
     "text": [
      "/usr/local/lib/python3.6/dist-packages/ipykernel_launcher.py:25: RuntimeWarning:\n",
      "\n",
      "overflow encountered in exp\n",
      "\n",
      "/usr/local/lib/python3.6/dist-packages/ipykernel_launcher.py:37: RuntimeWarning:\n",
      "\n",
      "divide by zero encountered in true_divide\n",
      "\n"
     ]
    },
    {
     "name": "stdout",
     "output_type": "stream",
     "text": [
      "\u001b[32m[I 2020-05-29 19:23:10,082]\u001b[0m Finished trial#64 with value: 0.48100000000000004 with parameters: {'sigma': 4.536712293126404, 'lam': 3.316755994839953e-18, 'n': 2}. Best is trial#36 with value: 0.516.\u001b[0m\n"
     ]
    },
    {
     "name": "stderr",
     "output_type": "stream",
     "text": [
      "/usr/local/lib/python3.6/dist-packages/ipykernel_launcher.py:25: RuntimeWarning:\n",
      "\n",
      "overflow encountered in exp\n",
      "\n",
      "/usr/local/lib/python3.6/dist-packages/ipykernel_launcher.py:37: RuntimeWarning:\n",
      "\n",
      "divide by zero encountered in true_divide\n",
      "\n"
     ]
    },
    {
     "name": "stdout",
     "output_type": "stream",
     "text": [
      "\u001b[32m[I 2020-05-29 19:23:28,106]\u001b[0m Finished trial#65 with value: 0.501 with parameters: {'sigma': 8.883905979442611, 'lam': 3.1863877049447554e-17, 'n': 2}. Best is trial#36 with value: 0.516.\u001b[0m\n"
     ]
    },
    {
     "name": "stderr",
     "output_type": "stream",
     "text": [
      "/usr/local/lib/python3.6/dist-packages/ipykernel_launcher.py:25: RuntimeWarning:\n",
      "\n",
      "overflow encountered in exp\n",
      "\n",
      "/usr/local/lib/python3.6/dist-packages/ipykernel_launcher.py:37: RuntimeWarning:\n",
      "\n",
      "divide by zero encountered in true_divide\n",
      "\n"
     ]
    },
    {
     "name": "stdout",
     "output_type": "stream",
     "text": [
      "\u001b[32m[I 2020-05-29 19:23:47,290]\u001b[0m Finished trial#66 with value: 0.501 with parameters: {'sigma': 5.756573242953777, 'lam': 1.2720620327926156e-14, 'n': 2}. Best is trial#36 with value: 0.516.\u001b[0m\n"
     ]
    },
    {
     "name": "stderr",
     "output_type": "stream",
     "text": [
      "/usr/local/lib/python3.6/dist-packages/ipykernel_launcher.py:25: RuntimeWarning:\n",
      "\n",
      "overflow encountered in exp\n",
      "\n",
      "/usr/local/lib/python3.6/dist-packages/ipykernel_launcher.py:37: RuntimeWarning:\n",
      "\n",
      "divide by zero encountered in true_divide\n",
      "\n"
     ]
    },
    {
     "name": "stdout",
     "output_type": "stream",
     "text": [
      "\u001b[32m[I 2020-05-29 19:24:05,467]\u001b[0m Finished trial#67 with value: 0.501 with parameters: {'sigma': 7.885681635580657, 'lam': 5.673207058933373e-16, 'n': 2}. Best is trial#36 with value: 0.516.\u001b[0m\n"
     ]
    },
    {
     "name": "stderr",
     "output_type": "stream",
     "text": [
      "/usr/local/lib/python3.6/dist-packages/ipykernel_launcher.py:25: RuntimeWarning:\n",
      "\n",
      "overflow encountered in exp\n",
      "\n",
      "/usr/local/lib/python3.6/dist-packages/ipykernel_launcher.py:37: RuntimeWarning:\n",
      "\n",
      "divide by zero encountered in true_divide\n",
      "\n"
     ]
    },
    {
     "name": "stdout",
     "output_type": "stream",
     "text": [
      "\u001b[32m[I 2020-05-29 19:24:27,894]\u001b[0m Finished trial#68 with value: 0.501 with parameters: {'sigma': 2.988674697065477, 'lam': 1.399040447517584e-09, 'n': 2}. Best is trial#36 with value: 0.516.\u001b[0m\n"
     ]
    },
    {
     "name": "stderr",
     "output_type": "stream",
     "text": [
      "/usr/local/lib/python3.6/dist-packages/ipykernel_launcher.py:25: RuntimeWarning:\n",
      "\n",
      "overflow encountered in exp\n",
      "\n",
      "/usr/local/lib/python3.6/dist-packages/ipykernel_launcher.py:37: RuntimeWarning:\n",
      "\n",
      "divide by zero encountered in true_divide\n",
      "\n"
     ]
    },
    {
     "name": "stdout",
     "output_type": "stream",
     "text": [
      "\u001b[32m[I 2020-05-29 19:24:45,687]\u001b[0m Finished trial#69 with value: 0.48200000000000004 with parameters: {'sigma': 9.176307487439717, 'lam': 3.543923132531855e-17, 'n': 2}. Best is trial#36 with value: 0.516.\u001b[0m\n"
     ]
    },
    {
     "name": "stderr",
     "output_type": "stream",
     "text": [
      "/usr/local/lib/python3.6/dist-packages/ipykernel_launcher.py:25: RuntimeWarning:\n",
      "\n",
      "overflow encountered in exp\n",
      "\n",
      "/usr/local/lib/python3.6/dist-packages/ipykernel_launcher.py:37: RuntimeWarning:\n",
      "\n",
      "divide by zero encountered in true_divide\n",
      "\n"
     ]
    },
    {
     "name": "stdout",
     "output_type": "stream",
     "text": [
      "\u001b[32m[I 2020-05-29 19:25:04,273]\u001b[0m Finished trial#70 with value: 0.501 with parameters: {'sigma': 9.929543574734769, 'lam': 1.6404431678370568e-16, 'n': 2}. Best is trial#36 with value: 0.516.\u001b[0m\n"
     ]
    },
    {
     "name": "stderr",
     "output_type": "stream",
     "text": [
      "/usr/local/lib/python3.6/dist-packages/ipykernel_launcher.py:25: RuntimeWarning:\n",
      "\n",
      "overflow encountered in exp\n",
      "\n",
      "/usr/local/lib/python3.6/dist-packages/ipykernel_launcher.py:37: RuntimeWarning:\n",
      "\n",
      "divide by zero encountered in true_divide\n",
      "\n"
     ]
    },
    {
     "name": "stdout",
     "output_type": "stream",
     "text": [
      "\u001b[32m[I 2020-05-29 19:25:20,634]\u001b[0m Finished trial#71 with value: 0.512 with parameters: {'sigma': 6.992703735963635, 'lam': 3.6941212066167165e-18, 'n': 2}. Best is trial#36 with value: 0.516.\u001b[0m\n"
     ]
    },
    {
     "name": "stderr",
     "output_type": "stream",
     "text": [
      "/usr/local/lib/python3.6/dist-packages/ipykernel_launcher.py:25: RuntimeWarning:\n",
      "\n",
      "overflow encountered in exp\n",
      "\n",
      "/usr/local/lib/python3.6/dist-packages/ipykernel_launcher.py:37: RuntimeWarning:\n",
      "\n",
      "divide by zero encountered in true_divide\n",
      "\n"
     ]
    },
    {
     "name": "stdout",
     "output_type": "stream",
     "text": [
      "\u001b[32m[I 2020-05-29 19:25:39,145]\u001b[0m Finished trial#72 with value: 0.49499999999999994 with parameters: {'sigma': 8.278801414843386, 'lam': 1.073583550790459e-18, 'n': 2}. Best is trial#36 with value: 0.516.\u001b[0m\n"
     ]
    },
    {
     "name": "stderr",
     "output_type": "stream",
     "text": [
      "/usr/local/lib/python3.6/dist-packages/ipykernel_launcher.py:25: RuntimeWarning:\n",
      "\n",
      "overflow encountered in exp\n",
      "\n",
      "/usr/local/lib/python3.6/dist-packages/ipykernel_launcher.py:37: RuntimeWarning:\n",
      "\n",
      "divide by zero encountered in true_divide\n",
      "\n"
     ]
    },
    {
     "name": "stdout",
     "output_type": "stream",
     "text": [
      "\u001b[32m[I 2020-05-29 19:25:57,578]\u001b[0m Finished trial#73 with value: 0.484 with parameters: {'sigma': 7.351091164847306, 'lam': 1.7609590760671473e-17, 'n': 2}. Best is trial#36 with value: 0.516.\u001b[0m\n"
     ]
    },
    {
     "name": "stderr",
     "output_type": "stream",
     "text": [
      "/usr/local/lib/python3.6/dist-packages/ipykernel_launcher.py:25: RuntimeWarning:\n",
      "\n",
      "overflow encountered in exp\n",
      "\n",
      "/usr/local/lib/python3.6/dist-packages/ipykernel_launcher.py:37: RuntimeWarning:\n",
      "\n",
      "divide by zero encountered in true_divide\n",
      "\n"
     ]
    },
    {
     "name": "stdout",
     "output_type": "stream",
     "text": [
      "\u001b[32m[I 2020-05-29 19:26:15,774]\u001b[0m Finished trial#74 with value: 0.5029999999999999 with parameters: {'sigma': 7.036654684512492, 'lam': 4.137097512801252e-18, 'n': 2}. Best is trial#36 with value: 0.516.\u001b[0m\n"
     ]
    },
    {
     "name": "stderr",
     "output_type": "stream",
     "text": [
      "/usr/local/lib/python3.6/dist-packages/ipykernel_launcher.py:25: RuntimeWarning:\n",
      "\n",
      "overflow encountered in exp\n",
      "\n",
      "/usr/local/lib/python3.6/dist-packages/ipykernel_launcher.py:37: RuntimeWarning:\n",
      "\n",
      "divide by zero encountered in true_divide\n",
      "\n"
     ]
    },
    {
     "name": "stdout",
     "output_type": "stream",
     "text": [
      "\u001b[32m[I 2020-05-29 19:26:32,931]\u001b[0m Finished trial#75 with value: 0.49499999999999994 with parameters: {'sigma': 9.994169887872243, 'lam': 3.103758902914468e-18, 'n': 2}. Best is trial#36 with value: 0.516.\u001b[0m\n"
     ]
    },
    {
     "name": "stderr",
     "output_type": "stream",
     "text": [
      "/usr/local/lib/python3.6/dist-packages/ipykernel_launcher.py:25: RuntimeWarning:\n",
      "\n",
      "overflow encountered in exp\n",
      "\n",
      "/usr/local/lib/python3.6/dist-packages/ipykernel_launcher.py:37: RuntimeWarning:\n",
      "\n",
      "divide by zero encountered in true_divide\n",
      "\n"
     ]
    },
    {
     "name": "stdout",
     "output_type": "stream",
     "text": [
      "\u001b[32m[I 2020-05-29 19:26:50,845]\u001b[0m Finished trial#76 with value: 0.484 with parameters: {'sigma': 6.786375174181311, 'lam': 1.1371333053314357e-17, 'n': 2}. Best is trial#36 with value: 0.516.\u001b[0m\n"
     ]
    },
    {
     "name": "stderr",
     "output_type": "stream",
     "text": [
      "/usr/local/lib/python3.6/dist-packages/ipykernel_launcher.py:25: RuntimeWarning:\n",
      "\n",
      "overflow encountered in exp\n",
      "\n",
      "/usr/local/lib/python3.6/dist-packages/ipykernel_launcher.py:37: RuntimeWarning:\n",
      "\n",
      "divide by zero encountered in true_divide\n",
      "\n"
     ]
    },
    {
     "name": "stdout",
     "output_type": "stream",
     "text": [
      "\u001b[32m[I 2020-05-29 19:27:09,396]\u001b[0m Finished trial#77 with value: 0.49499999999999994 with parameters: {'sigma': 5.291229037053499, 'lam': 1.1620408862265123e-18, 'n': 2}. Best is trial#36 with value: 0.516.\u001b[0m\n"
     ]
    },
    {
     "name": "stderr",
     "output_type": "stream",
     "text": [
      "/usr/local/lib/python3.6/dist-packages/ipykernel_launcher.py:25: RuntimeWarning:\n",
      "\n",
      "overflow encountered in exp\n",
      "\n",
      "/usr/local/lib/python3.6/dist-packages/ipykernel_launcher.py:37: RuntimeWarning:\n",
      "\n",
      "divide by zero encountered in true_divide\n",
      "\n"
     ]
    },
    {
     "name": "stdout",
     "output_type": "stream",
     "text": [
      "\u001b[32m[I 2020-05-29 19:27:28,490]\u001b[0m Finished trial#78 with value: 0.501 with parameters: {'sigma': 5.7822603724168165, 'lam': 8.314695837200816e-09, 'n': 2}. Best is trial#36 with value: 0.516.\u001b[0m\n"
     ]
    },
    {
     "name": "stderr",
     "output_type": "stream",
     "text": [
      "/usr/local/lib/python3.6/dist-packages/ipykernel_launcher.py:25: RuntimeWarning:\n",
      "\n",
      "overflow encountered in exp\n",
      "\n",
      "/usr/local/lib/python3.6/dist-packages/ipykernel_launcher.py:37: RuntimeWarning:\n",
      "\n",
      "divide by zero encountered in true_divide\n",
      "\n"
     ]
    },
    {
     "name": "stdout",
     "output_type": "stream",
     "text": [
      "\u001b[32m[I 2020-05-29 19:27:45,110]\u001b[0m Finished trial#79 with value: 0.501 with parameters: {'sigma': 6.431444872812618, 'lam': 1.8812514665796653e-15, 'n': 2}. Best is trial#36 with value: 0.516.\u001b[0m\n"
     ]
    },
    {
     "name": "stderr",
     "output_type": "stream",
     "text": [
      "/usr/local/lib/python3.6/dist-packages/ipykernel_launcher.py:25: RuntimeWarning:\n",
      "\n",
      "overflow encountered in exp\n",
      "\n",
      "/usr/local/lib/python3.6/dist-packages/ipykernel_launcher.py:37: RuntimeWarning:\n",
      "\n",
      "divide by zero encountered in true_divide\n",
      "\n"
     ]
    },
    {
     "name": "stdout",
     "output_type": "stream",
     "text": [
      "\u001b[32m[I 2020-05-29 19:28:03,098]\u001b[0m Finished trial#80 with value: 0.501 with parameters: {'sigma': 7.991240038203921, 'lam': 6.778980886564685e-17, 'n': 2}. Best is trial#36 with value: 0.516.\u001b[0m\n"
     ]
    },
    {
     "name": "stderr",
     "output_type": "stream",
     "text": [
      "/usr/local/lib/python3.6/dist-packages/ipykernel_launcher.py:25: RuntimeWarning:\n",
      "\n",
      "overflow encountered in exp\n",
      "\n",
      "/usr/local/lib/python3.6/dist-packages/ipykernel_launcher.py:37: RuntimeWarning:\n",
      "\n",
      "divide by zero encountered in true_divide\n",
      "\n"
     ]
    },
    {
     "name": "stdout",
     "output_type": "stream",
     "text": [
      "\u001b[32m[I 2020-05-29 19:28:20,936]\u001b[0m Finished trial#81 with value: 0.502 with parameters: {'sigma': 6.999431916640653, 'lam': 3.8796877346814765e-18, 'n': 2}. Best is trial#36 with value: 0.516.\u001b[0m\n"
     ]
    },
    {
     "name": "stderr",
     "output_type": "stream",
     "text": [
      "/usr/local/lib/python3.6/dist-packages/ipykernel_launcher.py:25: RuntimeWarning:\n",
      "\n",
      "overflow encountered in exp\n",
      "\n",
      "/usr/local/lib/python3.6/dist-packages/ipykernel_launcher.py:37: RuntimeWarning:\n",
      "\n",
      "divide by zero encountered in true_divide\n",
      "\n"
     ]
    },
    {
     "name": "stdout",
     "output_type": "stream",
     "text": [
      "\u001b[32m[I 2020-05-29 19:28:38,391]\u001b[0m Finished trial#82 with value: 0.505 with parameters: {'sigma': 7.631442967912476, 'lam': 3.493585383007579e-18, 'n': 2}. Best is trial#36 with value: 0.516.\u001b[0m\n"
     ]
    },
    {
     "name": "stderr",
     "output_type": "stream",
     "text": [
      "/usr/local/lib/python3.6/dist-packages/ipykernel_launcher.py:25: RuntimeWarning:\n",
      "\n",
      "overflow encountered in exp\n",
      "\n",
      "/usr/local/lib/python3.6/dist-packages/ipykernel_launcher.py:37: RuntimeWarning:\n",
      "\n",
      "divide by zero encountered in true_divide\n",
      "\n"
     ]
    },
    {
     "name": "stdout",
     "output_type": "stream",
     "text": [
      "\u001b[32m[I 2020-05-29 19:28:55,676]\u001b[0m Finished trial#83 with value: 0.5 with parameters: {'sigma': 7.230662040339816, 'lam': 4.013790369334903e-18, 'n': 2}. Best is trial#36 with value: 0.516.\u001b[0m\n"
     ]
    },
    {
     "name": "stderr",
     "output_type": "stream",
     "text": [
      "/usr/local/lib/python3.6/dist-packages/ipykernel_launcher.py:25: RuntimeWarning:\n",
      "\n",
      "overflow encountered in exp\n",
      "\n",
      "/usr/local/lib/python3.6/dist-packages/ipykernel_launcher.py:37: RuntimeWarning:\n",
      "\n",
      "divide by zero encountered in true_divide\n",
      "\n"
     ]
    },
    {
     "name": "stdout",
     "output_type": "stream",
     "text": [
      "\u001b[32m[I 2020-05-29 19:29:13,639]\u001b[0m Finished trial#84 with value: 0.487 with parameters: {'sigma': 8.728037493133915, 'lam': 1.2611204081208391e-17, 'n': 2}. Best is trial#36 with value: 0.516.\u001b[0m\n"
     ]
    },
    {
     "name": "stderr",
     "output_type": "stream",
     "text": [
      "/usr/local/lib/python3.6/dist-packages/ipykernel_launcher.py:25: RuntimeWarning:\n",
      "\n",
      "overflow encountered in exp\n",
      "\n",
      "/usr/local/lib/python3.6/dist-packages/ipykernel_launcher.py:37: RuntimeWarning:\n",
      "\n",
      "divide by zero encountered in true_divide\n",
      "\n"
     ]
    },
    {
     "name": "stdout",
     "output_type": "stream",
     "text": [
      "\u001b[32m[I 2020-05-29 19:29:31,261]\u001b[0m Finished trial#85 with value: 0.501 with parameters: {'sigma': 7.667790618632494, 'lam': 4.1998742348276707e-16, 'n': 2}. Best is trial#36 with value: 0.516.\u001b[0m\n"
     ]
    },
    {
     "name": "stderr",
     "output_type": "stream",
     "text": [
      "/usr/local/lib/python3.6/dist-packages/ipykernel_launcher.py:25: RuntimeWarning:\n",
      "\n",
      "overflow encountered in exp\n",
      "\n",
      "/usr/local/lib/python3.6/dist-packages/ipykernel_launcher.py:37: RuntimeWarning:\n",
      "\n",
      "divide by zero encountered in true_divide\n",
      "\n"
     ]
    },
    {
     "name": "stdout",
     "output_type": "stream",
     "text": [
      "\u001b[32m[I 2020-05-29 19:29:47,825]\u001b[0m Finished trial#86 with value: 0.501 with parameters: {'sigma': 9.338539927496187, 'lam': 7.906876132436863e-17, 'n': 2}. Best is trial#36 with value: 0.516.\u001b[0m\n"
     ]
    },
    {
     "name": "stderr",
     "output_type": "stream",
     "text": [
      "/usr/local/lib/python3.6/dist-packages/ipykernel_launcher.py:25: RuntimeWarning:\n",
      "\n",
      "overflow encountered in exp\n",
      "\n",
      "/usr/local/lib/python3.6/dist-packages/ipykernel_launcher.py:37: RuntimeWarning:\n",
      "\n",
      "divide by zero encountered in true_divide\n",
      "\n"
     ]
    },
    {
     "name": "stdout",
     "output_type": "stream",
     "text": [
      "\u001b[32m[I 2020-05-29 19:30:06,588]\u001b[0m Finished trial#87 with value: 0.5029999999999999 with parameters: {'sigma': 8.293819058588225, 'lam': 2.5742235649798392e-18, 'n': 2}. Best is trial#36 with value: 0.516.\u001b[0m\n"
     ]
    },
    {
     "name": "stderr",
     "output_type": "stream",
     "text": [
      "/usr/local/lib/python3.6/dist-packages/ipykernel_launcher.py:25: RuntimeWarning:\n",
      "\n",
      "overflow encountered in exp\n",
      "\n",
      "/usr/local/lib/python3.6/dist-packages/ipykernel_launcher.py:37: RuntimeWarning:\n",
      "\n",
      "divide by zero encountered in true_divide\n",
      "\n"
     ]
    },
    {
     "name": "stdout",
     "output_type": "stream",
     "text": [
      "\u001b[32m[I 2020-05-29 19:30:23,302]\u001b[0m Finished trial#88 with value: 0.502 with parameters: {'sigma': 8.127946406346856, 'lam': 1.900832897601799e-18, 'n': 2}. Best is trial#36 with value: 0.516.\u001b[0m\n"
     ]
    },
    {
     "name": "stderr",
     "output_type": "stream",
     "text": [
      "/usr/local/lib/python3.6/dist-packages/ipykernel_launcher.py:25: RuntimeWarning:\n",
      "\n",
      "overflow encountered in exp\n",
      "\n",
      "/usr/local/lib/python3.6/dist-packages/ipykernel_launcher.py:37: RuntimeWarning:\n",
      "\n",
      "divide by zero encountered in true_divide\n",
      "\n"
     ]
    },
    {
     "name": "stdout",
     "output_type": "stream",
     "text": [
      "\u001b[32m[I 2020-05-29 19:30:41,206]\u001b[0m Finished trial#89 with value: 0.506 with parameters: {'sigma': 9.440243540718864, 'lam': 1.0901431613976982e-18, 'n': 2}. Best is trial#36 with value: 0.516.\u001b[0m\n"
     ]
    },
    {
     "name": "stderr",
     "output_type": "stream",
     "text": [
      "/usr/local/lib/python3.6/dist-packages/ipykernel_launcher.py:25: RuntimeWarning:\n",
      "\n",
      "overflow encountered in exp\n",
      "\n",
      "/usr/local/lib/python3.6/dist-packages/ipykernel_launcher.py:37: RuntimeWarning:\n",
      "\n",
      "divide by zero encountered in true_divide\n",
      "\n"
     ]
    },
    {
     "name": "stdout",
     "output_type": "stream",
     "text": [
      "\u001b[32m[I 2020-05-29 19:30:58,971]\u001b[0m Finished trial#90 with value: 0.513 with parameters: {'sigma': 4.09310064612244, 'lam': 1.022914983512418e-18, 'n': 2}. Best is trial#36 with value: 0.516.\u001b[0m\n"
     ]
    },
    {
     "name": "stderr",
     "output_type": "stream",
     "text": [
      "/usr/local/lib/python3.6/dist-packages/ipykernel_launcher.py:25: RuntimeWarning:\n",
      "\n",
      "overflow encountered in exp\n",
      "\n",
      "/usr/local/lib/python3.6/dist-packages/ipykernel_launcher.py:37: RuntimeWarning:\n",
      "\n",
      "divide by zero encountered in true_divide\n",
      "\n"
     ]
    },
    {
     "name": "stdout",
     "output_type": "stream",
     "text": [
      "\u001b[32m[I 2020-05-29 19:31:17,052]\u001b[0m Finished trial#91 with value: 0.488 with parameters: {'sigma': 5.943311300445167, 'lam': 1.049284111463952e-18, 'n': 2}. Best is trial#36 with value: 0.516.\u001b[0m\n"
     ]
    },
    {
     "name": "stderr",
     "output_type": "stream",
     "text": [
      "/usr/local/lib/python3.6/dist-packages/ipykernel_launcher.py:25: RuntimeWarning:\n",
      "\n",
      "overflow encountered in exp\n",
      "\n",
      "/usr/local/lib/python3.6/dist-packages/ipykernel_launcher.py:37: RuntimeWarning:\n",
      "\n",
      "divide by zero encountered in true_divide\n",
      "\n"
     ]
    },
    {
     "name": "stdout",
     "output_type": "stream",
     "text": [
      "\u001b[32m[I 2020-05-29 19:31:35,125]\u001b[0m Finished trial#92 with value: 0.492 with parameters: {'sigma': 4.75598423470051, 'lam': 1.0167883006239903e-18, 'n': 2}. Best is trial#36 with value: 0.516.\u001b[0m\n"
     ]
    },
    {
     "name": "stderr",
     "output_type": "stream",
     "text": [
      "/usr/local/lib/python3.6/dist-packages/ipykernel_launcher.py:25: RuntimeWarning:\n",
      "\n",
      "overflow encountered in exp\n",
      "\n",
      "/usr/local/lib/python3.6/dist-packages/ipykernel_launcher.py:37: RuntimeWarning:\n",
      "\n",
      "divide by zero encountered in true_divide\n",
      "\n"
     ]
    },
    {
     "name": "stdout",
     "output_type": "stream",
     "text": [
      "\u001b[32m[I 2020-05-29 19:31:51,889]\u001b[0m Finished trial#93 with value: 0.501 with parameters: {'sigma': 4.135937322794948, 'lam': 1.2036829420820742e-17, 'n': 2}. Best is trial#36 with value: 0.516.\u001b[0m\n"
     ]
    },
    {
     "name": "stderr",
     "output_type": "stream",
     "text": [
      "/usr/local/lib/python3.6/dist-packages/ipykernel_launcher.py:25: RuntimeWarning:\n",
      "\n",
      "overflow encountered in exp\n",
      "\n",
      "/usr/local/lib/python3.6/dist-packages/ipykernel_launcher.py:37: RuntimeWarning:\n",
      "\n",
      "divide by zero encountered in true_divide\n",
      "\n"
     ]
    },
    {
     "name": "stdout",
     "output_type": "stream",
     "text": [
      "\u001b[32m[I 2020-05-29 19:32:08,665]\u001b[0m Finished trial#94 with value: 0.493 with parameters: {'sigma': 5.535961725769089, 'lam': 6.562855654671715e-18, 'n': 2}. Best is trial#36 with value: 0.516.\u001b[0m\n"
     ]
    },
    {
     "name": "stderr",
     "output_type": "stream",
     "text": [
      "/usr/local/lib/python3.6/dist-packages/ipykernel_launcher.py:25: RuntimeWarning:\n",
      "\n",
      "overflow encountered in exp\n",
      "\n",
      "/usr/local/lib/python3.6/dist-packages/ipykernel_launcher.py:37: RuntimeWarning:\n",
      "\n",
      "divide by zero encountered in true_divide\n",
      "\n"
     ]
    },
    {
     "name": "stdout",
     "output_type": "stream",
     "text": [
      "\u001b[32m[I 2020-05-29 19:32:24,898]\u001b[0m Finished trial#95 with value: 0.501 with parameters: {'sigma': 3.49988023584675, 'lam': 3.8940559900801994e-17, 'n': 2}. Best is trial#36 with value: 0.516.\u001b[0m\n"
     ]
    },
    {
     "name": "stderr",
     "output_type": "stream",
     "text": [
      "/usr/local/lib/python3.6/dist-packages/ipykernel_launcher.py:25: RuntimeWarning:\n",
      "\n",
      "overflow encountered in exp\n",
      "\n",
      "/usr/local/lib/python3.6/dist-packages/ipykernel_launcher.py:37: RuntimeWarning:\n",
      "\n",
      "divide by zero encountered in true_divide\n",
      "\n"
     ]
    },
    {
     "name": "stdout",
     "output_type": "stream",
     "text": [
      "\u001b[32m[I 2020-05-29 19:32:42,457]\u001b[0m Finished trial#96 with value: 0.501 with parameters: {'sigma': 3.9129962328241903, 'lam': 7.503435361465332e-18, 'n': 2}. Best is trial#36 with value: 0.516.\u001b[0m\n"
     ]
    },
    {
     "name": "stderr",
     "output_type": "stream",
     "text": [
      "/usr/local/lib/python3.6/dist-packages/ipykernel_launcher.py:25: RuntimeWarning:\n",
      "\n",
      "overflow encountered in exp\n",
      "\n",
      "/usr/local/lib/python3.6/dist-packages/ipykernel_launcher.py:37: RuntimeWarning:\n",
      "\n",
      "divide by zero encountered in true_divide\n",
      "\n"
     ]
    },
    {
     "name": "stdout",
     "output_type": "stream",
     "text": [
      "\u001b[32m[I 2020-05-29 19:32:59,998]\u001b[0m Finished trial#97 with value: 0.501 with parameters: {'sigma': 6.384853433555444, 'lam': 1.9028684044993812e-16, 'n': 2}. Best is trial#36 with value: 0.516.\u001b[0m\n"
     ]
    },
    {
     "name": "stderr",
     "output_type": "stream",
     "text": [
      "/usr/local/lib/python3.6/dist-packages/ipykernel_launcher.py:25: RuntimeWarning:\n",
      "\n",
      "overflow encountered in exp\n",
      "\n",
      "/usr/local/lib/python3.6/dist-packages/ipykernel_launcher.py:37: RuntimeWarning:\n",
      "\n",
      "divide by zero encountered in true_divide\n",
      "\n"
     ]
    },
    {
     "name": "stdout",
     "output_type": "stream",
     "text": [
      "\u001b[32m[I 2020-05-29 19:33:17,836]\u001b[0m Finished trial#98 with value: 0.501 with parameters: {'sigma': 3.3596857663433886, 'lam': 1.996757528229402e-18, 'n': 2}. Best is trial#36 with value: 0.516.\u001b[0m\n"
     ]
    },
    {
     "name": "stderr",
     "output_type": "stream",
     "text": [
      "/usr/local/lib/python3.6/dist-packages/ipykernel_launcher.py:25: RuntimeWarning:\n",
      "\n",
      "overflow encountered in exp\n",
      "\n",
      "/usr/local/lib/python3.6/dist-packages/ipykernel_launcher.py:37: RuntimeWarning:\n",
      "\n",
      "divide by zero encountered in true_divide\n",
      "\n"
     ]
    },
    {
     "name": "stdout",
     "output_type": "stream",
     "text": [
      "\u001b[32m[I 2020-05-29 19:33:36,268]\u001b[0m Finished trial#99 with value: 0.512 with parameters: {'sigma': 9.609972167934622, 'lam': 2.3057249644689284e-17, 'n': 2}. Best is trial#36 with value: 0.516.\u001b[0m\n"
     ]
    },
    {
     "name": "stderr",
     "output_type": "stream",
     "text": [
      "/usr/local/lib/python3.6/dist-packages/ipykernel_launcher.py:25: RuntimeWarning:\n",
      "\n",
      "overflow encountered in exp\n",
      "\n",
      "/usr/local/lib/python3.6/dist-packages/ipykernel_launcher.py:37: RuntimeWarning:\n",
      "\n",
      "divide by zero encountered in true_divide\n",
      "\n"
     ]
    },
    {
     "name": "stdout",
     "output_type": "stream",
     "text": [
      "\u001b[32m[I 2020-05-29 19:33:54,768]\u001b[0m Finished trial#100 with value: 0.501 with parameters: {'sigma': 9.603312379302464, 'lam': 1.892435038295679e-17, 'n': 2}. Best is trial#36 with value: 0.516.\u001b[0m\n"
     ]
    },
    {
     "name": "stderr",
     "output_type": "stream",
     "text": [
      "/usr/local/lib/python3.6/dist-packages/ipykernel_launcher.py:25: RuntimeWarning:\n",
      "\n",
      "overflow encountered in exp\n",
      "\n",
      "/usr/local/lib/python3.6/dist-packages/ipykernel_launcher.py:37: RuntimeWarning:\n",
      "\n",
      "divide by zero encountered in true_divide\n",
      "\n"
     ]
    },
    {
     "name": "stdout",
     "output_type": "stream",
     "text": [
      "\u001b[32m[I 2020-05-29 19:34:12,357]\u001b[0m Finished trial#101 with value: 0.511 with parameters: {'sigma': 8.671860912492145, 'lam': 2.4920144587077467e-18, 'n': 2}. Best is trial#36 with value: 0.516.\u001b[0m\n"
     ]
    },
    {
     "name": "stderr",
     "output_type": "stream",
     "text": [
      "/usr/local/lib/python3.6/dist-packages/ipykernel_launcher.py:25: RuntimeWarning:\n",
      "\n",
      "overflow encountered in exp\n",
      "\n",
      "/usr/local/lib/python3.6/dist-packages/ipykernel_launcher.py:37: RuntimeWarning:\n",
      "\n",
      "divide by zero encountered in true_divide\n",
      "\n"
     ]
    },
    {
     "name": "stdout",
     "output_type": "stream",
     "text": [
      "\u001b[32m[I 2020-05-29 19:34:29,863]\u001b[0m Finished trial#102 with value: 0.487 with parameters: {'sigma': 8.626699393888483, 'lam': 2.031522967347259e-18, 'n': 2}. Best is trial#36 with value: 0.516.\u001b[0m\n"
     ]
    },
    {
     "name": "stderr",
     "output_type": "stream",
     "text": [
      "/usr/local/lib/python3.6/dist-packages/ipykernel_launcher.py:25: RuntimeWarning:\n",
      "\n",
      "overflow encountered in exp\n",
      "\n",
      "/usr/local/lib/python3.6/dist-packages/ipykernel_launcher.py:37: RuntimeWarning:\n",
      "\n",
      "divide by zero encountered in true_divide\n",
      "\n"
     ]
    },
    {
     "name": "stdout",
     "output_type": "stream",
     "text": [
      "\u001b[32m[I 2020-05-29 19:34:47,514]\u001b[0m Finished trial#103 with value: 0.513 with parameters: {'sigma': 9.134792496691128, 'lam': 1.0079141581892436e-18, 'n': 2}. Best is trial#36 with value: 0.516.\u001b[0m\n"
     ]
    },
    {
     "name": "stderr",
     "output_type": "stream",
     "text": [
      "/usr/local/lib/python3.6/dist-packages/ipykernel_launcher.py:25: RuntimeWarning:\n",
      "\n",
      "overflow encountered in exp\n",
      "\n",
      "/usr/local/lib/python3.6/dist-packages/ipykernel_launcher.py:37: RuntimeWarning:\n",
      "\n",
      "divide by zero encountered in true_divide\n",
      "\n"
     ]
    },
    {
     "name": "stdout",
     "output_type": "stream",
     "text": [
      "\u001b[32m[I 2020-05-29 19:35:06,352]\u001b[0m Finished trial#104 with value: 0.484 with parameters: {'sigma': 9.24612743002986, 'lam': 3.6376053565413026e-17, 'n': 2}. Best is trial#36 with value: 0.516.\u001b[0m\n"
     ]
    },
    {
     "name": "stderr",
     "output_type": "stream",
     "text": [
      "/usr/local/lib/python3.6/dist-packages/ipykernel_launcher.py:25: RuntimeWarning:\n",
      "\n",
      "overflow encountered in exp\n",
      "\n",
      "/usr/local/lib/python3.6/dist-packages/ipykernel_launcher.py:37: RuntimeWarning:\n",
      "\n",
      "divide by zero encountered in true_divide\n",
      "\n"
     ]
    },
    {
     "name": "stdout",
     "output_type": "stream",
     "text": [
      "\u001b[32m[I 2020-05-29 19:35:24,182]\u001b[0m Finished trial#105 with value: 0.501 with parameters: {'sigma': 9.656033304841275, 'lam': 1.2290118214497896e-16, 'n': 2}. Best is trial#36 with value: 0.516.\u001b[0m\n"
     ]
    },
    {
     "name": "stderr",
     "output_type": "stream",
     "text": [
      "/usr/local/lib/python3.6/dist-packages/ipykernel_launcher.py:25: RuntimeWarning:\n",
      "\n",
      "overflow encountered in exp\n",
      "\n",
      "/usr/local/lib/python3.6/dist-packages/ipykernel_launcher.py:37: RuntimeWarning:\n",
      "\n",
      "divide by zero encountered in true_divide\n",
      "\n"
     ]
    },
    {
     "name": "stdout",
     "output_type": "stream",
     "text": [
      "\u001b[32m[I 2020-05-29 19:35:43,227]\u001b[0m Finished trial#106 with value: 0.5069999999999999 with parameters: {'sigma': 8.943415914222857, 'lam': 1.1221002827787505e-17, 'n': 2}. Best is trial#36 with value: 0.516.\u001b[0m\n"
     ]
    },
    {
     "name": "stderr",
     "output_type": "stream",
     "text": [
      "/usr/local/lib/python3.6/dist-packages/ipykernel_launcher.py:25: RuntimeWarning:\n",
      "\n",
      "overflow encountered in exp\n",
      "\n",
      "/usr/local/lib/python3.6/dist-packages/ipykernel_launcher.py:37: RuntimeWarning:\n",
      "\n",
      "divide by zero encountered in true_divide\n",
      "\n"
     ]
    },
    {
     "name": "stdout",
     "output_type": "stream",
     "text": [
      "\u001b[32m[I 2020-05-29 19:36:01,020]\u001b[0m Finished trial#107 with value: 0.501 with parameters: {'sigma': 4.593903520073753, 'lam': 7.013534029844115e-16, 'n': 2}. Best is trial#36 with value: 0.516.\u001b[0m\n"
     ]
    },
    {
     "name": "stderr",
     "output_type": "stream",
     "text": [
      "/usr/local/lib/python3.6/dist-packages/ipykernel_launcher.py:25: RuntimeWarning:\n",
      "\n",
      "overflow encountered in exp\n",
      "\n",
      "/usr/local/lib/python3.6/dist-packages/ipykernel_launcher.py:37: RuntimeWarning:\n",
      "\n",
      "divide by zero encountered in true_divide\n",
      "\n"
     ]
    },
    {
     "name": "stdout",
     "output_type": "stream",
     "text": [
      "\u001b[32m[I 2020-05-29 19:36:18,525]\u001b[0m Finished trial#108 with value: 0.501 with parameters: {'sigma': 9.970892670251601, 'lam': 1.602756679816725e-17, 'n': 2}. Best is trial#36 with value: 0.516.\u001b[0m\n"
     ]
    },
    {
     "name": "stderr",
     "output_type": "stream",
     "text": [
      "/usr/local/lib/python3.6/dist-packages/ipykernel_launcher.py:25: RuntimeWarning:\n",
      "\n",
      "overflow encountered in exp\n",
      "\n",
      "/usr/local/lib/python3.6/dist-packages/ipykernel_launcher.py:37: RuntimeWarning:\n",
      "\n",
      "divide by zero encountered in true_divide\n",
      "\n"
     ]
    },
    {
     "name": "stdout",
     "output_type": "stream",
     "text": [
      "\u001b[32m[I 2020-05-29 19:36:35,491]\u001b[0m Finished trial#109 with value: 0.501 with parameters: {'sigma': 5.087394474518508, 'lam': 2.843381653357071e-16, 'n': 2}. Best is trial#36 with value: 0.516.\u001b[0m\n"
     ]
    },
    {
     "name": "stderr",
     "output_type": "stream",
     "text": [
      "/usr/local/lib/python3.6/dist-packages/ipykernel_launcher.py:25: RuntimeWarning:\n",
      "\n",
      "overflow encountered in exp\n",
      "\n",
      "/usr/local/lib/python3.6/dist-packages/ipykernel_launcher.py:37: RuntimeWarning:\n",
      "\n",
      "divide by zero encountered in true_divide\n",
      "\n"
     ]
    },
    {
     "name": "stdout",
     "output_type": "stream",
     "text": [
      "\u001b[32m[I 2020-05-29 19:36:52,558]\u001b[0m Finished trial#110 with value: 0.501 with parameters: {'sigma': 8.809095226248477, 'lam': 7.835604927123638e-18, 'n': 2}. Best is trial#36 with value: 0.516.\u001b[0m\n"
     ]
    },
    {
     "name": "stderr",
     "output_type": "stream",
     "text": [
      "/usr/local/lib/python3.6/dist-packages/ipykernel_launcher.py:25: RuntimeWarning:\n",
      "\n",
      "overflow encountered in exp\n",
      "\n",
      "/usr/local/lib/python3.6/dist-packages/ipykernel_launcher.py:37: RuntimeWarning:\n",
      "\n",
      "divide by zero encountered in true_divide\n",
      "\n"
     ]
    },
    {
     "name": "stdout",
     "output_type": "stream",
     "text": [
      "\u001b[32m[I 2020-05-29 19:37:10,842]\u001b[0m Finished trial#111 with value: 0.48200000000000004 with parameters: {'sigma': 9.15533069208657, 'lam': 5.627818187568341e-17, 'n': 2}. Best is trial#36 with value: 0.516.\u001b[0m\n"
     ]
    },
    {
     "name": "stderr",
     "output_type": "stream",
     "text": [
      "/usr/local/lib/python3.6/dist-packages/ipykernel_launcher.py:25: RuntimeWarning:\n",
      "\n",
      "overflow encountered in exp\n",
      "\n",
      "/usr/local/lib/python3.6/dist-packages/ipykernel_launcher.py:37: RuntimeWarning:\n",
      "\n",
      "divide by zero encountered in true_divide\n",
      "\n"
     ]
    },
    {
     "name": "stdout",
     "output_type": "stream",
     "text": [
      "\u001b[32m[I 2020-05-29 19:37:28,488]\u001b[0m Finished trial#112 with value: 0.5069999999999999 with parameters: {'sigma': 9.592848414504834, 'lam': 1.1892631450720018e-18, 'n': 2}. Best is trial#36 with value: 0.516.\u001b[0m\n"
     ]
    },
    {
     "name": "stderr",
     "output_type": "stream",
     "text": [
      "/usr/local/lib/python3.6/dist-packages/ipykernel_launcher.py:25: RuntimeWarning:\n",
      "\n",
      "overflow encountered in exp\n",
      "\n",
      "/usr/local/lib/python3.6/dist-packages/ipykernel_launcher.py:37: RuntimeWarning:\n",
      "\n",
      "divide by zero encountered in true_divide\n",
      "\n"
     ]
    },
    {
     "name": "stdout",
     "output_type": "stream",
     "text": [
      "\u001b[32m[I 2020-05-29 19:37:45,918]\u001b[0m Finished trial#113 with value: 0.493 with parameters: {'sigma': 9.997844801960644, 'lam': 1.044005282516079e-18, 'n': 2}. Best is trial#36 with value: 0.516.\u001b[0m\n"
     ]
    },
    {
     "name": "stderr",
     "output_type": "stream",
     "text": [
      "/usr/local/lib/python3.6/dist-packages/ipykernel_launcher.py:25: RuntimeWarning:\n",
      "\n",
      "overflow encountered in exp\n",
      "\n",
      "/usr/local/lib/python3.6/dist-packages/ipykernel_launcher.py:37: RuntimeWarning:\n",
      "\n",
      "divide by zero encountered in true_divide\n",
      "\n"
     ]
    },
    {
     "name": "stdout",
     "output_type": "stream",
     "text": [
      "\u001b[32m[I 2020-05-29 19:38:04,013]\u001b[0m Finished trial#114 with value: 0.483 with parameters: {'sigma': 8.50352659344868, 'lam': 2.8257616902870646e-18, 'n': 2}. Best is trial#36 with value: 0.516.\u001b[0m\n"
     ]
    },
    {
     "name": "stderr",
     "output_type": "stream",
     "text": [
      "/usr/local/lib/python3.6/dist-packages/ipykernel_launcher.py:25: RuntimeWarning:\n",
      "\n",
      "overflow encountered in exp\n",
      "\n",
      "/usr/local/lib/python3.6/dist-packages/ipykernel_launcher.py:37: RuntimeWarning:\n",
      "\n",
      "divide by zero encountered in true_divide\n",
      "\n"
     ]
    },
    {
     "name": "stdout",
     "output_type": "stream",
     "text": [
      "\u001b[32m[I 2020-05-29 19:38:22,862]\u001b[0m Finished trial#115 with value: 0.501 with parameters: {'sigma': 4.286068548381906, 'lam': 2.1565853070203015e-17, 'n': 2}. Best is trial#36 with value: 0.516.\u001b[0m\n"
     ]
    },
    {
     "name": "stderr",
     "output_type": "stream",
     "text": [
      "/usr/local/lib/python3.6/dist-packages/ipykernel_launcher.py:25: RuntimeWarning:\n",
      "\n",
      "overflow encountered in exp\n",
      "\n",
      "/usr/local/lib/python3.6/dist-packages/ipykernel_launcher.py:37: RuntimeWarning:\n",
      "\n",
      "divide by zero encountered in true_divide\n",
      "\n"
     ]
    },
    {
     "name": "stdout",
     "output_type": "stream",
     "text": [
      "\u001b[32m[I 2020-05-29 19:38:41,273]\u001b[0m Finished trial#116 with value: 0.513 with parameters: {'sigma': 7.93271682129831, 'lam': 5.635238364015511e-18, 'n': 2}. Best is trial#36 with value: 0.516.\u001b[0m\n"
     ]
    },
    {
     "name": "stderr",
     "output_type": "stream",
     "text": [
      "/usr/local/lib/python3.6/dist-packages/ipykernel_launcher.py:25: RuntimeWarning:\n",
      "\n",
      "overflow encountered in exp\n",
      "\n",
      "/usr/local/lib/python3.6/dist-packages/ipykernel_launcher.py:37: RuntimeWarning:\n",
      "\n",
      "divide by zero encountered in true_divide\n",
      "\n"
     ]
    },
    {
     "name": "stdout",
     "output_type": "stream",
     "text": [
      "\u001b[32m[I 2020-05-29 19:38:58,955]\u001b[0m Finished trial#117 with value: 0.48100000000000004 with parameters: {'sigma': 7.90500061987918, 'lam': 5.772290748193879e-18, 'n': 2}. Best is trial#36 with value: 0.516.\u001b[0m\n"
     ]
    },
    {
     "name": "stderr",
     "output_type": "stream",
     "text": [
      "/usr/local/lib/python3.6/dist-packages/ipykernel_launcher.py:25: RuntimeWarning:\n",
      "\n",
      "overflow encountered in exp\n",
      "\n",
      "/usr/local/lib/python3.6/dist-packages/ipykernel_launcher.py:37: RuntimeWarning:\n",
      "\n",
      "divide by zero encountered in true_divide\n",
      "\n"
     ]
    },
    {
     "name": "stdout",
     "output_type": "stream",
     "text": [
      "\u001b[32m[I 2020-05-29 19:39:17,164]\u001b[0m Finished trial#118 with value: 0.512 with parameters: {'sigma': 8.344541575744147, 'lam': 1.2762334366078133e-18, 'n': 2}. Best is trial#36 with value: 0.516.\u001b[0m\n"
     ]
    },
    {
     "name": "stderr",
     "output_type": "stream",
     "text": [
      "/usr/local/lib/python3.6/dist-packages/ipykernel_launcher.py:25: RuntimeWarning:\n",
      "\n",
      "overflow encountered in exp\n",
      "\n",
      "/usr/local/lib/python3.6/dist-packages/ipykernel_launcher.py:37: RuntimeWarning:\n",
      "\n",
      "divide by zero encountered in true_divide\n",
      "\n"
     ]
    },
    {
     "name": "stdout",
     "output_type": "stream",
     "text": [
      "\u001b[32m[I 2020-05-29 19:39:34,777]\u001b[0m Finished trial#119 with value: 0.48100000000000004 with parameters: {'sigma': 7.776263562757585, 'lam': 2.9620985608920313e-18, 'n': 2}. Best is trial#36 with value: 0.516.\u001b[0m\n"
     ]
    },
    {
     "name": "stderr",
     "output_type": "stream",
     "text": [
      "/usr/local/lib/python3.6/dist-packages/ipykernel_launcher.py:25: RuntimeWarning:\n",
      "\n",
      "overflow encountered in exp\n",
      "\n",
      "/usr/local/lib/python3.6/dist-packages/ipykernel_launcher.py:37: RuntimeWarning:\n",
      "\n",
      "divide by zero encountered in true_divide\n",
      "\n"
     ]
    },
    {
     "name": "stdout",
     "output_type": "stream",
     "text": [
      "\u001b[32m[I 2020-05-29 19:39:52,038]\u001b[0m Finished trial#120 with value: 0.501 with parameters: {'sigma': 8.299075901089255, 'lam': 6.019330095572014e-17, 'n': 2}. Best is trial#36 with value: 0.516.\u001b[0m\n"
     ]
    },
    {
     "name": "stderr",
     "output_type": "stream",
     "text": [
      "/usr/local/lib/python3.6/dist-packages/ipykernel_launcher.py:25: RuntimeWarning:\n",
      "\n",
      "overflow encountered in exp\n",
      "\n",
      "/usr/local/lib/python3.6/dist-packages/ipykernel_launcher.py:37: RuntimeWarning:\n",
      "\n",
      "divide by zero encountered in true_divide\n",
      "\n"
     ]
    },
    {
     "name": "stdout",
     "output_type": "stream",
     "text": [
      "\u001b[32m[I 2020-05-29 19:40:09,823]\u001b[0m Finished trial#121 with value: 0.502 with parameters: {'sigma': 7.45791071629623, 'lam': 1.063561172523404e-18, 'n': 2}. Best is trial#36 with value: 0.516.\u001b[0m\n"
     ]
    },
    {
     "name": "stderr",
     "output_type": "stream",
     "text": [
      "/usr/local/lib/python3.6/dist-packages/ipykernel_launcher.py:25: RuntimeWarning:\n",
      "\n",
      "overflow encountered in exp\n",
      "\n",
      "/usr/local/lib/python3.6/dist-packages/ipykernel_launcher.py:37: RuntimeWarning:\n",
      "\n",
      "divide by zero encountered in true_divide\n",
      "\n"
     ]
    },
    {
     "name": "stdout",
     "output_type": "stream",
     "text": [
      "\u001b[32m[I 2020-05-29 19:40:28,190]\u001b[0m Finished trial#122 with value: 0.5 with parameters: {'sigma': 8.933808574656602, 'lam': 9.934676868921364e-18, 'n': 2}. Best is trial#36 with value: 0.516.\u001b[0m\n"
     ]
    },
    {
     "name": "stderr",
     "output_type": "stream",
     "text": [
      "/usr/local/lib/python3.6/dist-packages/ipykernel_launcher.py:25: RuntimeWarning:\n",
      "\n",
      "overflow encountered in exp\n",
      "\n",
      "/usr/local/lib/python3.6/dist-packages/ipykernel_launcher.py:37: RuntimeWarning:\n",
      "\n",
      "divide by zero encountered in true_divide\n",
      "\n"
     ]
    },
    {
     "name": "stdout",
     "output_type": "stream",
     "text": [
      "\u001b[32m[I 2020-05-29 19:40:46,428]\u001b[0m Finished trial#123 with value: 0.484 with parameters: {'sigma': 8.501160095584385, 'lam': 2.1404268004664984e-17, 'n': 2}. Best is trial#36 with value: 0.516.\u001b[0m\n"
     ]
    },
    {
     "name": "stderr",
     "output_type": "stream",
     "text": [
      "/usr/local/lib/python3.6/dist-packages/ipykernel_launcher.py:25: RuntimeWarning:\n",
      "\n",
      "overflow encountered in exp\n",
      "\n",
      "/usr/local/lib/python3.6/dist-packages/ipykernel_launcher.py:37: RuntimeWarning:\n",
      "\n",
      "divide by zero encountered in true_divide\n",
      "\n"
     ]
    },
    {
     "name": "stdout",
     "output_type": "stream",
     "text": [
      "\u001b[32m[I 2020-05-29 19:41:03,206]\u001b[0m Finished trial#124 with value: 0.483 with parameters: {'sigma': 8.893978371455338, 'lam': 4.587302334170581e-18, 'n': 2}. Best is trial#36 with value: 0.516.\u001b[0m\n"
     ]
    },
    {
     "name": "stderr",
     "output_type": "stream",
     "text": [
      "/usr/local/lib/python3.6/dist-packages/ipykernel_launcher.py:25: RuntimeWarning:\n",
      "\n",
      "overflow encountered in exp\n",
      "\n",
      "/usr/local/lib/python3.6/dist-packages/ipykernel_launcher.py:37: RuntimeWarning:\n",
      "\n",
      "divide by zero encountered in true_divide\n",
      "\n"
     ]
    },
    {
     "name": "stdout",
     "output_type": "stream",
     "text": [
      "\u001b[32m[I 2020-05-29 19:41:20,361]\u001b[0m Finished trial#125 with value: 0.488 with parameters: {'sigma': 9.990366479057741, 'lam': 1.845454750153259e-18, 'n': 2}. Best is trial#36 with value: 0.516.\u001b[0m\n"
     ]
    },
    {
     "name": "stderr",
     "output_type": "stream",
     "text": [
      "/usr/local/lib/python3.6/dist-packages/ipykernel_launcher.py:25: RuntimeWarning:\n",
      "\n",
      "overflow encountered in exp\n",
      "\n",
      "/usr/local/lib/python3.6/dist-packages/ipykernel_launcher.py:37: RuntimeWarning:\n",
      "\n",
      "divide by zero encountered in true_divide\n",
      "\n"
     ]
    },
    {
     "name": "stdout",
     "output_type": "stream",
     "text": [
      "\u001b[32m[I 2020-05-29 19:41:38,872]\u001b[0m Finished trial#126 with value: 0.501 with parameters: {'sigma': 9.467274430427334, 'lam': 6.278285735267681e-11, 'n': 2}. Best is trial#36 with value: 0.516.\u001b[0m\n"
     ]
    },
    {
     "name": "stderr",
     "output_type": "stream",
     "text": [
      "/usr/local/lib/python3.6/dist-packages/ipykernel_launcher.py:25: RuntimeWarning:\n",
      "\n",
      "overflow encountered in exp\n",
      "\n",
      "/usr/local/lib/python3.6/dist-packages/ipykernel_launcher.py:37: RuntimeWarning:\n",
      "\n",
      "divide by zero encountered in true_divide\n",
      "\n"
     ]
    },
    {
     "name": "stdout",
     "output_type": "stream",
     "text": [
      "\u001b[32m[I 2020-05-29 19:41:56,103]\u001b[0m Finished trial#127 with value: 0.48600000000000004 with parameters: {'sigma': 6.74860552398362, 'lam': 1.0882180155470327e-18, 'n': 2}. Best is trial#36 with value: 0.516.\u001b[0m\n"
     ]
    },
    {
     "name": "stderr",
     "output_type": "stream",
     "text": [
      "/usr/local/lib/python3.6/dist-packages/ipykernel_launcher.py:25: RuntimeWarning:\n",
      "\n",
      "overflow encountered in exp\n",
      "\n",
      "/usr/local/lib/python3.6/dist-packages/ipykernel_launcher.py:37: RuntimeWarning:\n",
      "\n",
      "divide by zero encountered in true_divide\n",
      "\n"
     ]
    },
    {
     "name": "stdout",
     "output_type": "stream",
     "text": [
      "\u001b[32m[I 2020-05-29 19:42:15,960]\u001b[0m Finished trial#128 with value: 0.501 with parameters: {'sigma': 2.9421972635563076, 'lam': 2.0811949510123266e-18, 'n': 2}. Best is trial#36 with value: 0.516.\u001b[0m\n"
     ]
    },
    {
     "name": "stderr",
     "output_type": "stream",
     "text": [
      "/usr/local/lib/python3.6/dist-packages/ipykernel_launcher.py:25: RuntimeWarning:\n",
      "\n",
      "overflow encountered in exp\n",
      "\n",
      "/usr/local/lib/python3.6/dist-packages/ipykernel_launcher.py:37: RuntimeWarning:\n",
      "\n",
      "divide by zero encountered in true_divide\n",
      "\n"
     ]
    },
    {
     "name": "stdout",
     "output_type": "stream",
     "text": [
      "\u001b[32m[I 2020-05-29 19:42:34,802]\u001b[0m Finished trial#129 with value: 0.48600000000000004 with parameters: {'sigma': 7.924003390748277, 'lam': 1.0545615122035964e-18, 'n': 2}. Best is trial#36 with value: 0.516.\u001b[0m\n"
     ]
    },
    {
     "name": "stderr",
     "output_type": "stream",
     "text": [
      "/usr/local/lib/python3.6/dist-packages/ipykernel_launcher.py:25: RuntimeWarning:\n",
      "\n",
      "overflow encountered in exp\n",
      "\n",
      "/usr/local/lib/python3.6/dist-packages/ipykernel_launcher.py:37: RuntimeWarning:\n",
      "\n",
      "divide by zero encountered in true_divide\n",
      "\n"
     ]
    },
    {
     "name": "stdout",
     "output_type": "stream",
     "text": [
      "\u001b[32m[I 2020-05-29 19:42:53,213]\u001b[0m Finished trial#130 with value: 0.501 with parameters: {'sigma': 3.9403591164153347, 'lam': 4.620476232426093e-18, 'n': 2}. Best is trial#36 with value: 0.516.\u001b[0m\n"
     ]
    },
    {
     "name": "stderr",
     "output_type": "stream",
     "text": [
      "/usr/local/lib/python3.6/dist-packages/ipykernel_launcher.py:25: RuntimeWarning:\n",
      "\n",
      "overflow encountered in exp\n",
      "\n",
      "/usr/local/lib/python3.6/dist-packages/ipykernel_launcher.py:37: RuntimeWarning:\n",
      "\n",
      "divide by zero encountered in true_divide\n",
      "\n"
     ]
    },
    {
     "name": "stdout",
     "output_type": "stream",
     "text": [
      "\u001b[32m[I 2020-05-29 19:43:11,064]\u001b[0m Finished trial#131 with value: 0.501 with parameters: {'sigma': 9.206329193681768, 'lam': 1.425072741983423e-17, 'n': 2}. Best is trial#36 with value: 0.516.\u001b[0m\n"
     ]
    },
    {
     "name": "stderr",
     "output_type": "stream",
     "text": [
      "/usr/local/lib/python3.6/dist-packages/ipykernel_launcher.py:25: RuntimeWarning:\n",
      "\n",
      "overflow encountered in exp\n",
      "\n",
      "/usr/local/lib/python3.6/dist-packages/ipykernel_launcher.py:37: RuntimeWarning:\n",
      "\n",
      "divide by zero encountered in true_divide\n",
      "\n"
     ]
    },
    {
     "name": "stdout",
     "output_type": "stream",
     "text": [
      "\u001b[32m[I 2020-05-29 19:43:27,486]\u001b[0m Finished trial#132 with value: 0.501 with parameters: {'sigma': 8.211546031481712, 'lam': 4.4700599504611875e-17, 'n': 2}. Best is trial#36 with value: 0.516.\u001b[0m\n"
     ]
    },
    {
     "name": "stderr",
     "output_type": "stream",
     "text": [
      "/usr/local/lib/python3.6/dist-packages/ipykernel_launcher.py:25: RuntimeWarning:\n",
      "\n",
      "overflow encountered in exp\n",
      "\n",
      "/usr/local/lib/python3.6/dist-packages/ipykernel_launcher.py:37: RuntimeWarning:\n",
      "\n",
      "divide by zero encountered in true_divide\n",
      "\n"
     ]
    },
    {
     "name": "stdout",
     "output_type": "stream",
     "text": [
      "\u001b[32m[I 2020-05-29 19:43:43,707]\u001b[0m Finished trial#133 with value: 0.5029999999999999 with parameters: {'sigma': 8.626774279266147, 'lam': 7.675693955465441e-18, 'n': 2}. Best is trial#36 with value: 0.516.\u001b[0m\n"
     ]
    },
    {
     "name": "stderr",
     "output_type": "stream",
     "text": [
      "/usr/local/lib/python3.6/dist-packages/ipykernel_launcher.py:25: RuntimeWarning:\n",
      "\n",
      "overflow encountered in exp\n",
      "\n",
      "/usr/local/lib/python3.6/dist-packages/ipykernel_launcher.py:37: RuntimeWarning:\n",
      "\n",
      "divide by zero encountered in true_divide\n",
      "\n"
     ]
    },
    {
     "name": "stdout",
     "output_type": "stream",
     "text": [
      "\u001b[32m[I 2020-05-29 19:44:01,836]\u001b[0m Finished trial#134 with value: 0.501 with parameters: {'sigma': 9.690683667627631, 'lam': 1.465345815453666e-16, 'n': 2}. Best is trial#36 with value: 0.516.\u001b[0m\n"
     ]
    },
    {
     "name": "stderr",
     "output_type": "stream",
     "text": [
      "/usr/local/lib/python3.6/dist-packages/ipykernel_launcher.py:25: RuntimeWarning:\n",
      "\n",
      "overflow encountered in exp\n",
      "\n",
      "/usr/local/lib/python3.6/dist-packages/ipykernel_launcher.py:37: RuntimeWarning:\n",
      "\n",
      "divide by zero encountered in true_divide\n",
      "\n"
     ]
    },
    {
     "name": "stdout",
     "output_type": "stream",
     "text": [
      "\u001b[32m[I 2020-05-29 19:44:19,177]\u001b[0m Finished trial#135 with value: 0.5 with parameters: {'sigma': 7.316329197697481, 'lam': 2.9386717344182244e-18, 'n': 2}. Best is trial#36 with value: 0.516.\u001b[0m\n"
     ]
    },
    {
     "name": "stderr",
     "output_type": "stream",
     "text": [
      "/usr/local/lib/python3.6/dist-packages/ipykernel_launcher.py:25: RuntimeWarning:\n",
      "\n",
      "overflow encountered in exp\n",
      "\n",
      "/usr/local/lib/python3.6/dist-packages/ipykernel_launcher.py:37: RuntimeWarning:\n",
      "\n",
      "divide by zero encountered in true_divide\n",
      "\n"
     ]
    },
    {
     "name": "stdout",
     "output_type": "stream",
     "text": [
      "\u001b[32m[I 2020-05-29 19:44:37,776]\u001b[0m Finished trial#136 with value: 0.48100000000000004 with parameters: {'sigma': 9.044521757446843, 'lam': 1.0402117973982465e-18, 'n': 2}. Best is trial#36 with value: 0.516.\u001b[0m\n"
     ]
    },
    {
     "name": "stderr",
     "output_type": "stream",
     "text": [
      "/usr/local/lib/python3.6/dist-packages/ipykernel_launcher.py:25: RuntimeWarning:\n",
      "\n",
      "overflow encountered in exp\n",
      "\n",
      "/usr/local/lib/python3.6/dist-packages/ipykernel_launcher.py:37: RuntimeWarning:\n",
      "\n",
      "divide by zero encountered in true_divide\n",
      "\n"
     ]
    },
    {
     "name": "stdout",
     "output_type": "stream",
     "text": [
      "\u001b[32m[I 2020-05-29 19:44:55,358]\u001b[0m Finished trial#137 with value: 0.5 with parameters: {'sigma': 9.894982157776608, 'lam': 9.895729721408947e-18, 'n': 2}. Best is trial#36 with value: 0.516.\u001b[0m\n"
     ]
    },
    {
     "name": "stderr",
     "output_type": "stream",
     "text": [
      "/usr/local/lib/python3.6/dist-packages/ipykernel_launcher.py:25: RuntimeWarning:\n",
      "\n",
      "overflow encountered in exp\n",
      "\n",
      "/usr/local/lib/python3.6/dist-packages/ipykernel_launcher.py:37: RuntimeWarning:\n",
      "\n",
      "divide by zero encountered in true_divide\n",
      "\n"
     ]
    },
    {
     "name": "stdout",
     "output_type": "stream",
     "text": [
      "\u001b[32m[I 2020-05-29 19:45:13,854]\u001b[0m Finished trial#138 with value: 0.493 with parameters: {'sigma': 8.116349696871257, 'lam': 2.6320991559844875e-17, 'n': 2}. Best is trial#36 with value: 0.516.\u001b[0m\n"
     ]
    },
    {
     "name": "stderr",
     "output_type": "stream",
     "text": [
      "/usr/local/lib/python3.6/dist-packages/ipykernel_launcher.py:25: RuntimeWarning:\n",
      "\n",
      "overflow encountered in exp\n",
      "\n",
      "/usr/local/lib/python3.6/dist-packages/ipykernel_launcher.py:37: RuntimeWarning:\n",
      "\n",
      "divide by zero encountered in true_divide\n",
      "\n"
     ]
    },
    {
     "name": "stdout",
     "output_type": "stream",
     "text": [
      "\u001b[32m[I 2020-05-29 19:45:32,320]\u001b[0m Finished trial#139 with value: 0.49800000000000005 with parameters: {'sigma': 9.316576776747088, 'lam': 2.627370028570424e-18, 'n': 2}. Best is trial#36 with value: 0.516.\u001b[0m\n",
      "\u001b[32m[I 2020-05-29 19:45:57,941]\u001b[0m Finished trial#140 with value: 0.501 with parameters: {'sigma': 4.925470214314321, 'lam': 0.0005672464769258068, 'n': 2}. Best is trial#36 with value: 0.516.\u001b[0m\n"
     ]
    },
    {
     "name": "stderr",
     "output_type": "stream",
     "text": [
      "/usr/local/lib/python3.6/dist-packages/ipykernel_launcher.py:25: RuntimeWarning:\n",
      "\n",
      "overflow encountered in exp\n",
      "\n",
      "/usr/local/lib/python3.6/dist-packages/ipykernel_launcher.py:37: RuntimeWarning:\n",
      "\n",
      "divide by zero encountered in true_divide\n",
      "\n"
     ]
    },
    {
     "name": "stdout",
     "output_type": "stream",
     "text": [
      "\u001b[32m[I 2020-05-29 19:46:16,395]\u001b[0m Finished trial#141 with value: 0.484 with parameters: {'sigma': 9.619027925465703, 'lam': 1.1408573289540474e-18, 'n': 2}. Best is trial#36 with value: 0.516.\u001b[0m\n"
     ]
    },
    {
     "name": "stderr",
     "output_type": "stream",
     "text": [
      "/usr/local/lib/python3.6/dist-packages/ipykernel_launcher.py:25: RuntimeWarning:\n",
      "\n",
      "overflow encountered in exp\n",
      "\n",
      "/usr/local/lib/python3.6/dist-packages/ipykernel_launcher.py:37: RuntimeWarning:\n",
      "\n",
      "divide by zero encountered in true_divide\n",
      "\n"
     ]
    },
    {
     "name": "stdout",
     "output_type": "stream",
     "text": [
      "\u001b[32m[I 2020-05-29 19:46:33,639]\u001b[0m Finished trial#142 with value: 0.489 with parameters: {'sigma': 8.766995525134508, 'lam': 1.0035156445176749e-18, 'n': 2}. Best is trial#36 with value: 0.516.\u001b[0m\n"
     ]
    },
    {
     "name": "stderr",
     "output_type": "stream",
     "text": [
      "/usr/local/lib/python3.6/dist-packages/ipykernel_launcher.py:25: RuntimeWarning:\n",
      "\n",
      "overflow encountered in exp\n",
      "\n",
      "/usr/local/lib/python3.6/dist-packages/ipykernel_launcher.py:37: RuntimeWarning:\n",
      "\n",
      "divide by zero encountered in true_divide\n",
      "\n"
     ]
    },
    {
     "name": "stdout",
     "output_type": "stream",
     "text": [
      "\u001b[32m[I 2020-05-29 19:46:53,182]\u001b[0m Finished trial#143 with value: 0.49700000000000005 with parameters: {'sigma': 9.363605519209692, 'lam': 7.641509461886629e-18, 'n': 2}. Best is trial#36 with value: 0.516.\u001b[0m\n"
     ]
    },
    {
     "name": "stderr",
     "output_type": "stream",
     "text": [
      "/usr/local/lib/python3.6/dist-packages/ipykernel_launcher.py:25: RuntimeWarning:\n",
      "\n",
      "overflow encountered in exp\n",
      "\n",
      "/usr/local/lib/python3.6/dist-packages/ipykernel_launcher.py:37: RuntimeWarning:\n",
      "\n",
      "divide by zero encountered in true_divide\n",
      "\n"
     ]
    },
    {
     "name": "stdout",
     "output_type": "stream",
     "text": [
      "\u001b[32m[I 2020-05-29 19:47:10,263]\u001b[0m Finished trial#144 with value: 0.49700000000000005 with parameters: {'sigma': 8.7299318894208, 'lam': 4.794886660257649e-18, 'n': 2}. Best is trial#36 with value: 0.516.\u001b[0m\n"
     ]
    },
    {
     "name": "stderr",
     "output_type": "stream",
     "text": [
      "/usr/local/lib/python3.6/dist-packages/ipykernel_launcher.py:25: RuntimeWarning:\n",
      "\n",
      "overflow encountered in exp\n",
      "\n",
      "/usr/local/lib/python3.6/dist-packages/ipykernel_launcher.py:37: RuntimeWarning:\n",
      "\n",
      "divide by zero encountered in true_divide\n",
      "\n"
     ]
    },
    {
     "name": "stdout",
     "output_type": "stream",
     "text": [
      "\u001b[32m[I 2020-05-29 19:47:28,320]\u001b[0m Finished trial#145 with value: 0.5 with parameters: {'sigma': 9.989662217779061, 'lam': 1.056795219695259e-18, 'n': 2}. Best is trial#36 with value: 0.516.\u001b[0m\n"
     ]
    },
    {
     "name": "stderr",
     "output_type": "stream",
     "text": [
      "/usr/local/lib/python3.6/dist-packages/ipykernel_launcher.py:25: RuntimeWarning:\n",
      "\n",
      "overflow encountered in exp\n",
      "\n",
      "/usr/local/lib/python3.6/dist-packages/ipykernel_launcher.py:37: RuntimeWarning:\n",
      "\n",
      "divide by zero encountered in true_divide\n",
      "\n"
     ]
    },
    {
     "name": "stdout",
     "output_type": "stream",
     "text": [
      "\u001b[32m[I 2020-05-29 19:47:46,986]\u001b[0m Finished trial#146 with value: 0.5 with parameters: {'sigma': 7.598899621170645, 'lam': 1.6313750418578924e-17, 'n': 2}. Best is trial#36 with value: 0.516.\u001b[0m\n"
     ]
    },
    {
     "name": "stderr",
     "output_type": "stream",
     "text": [
      "/usr/local/lib/python3.6/dist-packages/ipykernel_launcher.py:25: RuntimeWarning:\n",
      "\n",
      "overflow encountered in exp\n",
      "\n",
      "/usr/local/lib/python3.6/dist-packages/ipykernel_launcher.py:37: RuntimeWarning:\n",
      "\n",
      "divide by zero encountered in true_divide\n",
      "\n"
     ]
    },
    {
     "name": "stdout",
     "output_type": "stream",
     "text": [
      "\u001b[32m[I 2020-05-29 19:48:04,898]\u001b[0m Finished trial#147 with value: 0.501 with parameters: {'sigma': 8.392167407856247, 'lam': 9.202933243032054e-17, 'n': 2}. Best is trial#36 with value: 0.516.\u001b[0m\n"
     ]
    },
    {
     "name": "stderr",
     "output_type": "stream",
     "text": [
      "/usr/local/lib/python3.6/dist-packages/ipykernel_launcher.py:25: RuntimeWarning:\n",
      "\n",
      "overflow encountered in exp\n",
      "\n",
      "/usr/local/lib/python3.6/dist-packages/ipykernel_launcher.py:37: RuntimeWarning:\n",
      "\n",
      "divide by zero encountered in true_divide\n",
      "\n"
     ]
    },
    {
     "name": "stdout",
     "output_type": "stream",
     "text": [
      "\u001b[32m[I 2020-05-29 19:48:23,964]\u001b[0m Finished trial#148 with value: 0.48100000000000004 with parameters: {'sigma': 5.318641619523634, 'lam': 2.273704252032588e-18, 'n': 2}. Best is trial#36 with value: 0.516.\u001b[0m\n"
     ]
    },
    {
     "name": "stderr",
     "output_type": "stream",
     "text": [
      "/usr/local/lib/python3.6/dist-packages/ipykernel_launcher.py:25: RuntimeWarning:\n",
      "\n",
      "overflow encountered in exp\n",
      "\n",
      "/usr/local/lib/python3.6/dist-packages/ipykernel_launcher.py:37: RuntimeWarning:\n",
      "\n",
      "divide by zero encountered in true_divide\n",
      "\n"
     ]
    },
    {
     "name": "stdout",
     "output_type": "stream",
     "text": [
      "\u001b[32m[I 2020-05-29 19:48:43,880]\u001b[0m Finished trial#149 with value: 0.512 with parameters: {'sigma': 9.44352659574183, 'lam': 3.615834035596784e-17, 'n': 2}. Best is trial#36 with value: 0.516.\u001b[0m\n"
     ]
    },
    {
     "name": "stderr",
     "output_type": "stream",
     "text": [
      "/usr/local/lib/python3.6/dist-packages/ipykernel_launcher.py:25: RuntimeWarning:\n",
      "\n",
      "overflow encountered in exp\n",
      "\n",
      "/usr/local/lib/python3.6/dist-packages/ipykernel_launcher.py:37: RuntimeWarning:\n",
      "\n",
      "divide by zero encountered in true_divide\n",
      "\n"
     ]
    },
    {
     "name": "stdout",
     "output_type": "stream",
     "text": [
      "\u001b[32m[I 2020-05-29 19:49:02,031]\u001b[0m Finished trial#150 with value: 0.5029999999999999 with parameters: {'sigma': 9.014642461107226, 'lam': 8.050134037655328e-17, 'n': 2}. Best is trial#36 with value: 0.516.\u001b[0m\n"
     ]
    },
    {
     "name": "stderr",
     "output_type": "stream",
     "text": [
      "/usr/local/lib/python3.6/dist-packages/ipykernel_launcher.py:25: RuntimeWarning:\n",
      "\n",
      "overflow encountered in exp\n",
      "\n",
      "/usr/local/lib/python3.6/dist-packages/ipykernel_launcher.py:37: RuntimeWarning:\n",
      "\n",
      "divide by zero encountered in true_divide\n",
      "\n"
     ]
    },
    {
     "name": "stdout",
     "output_type": "stream",
     "text": [
      "\u001b[32m[I 2020-05-29 19:49:21,201]\u001b[0m Finished trial#151 with value: 0.517 with parameters: {'sigma': 9.99627687304305, 'lam': 3.0733236830744193e-17, 'n': 2}. Best is trial#151 with value: 0.517.\u001b[0m\n"
     ]
    },
    {
     "name": "stderr",
     "output_type": "stream",
     "text": [
      "/usr/local/lib/python3.6/dist-packages/ipykernel_launcher.py:25: RuntimeWarning:\n",
      "\n",
      "overflow encountered in exp\n",
      "\n",
      "/usr/local/lib/python3.6/dist-packages/ipykernel_launcher.py:37: RuntimeWarning:\n",
      "\n",
      "divide by zero encountered in true_divide\n",
      "\n"
     ]
    },
    {
     "name": "stdout",
     "output_type": "stream",
     "text": [
      "\u001b[32m[I 2020-05-29 19:49:38,210]\u001b[0m Finished trial#152 with value: 0.512 with parameters: {'sigma': 9.910862158385243, 'lam': 3.596787255808885e-17, 'n': 2}. Best is trial#151 with value: 0.517.\u001b[0m\n"
     ]
    },
    {
     "name": "stderr",
     "output_type": "stream",
     "text": [
      "/usr/local/lib/python3.6/dist-packages/ipykernel_launcher.py:25: RuntimeWarning:\n",
      "\n",
      "overflow encountered in exp\n",
      "\n",
      "/usr/local/lib/python3.6/dist-packages/ipykernel_launcher.py:37: RuntimeWarning:\n",
      "\n",
      "divide by zero encountered in true_divide\n",
      "\n"
     ]
    },
    {
     "name": "stdout",
     "output_type": "stream",
     "text": [
      "\u001b[32m[I 2020-05-29 19:49:56,911]\u001b[0m Finished trial#153 with value: 0.501 with parameters: {'sigma': 9.87854583547731, 'lam': 3.1505473964477997e-16, 'n': 2}. Best is trial#151 with value: 0.517.\u001b[0m\n"
     ]
    },
    {
     "name": "stderr",
     "output_type": "stream",
     "text": [
      "/usr/local/lib/python3.6/dist-packages/ipykernel_launcher.py:25: RuntimeWarning:\n",
      "\n",
      "overflow encountered in exp\n",
      "\n",
      "/usr/local/lib/python3.6/dist-packages/ipykernel_launcher.py:37: RuntimeWarning:\n",
      "\n",
      "divide by zero encountered in true_divide\n",
      "\n"
     ]
    },
    {
     "name": "stdout",
     "output_type": "stream",
     "text": [
      "\u001b[32m[I 2020-05-29 19:50:15,003]\u001b[0m Finished trial#154 with value: 0.501 with parameters: {'sigma': 8.373150558459097, 'lam': 3.155883717754526e-17, 'n': 2}. Best is trial#151 with value: 0.517.\u001b[0m\n"
     ]
    },
    {
     "name": "stderr",
     "output_type": "stream",
     "text": [
      "/usr/local/lib/python3.6/dist-packages/ipykernel_launcher.py:25: RuntimeWarning:\n",
      "\n",
      "overflow encountered in exp\n",
      "\n",
      "/usr/local/lib/python3.6/dist-packages/ipykernel_launcher.py:37: RuntimeWarning:\n",
      "\n",
      "divide by zero encountered in true_divide\n",
      "\n"
     ]
    },
    {
     "name": "stdout",
     "output_type": "stream",
     "text": [
      "\u001b[32m[I 2020-05-29 19:50:36,398]\u001b[0m Finished trial#155 with value: 0.501 with parameters: {'sigma': 2.339022481585697, 'lam': 1.2835653505028132e-15, 'n': 2}. Best is trial#151 with value: 0.517.\u001b[0m\n"
     ]
    },
    {
     "name": "stderr",
     "output_type": "stream",
     "text": [
      "/usr/local/lib/python3.6/dist-packages/ipykernel_launcher.py:25: RuntimeWarning:\n",
      "\n",
      "overflow encountered in exp\n",
      "\n",
      "/usr/local/lib/python3.6/dist-packages/ipykernel_launcher.py:37: RuntimeWarning:\n",
      "\n",
      "divide by zero encountered in true_divide\n",
      "\n"
     ]
    },
    {
     "name": "stdout",
     "output_type": "stream",
     "text": [
      "\u001b[32m[I 2020-05-29 19:50:53,865]\u001b[0m Finished trial#156 with value: 0.512 with parameters: {'sigma': 9.969047605626528, 'lam': 3.650282034802498e-17, 'n': 2}. Best is trial#151 with value: 0.517.\u001b[0m\n"
     ]
    },
    {
     "name": "stderr",
     "output_type": "stream",
     "text": [
      "/usr/local/lib/python3.6/dist-packages/ipykernel_launcher.py:25: RuntimeWarning:\n",
      "\n",
      "overflow encountered in exp\n",
      "\n",
      "/usr/local/lib/python3.6/dist-packages/ipykernel_launcher.py:37: RuntimeWarning:\n",
      "\n",
      "divide by zero encountered in true_divide\n",
      "\n"
     ]
    },
    {
     "name": "stdout",
     "output_type": "stream",
     "text": [
      "\u001b[32m[I 2020-05-29 19:51:12,321]\u001b[0m Finished trial#157 with value: 0.483 with parameters: {'sigma': 9.9852911009423, 'lam': 4.742818553223846e-17, 'n': 2}. Best is trial#151 with value: 0.517.\u001b[0m\n"
     ]
    },
    {
     "name": "stderr",
     "output_type": "stream",
     "text": [
      "/usr/local/lib/python3.6/dist-packages/ipykernel_launcher.py:25: RuntimeWarning:\n",
      "\n",
      "overflow encountered in exp\n",
      "\n",
      "/usr/local/lib/python3.6/dist-packages/ipykernel_launcher.py:37: RuntimeWarning:\n",
      "\n",
      "divide by zero encountered in true_divide\n",
      "\n"
     ]
    },
    {
     "name": "stdout",
     "output_type": "stream",
     "text": [
      "\u001b[32m[I 2020-05-29 19:51:30,665]\u001b[0m Finished trial#158 with value: 0.501 with parameters: {'sigma': 4.586584680821601, 'lam': 2.0185923217225622e-17, 'n': 2}. Best is trial#151 with value: 0.517.\u001b[0m\n"
     ]
    },
    {
     "name": "stderr",
     "output_type": "stream",
     "text": [
      "/usr/local/lib/python3.6/dist-packages/ipykernel_launcher.py:25: RuntimeWarning:\n",
      "\n",
      "overflow encountered in exp\n",
      "\n",
      "/usr/local/lib/python3.6/dist-packages/ipykernel_launcher.py:37: RuntimeWarning:\n",
      "\n",
      "divide by zero encountered in true_divide\n",
      "\n"
     ]
    },
    {
     "name": "stdout",
     "output_type": "stream",
     "text": [
      "\u001b[32m[I 2020-05-29 19:51:50,324]\u001b[0m Finished trial#159 with value: 0.514 with parameters: {'sigma': 9.290446755225787, 'lam': 7.109673217206154e-17, 'n': 2}. Best is trial#151 with value: 0.517.\u001b[0m\n"
     ]
    },
    {
     "name": "stderr",
     "output_type": "stream",
     "text": [
      "/usr/local/lib/python3.6/dist-packages/ipykernel_launcher.py:25: RuntimeWarning:\n",
      "\n",
      "overflow encountered in exp\n",
      "\n",
      "/usr/local/lib/python3.6/dist-packages/ipykernel_launcher.py:37: RuntimeWarning:\n",
      "\n",
      "divide by zero encountered in true_divide\n",
      "\n"
     ]
    },
    {
     "name": "stdout",
     "output_type": "stream",
     "text": [
      "\u001b[32m[I 2020-05-29 19:52:07,211]\u001b[0m Finished trial#160 with value: 0.501 with parameters: {'sigma': 9.335587919028328, 'lam': 1.539819375619318e-16, 'n': 2}. Best is trial#151 with value: 0.517.\u001b[0m\n"
     ]
    },
    {
     "name": "stderr",
     "output_type": "stream",
     "text": [
      "/usr/local/lib/python3.6/dist-packages/ipykernel_launcher.py:25: RuntimeWarning:\n",
      "\n",
      "overflow encountered in exp\n",
      "\n",
      "/usr/local/lib/python3.6/dist-packages/ipykernel_launcher.py:37: RuntimeWarning:\n",
      "\n",
      "divide by zero encountered in true_divide\n",
      "\n"
     ]
    },
    {
     "name": "stdout",
     "output_type": "stream",
     "text": [
      "\u001b[32m[I 2020-05-29 19:52:23,727]\u001b[0m Finished trial#161 with value: 0.48100000000000004 with parameters: {'sigma': 9.97586804332883, 'lam': 5.4857400941717305e-17, 'n': 2}. Best is trial#151 with value: 0.517.\u001b[0m\n"
     ]
    },
    {
     "name": "stderr",
     "output_type": "stream",
     "text": [
      "/usr/local/lib/python3.6/dist-packages/ipykernel_launcher.py:25: RuntimeWarning:\n",
      "\n",
      "overflow encountered in exp\n",
      "\n",
      "/usr/local/lib/python3.6/dist-packages/ipykernel_launcher.py:37: RuntimeWarning:\n",
      "\n",
      "divide by zero encountered in true_divide\n",
      "\n"
     ]
    },
    {
     "name": "stdout",
     "output_type": "stream",
     "text": [
      "\u001b[32m[I 2020-05-29 19:52:41,110]\u001b[0m Finished trial#162 with value: 0.501 with parameters: {'sigma': 9.433850111766292, 'lam': 4.310117788354024e-16, 'n': 2}. Best is trial#151 with value: 0.517.\u001b[0m\n"
     ]
    },
    {
     "name": "stderr",
     "output_type": "stream",
     "text": [
      "/usr/local/lib/python3.6/dist-packages/ipykernel_launcher.py:25: RuntimeWarning:\n",
      "\n",
      "overflow encountered in exp\n",
      "\n",
      "/usr/local/lib/python3.6/dist-packages/ipykernel_launcher.py:37: RuntimeWarning:\n",
      "\n",
      "divide by zero encountered in true_divide\n",
      "\n"
     ]
    },
    {
     "name": "stdout",
     "output_type": "stream",
     "text": [
      "\u001b[32m[I 2020-05-29 19:52:59,214]\u001b[0m Finished trial#163 with value: 0.501 with parameters: {'sigma': 3.771594336607431, 'lam': 6.810931372562681e-18, 'n': 2}. Best is trial#151 with value: 0.517.\u001b[0m\n"
     ]
    },
    {
     "name": "stderr",
     "output_type": "stream",
     "text": [
      "/usr/local/lib/python3.6/dist-packages/ipykernel_launcher.py:25: RuntimeWarning:\n",
      "\n",
      "overflow encountered in exp\n",
      "\n",
      "/usr/local/lib/python3.6/dist-packages/ipykernel_launcher.py:37: RuntimeWarning:\n",
      "\n",
      "divide by zero encountered in true_divide\n",
      "\n"
     ]
    },
    {
     "name": "stdout",
     "output_type": "stream",
     "text": [
      "\u001b[32m[I 2020-05-29 19:53:16,586]\u001b[0m Finished trial#164 with value: 0.501 with parameters: {'sigma': 8.633405460521445, 'lam': 1.6665643895613155e-16, 'n': 2}. Best is trial#151 with value: 0.517.\u001b[0m\n"
     ]
    },
    {
     "name": "stderr",
     "output_type": "stream",
     "text": [
      "/usr/local/lib/python3.6/dist-packages/ipykernel_launcher.py:25: RuntimeWarning:\n",
      "\n",
      "overflow encountered in exp\n",
      "\n",
      "/usr/local/lib/python3.6/dist-packages/ipykernel_launcher.py:37: RuntimeWarning:\n",
      "\n",
      "divide by zero encountered in true_divide\n",
      "\n"
     ]
    },
    {
     "name": "stdout",
     "output_type": "stream",
     "text": [
      "\u001b[32m[I 2020-05-29 19:53:33,620]\u001b[0m Finished trial#165 with value: 0.48200000000000004 with parameters: {'sigma': 9.996392820923498, 'lam': 2.784976074800569e-17, 'n': 2}. Best is trial#151 with value: 0.517.\u001b[0m\n"
     ]
    },
    {
     "name": "stderr",
     "output_type": "stream",
     "text": [
      "/usr/local/lib/python3.6/dist-packages/ipykernel_launcher.py:25: RuntimeWarning:\n",
      "\n",
      "overflow encountered in exp\n",
      "\n",
      "/usr/local/lib/python3.6/dist-packages/ipykernel_launcher.py:37: RuntimeWarning:\n",
      "\n",
      "divide by zero encountered in true_divide\n",
      "\n"
     ]
    },
    {
     "name": "stdout",
     "output_type": "stream",
     "text": [
      "\u001b[32m[I 2020-05-29 19:53:54,502]\u001b[0m Finished trial#166 with value: 0.501 with parameters: {'sigma': 1.17001635048556, 'lam': 1.3175256999683228e-17, 'n': 2}. Best is trial#151 with value: 0.517.\u001b[0m\n"
     ]
    },
    {
     "name": "stderr",
     "output_type": "stream",
     "text": [
      "/usr/local/lib/python3.6/dist-packages/ipykernel_launcher.py:25: RuntimeWarning:\n",
      "\n",
      "overflow encountered in exp\n",
      "\n",
      "/usr/local/lib/python3.6/dist-packages/ipykernel_launcher.py:37: RuntimeWarning:\n",
      "\n",
      "divide by zero encountered in true_divide\n",
      "\n"
     ]
    },
    {
     "name": "stdout",
     "output_type": "stream",
     "text": [
      "\u001b[32m[I 2020-05-29 19:54:11,905]\u001b[0m Finished trial#167 with value: 0.5069999999999999 with parameters: {'sigma': 7.956959929475806, 'lam': 4.431187162036303e-18, 'n': 2}. Best is trial#151 with value: 0.517.\u001b[0m\n"
     ]
    },
    {
     "name": "stderr",
     "output_type": "stream",
     "text": [
      "/usr/local/lib/python3.6/dist-packages/ipykernel_launcher.py:25: RuntimeWarning:\n",
      "\n",
      "overflow encountered in exp\n",
      "\n",
      "/usr/local/lib/python3.6/dist-packages/ipykernel_launcher.py:37: RuntimeWarning:\n",
      "\n",
      "divide by zero encountered in true_divide\n",
      "\n"
     ]
    },
    {
     "name": "stdout",
     "output_type": "stream",
     "text": [
      "\u001b[32m[I 2020-05-29 19:54:30,322]\u001b[0m Finished trial#168 with value: 0.501 with parameters: {'sigma': 8.986548398806502, 'lam': 5.472125615545877e-15, 'n': 2}. Best is trial#151 with value: 0.517.\u001b[0m\n"
     ]
    },
    {
     "name": "stderr",
     "output_type": "stream",
     "text": [
      "/usr/local/lib/python3.6/dist-packages/ipykernel_launcher.py:25: RuntimeWarning:\n",
      "\n",
      "overflow encountered in exp\n",
      "\n",
      "/usr/local/lib/python3.6/dist-packages/ipykernel_launcher.py:37: RuntimeWarning:\n",
      "\n",
      "divide by zero encountered in true_divide\n",
      "\n"
     ]
    },
    {
     "name": "stdout",
     "output_type": "stream",
     "text": [
      "\u001b[32m[I 2020-05-29 19:54:48,129]\u001b[0m Finished trial#169 with value: 0.484 with parameters: {'sigma': 9.497104490417474, 'lam': 4.785715519161471e-17, 'n': 2}. Best is trial#151 with value: 0.517.\u001b[0m\n"
     ]
    },
    {
     "name": "stderr",
     "output_type": "stream",
     "text": [
      "/usr/local/lib/python3.6/dist-packages/ipykernel_launcher.py:25: RuntimeWarning:\n",
      "\n",
      "overflow encountered in exp\n",
      "\n",
      "/usr/local/lib/python3.6/dist-packages/ipykernel_launcher.py:37: RuntimeWarning:\n",
      "\n",
      "divide by zero encountered in true_divide\n",
      "\n"
     ]
    },
    {
     "name": "stdout",
     "output_type": "stream",
     "text": [
      "\u001b[32m[I 2020-05-29 19:55:08,870]\u001b[0m Finished trial#170 with value: 0.501 with parameters: {'sigma': 8.36510289225009, 'lam': 1.511424153718192e-07, 'n': 2}. Best is trial#151 with value: 0.517.\u001b[0m\n"
     ]
    },
    {
     "name": "stderr",
     "output_type": "stream",
     "text": [
      "/usr/local/lib/python3.6/dist-packages/ipykernel_launcher.py:25: RuntimeWarning:\n",
      "\n",
      "overflow encountered in exp\n",
      "\n",
      "/usr/local/lib/python3.6/dist-packages/ipykernel_launcher.py:37: RuntimeWarning:\n",
      "\n",
      "divide by zero encountered in true_divide\n",
      "\n"
     ]
    },
    {
     "name": "stdout",
     "output_type": "stream",
     "text": [
      "\u001b[32m[I 2020-05-29 19:55:28,174]\u001b[0m Finished trial#171 with value: 0.48100000000000004 with parameters: {'sigma': 8.94815851100223, 'lam': 1.190755616415365e-17, 'n': 2}. Best is trial#151 with value: 0.517.\u001b[0m\n"
     ]
    },
    {
     "name": "stderr",
     "output_type": "stream",
     "text": [
      "/usr/local/lib/python3.6/dist-packages/ipykernel_launcher.py:25: RuntimeWarning:\n",
      "\n",
      "overflow encountered in exp\n",
      "\n",
      "/usr/local/lib/python3.6/dist-packages/ipykernel_launcher.py:37: RuntimeWarning:\n",
      "\n",
      "divide by zero encountered in true_divide\n",
      "\n"
     ]
    },
    {
     "name": "stdout",
     "output_type": "stream",
     "text": [
      "\u001b[32m[I 2020-05-29 19:55:56,639]\u001b[0m Finished trial#172 with value: 0.49700000000000005 with parameters: {'sigma': 9.096303836621402, 'lam': 7.165569394167523e-18, 'n': 2}. Best is trial#151 with value: 0.517.\u001b[0m\n"
     ]
    },
    {
     "name": "stderr",
     "output_type": "stream",
     "text": [
      "/usr/local/lib/python3.6/dist-packages/ipykernel_launcher.py:25: RuntimeWarning:\n",
      "\n",
      "overflow encountered in exp\n",
      "\n",
      "/usr/local/lib/python3.6/dist-packages/ipykernel_launcher.py:37: RuntimeWarning:\n",
      "\n",
      "divide by zero encountered in true_divide\n",
      "\n"
     ]
    },
    {
     "name": "stdout",
     "output_type": "stream",
     "text": [
      "\u001b[32m[I 2020-05-29 19:56:23,159]\u001b[0m Finished trial#173 with value: 0.517 with parameters: {'sigma': 9.609799529959313, 'lam': 2.5388370620364183e-18, 'n': 2}. Best is trial#151 with value: 0.517.\u001b[0m\n"
     ]
    },
    {
     "name": "stderr",
     "output_type": "stream",
     "text": [
      "/usr/local/lib/python3.6/dist-packages/ipykernel_launcher.py:25: RuntimeWarning:\n",
      "\n",
      "overflow encountered in exp\n",
      "\n",
      "/usr/local/lib/python3.6/dist-packages/ipykernel_launcher.py:37: RuntimeWarning:\n",
      "\n",
      "divide by zero encountered in true_divide\n",
      "\n"
     ]
    },
    {
     "name": "stdout",
     "output_type": "stream",
     "text": [
      "\u001b[32m[I 2020-05-29 19:56:51,215]\u001b[0m Finished trial#174 with value: 0.501 with parameters: {'sigma': 9.583309654230375, 'lam': 2.8505275829067667e-18, 'n': 2}. Best is trial#151 with value: 0.517.\u001b[0m\n",
      "\u001b[32m[I 2020-05-29 19:57:11,409]\u001b[0m Finished trial#175 with value: 0.501 with parameters: {'sigma': 9.972842316755475, 'lam': 0.01612411283981712, 'n': 2}. Best is trial#151 with value: 0.517.\u001b[0m\n"
     ]
    },
    {
     "name": "stderr",
     "output_type": "stream",
     "text": [
      "/usr/local/lib/python3.6/dist-packages/ipykernel_launcher.py:25: RuntimeWarning:\n",
      "\n",
      "overflow encountered in exp\n",
      "\n",
      "/usr/local/lib/python3.6/dist-packages/ipykernel_launcher.py:37: RuntimeWarning:\n",
      "\n",
      "divide by zero encountered in true_divide\n",
      "\n"
     ]
    },
    {
     "name": "stdout",
     "output_type": "stream",
     "text": [
      "\u001b[32m[I 2020-05-29 19:57:28,160]\u001b[0m Finished trial#176 with value: 0.505 with parameters: {'sigma': 8.561439969044896, 'lam': 2.4589070491685962e-17, 'n': 2}. Best is trial#151 with value: 0.517.\u001b[0m\n"
     ]
    },
    {
     "name": "stderr",
     "output_type": "stream",
     "text": [
      "/usr/local/lib/python3.6/dist-packages/ipykernel_launcher.py:25: RuntimeWarning:\n",
      "\n",
      "overflow encountered in exp\n",
      "\n",
      "/usr/local/lib/python3.6/dist-packages/ipykernel_launcher.py:37: RuntimeWarning:\n",
      "\n",
      "divide by zero encountered in true_divide\n",
      "\n"
     ]
    },
    {
     "name": "stdout",
     "output_type": "stream",
     "text": [
      "\u001b[32m[I 2020-05-29 19:57:55,204]\u001b[0m Finished trial#177 with value: 0.48600000000000004 with parameters: {'sigma': 5.917256421422486, 'lam': 2.479182206750416e-18, 'n': 2}. Best is trial#151 with value: 0.517.\u001b[0m\n"
     ]
    },
    {
     "name": "stderr",
     "output_type": "stream",
     "text": [
      "/usr/local/lib/python3.6/dist-packages/ipykernel_launcher.py:25: RuntimeWarning:\n",
      "\n",
      "overflow encountered in exp\n",
      "\n",
      "/usr/local/lib/python3.6/dist-packages/ipykernel_launcher.py:37: RuntimeWarning:\n",
      "\n",
      "divide by zero encountered in true_divide\n",
      "\n"
     ]
    },
    {
     "name": "stdout",
     "output_type": "stream",
     "text": [
      "\u001b[32m[I 2020-05-29 19:58:23,656]\u001b[0m Finished trial#178 with value: 0.506 with parameters: {'sigma': 7.13713754983493, 'lam': 5.059422719686842e-18, 'n': 2}. Best is trial#151 with value: 0.517.\u001b[0m\n"
     ]
    },
    {
     "name": "stderr",
     "output_type": "stream",
     "text": [
      "/usr/local/lib/python3.6/dist-packages/ipykernel_launcher.py:25: RuntimeWarning:\n",
      "\n",
      "overflow encountered in exp\n",
      "\n",
      "/usr/local/lib/python3.6/dist-packages/ipykernel_launcher.py:37: RuntimeWarning:\n",
      "\n",
      "divide by zero encountered in true_divide\n",
      "\n"
     ]
    },
    {
     "name": "stdout",
     "output_type": "stream",
     "text": [
      "\u001b[32m[I 2020-05-29 19:58:52,445]\u001b[0m Finished trial#179 with value: 0.501 with parameters: {'sigma': 9.993460436118824, 'lam': 1.3072952675353067e-16, 'n': 2}. Best is trial#151 with value: 0.517.\u001b[0m\n"
     ]
    },
    {
     "name": "stderr",
     "output_type": "stream",
     "text": [
      "/usr/local/lib/python3.6/dist-packages/ipykernel_launcher.py:25: RuntimeWarning:\n",
      "\n",
      "overflow encountered in exp\n",
      "\n",
      "/usr/local/lib/python3.6/dist-packages/ipykernel_launcher.py:37: RuntimeWarning:\n",
      "\n",
      "divide by zero encountered in true_divide\n",
      "\n"
     ]
    },
    {
     "name": "stdout",
     "output_type": "stream",
     "text": [
      "\u001b[32m[I 2020-05-29 19:59:21,210]\u001b[0m Finished trial#180 with value: 0.501 with parameters: {'sigma': 3.3495531751802026, 'lam': 1.4611952265098464e-17, 'n': 2}. Best is trial#151 with value: 0.517.\u001b[0m\n"
     ]
    },
    {
     "name": "stderr",
     "output_type": "stream",
     "text": [
      "/usr/local/lib/python3.6/dist-packages/ipykernel_launcher.py:25: RuntimeWarning:\n",
      "\n",
      "overflow encountered in exp\n",
      "\n",
      "/usr/local/lib/python3.6/dist-packages/ipykernel_launcher.py:37: RuntimeWarning:\n",
      "\n",
      "divide by zero encountered in true_divide\n",
      "\n"
     ]
    },
    {
     "name": "stdout",
     "output_type": "stream",
     "text": [
      "\u001b[32m[I 2020-05-29 19:59:50,234]\u001b[0m Finished trial#181 with value: 0.513 with parameters: {'sigma': 9.512295096103982, 'lam': 1.0761563186735516e-18, 'n': 2}. Best is trial#151 with value: 0.517.\u001b[0m\n"
     ]
    },
    {
     "name": "stderr",
     "output_type": "stream",
     "text": [
      "/usr/local/lib/python3.6/dist-packages/ipykernel_launcher.py:25: RuntimeWarning:\n",
      "\n",
      "overflow encountered in exp\n",
      "\n",
      "/usr/local/lib/python3.6/dist-packages/ipykernel_launcher.py:37: RuntimeWarning:\n",
      "\n",
      "divide by zero encountered in true_divide\n",
      "\n"
     ]
    },
    {
     "name": "stdout",
     "output_type": "stream",
     "text": [
      "\u001b[32m[I 2020-05-29 20:00:17,370]\u001b[0m Finished trial#182 with value: 0.513 with parameters: {'sigma': 9.29452823315594, 'lam': 1.9291275457272607e-18, 'n': 2}. Best is trial#151 with value: 0.517.\u001b[0m\n"
     ]
    },
    {
     "name": "stderr",
     "output_type": "stream",
     "text": [
      "/usr/local/lib/python3.6/dist-packages/ipykernel_launcher.py:25: RuntimeWarning:\n",
      "\n",
      "overflow encountered in exp\n",
      "\n",
      "/usr/local/lib/python3.6/dist-packages/ipykernel_launcher.py:37: RuntimeWarning:\n",
      "\n",
      "divide by zero encountered in true_divide\n",
      "\n"
     ]
    },
    {
     "name": "stdout",
     "output_type": "stream",
     "text": [
      "\u001b[32m[I 2020-05-29 20:00:44,069]\u001b[0m Finished trial#183 with value: 0.487 with parameters: {'sigma': 9.362330013480983, 'lam': 1.0875065555485502e-18, 'n': 2}. Best is trial#151 with value: 0.517.\u001b[0m\n"
     ]
    },
    {
     "name": "stderr",
     "output_type": "stream",
     "text": [
      "/usr/local/lib/python3.6/dist-packages/ipykernel_launcher.py:25: RuntimeWarning:\n",
      "\n",
      "overflow encountered in exp\n",
      "\n",
      "/usr/local/lib/python3.6/dist-packages/ipykernel_launcher.py:37: RuntimeWarning:\n",
      "\n",
      "divide by zero encountered in true_divide\n",
      "\n"
     ]
    },
    {
     "name": "stdout",
     "output_type": "stream",
     "text": [
      "\u001b[32m[I 2020-05-29 20:01:11,211]\u001b[0m Finished trial#184 with value: 0.483 with parameters: {'sigma': 9.213702534727206, 'lam': 2.600644154643849e-18, 'n': 2}. Best is trial#151 with value: 0.517.\u001b[0m\n"
     ]
    },
    {
     "name": "stderr",
     "output_type": "stream",
     "text": [
      "/usr/local/lib/python3.6/dist-packages/ipykernel_launcher.py:25: RuntimeWarning:\n",
      "\n",
      "overflow encountered in exp\n",
      "\n",
      "/usr/local/lib/python3.6/dist-packages/ipykernel_launcher.py:37: RuntimeWarning:\n",
      "\n",
      "divide by zero encountered in true_divide\n",
      "\n"
     ]
    },
    {
     "name": "stdout",
     "output_type": "stream",
     "text": [
      "\u001b[32m[I 2020-05-29 20:01:40,280]\u001b[0m Finished trial#185 with value: 0.501 with parameters: {'sigma': 4.126364648219696, 'lam': 6.763339835206481e-18, 'n': 2}. Best is trial#151 with value: 0.517.\u001b[0m\n"
     ]
    },
    {
     "name": "stderr",
     "output_type": "stream",
     "text": [
      "/usr/local/lib/python3.6/dist-packages/ipykernel_launcher.py:25: RuntimeWarning:\n",
      "\n",
      "overflow encountered in exp\n",
      "\n",
      "/usr/local/lib/python3.6/dist-packages/ipykernel_launcher.py:37: RuntimeWarning:\n",
      "\n",
      "divide by zero encountered in true_divide\n",
      "\n"
     ]
    },
    {
     "name": "stdout",
     "output_type": "stream",
     "text": [
      "\u001b[32m[I 2020-05-29 20:02:08,270]\u001b[0m Finished trial#186 with value: 0.516 with parameters: {'sigma': 9.559952753438195, 'lam': 1.012782396400746e-18, 'n': 2}. Best is trial#151 with value: 0.517.\u001b[0m\n"
     ]
    },
    {
     "name": "stderr",
     "output_type": "stream",
     "text": [
      "/usr/local/lib/python3.6/dist-packages/ipykernel_launcher.py:25: RuntimeWarning:\n",
      "\n",
      "overflow encountered in exp\n",
      "\n",
      "/usr/local/lib/python3.6/dist-packages/ipykernel_launcher.py:37: RuntimeWarning:\n",
      "\n",
      "divide by zero encountered in true_divide\n",
      "\n"
     ]
    },
    {
     "name": "stdout",
     "output_type": "stream",
     "text": [
      "\u001b[32m[I 2020-05-29 20:02:36,795]\u001b[0m Finished trial#187 with value: 0.514 with parameters: {'sigma': 9.600704819415093, 'lam': 4.559284854086136e-17, 'n': 2}. Best is trial#151 with value: 0.517.\u001b[0m\n"
     ]
    },
    {
     "name": "stderr",
     "output_type": "stream",
     "text": [
      "/usr/local/lib/python3.6/dist-packages/ipykernel_launcher.py:25: RuntimeWarning:\n",
      "\n",
      "overflow encountered in exp\n",
      "\n",
      "/usr/local/lib/python3.6/dist-packages/ipykernel_launcher.py:37: RuntimeWarning:\n",
      "\n",
      "divide by zero encountered in true_divide\n",
      "\n"
     ]
    },
    {
     "name": "stdout",
     "output_type": "stream",
     "text": [
      "\u001b[32m[I 2020-05-29 20:03:05,852]\u001b[0m Finished trial#188 with value: 0.5 with parameters: {'sigma': 9.64866493084225, 'lam': 8.915180417989535e-17, 'n': 2}. Best is trial#151 with value: 0.517.\u001b[0m\n",
      "\u001b[32m[I 2020-05-29 20:03:45,667]\u001b[0m Finished trial#189 with value: 0.501 with parameters: {'sigma': 9.151521261534791, 'lam': 2.6985423241193354e-05, 'n': 2}. Best is trial#151 with value: 0.517.\u001b[0m\n"
     ]
    },
    {
     "name": "stderr",
     "output_type": "stream",
     "text": [
      "/usr/local/lib/python3.6/dist-packages/ipykernel_launcher.py:25: RuntimeWarning:\n",
      "\n",
      "overflow encountered in exp\n",
      "\n",
      "/usr/local/lib/python3.6/dist-packages/ipykernel_launcher.py:37: RuntimeWarning:\n",
      "\n",
      "divide by zero encountered in true_divide\n",
      "\n"
     ]
    },
    {
     "name": "stdout",
     "output_type": "stream",
     "text": [
      "\u001b[32m[I 2020-05-29 20:04:14,206]\u001b[0m Finished trial#190 with value: 0.483 with parameters: {'sigma': 8.15652599410337, 'lam': 4.739090716927115e-18, 'n': 2}. Best is trial#151 with value: 0.517.\u001b[0m\n"
     ]
    },
    {
     "name": "stderr",
     "output_type": "stream",
     "text": [
      "/usr/local/lib/python3.6/dist-packages/ipykernel_launcher.py:25: RuntimeWarning:\n",
      "\n",
      "overflow encountered in exp\n",
      "\n",
      "/usr/local/lib/python3.6/dist-packages/ipykernel_launcher.py:37: RuntimeWarning:\n",
      "\n",
      "divide by zero encountered in true_divide\n",
      "\n"
     ]
    },
    {
     "name": "stdout",
     "output_type": "stream",
     "text": [
      "\u001b[32m[I 2020-05-29 20:04:35,717]\u001b[0m Finished trial#191 with value: 0.501 with parameters: {'sigma': 9.702922712198156, 'lam': 3.3917257300675254e-17, 'n': 2}. Best is trial#151 with value: 0.517.\u001b[0m\n"
     ]
    },
    {
     "name": "stderr",
     "output_type": "stream",
     "text": [
      "/usr/local/lib/python3.6/dist-packages/ipykernel_launcher.py:25: RuntimeWarning:\n",
      "\n",
      "overflow encountered in exp\n",
      "\n",
      "/usr/local/lib/python3.6/dist-packages/ipykernel_launcher.py:37: RuntimeWarning:\n",
      "\n",
      "divide by zero encountered in true_divide\n",
      "\n"
     ]
    },
    {
     "name": "stdout",
     "output_type": "stream",
     "text": [
      "\u001b[32m[I 2020-05-29 20:04:59,361]\u001b[0m Finished trial#192 with value: 0.5 with parameters: {'sigma': 9.910112737399563, 'lam': 1.6321474192599078e-17, 'n': 2}. Best is trial#151 with value: 0.517.\u001b[0m\n"
     ]
    },
    {
     "name": "stderr",
     "output_type": "stream",
     "text": [
      "/usr/local/lib/python3.6/dist-packages/ipykernel_launcher.py:25: RuntimeWarning:\n",
      "\n",
      "overflow encountered in exp\n",
      "\n",
      "/usr/local/lib/python3.6/dist-packages/ipykernel_launcher.py:37: RuntimeWarning:\n",
      "\n",
      "divide by zero encountered in true_divide\n",
      "\n"
     ]
    },
    {
     "name": "stdout",
     "output_type": "stream",
     "text": [
      "\u001b[32m[I 2020-05-29 20:05:28,005]\u001b[0m Finished trial#193 with value: 0.501 with parameters: {'sigma': 9.976922965317673, 'lam': 6.341521020680706e-17, 'n': 2}. Best is trial#151 with value: 0.517.\u001b[0m\n"
     ]
    },
    {
     "name": "stderr",
     "output_type": "stream",
     "text": [
      "/usr/local/lib/python3.6/dist-packages/ipykernel_launcher.py:25: RuntimeWarning:\n",
      "\n",
      "overflow encountered in exp\n",
      "\n",
      "/usr/local/lib/python3.6/dist-packages/ipykernel_launcher.py:37: RuntimeWarning:\n",
      "\n",
      "divide by zero encountered in true_divide\n",
      "\n"
     ]
    },
    {
     "name": "stdout",
     "output_type": "stream",
     "text": [
      "\u001b[32m[I 2020-05-29 20:05:57,011]\u001b[0m Finished trial#194 with value: 0.488 with parameters: {'sigma': 9.466407300571404, 'lam': 2.1648910506769955e-18, 'n': 2}. Best is trial#151 with value: 0.517.\u001b[0m\n"
     ]
    },
    {
     "name": "stderr",
     "output_type": "stream",
     "text": [
      "/usr/local/lib/python3.6/dist-packages/ipykernel_launcher.py:25: RuntimeWarning:\n",
      "\n",
      "overflow encountered in exp\n",
      "\n",
      "/usr/local/lib/python3.6/dist-packages/ipykernel_launcher.py:37: RuntimeWarning:\n",
      "\n",
      "divide by zero encountered in true_divide\n",
      "\n"
     ]
    },
    {
     "name": "stdout",
     "output_type": "stream",
     "text": [
      "\u001b[32m[I 2020-05-29 20:06:25,771]\u001b[0m Finished trial#195 with value: 0.5 with parameters: {'sigma': 8.889135519530402, 'lam': 1.0247714694505132e-18, 'n': 2}. Best is trial#151 with value: 0.517.\u001b[0m\n"
     ]
    },
    {
     "name": "stderr",
     "output_type": "stream",
     "text": [
      "/usr/local/lib/python3.6/dist-packages/ipykernel_launcher.py:25: RuntimeWarning:\n",
      "\n",
      "overflow encountered in exp\n",
      "\n",
      "/usr/local/lib/python3.6/dist-packages/ipykernel_launcher.py:37: RuntimeWarning:\n",
      "\n",
      "divide by zero encountered in true_divide\n",
      "\n"
     ]
    },
    {
     "name": "stdout",
     "output_type": "stream",
     "text": [
      "\u001b[32m[I 2020-05-29 20:06:55,265]\u001b[0m Finished trial#196 with value: 0.511 with parameters: {'sigma': 9.995225447069057, 'lam': 2.9751688532052844e-17, 'n': 2}. Best is trial#151 with value: 0.517.\u001b[0m\n"
     ]
    },
    {
     "name": "stderr",
     "output_type": "stream",
     "text": [
      "/usr/local/lib/python3.6/dist-packages/ipykernel_launcher.py:25: RuntimeWarning:\n",
      "\n",
      "overflow encountered in exp\n",
      "\n",
      "/usr/local/lib/python3.6/dist-packages/ipykernel_launcher.py:37: RuntimeWarning:\n",
      "\n",
      "divide by zero encountered in true_divide\n",
      "\n"
     ]
    },
    {
     "name": "stdout",
     "output_type": "stream",
     "text": [
      "\u001b[32m[I 2020-05-29 20:07:23,198]\u001b[0m Finished trial#197 with value: 0.513 with parameters: {'sigma': 8.770433030255587, 'lam': 8.857685053008661e-18, 'n': 2}. Best is trial#151 with value: 0.517.\u001b[0m\n"
     ]
    },
    {
     "name": "stderr",
     "output_type": "stream",
     "text": [
      "/usr/local/lib/python3.6/dist-packages/ipykernel_launcher.py:25: RuntimeWarning:\n",
      "\n",
      "overflow encountered in exp\n",
      "\n",
      "/usr/local/lib/python3.6/dist-packages/ipykernel_launcher.py:37: RuntimeWarning:\n",
      "\n",
      "divide by zero encountered in true_divide\n",
      "\n"
     ]
    },
    {
     "name": "stdout",
     "output_type": "stream",
     "text": [
      "\u001b[32m[I 2020-05-29 20:07:54,428]\u001b[0m Finished trial#198 with value: 0.48600000000000004 with parameters: {'sigma': 8.677964193888808, 'lam': 1.1097793887009686e-17, 'n': 2}. Best is trial#151 with value: 0.517.\u001b[0m\n"
     ]
    },
    {
     "name": "stderr",
     "output_type": "stream",
     "text": [
      "/usr/local/lib/python3.6/dist-packages/ipykernel_launcher.py:25: RuntimeWarning:\n",
      "\n",
      "overflow encountered in exp\n",
      "\n",
      "/usr/local/lib/python3.6/dist-packages/ipykernel_launcher.py:37: RuntimeWarning:\n",
      "\n",
      "divide by zero encountered in true_divide\n",
      "\n"
     ]
    },
    {
     "name": "stdout",
     "output_type": "stream",
     "text": [
      "\u001b[32m[I 2020-05-29 20:08:21,074]\u001b[0m Finished trial#199 with value: 0.517 with parameters: {'sigma': 8.978830163761018, 'lam': 5.2090878878748346e-18, 'n': 2}. Best is trial#151 with value: 0.517.\u001b[0m\n"
     ]
    },
    {
     "name": "stderr",
     "output_type": "stream",
     "text": [
      "/usr/local/lib/python3.6/dist-packages/ipykernel_launcher.py:25: RuntimeWarning:\n",
      "\n",
      "overflow encountered in exp\n",
      "\n",
      "/usr/local/lib/python3.6/dist-packages/ipykernel_launcher.py:37: RuntimeWarning:\n",
      "\n",
      "divide by zero encountered in true_divide\n",
      "\n"
     ]
    },
    {
     "name": "stdout",
     "output_type": "stream",
     "text": [
      "\u001b[32m[I 2020-05-29 20:08:51,007]\u001b[0m Finished trial#200 with value: 0.5 with parameters: {'sigma': 8.131904143961043, 'lam': 2.0791435575068383e-18, 'n': 2}. Best is trial#151 with value: 0.517.\u001b[0m\n"
     ]
    },
    {
     "name": "stderr",
     "output_type": "stream",
     "text": [
      "/usr/local/lib/python3.6/dist-packages/ipykernel_launcher.py:25: RuntimeWarning:\n",
      "\n",
      "overflow encountered in exp\n",
      "\n",
      "/usr/local/lib/python3.6/dist-packages/ipykernel_launcher.py:37: RuntimeWarning:\n",
      "\n",
      "divide by zero encountered in true_divide\n",
      "\n"
     ]
    },
    {
     "name": "stdout",
     "output_type": "stream",
     "text": [
      "\u001b[32m[I 2020-05-29 20:09:21,173]\u001b[0m Finished trial#201 with value: 0.48100000000000004 with parameters: {'sigma': 9.187829767922098, 'lam': 8.557977011921986e-18, 'n': 2}. Best is trial#151 with value: 0.517.\u001b[0m\n"
     ]
    },
    {
     "name": "stderr",
     "output_type": "stream",
     "text": [
      "/usr/local/lib/python3.6/dist-packages/ipykernel_launcher.py:25: RuntimeWarning:\n",
      "\n",
      "overflow encountered in exp\n",
      "\n",
      "/usr/local/lib/python3.6/dist-packages/ipykernel_launcher.py:37: RuntimeWarning:\n",
      "\n",
      "divide by zero encountered in true_divide\n",
      "\n"
     ]
    },
    {
     "name": "stdout",
     "output_type": "stream",
     "text": [
      "\u001b[32m[I 2020-05-29 20:09:49,440]\u001b[0m Finished trial#202 with value: 0.483 with parameters: {'sigma': 8.809071622332139, 'lam': 3.9753855905606686e-18, 'n': 2}. Best is trial#151 with value: 0.517.\u001b[0m\n"
     ]
    },
    {
     "name": "stderr",
     "output_type": "stream",
     "text": [
      "/usr/local/lib/python3.6/dist-packages/ipykernel_launcher.py:25: RuntimeWarning:\n",
      "\n",
      "overflow encountered in exp\n",
      "\n",
      "/usr/local/lib/python3.6/dist-packages/ipykernel_launcher.py:37: RuntimeWarning:\n",
      "\n",
      "divide by zero encountered in true_divide\n",
      "\n"
     ]
    },
    {
     "name": "stdout",
     "output_type": "stream",
     "text": [
      "\u001b[32m[I 2020-05-29 20:10:18,949]\u001b[0m Finished trial#203 with value: 0.483 with parameters: {'sigma': 8.483163061671663, 'lam': 1.1196426712034836e-18, 'n': 2}. Best is trial#151 with value: 0.517.\u001b[0m\n"
     ]
    },
    {
     "name": "stderr",
     "output_type": "stream",
     "text": [
      "/usr/local/lib/python3.6/dist-packages/ipykernel_launcher.py:25: RuntimeWarning:\n",
      "\n",
      "overflow encountered in exp\n",
      "\n",
      "/usr/local/lib/python3.6/dist-packages/ipykernel_launcher.py:37: RuntimeWarning:\n",
      "\n",
      "divide by zero encountered in true_divide\n",
      "\n"
     ]
    },
    {
     "name": "stdout",
     "output_type": "stream",
     "text": [
      "\u001b[32m[I 2020-05-29 20:10:48,114]\u001b[0m Finished trial#204 with value: 0.48100000000000004 with parameters: {'sigma': 9.160418028740926, 'lam': 5.5146340247450315e-18, 'n': 2}. Best is trial#151 with value: 0.517.\u001b[0m\n"
     ]
    },
    {
     "name": "stderr",
     "output_type": "stream",
     "text": [
      "/usr/local/lib/python3.6/dist-packages/ipykernel_launcher.py:25: RuntimeWarning:\n",
      "\n",
      "overflow encountered in exp\n",
      "\n",
      "/usr/local/lib/python3.6/dist-packages/ipykernel_launcher.py:37: RuntimeWarning:\n",
      "\n",
      "divide by zero encountered in true_divide\n",
      "\n"
     ]
    },
    {
     "name": "stdout",
     "output_type": "stream",
     "text": [
      "\u001b[32m[I 2020-05-29 20:11:19,268]\u001b[0m Finished trial#205 with value: 0.501 with parameters: {'sigma': 9.61081299038608, 'lam': 3.022238859331301e-16, 'n': 2}. Best is trial#151 with value: 0.517.\u001b[0m\n"
     ]
    },
    {
     "name": "stderr",
     "output_type": "stream",
     "text": [
      "/usr/local/lib/python3.6/dist-packages/ipykernel_launcher.py:25: RuntimeWarning:\n",
      "\n",
      "overflow encountered in exp\n",
      "\n",
      "/usr/local/lib/python3.6/dist-packages/ipykernel_launcher.py:37: RuntimeWarning:\n",
      "\n",
      "divide by zero encountered in true_divide\n",
      "\n"
     ]
    },
    {
     "name": "stdout",
     "output_type": "stream",
     "text": [
      "\u001b[32m[I 2020-05-29 20:11:50,172]\u001b[0m Finished trial#206 with value: 0.48100000000000004 with parameters: {'sigma': 9.997182679041291, 'lam': 1.9801668729407455e-18, 'n': 2}. Best is trial#151 with value: 0.517.\u001b[0m\n"
     ]
    },
    {
     "name": "stderr",
     "output_type": "stream",
     "text": [
      "/usr/local/lib/python3.6/dist-packages/ipykernel_launcher.py:25: RuntimeWarning:\n",
      "\n",
      "overflow encountered in exp\n",
      "\n",
      "/usr/local/lib/python3.6/dist-packages/ipykernel_launcher.py:37: RuntimeWarning:\n",
      "\n",
      "divide by zero encountered in true_divide\n",
      "\n"
     ]
    },
    {
     "name": "stdout",
     "output_type": "stream",
     "text": [
      "\u001b[32m[I 2020-05-29 20:12:19,754]\u001b[0m Finished trial#207 with value: 0.48600000000000004 with parameters: {'sigma': 7.761072552173072, 'lam': 1.480546090576207e-17, 'n': 2}. Best is trial#151 with value: 0.517.\u001b[0m\n"
     ]
    },
    {
     "name": "stderr",
     "output_type": "stream",
     "text": [
      "/usr/local/lib/python3.6/dist-packages/ipykernel_launcher.py:25: RuntimeWarning:\n",
      "\n",
      "overflow encountered in exp\n",
      "\n",
      "/usr/local/lib/python3.6/dist-packages/ipykernel_launcher.py:37: RuntimeWarning:\n",
      "\n",
      "divide by zero encountered in true_divide\n",
      "\n"
     ]
    },
    {
     "name": "stdout",
     "output_type": "stream",
     "text": [
      "\u001b[32m[I 2020-05-29 20:12:46,207]\u001b[0m Finished trial#208 with value: 0.49800000000000005 with parameters: {'sigma': 8.91171425496833, 'lam': 1.0964116036965082e-18, 'n': 2}. Best is trial#151 with value: 0.517.\u001b[0m\n"
     ]
    },
    {
     "name": "stderr",
     "output_type": "stream",
     "text": [
      "/usr/local/lib/python3.6/dist-packages/ipykernel_launcher.py:25: RuntimeWarning:\n",
      "\n",
      "overflow encountered in exp\n",
      "\n",
      "/usr/local/lib/python3.6/dist-packages/ipykernel_launcher.py:37: RuntimeWarning:\n",
      "\n",
      "divide by zero encountered in true_divide\n",
      "\n"
     ]
    },
    {
     "name": "stdout",
     "output_type": "stream",
     "text": [
      "\u001b[32m[I 2020-05-29 20:13:15,788]\u001b[0m Finished trial#209 with value: 0.483 with parameters: {'sigma': 9.430471002188554, 'lam': 4.675766041847999e-18, 'n': 2}. Best is trial#151 with value: 0.517.\u001b[0m\n"
     ]
    },
    {
     "name": "stderr",
     "output_type": "stream",
     "text": [
      "/usr/local/lib/python3.6/dist-packages/ipykernel_launcher.py:25: RuntimeWarning:\n",
      "\n",
      "overflow encountered in exp\n",
      "\n",
      "/usr/local/lib/python3.6/dist-packages/ipykernel_launcher.py:37: RuntimeWarning:\n",
      "\n",
      "divide by zero encountered in true_divide\n",
      "\n"
     ]
    },
    {
     "name": "stdout",
     "output_type": "stream",
     "text": [
      "\u001b[32m[I 2020-05-29 20:13:46,221]\u001b[0m Finished trial#210 with value: 0.48200000000000004 with parameters: {'sigma': 9.568595169265791, 'lam': 5.1743620980142066e-17, 'n': 2}. Best is trial#151 with value: 0.517.\u001b[0m\n"
     ]
    },
    {
     "name": "stderr",
     "output_type": "stream",
     "text": [
      "/usr/local/lib/python3.6/dist-packages/ipykernel_launcher.py:25: RuntimeWarning:\n",
      "\n",
      "overflow encountered in exp\n",
      "\n",
      "/usr/local/lib/python3.6/dist-packages/ipykernel_launcher.py:37: RuntimeWarning:\n",
      "\n",
      "divide by zero encountered in true_divide\n",
      "\n"
     ]
    },
    {
     "name": "stdout",
     "output_type": "stream",
     "text": [
      "\u001b[32m[I 2020-05-29 20:14:15,894]\u001b[0m Finished trial#211 with value: 0.502 with parameters: {'sigma': 9.252700884257678, 'lam': 2.025198855024033e-17, 'n': 2}. Best is trial#151 with value: 0.517.\u001b[0m\n"
     ]
    },
    {
     "name": "stderr",
     "output_type": "stream",
     "text": [
      "/usr/local/lib/python3.6/dist-packages/ipykernel_launcher.py:25: RuntimeWarning:\n",
      "\n",
      "overflow encountered in exp\n",
      "\n",
      "/usr/local/lib/python3.6/dist-packages/ipykernel_launcher.py:37: RuntimeWarning:\n",
      "\n",
      "divide by zero encountered in true_divide\n",
      "\n"
     ]
    },
    {
     "name": "stdout",
     "output_type": "stream",
     "text": [
      "\u001b[32m[I 2020-05-29 20:14:45,504]\u001b[0m Finished trial#212 with value: 0.501 with parameters: {'sigma': 8.761637054786569, 'lam': 1.020872273207826e-16, 'n': 2}. Best is trial#151 with value: 0.517.\u001b[0m\n"
     ]
    },
    {
     "name": "stderr",
     "output_type": "stream",
     "text": [
      "/usr/local/lib/python3.6/dist-packages/ipykernel_launcher.py:25: RuntimeWarning:\n",
      "\n",
      "overflow encountered in exp\n",
      "\n",
      "/usr/local/lib/python3.6/dist-packages/ipykernel_launcher.py:37: RuntimeWarning:\n",
      "\n",
      "divide by zero encountered in true_divide\n",
      "\n"
     ]
    },
    {
     "name": "stdout",
     "output_type": "stream",
     "text": [
      "\u001b[32m[I 2020-05-29 20:15:15,274]\u001b[0m Finished trial#213 with value: 0.484 with parameters: {'sigma': 9.622679458402544, 'lam': 3.9558630556115904e-17, 'n': 2}. Best is trial#151 with value: 0.517.\u001b[0m\n"
     ]
    },
    {
     "name": "stderr",
     "output_type": "stream",
     "text": [
      "/usr/local/lib/python3.6/dist-packages/ipykernel_launcher.py:25: RuntimeWarning:\n",
      "\n",
      "overflow encountered in exp\n",
      "\n",
      "/usr/local/lib/python3.6/dist-packages/ipykernel_launcher.py:37: RuntimeWarning:\n",
      "\n",
      "divide by zero encountered in true_divide\n",
      "\n"
     ]
    },
    {
     "name": "stdout",
     "output_type": "stream",
     "text": [
      "\u001b[32m[I 2020-05-29 20:15:45,346]\u001b[0m Finished trial#214 with value: 0.493 with parameters: {'sigma': 8.417778729384919, 'lam': 9.529517273525311e-18, 'n': 2}. Best is trial#151 with value: 0.517.\u001b[0m\n"
     ]
    },
    {
     "name": "stderr",
     "output_type": "stream",
     "text": [
      "/usr/local/lib/python3.6/dist-packages/ipykernel_launcher.py:25: RuntimeWarning:\n",
      "\n",
      "overflow encountered in exp\n",
      "\n",
      "/usr/local/lib/python3.6/dist-packages/ipykernel_launcher.py:37: RuntimeWarning:\n",
      "\n",
      "divide by zero encountered in true_divide\n",
      "\n"
     ]
    },
    {
     "name": "stdout",
     "output_type": "stream",
     "text": [
      "\u001b[32m[I 2020-05-29 20:16:12,865]\u001b[0m Finished trial#215 with value: 0.501 with parameters: {'sigma': 9.982608954420193, 'lam': 7.528468300287336e-13, 'n': 2}. Best is trial#151 with value: 0.517.\u001b[0m\n"
     ]
    },
    {
     "name": "stderr",
     "output_type": "stream",
     "text": [
      "/usr/local/lib/python3.6/dist-packages/ipykernel_launcher.py:25: RuntimeWarning:\n",
      "\n",
      "overflow encountered in exp\n",
      "\n",
      "/usr/local/lib/python3.6/dist-packages/ipykernel_launcher.py:37: RuntimeWarning:\n",
      "\n",
      "divide by zero encountered in true_divide\n",
      "\n"
     ]
    },
    {
     "name": "stdout",
     "output_type": "stream",
     "text": [
      "\u001b[32m[I 2020-05-29 20:16:41,378]\u001b[0m Finished trial#216 with value: 0.484 with parameters: {'sigma': 9.089173008813017, 'lam': 2.048862514325884e-17, 'n': 2}. Best is trial#151 with value: 0.517.\u001b[0m\n"
     ]
    },
    {
     "name": "stderr",
     "output_type": "stream",
     "text": [
      "/usr/local/lib/python3.6/dist-packages/ipykernel_launcher.py:25: RuntimeWarning:\n",
      "\n",
      "overflow encountered in exp\n",
      "\n",
      "/usr/local/lib/python3.6/dist-packages/ipykernel_launcher.py:37: RuntimeWarning:\n",
      "\n",
      "divide by zero encountered in true_divide\n",
      "\n"
     ]
    },
    {
     "name": "stdout",
     "output_type": "stream",
     "text": [
      "\u001b[32m[I 2020-05-29 20:17:11,336]\u001b[0m Finished trial#217 with value: 0.48200000000000004 with parameters: {'sigma': 9.986171172037885, 'lam': 2.5417464506397245e-18, 'n': 2}. Best is trial#151 with value: 0.517.\u001b[0m\n"
     ]
    },
    {
     "name": "stderr",
     "output_type": "stream",
     "text": [
      "/usr/local/lib/python3.6/dist-packages/ipykernel_launcher.py:25: RuntimeWarning:\n",
      "\n",
      "overflow encountered in exp\n",
      "\n",
      "/usr/local/lib/python3.6/dist-packages/ipykernel_launcher.py:37: RuntimeWarning:\n",
      "\n",
      "divide by zero encountered in true_divide\n",
      "\n"
     ]
    },
    {
     "name": "stdout",
     "output_type": "stream",
     "text": [
      "\u001b[32m[I 2020-05-29 20:17:39,733]\u001b[0m Finished trial#218 with value: 0.505 with parameters: {'sigma': 9.461651973717837, 'lam': 1.0219454072948903e-18, 'n': 2}. Best is trial#151 with value: 0.517.\u001b[0m\n"
     ]
    },
    {
     "name": "stderr",
     "output_type": "stream",
     "text": [
      "/usr/local/lib/python3.6/dist-packages/ipykernel_launcher.py:25: RuntimeWarning:\n",
      "\n",
      "overflow encountered in exp\n",
      "\n",
      "/usr/local/lib/python3.6/dist-packages/ipykernel_launcher.py:37: RuntimeWarning:\n",
      "\n",
      "divide by zero encountered in true_divide\n",
      "\n"
     ]
    },
    {
     "name": "stdout",
     "output_type": "stream",
     "text": [
      "\u001b[32m[I 2020-05-29 20:18:10,154]\u001b[0m Finished trial#219 with value: 0.5 with parameters: {'sigma': 8.637663036876926, 'lam': 7.972047359885823e-18, 'n': 2}. Best is trial#151 with value: 0.517.\u001b[0m\n"
     ]
    },
    {
     "name": "stderr",
     "output_type": "stream",
     "text": [
      "/usr/local/lib/python3.6/dist-packages/ipykernel_launcher.py:25: RuntimeWarning:\n",
      "\n",
      "overflow encountered in exp\n",
      "\n",
      "/usr/local/lib/python3.6/dist-packages/ipykernel_launcher.py:37: RuntimeWarning:\n",
      "\n",
      "divide by zero encountered in true_divide\n",
      "\n"
     ]
    },
    {
     "name": "stdout",
     "output_type": "stream",
     "text": [
      "\u001b[32m[I 2020-05-29 20:18:38,765]\u001b[0m Finished trial#220 with value: 0.501 with parameters: {'sigma': 9.087248910185172, 'lam': 2.954765892490316e-17, 'n': 2}. Best is trial#151 with value: 0.517.\u001b[0m\n"
     ]
    },
    {
     "name": "stderr",
     "output_type": "stream",
     "text": [
      "/usr/local/lib/python3.6/dist-packages/ipykernel_launcher.py:25: RuntimeWarning:\n",
      "\n",
      "overflow encountered in exp\n",
      "\n",
      "/usr/local/lib/python3.6/dist-packages/ipykernel_launcher.py:37: RuntimeWarning:\n",
      "\n",
      "divide by zero encountered in true_divide\n",
      "\n"
     ]
    },
    {
     "name": "stdout",
     "output_type": "stream",
     "text": [
      "\u001b[32m[I 2020-05-29 20:19:08,117]\u001b[0m Finished trial#221 with value: 0.5029999999999999 with parameters: {'sigma': 8.342454124432694, 'lam': 3.2803397867434423e-18, 'n': 2}. Best is trial#151 with value: 0.517.\u001b[0m\n"
     ]
    },
    {
     "name": "stderr",
     "output_type": "stream",
     "text": [
      "/usr/local/lib/python3.6/dist-packages/ipykernel_launcher.py:25: RuntimeWarning:\n",
      "\n",
      "overflow encountered in exp\n",
      "\n",
      "/usr/local/lib/python3.6/dist-packages/ipykernel_launcher.py:37: RuntimeWarning:\n",
      "\n",
      "divide by zero encountered in true_divide\n",
      "\n"
     ]
    },
    {
     "name": "stdout",
     "output_type": "stream",
     "text": [
      "\u001b[32m[I 2020-05-29 20:19:37,095]\u001b[0m Finished trial#222 with value: 0.501 with parameters: {'sigma': 9.532560363874525, 'lam': 3.3221316947465557e-10, 'n': 2}. Best is trial#151 with value: 0.517.\u001b[0m\n"
     ]
    },
    {
     "name": "stderr",
     "output_type": "stream",
     "text": [
      "/usr/local/lib/python3.6/dist-packages/ipykernel_launcher.py:25: RuntimeWarning:\n",
      "\n",
      "overflow encountered in exp\n",
      "\n",
      "/usr/local/lib/python3.6/dist-packages/ipykernel_launcher.py:37: RuntimeWarning:\n",
      "\n",
      "divide by zero encountered in true_divide\n",
      "\n"
     ]
    },
    {
     "name": "stdout",
     "output_type": "stream",
     "text": [
      "\u001b[32m[I 2020-05-29 20:20:06,380]\u001b[0m Finished trial#223 with value: 0.49700000000000005 with parameters: {'sigma': 8.78915517187581, 'lam': 1.0164188181925333e-18, 'n': 2}. Best is trial#151 with value: 0.517.\u001b[0m\n"
     ]
    },
    {
     "name": "stderr",
     "output_type": "stream",
     "text": [
      "/usr/local/lib/python3.6/dist-packages/ipykernel_launcher.py:25: RuntimeWarning:\n",
      "\n",
      "overflow encountered in exp\n",
      "\n",
      "/usr/local/lib/python3.6/dist-packages/ipykernel_launcher.py:37: RuntimeWarning:\n",
      "\n",
      "divide by zero encountered in true_divide\n",
      "\n"
     ]
    },
    {
     "name": "stdout",
     "output_type": "stream",
     "text": [
      "\u001b[32m[I 2020-05-29 20:20:35,913]\u001b[0m Finished trial#224 with value: 0.514 with parameters: {'sigma': 9.214330228060504, 'lam': 1.0032135743660303e-18, 'n': 2}. Best is trial#151 with value: 0.517.\u001b[0m\n"
     ]
    },
    {
     "name": "stderr",
     "output_type": "stream",
     "text": [
      "/usr/local/lib/python3.6/dist-packages/ipykernel_launcher.py:25: RuntimeWarning:\n",
      "\n",
      "overflow encountered in exp\n",
      "\n",
      "/usr/local/lib/python3.6/dist-packages/ipykernel_launcher.py:37: RuntimeWarning:\n",
      "\n",
      "divide by zero encountered in true_divide\n",
      "\n"
     ]
    },
    {
     "name": "stdout",
     "output_type": "stream",
     "text": [
      "\u001b[32m[I 2020-05-29 20:21:03,236]\u001b[0m Finished trial#225 with value: 0.489 with parameters: {'sigma': 9.998240605915512, 'lam': 4.450077357830298e-18, 'n': 2}. Best is trial#151 with value: 0.517.\u001b[0m\n"
     ]
    },
    {
     "name": "stderr",
     "output_type": "stream",
     "text": [
      "/usr/local/lib/python3.6/dist-packages/ipykernel_launcher.py:25: RuntimeWarning:\n",
      "\n",
      "overflow encountered in exp\n",
      "\n",
      "/usr/local/lib/python3.6/dist-packages/ipykernel_launcher.py:37: RuntimeWarning:\n",
      "\n",
      "divide by zero encountered in true_divide\n",
      "\n"
     ]
    },
    {
     "name": "stdout",
     "output_type": "stream",
     "text": [
      "\u001b[32m[I 2020-05-29 20:21:35,122]\u001b[0m Finished trial#226 with value: 0.49399999999999994 with parameters: {'sigma': 9.089008270260436, 'lam': 2.3131529496815095e-18, 'n': 2}. Best is trial#151 with value: 0.517.\u001b[0m\n"
     ]
    },
    {
     "name": "stderr",
     "output_type": "stream",
     "text": [
      "/usr/local/lib/python3.6/dist-packages/ipykernel_launcher.py:25: RuntimeWarning:\n",
      "\n",
      "overflow encountered in exp\n",
      "\n",
      "/usr/local/lib/python3.6/dist-packages/ipykernel_launcher.py:37: RuntimeWarning:\n",
      "\n",
      "divide by zero encountered in true_divide\n",
      "\n"
     ]
    },
    {
     "name": "stdout",
     "output_type": "stream",
     "text": [
      "\u001b[32m[I 2020-05-29 20:22:03,575]\u001b[0m Finished trial#227 with value: 0.501 with parameters: {'sigma': 9.451370000997354, 'lam': 7.164719914718982e-17, 'n': 2}. Best is trial#151 with value: 0.517.\u001b[0m\n"
     ]
    },
    {
     "name": "stderr",
     "output_type": "stream",
     "text": [
      "/usr/local/lib/python3.6/dist-packages/ipykernel_launcher.py:25: RuntimeWarning:\n",
      "\n",
      "overflow encountered in exp\n",
      "\n",
      "/usr/local/lib/python3.6/dist-packages/ipykernel_launcher.py:37: RuntimeWarning:\n",
      "\n",
      "divide by zero encountered in true_divide\n",
      "\n"
     ]
    },
    {
     "name": "stdout",
     "output_type": "stream",
     "text": [
      "\u001b[32m[I 2020-05-29 20:22:32,540]\u001b[0m Finished trial#228 with value: 0.5079999999999999 with parameters: {'sigma': 9.65068529737716, 'lam': 1.1187221563497913e-17, 'n': 2}. Best is trial#151 with value: 0.517.\u001b[0m\n"
     ]
    },
    {
     "name": "stderr",
     "output_type": "stream",
     "text": [
      "/usr/local/lib/python3.6/dist-packages/ipykernel_launcher.py:25: RuntimeWarning:\n",
      "\n",
      "overflow encountered in exp\n",
      "\n",
      "/usr/local/lib/python3.6/dist-packages/ipykernel_launcher.py:37: RuntimeWarning:\n",
      "\n",
      "divide by zero encountered in true_divide\n",
      "\n"
     ]
    },
    {
     "name": "stdout",
     "output_type": "stream",
     "text": [
      "\u001b[32m[I 2020-05-29 20:23:03,113]\u001b[0m Finished trial#229 with value: 0.501 with parameters: {'sigma': 9.094757808802454, 'lam': 1.8171131441768127e-18, 'n': 2}. Best is trial#151 with value: 0.517.\u001b[0m\n"
     ]
    },
    {
     "name": "stderr",
     "output_type": "stream",
     "text": [
      "/usr/local/lib/python3.6/dist-packages/ipykernel_launcher.py:25: RuntimeWarning:\n",
      "\n",
      "overflow encountered in exp\n",
      "\n",
      "/usr/local/lib/python3.6/dist-packages/ipykernel_launcher.py:37: RuntimeWarning:\n",
      "\n",
      "divide by zero encountered in true_divide\n",
      "\n"
     ]
    },
    {
     "name": "stdout",
     "output_type": "stream",
     "text": [
      "\u001b[32m[I 2020-05-29 20:23:31,640]\u001b[0m Finished trial#230 with value: 0.505 with parameters: {'sigma': 8.061626711926177, 'lam': 1.0425851008378897e-18, 'n': 2}. Best is trial#151 with value: 0.517.\u001b[0m\n"
     ]
    },
    {
     "name": "stderr",
     "output_type": "stream",
     "text": [
      "/usr/local/lib/python3.6/dist-packages/ipykernel_launcher.py:25: RuntimeWarning:\n",
      "\n",
      "overflow encountered in exp\n",
      "\n",
      "/usr/local/lib/python3.6/dist-packages/ipykernel_launcher.py:37: RuntimeWarning:\n",
      "\n",
      "divide by zero encountered in true_divide\n",
      "\n"
     ]
    },
    {
     "name": "stdout",
     "output_type": "stream",
     "text": [
      "\u001b[32m[I 2020-05-29 20:24:00,609]\u001b[0m Finished trial#231 with value: 0.48200000000000004 with parameters: {'sigma': 9.975925213438451, 'lam': 2.158117279689872e-17, 'n': 2}. Best is trial#151 with value: 0.517.\u001b[0m\n"
     ]
    },
    {
     "name": "stderr",
     "output_type": "stream",
     "text": [
      "/usr/local/lib/python3.6/dist-packages/ipykernel_launcher.py:25: RuntimeWarning:\n",
      "\n",
      "overflow encountered in exp\n",
      "\n",
      "/usr/local/lib/python3.6/dist-packages/ipykernel_launcher.py:37: RuntimeWarning:\n",
      "\n",
      "divide by zero encountered in true_divide\n",
      "\n"
     ]
    },
    {
     "name": "stdout",
     "output_type": "stream",
     "text": [
      "\u001b[32m[I 2020-05-29 20:24:30,289]\u001b[0m Finished trial#232 with value: 0.501 with parameters: {'sigma': 4.733204981271891, 'lam': 7.062404254697083e-18, 'n': 2}. Best is trial#151 with value: 0.517.\u001b[0m\n"
     ]
    },
    {
     "name": "stderr",
     "output_type": "stream",
     "text": [
      "/usr/local/lib/python3.6/dist-packages/ipykernel_launcher.py:25: RuntimeWarning:\n",
      "\n",
      "overflow encountered in exp\n",
      "\n",
      "/usr/local/lib/python3.6/dist-packages/ipykernel_launcher.py:37: RuntimeWarning:\n",
      "\n",
      "divide by zero encountered in true_divide\n",
      "\n"
     ]
    },
    {
     "name": "stdout",
     "output_type": "stream",
     "text": [
      "\u001b[32m[I 2020-05-29 20:25:00,773]\u001b[0m Finished trial#233 with value: 0.517 with parameters: {'sigma': 8.488847557259442, 'lam': 1.0302757342517925e-18, 'n': 2}. Best is trial#151 with value: 0.517.\u001b[0m\n"
     ]
    },
    {
     "name": "stderr",
     "output_type": "stream",
     "text": [
      "/usr/local/lib/python3.6/dist-packages/ipykernel_launcher.py:25: RuntimeWarning:\n",
      "\n",
      "overflow encountered in exp\n",
      "\n",
      "/usr/local/lib/python3.6/dist-packages/ipykernel_launcher.py:37: RuntimeWarning:\n",
      "\n",
      "divide by zero encountered in true_divide\n",
      "\n"
     ]
    },
    {
     "name": "stdout",
     "output_type": "stream",
     "text": [
      "\u001b[32m[I 2020-05-29 20:25:30,444]\u001b[0m Finished trial#234 with value: 0.501 with parameters: {'sigma': 8.398272764492948, 'lam': 4.254887490537016e-18, 'n': 2}. Best is trial#151 with value: 0.517.\u001b[0m\n"
     ]
    },
    {
     "name": "stderr",
     "output_type": "stream",
     "text": [
      "/usr/local/lib/python3.6/dist-packages/ipykernel_launcher.py:25: RuntimeWarning:\n",
      "\n",
      "overflow encountered in exp\n",
      "\n",
      "/usr/local/lib/python3.6/dist-packages/ipykernel_launcher.py:37: RuntimeWarning:\n",
      "\n",
      "divide by zero encountered in true_divide\n",
      "\n"
     ]
    },
    {
     "name": "stdout",
     "output_type": "stream",
     "text": [
      "\u001b[32m[I 2020-05-29 20:26:00,305]\u001b[0m Finished trial#235 with value: 0.514 with parameters: {'sigma': 8.897741492393232, 'lam': 1.0179266389084156e-18, 'n': 2}. Best is trial#151 with value: 0.517.\u001b[0m\n"
     ]
    },
    {
     "name": "stderr",
     "output_type": "stream",
     "text": [
      "/usr/local/lib/python3.6/dist-packages/ipykernel_launcher.py:25: RuntimeWarning:\n",
      "\n",
      "overflow encountered in exp\n",
      "\n",
      "/usr/local/lib/python3.6/dist-packages/ipykernel_launcher.py:37: RuntimeWarning:\n",
      "\n",
      "divide by zero encountered in true_divide\n",
      "\n"
     ]
    },
    {
     "name": "stdout",
     "output_type": "stream",
     "text": [
      "\u001b[32m[I 2020-05-29 20:26:29,022]\u001b[0m Finished trial#236 with value: 0.5079999999999999 with parameters: {'sigma': 8.747980420721541, 'lam': 1.0862359814929043e-18, 'n': 2}. Best is trial#151 with value: 0.517.\u001b[0m\n"
     ]
    },
    {
     "name": "stderr",
     "output_type": "stream",
     "text": [
      "/usr/local/lib/python3.6/dist-packages/ipykernel_launcher.py:25: RuntimeWarning:\n",
      "\n",
      "overflow encountered in exp\n",
      "\n",
      "/usr/local/lib/python3.6/dist-packages/ipykernel_launcher.py:37: RuntimeWarning:\n",
      "\n",
      "divide by zero encountered in true_divide\n",
      "\n"
     ]
    },
    {
     "name": "stdout",
     "output_type": "stream",
     "text": [
      "\u001b[32m[I 2020-05-29 20:26:57,771]\u001b[0m Finished trial#237 with value: 0.49399999999999994 with parameters: {'sigma': 7.747465427930513, 'lam': 1.9376761100406053e-18, 'n': 2}. Best is trial#151 with value: 0.517.\u001b[0m\n"
     ]
    },
    {
     "name": "stderr",
     "output_type": "stream",
     "text": [
      "/usr/local/lib/python3.6/dist-packages/ipykernel_launcher.py:25: RuntimeWarning:\n",
      "\n",
      "overflow encountered in exp\n",
      "\n",
      "/usr/local/lib/python3.6/dist-packages/ipykernel_launcher.py:37: RuntimeWarning:\n",
      "\n",
      "divide by zero encountered in true_divide\n",
      "\n"
     ]
    },
    {
     "name": "stdout",
     "output_type": "stream",
     "text": [
      "\u001b[32m[I 2020-05-29 20:27:26,660]\u001b[0m Finished trial#238 with value: 0.505 with parameters: {'sigma': 8.608920362502248, 'lam': 1.1407951135608438e-18, 'n': 2}. Best is trial#151 with value: 0.517.\u001b[0m\n"
     ]
    },
    {
     "name": "stderr",
     "output_type": "stream",
     "text": [
      "/usr/local/lib/python3.6/dist-packages/ipykernel_launcher.py:25: RuntimeWarning:\n",
      "\n",
      "overflow encountered in exp\n",
      "\n",
      "/usr/local/lib/python3.6/dist-packages/ipykernel_launcher.py:37: RuntimeWarning:\n",
      "\n",
      "divide by zero encountered in true_divide\n",
      "\n"
     ]
    },
    {
     "name": "stdout",
     "output_type": "stream",
     "text": [
      "\u001b[32m[I 2020-05-29 20:27:57,850]\u001b[0m Finished trial#239 with value: 0.5029999999999999 with parameters: {'sigma': 8.11807452059382, 'lam': 2.763262926902893e-18, 'n': 2}. Best is trial#151 with value: 0.517.\u001b[0m\n"
     ]
    },
    {
     "name": "stderr",
     "output_type": "stream",
     "text": [
      "/usr/local/lib/python3.6/dist-packages/ipykernel_launcher.py:25: RuntimeWarning:\n",
      "\n",
      "overflow encountered in exp\n",
      "\n",
      "/usr/local/lib/python3.6/dist-packages/ipykernel_launcher.py:37: RuntimeWarning:\n",
      "\n",
      "divide by zero encountered in true_divide\n",
      "\n"
     ]
    },
    {
     "name": "stdout",
     "output_type": "stream",
     "text": [
      "\u001b[32m[I 2020-05-29 20:28:28,476]\u001b[0m Finished trial#240 with value: 0.489 with parameters: {'sigma': 9.161552302377682, 'lam': 5.007202207611651e-18, 'n': 2}. Best is trial#151 with value: 0.517.\u001b[0m\n"
     ]
    },
    {
     "name": "stderr",
     "output_type": "stream",
     "text": [
      "/usr/local/lib/python3.6/dist-packages/ipykernel_launcher.py:25: RuntimeWarning:\n",
      "\n",
      "overflow encountered in exp\n",
      "\n",
      "/usr/local/lib/python3.6/dist-packages/ipykernel_launcher.py:37: RuntimeWarning:\n",
      "\n",
      "divide by zero encountered in true_divide\n",
      "\n"
     ]
    },
    {
     "name": "stdout",
     "output_type": "stream",
     "text": [
      "\u001b[32m[I 2020-05-29 20:28:59,338]\u001b[0m Finished trial#241 with value: 0.5079999999999999 with parameters: {'sigma': 9.473026491748945, 'lam': 1.0046458428347256e-18, 'n': 2}. Best is trial#151 with value: 0.517.\u001b[0m\n"
     ]
    },
    {
     "name": "stderr",
     "output_type": "stream",
     "text": [
      "/usr/local/lib/python3.6/dist-packages/ipykernel_launcher.py:25: RuntimeWarning:\n",
      "\n",
      "overflow encountered in exp\n",
      "\n",
      "/usr/local/lib/python3.6/dist-packages/ipykernel_launcher.py:37: RuntimeWarning:\n",
      "\n",
      "divide by zero encountered in true_divide\n",
      "\n"
     ]
    },
    {
     "name": "stdout",
     "output_type": "stream",
     "text": [
      "\u001b[32m[I 2020-05-29 20:29:28,747]\u001b[0m Finished trial#242 with value: 0.489 with parameters: {'sigma': 8.932946689429745, 'lam': 1.2138958851792542e-17, 'n': 2}. Best is trial#151 with value: 0.517.\u001b[0m\n"
     ]
    },
    {
     "name": "stderr",
     "output_type": "stream",
     "text": [
      "/usr/local/lib/python3.6/dist-packages/ipykernel_launcher.py:25: RuntimeWarning:\n",
      "\n",
      "overflow encountered in exp\n",
      "\n",
      "/usr/local/lib/python3.6/dist-packages/ipykernel_launcher.py:37: RuntimeWarning:\n",
      "\n",
      "divide by zero encountered in true_divide\n",
      "\n"
     ]
    },
    {
     "name": "stdout",
     "output_type": "stream",
     "text": [
      "\u001b[32m[I 2020-05-29 20:29:58,681]\u001b[0m Finished trial#243 with value: 0.5 with parameters: {'sigma': 9.637025002366906, 'lam': 4.782947153393556e-17, 'n': 2}. Best is trial#151 with value: 0.517.\u001b[0m\n"
     ]
    },
    {
     "name": "stderr",
     "output_type": "stream",
     "text": [
      "/usr/local/lib/python3.6/dist-packages/ipykernel_launcher.py:25: RuntimeWarning:\n",
      "\n",
      "overflow encountered in exp\n",
      "\n",
      "/usr/local/lib/python3.6/dist-packages/ipykernel_launcher.py:37: RuntimeWarning:\n",
      "\n",
      "divide by zero encountered in true_divide\n",
      "\n"
     ]
    },
    {
     "name": "stdout",
     "output_type": "stream",
     "text": [
      "\u001b[32m[I 2020-05-29 20:30:27,445]\u001b[0m Finished trial#244 with value: 0.501 with parameters: {'sigma': 9.951536578038542, 'lam': 1.7498632583162006e-16, 'n': 2}. Best is trial#151 with value: 0.517.\u001b[0m\n"
     ]
    },
    {
     "name": "stderr",
     "output_type": "stream",
     "text": [
      "/usr/local/lib/python3.6/dist-packages/ipykernel_launcher.py:25: RuntimeWarning:\n",
      "\n",
      "overflow encountered in exp\n",
      "\n",
      "/usr/local/lib/python3.6/dist-packages/ipykernel_launcher.py:37: RuntimeWarning:\n",
      "\n",
      "divide by zero encountered in true_divide\n",
      "\n"
     ]
    },
    {
     "name": "stdout",
     "output_type": "stream",
     "text": [
      "\u001b[32m[I 2020-05-29 20:30:58,089]\u001b[0m Finished trial#245 with value: 0.48100000000000004 with parameters: {'sigma': 9.27337456057456, 'lam': 1.0361944401992484e-18, 'n': 2}. Best is trial#151 with value: 0.517.\u001b[0m\n"
     ]
    },
    {
     "name": "stderr",
     "output_type": "stream",
     "text": [
      "/usr/local/lib/python3.6/dist-packages/ipykernel_launcher.py:25: RuntimeWarning:\n",
      "\n",
      "overflow encountered in exp\n",
      "\n",
      "/usr/local/lib/python3.6/dist-packages/ipykernel_launcher.py:37: RuntimeWarning:\n",
      "\n",
      "divide by zero encountered in true_divide\n",
      "\n"
     ]
    },
    {
     "name": "stdout",
     "output_type": "stream",
     "text": [
      "\u001b[32m[I 2020-05-29 20:31:26,132]\u001b[0m Finished trial#246 with value: 0.48200000000000004 with parameters: {'sigma': 8.822491527357537, 'lam': 8.594595827711602e-18, 'n': 2}. Best is trial#151 with value: 0.517.\u001b[0m\n"
     ]
    },
    {
     "name": "stderr",
     "output_type": "stream",
     "text": [
      "/usr/local/lib/python3.6/dist-packages/ipykernel_launcher.py:25: RuntimeWarning:\n",
      "\n",
      "overflow encountered in exp\n",
      "\n",
      "/usr/local/lib/python3.6/dist-packages/ipykernel_launcher.py:37: RuntimeWarning:\n",
      "\n",
      "divide by zero encountered in true_divide\n",
      "\n"
     ]
    },
    {
     "name": "stdout",
     "output_type": "stream",
     "text": [
      "\u001b[32m[I 2020-05-29 20:32:00,584]\u001b[0m Finished trial#247 with value: 0.501 with parameters: {'sigma': 1.8686538359842357, 'lam': 2.987179929757014e-17, 'n': 2}. Best is trial#151 with value: 0.517.\u001b[0m\n"
     ]
    },
    {
     "name": "stderr",
     "output_type": "stream",
     "text": [
      "/usr/local/lib/python3.6/dist-packages/ipykernel_launcher.py:25: RuntimeWarning:\n",
      "\n",
      "overflow encountered in exp\n",
      "\n",
      "/usr/local/lib/python3.6/dist-packages/ipykernel_launcher.py:37: RuntimeWarning:\n",
      "\n",
      "divide by zero encountered in true_divide\n",
      "\n"
     ]
    },
    {
     "name": "stdout",
     "output_type": "stream",
     "text": [
      "\u001b[32m[I 2020-05-29 20:32:29,124]\u001b[0m Finished trial#248 with value: 0.48200000000000004 with parameters: {'sigma': 9.26606298274054, 'lam': 2.2680937210035106e-18, 'n': 2}. Best is trial#151 with value: 0.517.\u001b[0m\n"
     ]
    },
    {
     "name": "stderr",
     "output_type": "stream",
     "text": [
      "/usr/local/lib/python3.6/dist-packages/ipykernel_launcher.py:25: RuntimeWarning:\n",
      "\n",
      "overflow encountered in exp\n",
      "\n",
      "/usr/local/lib/python3.6/dist-packages/ipykernel_launcher.py:37: RuntimeWarning:\n",
      "\n",
      "divide by zero encountered in true_divide\n",
      "\n"
     ]
    },
    {
     "name": "stdout",
     "output_type": "stream",
     "text": [
      "\u001b[32m[I 2020-05-29 20:32:56,777]\u001b[0m Finished trial#249 with value: 0.501 with parameters: {'sigma': 9.955901534252762, 'lam': 4.2525928019219305e-18, 'n': 2}. Best is trial#151 with value: 0.517.\u001b[0m\n"
     ]
    },
    {
     "name": "stderr",
     "output_type": "stream",
     "text": [
      "/usr/local/lib/python3.6/dist-packages/ipykernel_launcher.py:25: RuntimeWarning:\n",
      "\n",
      "overflow encountered in exp\n",
      "\n",
      "/usr/local/lib/python3.6/dist-packages/ipykernel_launcher.py:37: RuntimeWarning:\n",
      "\n",
      "divide by zero encountered in true_divide\n",
      "\n"
     ]
    },
    {
     "name": "stdout",
     "output_type": "stream",
     "text": [
      "\u001b[32m[I 2020-05-29 20:33:24,715]\u001b[0m Finished trial#250 with value: 0.484 with parameters: {'sigma': 8.367955275461483, 'lam': 1.5723003696301512e-17, 'n': 2}. Best is trial#151 with value: 0.517.\u001b[0m\n"
     ]
    },
    {
     "name": "stderr",
     "output_type": "stream",
     "text": [
      "/usr/local/lib/python3.6/dist-packages/ipykernel_launcher.py:25: RuntimeWarning:\n",
      "\n",
      "overflow encountered in exp\n",
      "\n",
      "/usr/local/lib/python3.6/dist-packages/ipykernel_launcher.py:37: RuntimeWarning:\n",
      "\n",
      "divide by zero encountered in true_divide\n",
      "\n"
     ]
    },
    {
     "name": "stdout",
     "output_type": "stream",
     "text": [
      "\u001b[32m[I 2020-05-29 20:33:52,952]\u001b[0m Finished trial#251 with value: 0.512 with parameters: {'sigma': 9.61761781039728, 'lam': 1.9896005733809722e-18, 'n': 2}. Best is trial#151 with value: 0.517.\u001b[0m\n"
     ]
    },
    {
     "name": "stderr",
     "output_type": "stream",
     "text": [
      "/usr/local/lib/python3.6/dist-packages/ipykernel_launcher.py:25: RuntimeWarning:\n",
      "\n",
      "overflow encountered in exp\n",
      "\n",
      "/usr/local/lib/python3.6/dist-packages/ipykernel_launcher.py:37: RuntimeWarning:\n",
      "\n",
      "divide by zero encountered in true_divide\n",
      "\n"
     ]
    },
    {
     "name": "stdout",
     "output_type": "stream",
     "text": [
      "\u001b[32m[I 2020-05-29 20:34:23,117]\u001b[0m Finished trial#252 with value: 0.49499999999999994 with parameters: {'sigma': 8.844061727321156, 'lam': 1.028120550399049e-18, 'n': 2}. Best is trial#151 with value: 0.517.\u001b[0m\n"
     ]
    },
    {
     "name": "stderr",
     "output_type": "stream",
     "text": [
      "/usr/local/lib/python3.6/dist-packages/ipykernel_launcher.py:25: RuntimeWarning:\n",
      "\n",
      "overflow encountered in exp\n",
      "\n",
      "/usr/local/lib/python3.6/dist-packages/ipykernel_launcher.py:37: RuntimeWarning:\n",
      "\n",
      "divide by zero encountered in true_divide\n",
      "\n"
     ]
    },
    {
     "name": "stdout",
     "output_type": "stream",
     "text": [
      "\u001b[32m[I 2020-05-29 20:34:53,481]\u001b[0m Finished trial#253 with value: 0.501 with parameters: {'sigma': 9.222444685541348, 'lam': 1.0052754925759307e-16, 'n': 2}. Best is trial#151 with value: 0.517.\u001b[0m\n"
     ]
    },
    {
     "name": "stderr",
     "output_type": "stream",
     "text": [
      "/usr/local/lib/python3.6/dist-packages/ipykernel_launcher.py:25: RuntimeWarning:\n",
      "\n",
      "overflow encountered in exp\n",
      "\n",
      "/usr/local/lib/python3.6/dist-packages/ipykernel_launcher.py:37: RuntimeWarning:\n",
      "\n",
      "divide by zero encountered in true_divide\n",
      "\n"
     ]
    },
    {
     "name": "stdout",
     "output_type": "stream",
     "text": [
      "\u001b[32m[I 2020-05-29 20:35:22,156]\u001b[0m Finished trial#254 with value: 0.492 with parameters: {'sigma': 8.48912592153192, 'lam': 2.219187418068021e-18, 'n': 2}. Best is trial#151 with value: 0.517.\u001b[0m\n"
     ]
    },
    {
     "name": "stderr",
     "output_type": "stream",
     "text": [
      "/usr/local/lib/python3.6/dist-packages/ipykernel_launcher.py:25: RuntimeWarning:\n",
      "\n",
      "overflow encountered in exp\n",
      "\n",
      "/usr/local/lib/python3.6/dist-packages/ipykernel_launcher.py:37: RuntimeWarning:\n",
      "\n",
      "divide by zero encountered in true_divide\n",
      "\n"
     ]
    },
    {
     "name": "stdout",
     "output_type": "stream",
     "text": [
      "\u001b[32m[I 2020-05-29 20:35:52,285]\u001b[0m Finished trial#255 with value: 0.493 with parameters: {'sigma': 9.984858607680778, 'lam': 1.0201774861831686e-18, 'n': 2}. Best is trial#151 with value: 0.517.\u001b[0m\n"
     ]
    },
    {
     "name": "stderr",
     "output_type": "stream",
     "text": [
      "/usr/local/lib/python3.6/dist-packages/ipykernel_launcher.py:25: RuntimeWarning:\n",
      "\n",
      "overflow encountered in exp\n",
      "\n",
      "/usr/local/lib/python3.6/dist-packages/ipykernel_launcher.py:37: RuntimeWarning:\n",
      "\n",
      "divide by zero encountered in true_divide\n",
      "\n"
     ]
    },
    {
     "name": "stdout",
     "output_type": "stream",
     "text": [
      "\u001b[32m[I 2020-05-29 20:36:21,278]\u001b[0m Finished trial#256 with value: 0.5189999999999999 with parameters: {'sigma': 9.56291717324295, 'lam': 4.7329565237648745e-18, 'n': 2}. Best is trial#256 with value: 0.5189999999999999.\u001b[0m\n"
     ]
    },
    {
     "name": "stderr",
     "output_type": "stream",
     "text": [
      "/usr/local/lib/python3.6/dist-packages/ipykernel_launcher.py:25: RuntimeWarning:\n",
      "\n",
      "overflow encountered in exp\n",
      "\n",
      "/usr/local/lib/python3.6/dist-packages/ipykernel_launcher.py:37: RuntimeWarning:\n",
      "\n",
      "divide by zero encountered in true_divide\n",
      "\n"
     ]
    },
    {
     "name": "stdout",
     "output_type": "stream",
     "text": [
      "\u001b[32m[I 2020-05-29 20:36:49,674]\u001b[0m Finished trial#257 with value: 0.512 with parameters: {'sigma': 9.976533373108566, 'lam': 7.363740300480857e-18, 'n': 2}. Best is trial#256 with value: 0.5189999999999999.\u001b[0m\n"
     ]
    },
    {
     "name": "stderr",
     "output_type": "stream",
     "text": [
      "/usr/local/lib/python3.6/dist-packages/ipykernel_launcher.py:25: RuntimeWarning:\n",
      "\n",
      "overflow encountered in exp\n",
      "\n",
      "/usr/local/lib/python3.6/dist-packages/ipykernel_launcher.py:37: RuntimeWarning:\n",
      "\n",
      "divide by zero encountered in true_divide\n",
      "\n"
     ]
    },
    {
     "name": "stdout",
     "output_type": "stream",
     "text": [
      "\u001b[32m[I 2020-05-29 20:37:18,339]\u001b[0m Finished trial#258 with value: 0.489 with parameters: {'sigma': 7.45145739864827, 'lam': 5.530782721927148e-18, 'n': 2}. Best is trial#256 with value: 0.5189999999999999.\u001b[0m\n"
     ]
    },
    {
     "name": "stderr",
     "output_type": "stream",
     "text": [
      "/usr/local/lib/python3.6/dist-packages/ipykernel_launcher.py:25: RuntimeWarning:\n",
      "\n",
      "overflow encountered in exp\n",
      "\n",
      "/usr/local/lib/python3.6/dist-packages/ipykernel_launcher.py:37: RuntimeWarning:\n",
      "\n",
      "divide by zero encountered in true_divide\n",
      "\n"
     ]
    },
    {
     "name": "stdout",
     "output_type": "stream",
     "text": [
      "\u001b[32m[I 2020-05-29 20:37:48,581]\u001b[0m Finished trial#259 with value: 0.487 with parameters: {'sigma': 8.951204368519177, 'lam': 3.429222267727823e-18, 'n': 2}. Best is trial#256 with value: 0.5189999999999999.\u001b[0m\n"
     ]
    },
    {
     "name": "stderr",
     "output_type": "stream",
     "text": [
      "/usr/local/lib/python3.6/dist-packages/ipykernel_launcher.py:25: RuntimeWarning:\n",
      "\n",
      "overflow encountered in exp\n",
      "\n",
      "/usr/local/lib/python3.6/dist-packages/ipykernel_launcher.py:37: RuntimeWarning:\n",
      "\n",
      "divide by zero encountered in true_divide\n",
      "\n"
     ]
    },
    {
     "name": "stdout",
     "output_type": "stream",
     "text": [
      "\u001b[32m[I 2020-05-29 20:38:17,014]\u001b[0m Finished trial#260 with value: 0.514 with parameters: {'sigma': 9.589233520432138, 'lam': 2.1003074166815236e-18, 'n': 2}. Best is trial#256 with value: 0.5189999999999999.\u001b[0m\n"
     ]
    },
    {
     "name": "stderr",
     "output_type": "stream",
     "text": [
      "/usr/local/lib/python3.6/dist-packages/ipykernel_launcher.py:25: RuntimeWarning:\n",
      "\n",
      "overflow encountered in exp\n",
      "\n",
      "/usr/local/lib/python3.6/dist-packages/ipykernel_launcher.py:37: RuntimeWarning:\n",
      "\n",
      "divide by zero encountered in true_divide\n",
      "\n"
     ]
    },
    {
     "name": "stdout",
     "output_type": "stream",
     "text": [
      "\u001b[32m[I 2020-05-29 20:38:44,936]\u001b[0m Finished trial#261 with value: 0.492 with parameters: {'sigma': 9.615697941122908, 'lam': 1.940518713486102e-18, 'n': 2}. Best is trial#256 with value: 0.5189999999999999.\u001b[0m\n"
     ]
    },
    {
     "name": "stderr",
     "output_type": "stream",
     "text": [
      "/usr/local/lib/python3.6/dist-packages/ipykernel_launcher.py:25: RuntimeWarning:\n",
      "\n",
      "overflow encountered in exp\n",
      "\n",
      "/usr/local/lib/python3.6/dist-packages/ipykernel_launcher.py:37: RuntimeWarning:\n",
      "\n",
      "divide by zero encountered in true_divide\n",
      "\n"
     ]
    },
    {
     "name": "stdout",
     "output_type": "stream",
     "text": [
      "\u001b[32m[I 2020-05-29 20:39:16,425]\u001b[0m Finished trial#262 with value: 0.5029999999999999 with parameters: {'sigma': 9.491250425391343, 'lam': 1.1986757361516263e-17, 'n': 2}. Best is trial#256 with value: 0.5189999999999999.\u001b[0m\n"
     ]
    },
    {
     "name": "stderr",
     "output_type": "stream",
     "text": [
      "/usr/local/lib/python3.6/dist-packages/ipykernel_launcher.py:25: RuntimeWarning:\n",
      "\n",
      "overflow encountered in exp\n",
      "\n",
      "/usr/local/lib/python3.6/dist-packages/ipykernel_launcher.py:37: RuntimeWarning:\n",
      "\n",
      "divide by zero encountered in true_divide\n",
      "\n"
     ]
    },
    {
     "name": "stdout",
     "output_type": "stream",
     "text": [
      "\u001b[32m[I 2020-05-29 20:39:44,641]\u001b[0m Finished trial#263 with value: 0.514 with parameters: {'sigma': 9.990019297141487, 'lam': 3.471747730677024e-17, 'n': 2}. Best is trial#256 with value: 0.5189999999999999.\u001b[0m\n"
     ]
    },
    {
     "name": "stderr",
     "output_type": "stream",
     "text": [
      "/usr/local/lib/python3.6/dist-packages/ipykernel_launcher.py:25: RuntimeWarning:\n",
      "\n",
      "overflow encountered in exp\n",
      "\n",
      "/usr/local/lib/python3.6/dist-packages/ipykernel_launcher.py:37: RuntimeWarning:\n",
      "\n",
      "divide by zero encountered in true_divide\n",
      "\n"
     ]
    },
    {
     "name": "stdout",
     "output_type": "stream",
     "text": [
      "\u001b[32m[I 2020-05-29 20:40:15,885]\u001b[0m Finished trial#264 with value: 0.484 with parameters: {'sigma': 9.225218451460526, 'lam': 4.8312193785295776e-18, 'n': 2}. Best is trial#256 with value: 0.5189999999999999.\u001b[0m\n"
     ]
    },
    {
     "name": "stderr",
     "output_type": "stream",
     "text": [
      "/usr/local/lib/python3.6/dist-packages/ipykernel_launcher.py:25: RuntimeWarning:\n",
      "\n",
      "overflow encountered in exp\n",
      "\n",
      "/usr/local/lib/python3.6/dist-packages/ipykernel_launcher.py:37: RuntimeWarning:\n",
      "\n",
      "divide by zero encountered in true_divide\n",
      "\n"
     ]
    },
    {
     "name": "stdout",
     "output_type": "stream",
     "text": [
      "\u001b[32m[I 2020-05-29 20:40:47,171]\u001b[0m Finished trial#265 with value: 0.48200000000000004 with parameters: {'sigma': 8.637160098643717, 'lam': 1.1348126785150744e-18, 'n': 2}. Best is trial#256 with value: 0.5189999999999999.\u001b[0m\n"
     ]
    },
    {
     "name": "stderr",
     "output_type": "stream",
     "text": [
      "/usr/local/lib/python3.6/dist-packages/ipykernel_launcher.py:25: RuntimeWarning:\n",
      "\n",
      "overflow encountered in exp\n",
      "\n",
      "/usr/local/lib/python3.6/dist-packages/ipykernel_launcher.py:37: RuntimeWarning:\n",
      "\n",
      "divide by zero encountered in true_divide\n",
      "\n"
     ]
    },
    {
     "name": "stdout",
     "output_type": "stream",
     "text": [
      "\u001b[32m[I 2020-05-29 20:41:18,968]\u001b[0m Finished trial#266 with value: 0.501 with parameters: {'sigma': 3.0858174011785384, 'lam': 1.0008469406186096e-18, 'n': 2}. Best is trial#256 with value: 0.5189999999999999.\u001b[0m\n"
     ]
    },
    {
     "name": "stderr",
     "output_type": "stream",
     "text": [
      "/usr/local/lib/python3.6/dist-packages/ipykernel_launcher.py:25: RuntimeWarning:\n",
      "\n",
      "overflow encountered in exp\n",
      "\n",
      "/usr/local/lib/python3.6/dist-packages/ipykernel_launcher.py:37: RuntimeWarning:\n",
      "\n",
      "divide by zero encountered in true_divide\n",
      "\n"
     ]
    },
    {
     "name": "stdout",
     "output_type": "stream",
     "text": [
      "\u001b[32m[I 2020-05-29 20:41:48,581]\u001b[0m Finished trial#267 with value: 0.493 with parameters: {'sigma': 9.999711111769033, 'lam': 1.2233005156432715e-17, 'n': 2}. Best is trial#256 with value: 0.5189999999999999.\u001b[0m\n"
     ]
    },
    {
     "name": "stderr",
     "output_type": "stream",
     "text": [
      "/usr/local/lib/python3.6/dist-packages/ipykernel_launcher.py:25: RuntimeWarning:\n",
      "\n",
      "overflow encountered in exp\n",
      "\n",
      "/usr/local/lib/python3.6/dist-packages/ipykernel_launcher.py:37: RuntimeWarning:\n",
      "\n",
      "divide by zero encountered in true_divide\n",
      "\n"
     ]
    },
    {
     "name": "stdout",
     "output_type": "stream",
     "text": [
      "\u001b[32m[I 2020-05-29 20:42:24,064]\u001b[0m Finished trial#268 with value: 0.501 with parameters: {'sigma': 2.716542653024928, 'lam': 6.2521625311035486e-18, 'n': 2}. Best is trial#256 with value: 0.5189999999999999.\u001b[0m\n"
     ]
    },
    {
     "name": "stderr",
     "output_type": "stream",
     "text": [
      "/usr/local/lib/python3.6/dist-packages/ipykernel_launcher.py:25: RuntimeWarning:\n",
      "\n",
      "overflow encountered in exp\n",
      "\n",
      "/usr/local/lib/python3.6/dist-packages/ipykernel_launcher.py:37: RuntimeWarning:\n",
      "\n",
      "divide by zero encountered in true_divide\n",
      "\n"
     ]
    },
    {
     "name": "stdout",
     "output_type": "stream",
     "text": [
      "\u001b[32m[I 2020-05-29 20:42:53,773]\u001b[0m Finished trial#269 with value: 0.501 with parameters: {'sigma': 9.198297772875351, 'lam': 6.206576991547044e-17, 'n': 2}. Best is trial#256 with value: 0.5189999999999999.\u001b[0m\n"
     ]
    },
    {
     "name": "stderr",
     "output_type": "stream",
     "text": [
      "/usr/local/lib/python3.6/dist-packages/ipykernel_launcher.py:25: RuntimeWarning:\n",
      "\n",
      "overflow encountered in exp\n",
      "\n",
      "/usr/local/lib/python3.6/dist-packages/ipykernel_launcher.py:37: RuntimeWarning:\n",
      "\n",
      "divide by zero encountered in true_divide\n",
      "\n"
     ]
    },
    {
     "name": "stdout",
     "output_type": "stream",
     "text": [
      "\u001b[32m[I 2020-05-29 20:43:23,176]\u001b[0m Finished trial#270 with value: 0.502 with parameters: {'sigma': 9.635066392231959, 'lam': 3.693333460592127e-18, 'n': 2}. Best is trial#256 with value: 0.5189999999999999.\u001b[0m\n"
     ]
    },
    {
     "name": "stderr",
     "output_type": "stream",
     "text": [
      "/usr/local/lib/python3.6/dist-packages/ipykernel_launcher.py:25: RuntimeWarning:\n",
      "\n",
      "overflow encountered in exp\n",
      "\n",
      "/usr/local/lib/python3.6/dist-packages/ipykernel_launcher.py:37: RuntimeWarning:\n",
      "\n",
      "divide by zero encountered in true_divide\n",
      "\n"
     ]
    },
    {
     "name": "stdout",
     "output_type": "stream",
     "text": [
      "\u001b[32m[I 2020-05-29 20:43:53,201]\u001b[0m Finished trial#271 with value: 0.5029999999999999 with parameters: {'sigma': 9.992033627047716, 'lam': 2.5332981383604838e-17, 'n': 2}. Best is trial#256 with value: 0.5189999999999999.\u001b[0m\n"
     ]
    },
    {
     "name": "stderr",
     "output_type": "stream",
     "text": [
      "/usr/local/lib/python3.6/dist-packages/ipykernel_launcher.py:25: RuntimeWarning:\n",
      "\n",
      "overflow encountered in exp\n",
      "\n",
      "/usr/local/lib/python3.6/dist-packages/ipykernel_launcher.py:37: RuntimeWarning:\n",
      "\n",
      "divide by zero encountered in true_divide\n",
      "\n"
     ]
    },
    {
     "name": "stdout",
     "output_type": "stream",
     "text": [
      "\u001b[32m[I 2020-05-29 20:44:22,537]\u001b[0m Finished trial#272 with value: 0.5029999999999999 with parameters: {'sigma': 8.868473549899617, 'lam': 2.1149953862293488e-18, 'n': 2}. Best is trial#256 with value: 0.5189999999999999.\u001b[0m\n"
     ]
    },
    {
     "name": "stderr",
     "output_type": "stream",
     "text": [
      "/usr/local/lib/python3.6/dist-packages/ipykernel_launcher.py:25: RuntimeWarning:\n",
      "\n",
      "overflow encountered in exp\n",
      "\n",
      "/usr/local/lib/python3.6/dist-packages/ipykernel_launcher.py:37: RuntimeWarning:\n",
      "\n",
      "divide by zero encountered in true_divide\n",
      "\n"
     ]
    },
    {
     "name": "stdout",
     "output_type": "stream",
     "text": [
      "\u001b[32m[I 2020-05-29 20:44:50,809]\u001b[0m Finished trial#273 with value: 0.49700000000000005 with parameters: {'sigma': 9.969220984133074, 'lam': 1.534663434893398e-17, 'n': 2}. Best is trial#256 with value: 0.5189999999999999.\u001b[0m\n"
     ]
    },
    {
     "name": "stderr",
     "output_type": "stream",
     "text": [
      "/usr/local/lib/python3.6/dist-packages/ipykernel_launcher.py:25: RuntimeWarning:\n",
      "\n",
      "overflow encountered in exp\n",
      "\n",
      "/usr/local/lib/python3.6/dist-packages/ipykernel_launcher.py:37: RuntimeWarning:\n",
      "\n",
      "divide by zero encountered in true_divide\n",
      "\n"
     ]
    },
    {
     "name": "stdout",
     "output_type": "stream",
     "text": [
      "\u001b[32m[I 2020-05-29 20:45:20,392]\u001b[0m Finished trial#274 with value: 0.5029999999999999 with parameters: {'sigma': 8.293335320713208, 'lam': 2.381808021653035e-18, 'n': 2}. Best is trial#256 with value: 0.5189999999999999.\u001b[0m\n"
     ]
    },
    {
     "name": "stderr",
     "output_type": "stream",
     "text": [
      "/usr/local/lib/python3.6/dist-packages/ipykernel_launcher.py:25: RuntimeWarning:\n",
      "\n",
      "overflow encountered in exp\n",
      "\n",
      "/usr/local/lib/python3.6/dist-packages/ipykernel_launcher.py:37: RuntimeWarning:\n",
      "\n",
      "divide by zero encountered in true_divide\n",
      "\n"
     ]
    },
    {
     "name": "stdout",
     "output_type": "stream",
     "text": [
      "\u001b[32m[I 2020-05-29 20:45:49,127]\u001b[0m Finished trial#275 with value: 0.518 with parameters: {'sigma': 9.603717767232196, 'lam': 6.201232446745942e-18, 'n': 2}. Best is trial#256 with value: 0.5189999999999999.\u001b[0m\n"
     ]
    },
    {
     "name": "stderr",
     "output_type": "stream",
     "text": [
      "/usr/local/lib/python3.6/dist-packages/ipykernel_launcher.py:25: RuntimeWarning:\n",
      "\n",
      "overflow encountered in exp\n",
      "\n",
      "/usr/local/lib/python3.6/dist-packages/ipykernel_launcher.py:37: RuntimeWarning:\n",
      "\n",
      "divide by zero encountered in true_divide\n",
      "\n"
     ]
    },
    {
     "name": "stdout",
     "output_type": "stream",
     "text": [
      "\u001b[32m[I 2020-05-29 20:46:19,904]\u001b[0m Finished trial#276 with value: 0.48100000000000004 with parameters: {'sigma': 9.57099320615649, 'lam': 2.1081478373436187e-18, 'n': 2}. Best is trial#256 with value: 0.5189999999999999.\u001b[0m\n"
     ]
    },
    {
     "name": "stderr",
     "output_type": "stream",
     "text": [
      "/usr/local/lib/python3.6/dist-packages/ipykernel_launcher.py:25: RuntimeWarning:\n",
      "\n",
      "overflow encountered in exp\n",
      "\n",
      "/usr/local/lib/python3.6/dist-packages/ipykernel_launcher.py:37: RuntimeWarning:\n",
      "\n",
      "divide by zero encountered in true_divide\n",
      "\n"
     ]
    },
    {
     "name": "stdout",
     "output_type": "stream",
     "text": [
      "\u001b[32m[I 2020-05-29 20:46:46,042]\u001b[0m Finished trial#277 with value: 0.517 with parameters: {'sigma': 9.121831744685725, 'lam': 6.2975867913293845e-18, 'n': 2}. Best is trial#256 with value: 0.5189999999999999.\u001b[0m\n"
     ]
    },
    {
     "name": "stderr",
     "output_type": "stream",
     "text": [
      "/usr/local/lib/python3.6/dist-packages/ipykernel_launcher.py:25: RuntimeWarning:\n",
      "\n",
      "overflow encountered in exp\n",
      "\n",
      "/usr/local/lib/python3.6/dist-packages/ipykernel_launcher.py:37: RuntimeWarning:\n",
      "\n",
      "divide by zero encountered in true_divide\n",
      "\n"
     ]
    },
    {
     "name": "stdout",
     "output_type": "stream",
     "text": [
      "\u001b[32m[I 2020-05-29 20:47:14,474]\u001b[0m Finished trial#278 with value: 0.505 with parameters: {'sigma': 9.02941589533907, 'lam': 7.522956911363999e-18, 'n': 2}. Best is trial#256 with value: 0.5189999999999999.\u001b[0m\n"
     ]
    },
    {
     "name": "stderr",
     "output_type": "stream",
     "text": [
      "/usr/local/lib/python3.6/dist-packages/ipykernel_launcher.py:25: RuntimeWarning:\n",
      "\n",
      "overflow encountered in exp\n",
      "\n",
      "/usr/local/lib/python3.6/dist-packages/ipykernel_launcher.py:37: RuntimeWarning:\n",
      "\n",
      "divide by zero encountered in true_divide\n",
      "\n"
     ]
    },
    {
     "name": "stdout",
     "output_type": "stream",
     "text": [
      "\u001b[32m[I 2020-05-29 20:47:42,632]\u001b[0m Finished trial#279 with value: 0.484 with parameters: {'sigma': 7.903253810703428, 'lam': 4.2123309326295706e-18, 'n': 2}. Best is trial#256 with value: 0.5189999999999999.\u001b[0m\n"
     ]
    },
    {
     "name": "stderr",
     "output_type": "stream",
     "text": [
      "/usr/local/lib/python3.6/dist-packages/ipykernel_launcher.py:25: RuntimeWarning:\n",
      "\n",
      "overflow encountered in exp\n",
      "\n",
      "/usr/local/lib/python3.6/dist-packages/ipykernel_launcher.py:37: RuntimeWarning:\n",
      "\n",
      "divide by zero encountered in true_divide\n",
      "\n"
     ]
    },
    {
     "name": "stdout",
     "output_type": "stream",
     "text": [
      "\u001b[32m[I 2020-05-29 20:48:11,699]\u001b[0m Finished trial#280 with value: 0.505 with parameters: {'sigma': 9.349767131756552, 'lam': 1.1409695203757317e-17, 'n': 2}. Best is trial#256 with value: 0.5189999999999999.\u001b[0m\n"
     ]
    },
    {
     "name": "stderr",
     "output_type": "stream",
     "text": [
      "/usr/local/lib/python3.6/dist-packages/ipykernel_launcher.py:25: RuntimeWarning:\n",
      "\n",
      "overflow encountered in exp\n",
      "\n",
      "/usr/local/lib/python3.6/dist-packages/ipykernel_launcher.py:37: RuntimeWarning:\n",
      "\n",
      "divide by zero encountered in true_divide\n",
      "\n"
     ]
    },
    {
     "name": "stdout",
     "output_type": "stream",
     "text": [
      "\u001b[32m[I 2020-05-29 20:48:41,879]\u001b[0m Finished trial#281 with value: 0.501 with parameters: {'sigma': 8.705779362800422, 'lam': 1.0849556688078653e-18, 'n': 2}. Best is trial#256 with value: 0.5189999999999999.\u001b[0m\n"
     ]
    },
    {
     "name": "stderr",
     "output_type": "stream",
     "text": [
      "/usr/local/lib/python3.6/dist-packages/ipykernel_launcher.py:25: RuntimeWarning:\n",
      "\n",
      "overflow encountered in exp\n",
      "\n",
      "/usr/local/lib/python3.6/dist-packages/ipykernel_launcher.py:37: RuntimeWarning:\n",
      "\n",
      "divide by zero encountered in true_divide\n",
      "\n"
     ]
    },
    {
     "name": "stdout",
     "output_type": "stream",
     "text": [
      "\u001b[32m[I 2020-05-29 20:49:11,016]\u001b[0m Finished trial#282 with value: 0.511 with parameters: {'sigma': 9.065800570001093, 'lam': 1.0355833063189294e-18, 'n': 2}. Best is trial#256 with value: 0.5189999999999999.\u001b[0m\n"
     ]
    },
    {
     "name": "stderr",
     "output_type": "stream",
     "text": [
      "/usr/local/lib/python3.6/dist-packages/ipykernel_launcher.py:25: RuntimeWarning:\n",
      "\n",
      "overflow encountered in exp\n",
      "\n",
      "/usr/local/lib/python3.6/dist-packages/ipykernel_launcher.py:37: RuntimeWarning:\n",
      "\n",
      "divide by zero encountered in true_divide\n",
      "\n"
     ]
    },
    {
     "name": "stdout",
     "output_type": "stream",
     "text": [
      "\u001b[32m[I 2020-05-29 20:49:39,660]\u001b[0m Finished trial#283 with value: 0.484 with parameters: {'sigma': 9.468134384794027, 'lam': 2.0179158570959112e-18, 'n': 2}. Best is trial#256 with value: 0.5189999999999999.\u001b[0m\n"
     ]
    },
    {
     "name": "stderr",
     "output_type": "stream",
     "text": [
      "/usr/local/lib/python3.6/dist-packages/ipykernel_launcher.py:25: RuntimeWarning:\n",
      "\n",
      "overflow encountered in exp\n",
      "\n",
      "/usr/local/lib/python3.6/dist-packages/ipykernel_launcher.py:37: RuntimeWarning:\n",
      "\n",
      "divide by zero encountered in true_divide\n",
      "\n"
     ]
    },
    {
     "name": "stdout",
     "output_type": "stream",
     "text": [
      "\u001b[32m[I 2020-05-29 20:50:08,544]\u001b[0m Finished trial#284 with value: 0.513 with parameters: {'sigma': 9.710867013683758, 'lam': 7.294568907975079e-18, 'n': 2}. Best is trial#256 with value: 0.5189999999999999.\u001b[0m\n"
     ]
    },
    {
     "name": "stderr",
     "output_type": "stream",
     "text": [
      "/usr/local/lib/python3.6/dist-packages/ipykernel_launcher.py:25: RuntimeWarning:\n",
      "\n",
      "overflow encountered in exp\n",
      "\n",
      "/usr/local/lib/python3.6/dist-packages/ipykernel_launcher.py:37: RuntimeWarning:\n",
      "\n",
      "divide by zero encountered in true_divide\n",
      "\n"
     ]
    },
    {
     "name": "stdout",
     "output_type": "stream",
     "text": [
      "\u001b[32m[I 2020-05-29 20:50:37,623]\u001b[0m Finished trial#285 with value: 0.501 with parameters: {'sigma': 8.959652924689104, 'lam': 4.209023426397788e-14, 'n': 2}. Best is trial#256 with value: 0.5189999999999999.\u001b[0m\n"
     ]
    },
    {
     "name": "stderr",
     "output_type": "stream",
     "text": [
      "/usr/local/lib/python3.6/dist-packages/ipykernel_launcher.py:25: RuntimeWarning:\n",
      "\n",
      "overflow encountered in exp\n",
      "\n",
      "/usr/local/lib/python3.6/dist-packages/ipykernel_launcher.py:37: RuntimeWarning:\n",
      "\n",
      "divide by zero encountered in true_divide\n",
      "\n"
     ]
    },
    {
     "name": "stdout",
     "output_type": "stream",
     "text": [
      "\u001b[32m[I 2020-05-29 20:51:15,880]\u001b[0m Finished trial#286 with value: 0.501 with parameters: {'sigma': 1.650685987873788, 'lam': 5.062542804995682e-09, 'n': 2}. Best is trial#256 with value: 0.5189999999999999.\u001b[0m\n"
     ]
    },
    {
     "name": "stderr",
     "output_type": "stream",
     "text": [
      "/usr/local/lib/python3.6/dist-packages/ipykernel_launcher.py:25: RuntimeWarning:\n",
      "\n",
      "overflow encountered in exp\n",
      "\n",
      "/usr/local/lib/python3.6/dist-packages/ipykernel_launcher.py:37: RuntimeWarning:\n",
      "\n",
      "divide by zero encountered in true_divide\n",
      "\n"
     ]
    },
    {
     "name": "stdout",
     "output_type": "stream",
     "text": [
      "\u001b[32m[I 2020-05-29 20:51:43,742]\u001b[0m Finished trial#287 with value: 0.49700000000000005 with parameters: {'sigma': 9.593015035822523, 'lam': 6.681465352053548e-18, 'n': 2}. Best is trial#256 with value: 0.5189999999999999.\u001b[0m\n"
     ]
    },
    {
     "name": "stderr",
     "output_type": "stream",
     "text": [
      "/usr/local/lib/python3.6/dist-packages/ipykernel_launcher.py:25: RuntimeWarning:\n",
      "\n",
      "overflow encountered in exp\n",
      "\n",
      "/usr/local/lib/python3.6/dist-packages/ipykernel_launcher.py:37: RuntimeWarning:\n",
      "\n",
      "divide by zero encountered in true_divide\n",
      "\n"
     ]
    },
    {
     "name": "stdout",
     "output_type": "stream",
     "text": [
      "\u001b[32m[I 2020-05-29 20:52:13,197]\u001b[0m Finished trial#288 with value: 0.5 with parameters: {'sigma': 4.378430094151634, 'lam': 1.0057476292219503e-18, 'n': 2}. Best is trial#256 with value: 0.5189999999999999.\u001b[0m\n"
     ]
    },
    {
     "name": "stderr",
     "output_type": "stream",
     "text": [
      "/usr/local/lib/python3.6/dist-packages/ipykernel_launcher.py:25: RuntimeWarning:\n",
      "\n",
      "overflow encountered in exp\n",
      "\n",
      "/usr/local/lib/python3.6/dist-packages/ipykernel_launcher.py:37: RuntimeWarning:\n",
      "\n",
      "divide by zero encountered in true_divide\n",
      "\n"
     ]
    },
    {
     "name": "stdout",
     "output_type": "stream",
     "text": [
      "\u001b[32m[I 2020-05-29 20:52:41,209]\u001b[0m Finished trial#289 with value: 0.49399999999999994 with parameters: {'sigma': 8.56942682811184, 'lam': 3.92128048624233e-18, 'n': 2}. Best is trial#256 with value: 0.5189999999999999.\u001b[0m\n"
     ]
    },
    {
     "name": "stderr",
     "output_type": "stream",
     "text": [
      "/usr/local/lib/python3.6/dist-packages/ipykernel_launcher.py:25: RuntimeWarning:\n",
      "\n",
      "overflow encountered in exp\n",
      "\n",
      "/usr/local/lib/python3.6/dist-packages/ipykernel_launcher.py:37: RuntimeWarning:\n",
      "\n",
      "divide by zero encountered in true_divide\n",
      "\n"
     ]
    },
    {
     "name": "stdout",
     "output_type": "stream",
     "text": [
      "\u001b[32m[I 2020-05-29 20:53:09,572]\u001b[0m Finished trial#290 with value: 0.501 with parameters: {'sigma': 9.99474978577149, 'lam': 1.530274058207589e-17, 'n': 2}. Best is trial#256 with value: 0.5189999999999999.\u001b[0m\n"
     ]
    },
    {
     "name": "stderr",
     "output_type": "stream",
     "text": [
      "/usr/local/lib/python3.6/dist-packages/ipykernel_launcher.py:25: RuntimeWarning:\n",
      "\n",
      "overflow encountered in exp\n",
      "\n",
      "/usr/local/lib/python3.6/dist-packages/ipykernel_launcher.py:37: RuntimeWarning:\n",
      "\n",
      "divide by zero encountered in true_divide\n",
      "\n"
     ]
    },
    {
     "name": "stdout",
     "output_type": "stream",
     "text": [
      "\u001b[32m[I 2020-05-29 20:53:39,571]\u001b[0m Finished trial#291 with value: 0.513 with parameters: {'sigma': 9.178324259914254, 'lam': 7.32586677180254e-18, 'n': 2}. Best is trial#256 with value: 0.5189999999999999.\u001b[0m\n"
     ]
    },
    {
     "name": "stderr",
     "output_type": "stream",
     "text": [
      "/usr/local/lib/python3.6/dist-packages/ipykernel_launcher.py:25: RuntimeWarning:\n",
      "\n",
      "overflow encountered in exp\n",
      "\n",
      "/usr/local/lib/python3.6/dist-packages/ipykernel_launcher.py:37: RuntimeWarning:\n",
      "\n",
      "divide by zero encountered in true_divide\n",
      "\n"
     ]
    },
    {
     "name": "stdout",
     "output_type": "stream",
     "text": [
      "\u001b[32m[I 2020-05-29 20:54:07,055]\u001b[0m Finished trial#292 with value: 0.5029999999999999 with parameters: {'sigma': 9.150589307910563, 'lam': 1.0163752201319737e-18, 'n': 2}. Best is trial#256 with value: 0.5189999999999999.\u001b[0m\n"
     ]
    },
    {
     "name": "stderr",
     "output_type": "stream",
     "text": [
      "/usr/local/lib/python3.6/dist-packages/ipykernel_launcher.py:25: RuntimeWarning:\n",
      "\n",
      "overflow encountered in exp\n",
      "\n",
      "/usr/local/lib/python3.6/dist-packages/ipykernel_launcher.py:37: RuntimeWarning:\n",
      "\n",
      "divide by zero encountered in true_divide\n",
      "\n"
     ]
    },
    {
     "name": "stdout",
     "output_type": "stream",
     "text": [
      "\u001b[32m[I 2020-05-29 20:54:36,319]\u001b[0m Finished trial#293 with value: 0.49700000000000005 with parameters: {'sigma': 9.990719819366545, 'lam': 3.74766738458521e-18, 'n': 2}. Best is trial#256 with value: 0.5189999999999999.\u001b[0m\n"
     ]
    },
    {
     "name": "stderr",
     "output_type": "stream",
     "text": [
      "/usr/local/lib/python3.6/dist-packages/ipykernel_launcher.py:25: RuntimeWarning:\n",
      "\n",
      "overflow encountered in exp\n",
      "\n",
      "/usr/local/lib/python3.6/dist-packages/ipykernel_launcher.py:37: RuntimeWarning:\n",
      "\n",
      "divide by zero encountered in true_divide\n",
      "\n"
     ]
    },
    {
     "name": "stdout",
     "output_type": "stream",
     "text": [
      "\u001b[32m[I 2020-05-29 20:55:06,088]\u001b[0m Finished trial#294 with value: 0.492 with parameters: {'sigma': 8.644086472521035, 'lam': 9.06399862036209e-18, 'n': 2}. Best is trial#256 with value: 0.5189999999999999.\u001b[0m\n"
     ]
    },
    {
     "name": "stderr",
     "output_type": "stream",
     "text": [
      "/usr/local/lib/python3.6/dist-packages/ipykernel_launcher.py:25: RuntimeWarning:\n",
      "\n",
      "overflow encountered in exp\n",
      "\n",
      "/usr/local/lib/python3.6/dist-packages/ipykernel_launcher.py:37: RuntimeWarning:\n",
      "\n",
      "divide by zero encountered in true_divide\n",
      "\n"
     ]
    },
    {
     "name": "stdout",
     "output_type": "stream",
     "text": [
      "\u001b[32m[I 2020-05-29 20:55:35,920]\u001b[0m Finished trial#295 with value: 0.484 with parameters: {'sigma': 9.53884673885427, 'lam': 2.0111724853337312e-17, 'n': 2}. Best is trial#256 with value: 0.5189999999999999.\u001b[0m\n"
     ]
    },
    {
     "name": "stderr",
     "output_type": "stream",
     "text": [
      "/usr/local/lib/python3.6/dist-packages/ipykernel_launcher.py:25: RuntimeWarning:\n",
      "\n",
      "overflow encountered in exp\n",
      "\n",
      "/usr/local/lib/python3.6/dist-packages/ipykernel_launcher.py:37: RuntimeWarning:\n",
      "\n",
      "divide by zero encountered in true_divide\n",
      "\n"
     ]
    },
    {
     "name": "stdout",
     "output_type": "stream",
     "text": [
      "\u001b[32m[I 2020-05-29 20:56:05,844]\u001b[0m Finished trial#296 with value: 0.5079999999999999 with parameters: {'sigma': 9.192508336260078, 'lam': 7.932474208795108e-18, 'n': 2}. Best is trial#256 with value: 0.5189999999999999.\u001b[0m\n"
     ]
    },
    {
     "name": "stderr",
     "output_type": "stream",
     "text": [
      "/usr/local/lib/python3.6/dist-packages/ipykernel_launcher.py:25: RuntimeWarning:\n",
      "\n",
      "overflow encountered in exp\n",
      "\n",
      "/usr/local/lib/python3.6/dist-packages/ipykernel_launcher.py:37: RuntimeWarning:\n",
      "\n",
      "divide by zero encountered in true_divide\n",
      "\n"
     ]
    },
    {
     "name": "stdout",
     "output_type": "stream",
     "text": [
      "\u001b[32m[I 2020-05-29 20:56:34,999]\u001b[0m Finished trial#297 with value: 0.5 with parameters: {'sigma': 9.6909289501821, 'lam': 2.117179469689603e-18, 'n': 2}. Best is trial#256 with value: 0.5189999999999999.\u001b[0m\n"
     ]
    },
    {
     "name": "stderr",
     "output_type": "stream",
     "text": [
      "/usr/local/lib/python3.6/dist-packages/ipykernel_launcher.py:25: RuntimeWarning:\n",
      "\n",
      "overflow encountered in exp\n",
      "\n",
      "/usr/local/lib/python3.6/dist-packages/ipykernel_launcher.py:37: RuntimeWarning:\n",
      "\n",
      "divide by zero encountered in true_divide\n",
      "\n"
     ]
    },
    {
     "name": "stdout",
     "output_type": "stream",
     "text": [
      "\u001b[32m[I 2020-05-29 20:57:02,695]\u001b[0m Finished trial#298 with value: 0.484 with parameters: {'sigma': 8.858460880644042, 'lam': 2.3978796516392533e-17, 'n': 2}. Best is trial#256 with value: 0.5189999999999999.\u001b[0m\n"
     ]
    },
    {
     "name": "stderr",
     "output_type": "stream",
     "text": [
      "/usr/local/lib/python3.6/dist-packages/ipykernel_launcher.py:25: RuntimeWarning:\n",
      "\n",
      "overflow encountered in exp\n",
      "\n",
      "/usr/local/lib/python3.6/dist-packages/ipykernel_launcher.py:37: RuntimeWarning:\n",
      "\n",
      "divide by zero encountered in true_divide\n",
      "\n"
     ]
    },
    {
     "name": "stdout",
     "output_type": "stream",
     "text": [
      "\u001b[32m[I 2020-05-29 20:57:30,595]\u001b[0m Finished trial#299 with value: 0.505 with parameters: {'sigma': 8.328893839851037, 'lam': 5.617580793667513e-18, 'n': 2}. Best is trial#256 with value: 0.5189999999999999.\u001b[0m\n",
      "\n",
      "Accuracy: 0.5189999999999999\n",
      "Best hyperparameters: {'sigma': 9.56291717324295, 'lam': 4.7329565237648745e-18, 'n': 2}\n",
      "time: 1h 52min 23s\n"
     ]
    }
   ],
   "source": [
    "X_train_ = pd.read_csv('./data/Xtr.csv', sep=',') #we use this dataset to train our model\n",
    "Y_train_ = pd.read_csv('./data/Ytr.csv', sep=',') #we use this dataset to train our model\n",
    "X_test_ = pd.read_csv('./data/Xte.csv', sep=',')\n",
    "\n",
    "\n",
    "def objective_sgd(trial):\n",
    "    \n",
    "    \n",
    "#     c  = trial.suggest_loguniform('c', 1e-20, 2e1)\n",
    "    sigma  = trial.suggest_loguniform('sigma', 1e-0, 1e+1) # trial.suggest_float('sigma', 1e-5, 1e-3, log=True)\n",
    "#     kenel = trial.suggest_categorical('kenel', [rbf_kernel, quadratic_kernel])\n",
    "    lam = trial.suggest_loguniform('lam', 1e-18, 1e-0)\n",
    "#     tol = trial.suggest_loguniform('tol', 1e-7, 1e-0)\n",
    "    \n",
    "#     normalise = trial.suggest_categorical('normalise', [False , True])\n",
    "    \n",
    "    n = trial.suggest_int('n', 1, 3)\n",
    "    \n",
    "    tol = 1e-7\n",
    "#     model = trial.suggest_categorical('models', [ksolveRR , ksolveRR_2, ksolveLRR, KernelSVM])\n",
    "    \n",
    "    # ksolveRR (self, X, y, lam= 0.0001, sigma=0.5, kernel=rbf_kernel)\n",
    "    # ksolveRR_2 (self, X, y, lam= 0.0001, sigma=0.5, sample_weights = None, kernel = rbf_kernel\n",
    "    # ksolveLRR (self, X, y, lam = 0.1, sigma = 4, max_iter=100, tol=1e-5, kernel=rbf_kernel\n",
    "    # KernelSVM (self, X, y, C=0.1, lam = 0.1, sigma = 4, tol = 1e-1, kernel=rbf_kernel\n",
    "    \n",
    "#     models = {ksolveRR : 'k Ridge Reg', ksolveRR_2: 'weigh Ridge Reg', \\\n",
    "#               ksolveLRR: 'k Logistic Ridge Reg', KernelSVM : 'Kernal SVM'} \n",
    "#     \n",
    "    kenel = rbf_kernel\n",
    "    models = {ksolveLRR: 'k Logistic Ridge Reg'} \n",
    "      \n",
    "#     accuracy = []\n",
    "#     for model in models:\n",
    "#     ipdb.set_trace()\n",
    "    \n",
    "#     X_train=pd.read_csv('./data/Xtr.csv', sep=',') #we use this dataset to train our model\n",
    "#     Y_train=pd.read_csv('./data/Ytr.csv', sep=',') #we use this dataset to train our model\n",
    "#     X_test=pd.read_csv('./data/Xte.csv', sep=',')\n",
    "    X_cross, y_cross, X_t_enc = spectrum_kernal(X_train_, Y_train_, X_test_, n=n, encoder=4, one_hot = True, normalise = False)\n",
    "    \n",
    "    for model in models:\n",
    "        accuracy = []\n",
    "        for i, (train_index, validate_index) in enumerate(kfold.split(X_cross)):\n",
    "            X_train, y_train = X_cross[train_index], y_cross[train_index]\n",
    "            X_valid, y_valid = X_cross[validate_index], y_cross[validate_index]\n",
    "\n",
    "\n",
    "    #             ipdb.set_trace()\n",
    "            if models[model] == 'weigh Ridge Reg':\n",
    "                sample_weights = np.random.rand(len(y_train))\n",
    "                model_curr = model(X_train, y_train, lam = lam, sigma = sigma, sample_weights = sample_weights, kernel = kenel)\n",
    "\n",
    "            elif models[model] == 'k Logistic Ridge Reg':\n",
    "                model_curr = model(X_train, y_train, lam = lam, sigma = sigma, max_iter=100, tol = tol, kernel = kenel)\n",
    "            elif models[model] == 'k Ridge Reg':\n",
    "                model_curr = model(X_train, y_train, lam = lam, sigma = sigma, kernel = kenel)\n",
    "            else:\n",
    "                model_curr = model(X_train, y_train, C=c, lam = lam, sigma = sigma, tol= tol, kernel = kenel)\n",
    "\n",
    "            model_curr.fit()\n",
    "            accuracy.append(model_curr.Accuracy_check(X_valid, y_valid, threshold=0.5))\n",
    "    #             print(f'accurracy fold {i}: {accuracy[i]}')\n",
    "\n",
    "    #         print(f'\\nAverage accuracy {models[model]} is : {np.mean(accuracy)}\\n')\n",
    "\n",
    "    return np.mean(accuracy)\n",
    "\n",
    "sampler = optuna.samplers.TPESampler()\n",
    "\n",
    "study = optuna.create_study(sampler=sampler, direction='maximize')\n",
    "study.optimize(func=objective_sgd, n_trials=300, show_progress_bar=True)\n",
    "\n",
    "\n",
    "trial = study.best_trial\n",
    "\n",
    "print('Accuracy: {}'.format(trial.value))\n",
    "print(\"Best hyperparameters: {}\".format(trial.params))"
   ]
  },
  {
   "cell_type": "code",
   "execution_count": 35,
   "metadata": {},
   "outputs": [
    {
     "name": "stdout",
     "output_type": "stream",
     "text": [
      "Accuracy: 0.6605000000000001\n",
      "Best hyperparameters: {'sigma': 4.537999983263391, 'lam': 2.005175225990806e-13, 'n': 2}\n",
      "time: 1.59 ms\n"
     ]
    }
   ],
   "source": [
    "print('Accuracy: {}'.format(trial.value))\n",
    "print(\"Best hyperparameters: {}\".format(trial.params))"
   ]
  },
  {
   "cell_type": "code",
   "execution_count": null,
   "metadata": {},
   "outputs": [],
   "source": [
    "# kenel = rbf_kernel\n",
    "# models = {ksolveRR: 'k Ridge Reg'} \n",
    "    # Accuracy: 0.624\n",
    "    # Best hyperparameters: {'sigma': 0.5676751743446526, 'lam': 5.181586550863371e-06}\n",
    "    # time: 973 µs\n",
    "    #------------------------\n",
    "    # Accuracy: 0.6605000000000001\n",
    "    # Best hyperparameters: {'sigma': 4.537999983263391, 'lam': 2.005175225990806e-13, 'n': 2}\n",
    "    # time: 1h 12min 30s\n",
    "    \n",
    "# kenel = quadratic_kernel\n",
    "# models = {ksolveRR: 'k Ridge Reg'} \n",
    "    # Accuracy: 0.6585\n",
    "    # Best hyperparameters: {'sigma': 4.537999983263391, 'lam': 2.005175225990806e-13, 'n': 2}\n",
    "    # time: 1h 27min 3s\n",
    "    #------------------------\n"
   ]
  },
  {
   "cell_type": "code",
   "execution_count": null,
   "metadata": {},
   "outputs": [],
   "source": [
    "# Augmented data\n",
    "\n",
    "# sigma  = trial.suggest_loguniform('sigma', 1e-20, 20)\n",
    "# lam = trial.suggest_loguniform('lam', 1e-20, 1e-1)\n",
    "\n",
    "# models = {ksolveRR: 'k Ridge Reg'} (Augmented data)\n",
    "    # kenel = quadratic_kernel\n",
    "    # Accuracy: 0.6555\n",
    "    # Best hyperparameters: {'sigma': 4.065620491225982, 'lam': 0.013374107290659768}\n",
    "    # time: 49min 21s\n",
    "    #----\n",
    "    # kenel = rbf_kernel\n",
    "    # Accuracy: 0.6575 # 0.6575000000000001\n",
    "    # Best hyperparameters: {'sigma': 4.119788517147901, 'lam': 1.2752298700618223e-14}, {'sigma': 4.063158315715049, 'lam': 8.30834772639223e-05}\n",
    "    # time: 32min 57s\n",
    "\n",
    "    \n",
    "# sigma  = trial.suggest_loguniform('sigma', 1e-3, 20)\n",
    "# lam = trial.suggest_loguniform('lam', 1e-15, 1e-0)\n",
    "\n",
    "# models = {ksolveRR: 'k Ridge Reg'} (Non-Augmented data)\n",
    "    # kenel = quadratic_kernel\n",
    "    # Accuracy: 0.6555\n",
    "    # Best hyperparameters: {'sigma': 4.069738272304652, 'lam': 0.053817561640154984}\n",
    "    # time: 48min 12s\n",
    "    #----\n",
    "    # kenel = rbf_kernel\n",
    "    # Accuracy: 0.6575000000000001\n",
    "    # Best hyperparameters: {'sigma': 4.001185698777986, 'lam': 1.9770379950513775e-10}\n",
    "    # time: 29min 58s\n",
    "    \n",
    "\n",
    "\n",
    "# Original data\n",
    "\n",
    "# sigma  = trial.suggest_loguniform('sigma', 1e-3, 20)\n",
    "# lam = trial.suggest_loguniform('lam', 1e-15, 1e-0)\n",
    "  \n",
    "# models = {ksolveRR: 'k Ridge Reg'} (Non-Augmented data standardize)\n",
    "    # kenel = rbf_kernel\n",
    "    # Accuracy: 0.612\n",
    "    # Best hyperparameters: {'sigma': 2.8925324917718167, 'lam': 1.2575244169567934e-08}\n",
    "    # time: 28min 33s \n",
    "    #----\n",
    "    # kenel = quadratic_kernel\n",
    "    # Accuracy: EROOR LinearAlg\n",
    "    # Best hyperparameters: \n",
    "    # time: "
   ]
  },
  {
   "cell_type": "code",
   "execution_count": 55,
   "metadata": {},
   "outputs": [
    {
     "name": "stdout",
     "output_type": "stream",
     "text": [
      "accurracy fold 0: 0.5975\n",
      "accurracy fold 1: 0.6625\n",
      "accurracy fold 2: 0.68\n",
      "accurracy fold 3: 0.6475\n",
      "accurracy fold 4: 0.7\n",
      "\n",
      "Average accuracy k Ridge Reg is : 0.6575\n",
      "\n",
      "time: 1.07 s\n"
     ]
    }
   ],
   "source": [
    "#     models = {ksolveRR : 'k Ridge Reg', ksolveRR_2: 'weigh Ridge Reg', \\\n",
    "#               ksolveLRR: 'k Logistic Ridge Reg', KernelSVM : 'Kernal SVM'\n",
    "\n",
    "# c  = \n",
    "sigma  = 4.119788517147901\n",
    "kenel = rbf_kernel\n",
    "lam = 1.2752298700618223e-14\n",
    "# tol = \n",
    "    \n",
    "#     ksolveRR (self, X, y, lam= 0.0001, sigma=0.5, kernel=rbf_kernel)\n",
    "#     ksolveRR_2 (self, X, y, lam= 0.0001, sigma=0.5, sample_weights = None, kernel = rbf_kernel\n",
    "#     ksolveLRR (self, X, y, lam = 0.1, sigma = 4, max_iter=100, tol=1e-5, kernel=rbf_kernel\n",
    "#     KernelSVM (self, X, y, C=0.1, lam = 0.1, sigma = 4, tol = 1e-1, kernel=rbf_kernel\n",
    "\n",
    "    \n",
    "models = {ksolveRR : 'k Ridge Reg'}\n",
    "\n",
    "for model in models:\n",
    "    accuracy = []\n",
    "    for i, (train_index, validate_index) in enumerate(kfold.split(X_cross)):\n",
    "\n",
    "        X_train, y_train = X_cross[train_index], y_cross[train_index]\n",
    "        X_valid, y_valid = X_cross[validate_index], y_cross[validate_index]\n",
    "\n",
    "        if models[model] == 'weigh Ridge Reg':\n",
    "            sample_weights = np.random.rand(len(y_train))\n",
    "            model_curr = model(X_train, y_train, lam = lam, sigma = sigma, sample_weights = sample_weights, kernel = kenel)\n",
    "        elif models[model] == 'k Logistic Ridge Reg':\n",
    "            model_curr = model(X_train, y_train, lam = lam, sigma = sigma, max_iter=500, tol = tol, kernel = kenel)\n",
    "        \n",
    "        elif models[model] == 'k Ridge Reg':\n",
    "            model_curr = model(X_train, y_train, lam = lam, sigma = sigma, kernel = kenel)\n",
    "        else:\n",
    "            model_curr = model(X_train, y_train, C=c, lam = lam, sigma = sigma, tol= tol, kernel = kenel)\n",
    "            \n",
    "        model_curr.fit()\n",
    "\n",
    "        accuracy.append(model_curr.Accuracy_check(X_valid, y_valid, threshold=0.5))\n",
    "        print(f'accurracy fold {i}: {accuracy[i]}')\n",
    "    \n",
    "    print(f'\\nAverage accuracy {models[model]} is : {np.mean(accuracy)}\\n')"
   ]
  },
  {
   "cell_type": "code",
   "execution_count": 56,
   "metadata": {},
   "outputs": [
    {
     "name": "stdout",
     "output_type": "stream",
     "text": [
      "time: 525 µs\n"
     ]
    }
   ],
   "source": [
    "# 0.6535 = 0.68800\n",
    "# 0.657 = 0.69200"
   ]
  },
  {
   "cell_type": "code",
   "execution_count": 58,
   "metadata": {},
   "outputs": [
    {
     "name": "stdout",
     "output_type": "stream",
     "text": [
      "time: 881 µs\n"
     ]
    }
   ],
   "source": [
    "# # Cehckinf full model\n",
    "# model = ksolveRR(X_cross, y_cross, lam = lam, sigma = sigma, kernel = kenel)\n",
    "# # model = svm_primal_soft_to_qp(X_cross, y_cross, C=1)\n",
    "\n",
    "# model.fit()\n",
    "\n",
    "# model.Accuracy_check(X_cross, y_cross, threshold=0.5)"
   ]
  },
  {
   "cell_type": "markdown",
   "metadata": {},
   "source": [
    "# Predictions"
   ]
  },
  {
   "cell_type": "code",
   "execution_count": 59,
   "metadata": {},
   "outputs": [
    {
     "name": "stdout",
     "output_type": "stream",
     "text": [
      "time: 393 ms\n"
     ]
    }
   ],
   "source": [
    "model = ksolveRR(X_cross, y_cross, lam = lam, sigma = sigma, kernel = kenel)\n",
    "model.fit()\n",
    "y_pred = model.predict(X_t_enc, 0.5)"
   ]
  },
  {
   "cell_type": "code",
   "execution_count": 60,
   "metadata": {},
   "outputs": [
    {
     "data": {
      "text/html": [
       "<div>\n",
       "<style scoped>\n",
       "    .dataframe tbody tr th:only-of-type {\n",
       "        vertical-align: middle;\n",
       "    }\n",
       "\n",
       "    .dataframe tbody tr th {\n",
       "        vertical-align: top;\n",
       "    }\n",
       "\n",
       "    .dataframe thead th {\n",
       "        text-align: right;\n",
       "    }\n",
       "</style>\n",
       "<table border=\"1\" class=\"dataframe\">\n",
       "  <thead>\n",
       "    <tr style=\"text-align: right;\">\n",
       "      <th></th>\n",
       "      <th>Id</th>\n",
       "    </tr>\n",
       "  </thead>\n",
       "  <tbody>\n",
       "    <tr>\n",
       "      <th>0</th>\n",
       "      <td>0</td>\n",
       "    </tr>\n",
       "    <tr>\n",
       "      <th>1</th>\n",
       "      <td>1</td>\n",
       "    </tr>\n",
       "    <tr>\n",
       "      <th>2</th>\n",
       "      <td>2</td>\n",
       "    </tr>\n",
       "    <tr>\n",
       "      <th>3</th>\n",
       "      <td>3</td>\n",
       "    </tr>\n",
       "    <tr>\n",
       "      <th>4</th>\n",
       "      <td>4</td>\n",
       "    </tr>\n",
       "  </tbody>\n",
       "</table>\n",
       "</div>"
      ],
      "text/plain": [
       "   Id\n",
       "0   0\n",
       "1   1\n",
       "2   2\n",
       "3   3\n",
       "4   4"
      ]
     },
     "execution_count": 60,
     "metadata": {},
     "output_type": "execute_result"
    },
    {
     "name": "stdout",
     "output_type": "stream",
     "text": [
      "time: 8.73 ms\n"
     ]
    }
   ],
   "source": [
    "X = np.arange(1000).reshape(-1, 1)\n",
    "sample = pd.DataFrame(data=X, columns=['Id'])\n",
    "sample.head()"
   ]
  },
  {
   "cell_type": "code",
   "execution_count": 61,
   "metadata": {},
   "outputs": [
    {
     "name": "stdout",
     "output_type": "stream",
     "text": [
      "time: 1.42 ms\n"
     ]
    }
   ],
   "source": [
    "sample['Bound'] = y_pred"
   ]
  },
  {
   "cell_type": "code",
   "execution_count": 62,
   "metadata": {},
   "outputs": [
    {
     "data": {
      "text/html": [
       "<div>\n",
       "<style scoped>\n",
       "    .dataframe tbody tr th:only-of-type {\n",
       "        vertical-align: middle;\n",
       "    }\n",
       "\n",
       "    .dataframe tbody tr th {\n",
       "        vertical-align: top;\n",
       "    }\n",
       "\n",
       "    .dataframe thead th {\n",
       "        text-align: right;\n",
       "    }\n",
       "</style>\n",
       "<table border=\"1\" class=\"dataframe\">\n",
       "  <thead>\n",
       "    <tr style=\"text-align: right;\">\n",
       "      <th></th>\n",
       "      <th>Id</th>\n",
       "      <th>Bound</th>\n",
       "    </tr>\n",
       "  </thead>\n",
       "  <tbody>\n",
       "    <tr>\n",
       "      <th>995</th>\n",
       "      <td>995</td>\n",
       "      <td>0</td>\n",
       "    </tr>\n",
       "    <tr>\n",
       "      <th>996</th>\n",
       "      <td>996</td>\n",
       "      <td>0</td>\n",
       "    </tr>\n",
       "    <tr>\n",
       "      <th>997</th>\n",
       "      <td>997</td>\n",
       "      <td>1</td>\n",
       "    </tr>\n",
       "    <tr>\n",
       "      <th>998</th>\n",
       "      <td>998</td>\n",
       "      <td>1</td>\n",
       "    </tr>\n",
       "    <tr>\n",
       "      <th>999</th>\n",
       "      <td>999</td>\n",
       "      <td>1</td>\n",
       "    </tr>\n",
       "  </tbody>\n",
       "</table>\n",
       "</div>"
      ],
      "text/plain": [
       "      Id  Bound\n",
       "995  995      0\n",
       "996  996      0\n",
       "997  997      1\n",
       "998  998      1\n",
       "999  999      1"
      ]
     },
     "execution_count": 62,
     "metadata": {},
     "output_type": "execute_result"
    },
    {
     "name": "stdout",
     "output_type": "stream",
     "text": [
      "time: 7.8 ms\n"
     ]
    }
   ],
   "source": [
    "sample.tail()"
   ]
  },
  {
   "cell_type": "code",
   "execution_count": 63,
   "metadata": {},
   "outputs": [
    {
     "name": "stdout",
     "output_type": "stream",
     "text": [
      "time: 3.12 ms\n"
     ]
    }
   ],
   "source": [
    "sample.to_csv('./ksolveRR_6575_cv_rbf_kernel_sigma_4.119788517147901_lam_1.2752298700618223e-14.csv', index=False)"
   ]
  },
  {
   "cell_type": "code",
   "execution_count": null,
   "metadata": {},
   "outputs": [],
   "source": []
  }
 ],
 "metadata": {
  "kernelspec": {
   "display_name": "Python 3",
   "language": "python",
   "name": "python3"
  },
  "language_info": {
   "codemirror_mode": {
    "name": "ipython",
    "version": 3
   },
   "file_extension": ".py",
   "mimetype": "text/x-python",
   "name": "python",
   "nbconvert_exporter": "python",
   "pygments_lexer": "ipython3",
   "version": "3.6.9"
  }
 },
 "nbformat": 4,
 "nbformat_minor": 4
}
