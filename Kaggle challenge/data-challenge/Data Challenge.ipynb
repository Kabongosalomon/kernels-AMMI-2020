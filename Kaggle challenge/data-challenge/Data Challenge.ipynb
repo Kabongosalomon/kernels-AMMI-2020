{
 "cells": [
  {
   "cell_type": "code",
   "execution_count": 6,
   "metadata": {},
   "outputs": [],
   "source": [
    "import numpy as np\n",
    "from kernel_functions import *\n",
    "from string_embeddings import *"
   ]
  },
  {
   "cell_type": "markdown",
   "metadata": {},
   "source": [
    "## Loading data\n",
    "***"
   ]
  },
  {
   "cell_type": "code",
   "execution_count": 7,
   "metadata": {},
   "outputs": [],
   "source": [
    "X = np.loadtxt('data/Xtr.csv', skiprows=1, usecols=(1,), dtype=str, delimiter=',')\n",
    "y = np.loadtxt('data/Ytr.csv', skiprows=1, usecols=(1,), dtype=int, delimiter=',')\n",
    "X_validation = np.loadtxt('data/Xte.csv', skiprows=1, usecols=(1,), dtype=str, delimiter=',')\n",
    "\n",
    "X_full = np.hstack([X, X_validation])\n",
    "y = 2*y - 1."
   ]
  },
  {
   "cell_type": "code",
   "execution_count": 8,
   "metadata": {},
   "outputs": [],
   "source": [
    "X_vectors = np.loadtxt('data/Xtr_mat100.csv')\n",
    "X_validation_vectors = np.loadtxt('data/Xte_mat100.csv')"
   ]
  },
  {
   "cell_type": "markdown",
   "metadata": {},
   "source": [
    "## Pre-computing Gram matrices\n",
    "***"
   ]
  },
  {
   "cell_type": "code",
   "execution_count": 9,
   "metadata": {},
   "outputs": [],
   "source": [
    "embeddings_full_data, kernels_full_data = {}, {}"
   ]
  },
  {
   "cell_type": "code",
   "execution_count": 10,
   "metadata": {},
   "outputs": [],
   "source": [
    "# kmer_sizes = np.array([5, 6, 7, 8, 9, 10, 11])\n",
    "kmer_sizes = [10, 11, 12]"
   ]
  },
  {
   "cell_type": "code",
   "execution_count": 11,
   "metadata": {},
   "outputs": [
    {
     "name": "stdout",
     "output_type": "stream",
     "text": [
      "Computing spectral embeddings\n",
      "spectral k=10\n",
      "spectral k=11\n",
      "spectral k=12\n",
      "CPU times: user 38.5 s, sys: 525 ms, total: 39 s\n",
      "Wall time: 39.4 s\n"
     ]
    },
    {
     "data": {
      "text/plain": [
       "{'spectral k=10': <3000x1048576 sparse matrix of type '<class 'numpy.float64'>'\n",
       " \twith 274552 stored elements in Compressed Sparse Row format>,\n",
       " 'spectral k=11': <3000x4194304 sparse matrix of type '<class 'numpy.float64'>'\n",
       " \twith 271822 stored elements in Compressed Sparse Row format>,\n",
       " 'spectral k=12': <3000x16777216 sparse matrix of type '<class 'numpy.float64'>'\n",
       " \twith 269014 stored elements in Compressed Sparse Row format>}"
      ]
     },
     "execution_count": 11,
     "metadata": {},
     "output_type": "execute_result"
    }
   ],
   "source": [
    "%%time\n",
    "print('Computing spectral embeddings')\n",
    "for k in kmer_sizes:\n",
    "    embedding_name = 'spectral k={}'.format(k)\n",
    "    print(embedding_name)\n",
    "    embeddings_full_data[embedding_name] = kmer_decomposition(X_full, k)\n",
    "embeddings_full_data"
   ]
  },
  {
   "cell_type": "code",
   "execution_count": 12,
   "metadata": {},
   "outputs": [
    {
     "name": "stdout",
     "output_type": "stream",
     "text": [
      "Computing spectral embeddings, reverse complement\n",
      "spectral reverse k=10\n",
      "spectral reverse k=11\n",
      "spectral reverse k=12\n"
     ]
    },
    {
     "ename": "NameError",
     "evalue": "name 'embeddings_X' is not defined",
     "output_type": "error",
     "traceback": [
      "\u001b[0;31m---------------------------------------------------------------------------\u001b[0m",
      "\u001b[0;31mNameError\u001b[0m                                 Traceback (most recent call last)",
      "\u001b[0;32m<timed exec>\u001b[0m in \u001b[0;36m<module>\u001b[0;34m\u001b[0m\n",
      "\u001b[0;31mNameError\u001b[0m: name 'embeddings_X' is not defined"
     ]
    }
   ],
   "source": [
    "%%time\n",
    "print('Computing spectral embeddings, reverse complement')\n",
    "for k in kmer_sizes:\n",
    "    embedding_name = 'spectral reverse k={}'.format(k)\n",
    "    print(embedding_name)\n",
    "    embeddings_full_data[embedding_name] = kmer_decomposition(X_full, k, reverse=True)\n",
    "embeddings_full_data"
   ]
  },
  {
   "cell_type": "code",
   "execution_count": 13,
   "metadata": {},
   "outputs": [
    {
     "name": "stdout",
     "output_type": "stream",
     "text": [
      "Computing mismatch embeddings\n",
      "mismatch k=10\n",
      "mismatch k=11\n",
      "mismatch k=12\n",
      "CPU times: user 11min 34s, sys: 8.33 s, total: 11min 42s\n",
      "Wall time: 12min 41s\n"
     ]
    }
   ],
   "source": [
    "%%time\n",
    "print('Computing mismatch embeddings')\n",
    "for k in kmer_sizes:\n",
    "    embedding_name = 'mismatch k={}'.format(k)\n",
    "    print(embedding_name)\n",
    "    embeddings_full_data.setdefault(\n",
    "        embedding_name, kmer_decomposition_mismatch(X_full, k)\n",
    "    )"
   ]
  },
  {
   "cell_type": "code",
   "execution_count": 14,
   "metadata": {},
   "outputs": [
    {
     "name": "stdout",
     "output_type": "stream",
     "text": [
      "Computing spectral kernels\n",
      "spectral k=10\n",
      "spectral k=11\n",
      "spectral k=12\n"
     ]
    }
   ],
   "source": [
    "print('Computing spectral kernels')\n",
    "for k in kmer_sizes:\n",
    "    name = 'spectral k={}'.format(k)\n",
    "    print(name)\n",
    "    K = linear_kernel(embeddings_full_data[name], embeddings_full_data[name])\n",
    "    kernels_full_data.setdefault(name, K)"
   ]
  },
  {
   "cell_type": "code",
   "execution_count": 15,
   "metadata": {},
   "outputs": [
    {
     "name": "stdout",
     "output_type": "stream",
     "text": [
      "Computing spectral reverse kernels\n",
      "spectral reverse k=10\n",
      "spectral reverse k=11\n",
      "spectral reverse k=12\n"
     ]
    }
   ],
   "source": [
    "print('Computing spectral reverse kernels')\n",
    "for k in kmer_sizes:\n",
    "    name = 'spectral reverse k={}'.format(k)\n",
    "    print(name)\n",
    "    embed = embeddings_full_data[name]\n",
    "    K = linear_kernel(embed, embed)\n",
    "    kernels_full_data.setdefault(name, K)"
   ]
  },
  {
   "cell_type": "code",
   "execution_count": 16,
   "metadata": {},
   "outputs": [
    {
     "name": "stdout",
     "output_type": "stream",
     "text": [
      "spectral k=10 3000\n",
      "spectral k=11 3000\n",
      "spectral k=12 3000\n",
      "spectral reverse k=10 3000\n",
      "spectral reverse k=11 3000\n",
      "spectral reverse k=12 3000\n",
      "mismatch k=10 3000\n",
      "mismatch k=11 3000\n",
      "mismatch k=12 3000\n"
     ]
    }
   ],
   "source": [
    "for key, x in embeddings_full_data.items():\n",
    "    print(key, x.shape[0])"
   ]
  },
  {
   "cell_type": "code",
   "execution_count": 17,
   "metadata": {},
   "outputs": [
    {
     "name": "stdout",
     "output_type": "stream",
     "text": [
      "Computing mismatch kernels\n",
      "mismatch k=10\n",
      "mismatch k=11\n",
      "mismatch k=12\n"
     ]
    }
   ],
   "source": [
    "print('Computing mismatch kernels')\n",
    "for k in kmer_sizes:\n",
    "    name = 'mismatch k={}'.format(k)\n",
    "    print(name)\n",
    "    embed = embeddings_full_data[name], embeddings_full_data['spectral k={}'.format(k)]\n",
    "    kernels_full_data[name] = mismatch_kernel(embed, embed)"
   ]
  },
  {
   "cell_type": "code",
   "execution_count": 18,
   "metadata": {},
   "outputs": [],
   "source": [
    "n_train = len(y)\n",
    "embeddings_X = {\n",
    "    k: v[:n_train] for k, v in embeddings_full_data.items()\n",
    "}\n",
    "kernels_X = {\n",
    "    k: v[:n_train, :n_train] for k, v in kernels_full_data.items()\n",
    "}"
   ]
  },
  {
   "cell_type": "markdown",
   "metadata": {},
   "source": [
    "## Model Selection\n",
    "***"
   ]
  },
  {
   "cell_type": "code",
   "execution_count": 19,
   "metadata": {},
   "outputs": [],
   "source": [
    "from sklearn.model_selection import train_test_split\n",
    "\n",
    "np.random.seed(1)\n",
    "train_indices, test_indices = train_test_split(np.arange(len(y)))\n",
    "# X_train_kmer, X_test_kmer, y_train, y_test = train_test_split(X_kmer, y)"
   ]
  },
  {
   "cell_type": "code",
   "execution_count": 20,
   "metadata": {},
   "outputs": [],
   "source": [
    "def evaluate_kernel(clf, K):\n",
    "    K_train = K[train_indices][:, train_indices]\n",
    "    K_test = K[test_indices][:, train_indices]\n",
    "    clf.fit_K(K_train, y[train_indices])\n",
    "    y_fit = clf.predict_K(K_train)\n",
    "    y_pred = clf.predict_K(K_test)\n",
    "    print('Training accuracy: {:.1%}'.format((y_fit == y[train_indices]).mean()))\n",
    "    print('Validation accuracy: {:.1%}'.format((y_pred == y[test_indices]).mean()))\n",
    "    \n",
    "def evaluate_X(clf, X):\n",
    "    X_train, X_test = X[train_indices], X[test_indices]\n",
    "    clf.fit(X_train, y[train_indices])\n",
    "    y_fit = clf.predict(X_train)\n",
    "    y_pred = clf.predict(X_test)\n",
    "    print('Training accuracy: {:.1%}'.format((y_fit == y[train_indices]).mean()))\n",
    "    print('Validation accuracy: {:.1%}'.format((y_pred == y[test_indices]).mean()))\n",
    "    \n",
    "def normalize(K):\n",
    "    norms = np.sqrt(K[np.diag_indices_from(K)])\n",
    "    return (K / norms[:, None]) / norms[None, :]"
   ]
  },
  {
   "cell_type": "code",
   "execution_count": 22,
   "metadata": {},
   "outputs": [
    {
     "name": "stdout",
     "output_type": "stream",
     "text": [
      "Training accuracy: 99.0%\n",
      "Validation accuracy: 66.6%\n"
     ]
    }
   ],
   "source": [
    "from kernel_ridge import KernelRidgeClassifier\n",
    "\n",
    "lambd = 1.\n",
    "KRC_linear = KernelRidgeClassifier(lambd=lambd)\n",
    "\n",
    "evaluate_kernel(KRC_linear, kernels_X['spectral k=10'])"
   ]
  },
  {
   "cell_type": "code",
   "execution_count": 23,
   "metadata": {},
   "outputs": [
    {
     "name": "stdout",
     "output_type": "stream",
     "text": [
      "Training accuracy: 99.0%\n",
      "Validation accuracy: 66.8%\n"
     ]
    }
   ],
   "source": [
    "lambd = .01\n",
    "KRC_linear = KernelRidgeClassifier(lambd=lambd)\n",
    "K = normalize(kernels_X['spectral k=10'])\n",
    "evaluate_kernel(KRC_linear, K)"
   ]
  },
  {
   "cell_type": "code",
   "execution_count": 24,
   "metadata": {},
   "outputs": [
    {
     "name": "stdout",
     "output_type": "stream",
     "text": [
      "Training accuracy: 98.7%\n",
      "Validation accuracy: 71.6%\n"
     ]
    }
   ],
   "source": [
    "lambd = 1.\n",
    "KRC_linear = KernelRidgeClassifier(lambd=lambd)\n",
    "evaluate_kernel(KRC_linear, normalize(kernels_X['mismatch k=12']))"
   ]
  },
  {
   "cell_type": "code",
   "execution_count": 25,
   "metadata": {},
   "outputs": [
    {
     "name": "stdout",
     "output_type": "stream",
     "text": [
      "Training accuracy: 99.3%\n",
      "Validation accuracy: 73.4%\n"
     ]
    }
   ],
   "source": [
    "lambd = .001\n",
    "KRC_linear = KernelRidgeClassifier(lambd=lambd)\n",
    "K = normalize(kernels_X['mismatch k=11'])\n",
    "evaluate_kernel(KRC_linear, K)"
   ]
  },
  {
   "cell_type": "code",
   "execution_count": 27,
   "metadata": {},
   "outputs": [
    {
     "name": "stdout",
     "output_type": "stream",
     "text": [
      "Training accuracy: 99.5%\n",
      "Validation accuracy: 73.2%\n"
     ]
    }
   ],
   "source": [
    "lambd = .2\n",
    "KRC_linear = KernelRidgeClassifier(lambd=lambd)\n",
    "\n",
    "K = kernels_X['mismatch k=10'] + kernels_X['mismatch k=11'] + kernels_X['spectral k=10']\n",
    "evaluate_kernel(KRC_linear, K)"
   ]
  },
  {
   "cell_type": "code",
   "execution_count": 30,
   "metadata": {},
   "outputs": [
    {
     "name": "stdout",
     "output_type": "stream",
     "text": [
      "Training accuracy: 99.4%\n",
      "Validation accuracy: 73.0%\n"
     ]
    }
   ],
   "source": [
    "lambd = .001\n",
    "KRC_linear = KernelRidgeClassifier(lambd=lambd)\n",
    "\n",
    "Ks = [\n",
    "    kernels_X['mismatch k=10'],\n",
    "    kernels_X['mismatch k=11'],\n",
    "    kernels_X['spectral k=10'],\n",
    "   ]\n",
    "K = np.mean([1+normalize(Ki) for Ki in Ks], axis=0)\n",
    "evaluate_kernel(KRC_linear, K)"
   ]
  },
  {
   "cell_type": "code",
   "execution_count": 32,
   "metadata": {},
   "outputs": [
    {
     "name": "stdout",
     "output_type": "stream",
     "text": [
      "Training accuracy: 99.6%\n",
      "Validation accuracy: 66.8%\n",
      "CPU times: user 6.58 s, sys: 135 ms, total: 6.71 s\n",
      "Wall time: 3.68 s\n"
     ]
    }
   ],
   "source": [
    "from kernel_svm import KernelSVM\n",
    "C = 1.\n",
    "SVM_linear = KernelSVM(C=C)\n",
    "\n",
    "K = normalize(kernels_X['spectral reverse k=10'])\n",
    "%time evaluate_kernel(SVM_linear, K)"
   ]
  },
  {
   "cell_type": "code",
   "execution_count": 54,
   "metadata": {},
   "outputs": [
    {
     "name": "stdout",
     "output_type": "stream",
     "text": [
      "Training accuracy: 92.4%\n",
      "Validation accuracy: 70.8%\n",
      "CPU times: user 1.69 s, sys: 21.5 ms, total: 1.71 s\n",
      "Wall time: 901 ms\n"
     ]
    }
   ],
   "source": [
    "from kernel_ridge import KernelLogisticRegression\n",
    "\n",
    "lambd = 1.\n",
    "KLR = KernelLogisticRegression(lambd=lambd)\n",
    "\n",
    "K = normalize(kernels_X['mismatch k=10'])\n",
    "%time evaluate_kernel(KLR, K)"
   ]
  },
  {
   "cell_type": "markdown",
   "metadata": {},
   "source": [
    "## Ensemble of best models\n",
    "***"
   ]
  },
  {
   "cell_type": "code",
   "execution_count": 112,
   "metadata": {},
   "outputs": [],
   "source": [
    "def ensemble(model_specs, train_indices, test_indices):\n",
    "    y_fit_mean = np.zeros_like(y[train_indices])\n",
    "    y_pred_mean = np.zeros(len(test_indices))\n",
    "    for model_spec in model_specs:\n",
    "        clf = model_spec['classifier']\n",
    "        K = model_spec['kernel matrix']\n",
    "        K_train = K[train_indices, :n_train][:n_train, train_indices]\n",
    "        K_test = K[test_indices, :n_train][:n_train, train_indices]\n",
    "        \n",
    "        clf.fit_K(K_train, y[train_indices])\n",
    "\n",
    "        y_fit = clf.decision_function_K(K_train)\n",
    "        y_fit_mean += y_fit #/ y_fit.std()\n",
    "        y_pred = clf.decision_function_K(K_test)\n",
    "        y_pred_mean += y_pred #/ float(y_pred.std())\n",
    "    y_fit = np.where(y_fit_mean < 0, -1, 1)\n",
    "    y_pred = np.where(y_pred_mean < 0, -1, 1)\n",
    "    \n",
    "    return y_fit, y_pred"
   ]
  },
  {
   "cell_type": "code",
   "execution_count": 123,
   "metadata": {},
   "outputs": [],
   "source": [
    "models = []\n",
    "\n",
    "models.append({\n",
    "         'classifier': KernelRidgeClassifier(lambd=1.),\n",
    "         'kernel matrix': normalize(kernels_X['mismatch k=11']),\n",
    "     })\n",
    "models.append({\n",
    "         'classifier': KernelRidgeClassifier(lambd=1.),\n",
    "         'kernel matrix': normalize(kernels_X['mismatch k=12']),\n",
    "     })\n",
    "models.append({\n",
    "         'classifier': KernelLogisticRegression(lambd=.1),\n",
    "         'kernel matrix': normalize(kernels_X['mismatch k=12']),\n",
    "     })\n",
    "models.append({\n",
    "         'classifier': KernelLogisticRegression(lambd=1.),\n",
    "         'kernel matrix': normalize(kernels_X['mismatch k=11']),\n",
    "     })\n",
    "#models.append({\n",
    "#         'classifier': KernelSVM,\n",
    "#         'params': {'C': 10.},\n",
    "#         'kernel matrix': normalize(kernels_X['spectral k=8']),\n",
    "#     })\n",
    "# models.append({\n",
    "#          'classifier': KernelSVM(C=10.),\n",
    "#          'kernel matrix': normalize(kernels_X['spectral k=8']),\n",
    "#      })"
   ]
  },
  {
   "cell_type": "code",
   "execution_count": 124,
   "metadata": {},
   "outputs": [
    {
     "name": "stdout",
     "output_type": "stream",
     "text": [
      "Mean Training accuracy: 98.7%\n",
      "Mean Validation accuracy: 69.0%\n"
     ]
    }
   ],
   "source": [
    "from sklearn.model_selection import cross_val_score, KFold\n",
    "\n",
    "kf = KFold(n_splits=5, shuffle=True, random_state=2)\n",
    "#kf.get_n_splits(np.arange(len(y)))\n",
    "train_accuracy = []\n",
    "test_accuracy = []\n",
    "for train_indices, test_indices in kf.split(np.arange(len(y))):\n",
    "    y_fit, y_pred = ensemble(models, train_indices, test_indices)\n",
    "    train_accuracy.append((y_fit == y[train_indices]).mean())\n",
    "    test_accuracy.append((y_pred == y[test_indices]).mean())\n",
    "    \n",
    "print('Mean Training accuracy: {:.1%}'.format(np.mean(train_accuracy)))\n",
    "print('Mean Validation accuracy: {:.1%}'.format(np.mean(test_accuracy)))"
   ]
  },
  {
   "cell_type": "code",
   "execution_count": 48,
   "metadata": {},
   "outputs": [
    {
     "data": {
      "text/plain": [
       "{'lambd': 0.001,\n",
       " 'kernel_name': 'linear',\n",
       " 'kernel_function_': <function kernel_functions.linear_kernel(X1, X2)>,\n",
       " 'kernel_parameters': {},\n",
       " 'y_train': array([ 1., -1.,  1., ...,  1.,  1.,  1.]),\n",
       " 'n_iter': 2,\n",
       " 'alpha': array([ 0.13834226, -0.14330538,  0.14623698, ...,  0.14563596,\n",
       "         0.14821527,  0.13490521])}"
      ]
     },
     "execution_count": 48,
     "metadata": {},
     "output_type": "execute_result"
    }
   ],
   "source": [
    "models[0]['classifier'].__dict__"
   ]
  },
  {
   "cell_type": "code",
   "execution_count": 50,
   "metadata": {},
   "outputs": [
    {
     "data": {
      "text/plain": [
       "(1600,)"
      ]
     },
     "execution_count": 50,
     "metadata": {},
     "output_type": "execute_result"
    }
   ],
   "source": [
    "models[0]['classifier'].alpha.shape"
   ]
  },
  {
   "cell_type": "code",
   "execution_count": 125,
   "metadata": {},
   "outputs": [],
   "source": [
    "final_models =[\n",
    "    {\n",
    "         'classifier': kernel_ridge.KernelRidgeClassifier(lambd=1.),\n",
    "         'kernel matrix': normalize(kernels_full_data['mismatch k=11']),\n",
    "    },\n",
    "    {\n",
    "        'classifier': KernelRidgeClassifier(lambd=1.),\n",
    "        'kernel matrix': normalize(kernels_full_data['mismatch k=12']),\n",
    "    },\n",
    "    {\n",
    "         'classifier': KernelLogisticRegression(lambd=.1),\n",
    "         'kernel matrix': normalize(kernels_full_data['mismatch k=12']),\n",
    "    },\n",
    "    {\n",
    "         'classifier': KernelLogisticRegression(lambd=1.),\n",
    "         'kernel matrix': normalize(kernels_full_data['mismatch k=11']),\n",
    "    },\n",
    "]"
   ]
  },
  {
   "cell_type": "code",
   "execution_count": 126,
   "metadata": {},
   "outputs": [
    {
     "data": {
      "text/plain": [
       "0.9805"
      ]
     },
     "execution_count": 126,
     "metadata": {},
     "output_type": "execute_result"
    }
   ],
   "source": [
    "y_fit, y_validation = ensemble(final_models, np.arange(n_train), np.arange(n_train, len(X_full)))\n",
    "(y_fit == y).mean()"
   ]
  },
  {
   "cell_type": "code",
   "execution_count": 127,
   "metadata": {},
   "outputs": [
    {
     "data": {
      "text/plain": [
       "array([[0, 1],\n",
       "       [1, 1],\n",
       "       [2, 0],\n",
       "       [3, 0],\n",
       "       [4, 0],\n",
       "       [5, 1],\n",
       "       [6, 1],\n",
       "       [7, 0],\n",
       "       [8, 0],\n",
       "       [9, 1]])"
      ]
     },
     "execution_count": 127,
     "metadata": {},
     "output_type": "execute_result"
    }
   ],
   "source": [
    "y_validation[y_validation == -1] = 0\n",
    "#y_validation *= 0\n",
    "y_save = np.vstack([np.arange(len(y_validation)), y_validation]).T\n",
    "y_save[:10]"
   ]
  },
  {
   "cell_type": "code",
   "execution_count": 128,
   "metadata": {},
   "outputs": [],
   "source": [
    "np.savetxt('mismatch_11_12.csv', y_save,\n",
    "           delimiter=',', header='Id,Bound', fmt='%i', comments='')"
   ]
  },
  {
   "cell_type": "code",
   "execution_count": null,
   "metadata": {
    "collapsed": true
   },
   "outputs": [],
   "source": []
  }
 ],
 "metadata": {
  "kernelspec": {
   "display_name": "Python 3",
   "language": "python",
   "name": "python3"
  },
  "language_info": {
   "codemirror_mode": {
    "name": "ipython",
    "version": 3
   },
   "file_extension": ".py",
   "mimetype": "text/x-python",
   "name": "python",
   "nbconvert_exporter": "python",
   "pygments_lexer": "ipython3",
   "version": "3.7.6"
  }
 },
 "nbformat": 4,
 "nbformat_minor": 2
}
